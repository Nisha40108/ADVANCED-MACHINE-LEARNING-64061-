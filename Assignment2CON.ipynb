{
  "cells": [
    {
      "cell_type": "markdown",
      "metadata": {
        "id": "view-in-github",
        "colab_type": "text"
      },
      "source": [
        "<a href=\"https://colab.research.google.com/github/Nisha40108/ADVANCED-MACHINE-LEARNING-64061-/blob/main/Assignment2CON.ipynb\" target=\"_parent\"><img src=\"https://colab.research.google.com/assets/colab-badge.svg\" alt=\"Open In Colab\"/></a>"
      ]
    },
    {
      "cell_type": "markdown",
      "id": "949cbd45-fcbc-4565-924b-3314b23ac236",
      "metadata": {
        "id": "949cbd45-fcbc-4565-924b-3314b23ac236"
      },
      "source": [
        "<font size=\"5\"><b>Assignment 2 - Deep Convolutional Neural Network - Cats vs Dogs</b></font>\n",
        "\n",
        "<font size=\"5\"><b>Name : Nisha Chaurasia</b></font>\n",
        "\n",
        "<font size=\"5\"><b>Date : 10-22-2023 </b></font>"
      ]
    },
    {
      "cell_type": "markdown",
      "id": "00406107-15f3-44be-add3-6ff12d50c438",
      "metadata": {
        "id": "00406107-15f3-44be-add3-6ff12d50c438"
      },
      "source": [
        "<font size=\"3\">Loading all the required libraries and functions</font>"
      ]
    },
    {
      "cell_type": "code",
      "execution_count": 3,
      "id": "0d01c127-5188-4e9f-8bb2-445fa70c910c",
      "metadata": {
        "id": "0d01c127-5188-4e9f-8bb2-445fa70c910c"
      },
      "outputs": [],
      "source": [
        "import numpy as np\n",
        "import pandas as pd\n",
        "import matplotlib.pyplot as plt\n",
        "import requests\n",
        "import seaborn as sns\n",
        "import zipfile\n",
        "import io\n",
        "import os\n",
        "import shutil\n",
        "import pathlib\n",
        "%matplotlib inline\n",
        "\n",
        "from tensorflow import keras\n",
        "from tensorflow.keras import layers\n",
        "from tensorflow.keras.utils import image_dataset_from_directory\n",
        "from tensorflow.keras.callbacks import EarlyStopping\n",
        "from tensorflow.keras.callbacks import ModelCheckpoint\n",
        "from io import BytesIO\n",
        "from zipfile import ZipFile"
      ]
    },
    {
      "cell_type": "markdown",
      "id": "186150b2-fa4d-478d-9fc3-24a781c9c802",
      "metadata": {
        "id": "186150b2-fa4d-478d-9fc3-24a781c9c802"
      },
      "source": [
        "<font size=\"3\"> Importing the JSON Activation Code</font>"
      ]
    },
    {
      "cell_type": "code",
      "execution_count": 4,
      "id": "e61dbed6-6316-4ffb-8b5e-6f6bbf566d38",
      "metadata": {
        "colab": {
          "base_uri": "https://localhost:8080/",
          "height": 90
        },
        "id": "e61dbed6-6316-4ffb-8b5e-6f6bbf566d38",
        "outputId": "c95f6aca-0e8d-4610-ff61-5cb808b695df"
      },
      "outputs": [
        {
          "output_type": "display_data",
          "data": {
            "text/plain": [
              "<IPython.core.display.HTML object>"
            ],
            "text/html": [
              "\n",
              "     <input type=\"file\" id=\"files-ded3184a-915e-469b-bd6f-c6b61062d89a\" name=\"files[]\" multiple disabled\n",
              "        style=\"border:none\" />\n",
              "     <output id=\"result-ded3184a-915e-469b-bd6f-c6b61062d89a\">\n",
              "      Upload widget is only available when the cell has been executed in the\n",
              "      current browser session. Please rerun this cell to enable.\n",
              "      </output>\n",
              "      <script>// Copyright 2017 Google LLC\n",
              "//\n",
              "// Licensed under the Apache License, Version 2.0 (the \"License\");\n",
              "// you may not use this file except in compliance with the License.\n",
              "// You may obtain a copy of the License at\n",
              "//\n",
              "//      http://www.apache.org/licenses/LICENSE-2.0\n",
              "//\n",
              "// Unless required by applicable law or agreed to in writing, software\n",
              "// distributed under the License is distributed on an \"AS IS\" BASIS,\n",
              "// WITHOUT WARRANTIES OR CONDITIONS OF ANY KIND, either express or implied.\n",
              "// See the License for the specific language governing permissions and\n",
              "// limitations under the License.\n",
              "\n",
              "/**\n",
              " * @fileoverview Helpers for google.colab Python module.\n",
              " */\n",
              "(function(scope) {\n",
              "function span(text, styleAttributes = {}) {\n",
              "  const element = document.createElement('span');\n",
              "  element.textContent = text;\n",
              "  for (const key of Object.keys(styleAttributes)) {\n",
              "    element.style[key] = styleAttributes[key];\n",
              "  }\n",
              "  return element;\n",
              "}\n",
              "\n",
              "// Max number of bytes which will be uploaded at a time.\n",
              "const MAX_PAYLOAD_SIZE = 100 * 1024;\n",
              "\n",
              "function _uploadFiles(inputId, outputId) {\n",
              "  const steps = uploadFilesStep(inputId, outputId);\n",
              "  const outputElement = document.getElementById(outputId);\n",
              "  // Cache steps on the outputElement to make it available for the next call\n",
              "  // to uploadFilesContinue from Python.\n",
              "  outputElement.steps = steps;\n",
              "\n",
              "  return _uploadFilesContinue(outputId);\n",
              "}\n",
              "\n",
              "// This is roughly an async generator (not supported in the browser yet),\n",
              "// where there are multiple asynchronous steps and the Python side is going\n",
              "// to poll for completion of each step.\n",
              "// This uses a Promise to block the python side on completion of each step,\n",
              "// then passes the result of the previous step as the input to the next step.\n",
              "function _uploadFilesContinue(outputId) {\n",
              "  const outputElement = document.getElementById(outputId);\n",
              "  const steps = outputElement.steps;\n",
              "\n",
              "  const next = steps.next(outputElement.lastPromiseValue);\n",
              "  return Promise.resolve(next.value.promise).then((value) => {\n",
              "    // Cache the last promise value to make it available to the next\n",
              "    // step of the generator.\n",
              "    outputElement.lastPromiseValue = value;\n",
              "    return next.value.response;\n",
              "  });\n",
              "}\n",
              "\n",
              "/**\n",
              " * Generator function which is called between each async step of the upload\n",
              " * process.\n",
              " * @param {string} inputId Element ID of the input file picker element.\n",
              " * @param {string} outputId Element ID of the output display.\n",
              " * @return {!Iterable<!Object>} Iterable of next steps.\n",
              " */\n",
              "function* uploadFilesStep(inputId, outputId) {\n",
              "  const inputElement = document.getElementById(inputId);\n",
              "  inputElement.disabled = false;\n",
              "\n",
              "  const outputElement = document.getElementById(outputId);\n",
              "  outputElement.innerHTML = '';\n",
              "\n",
              "  const pickedPromise = new Promise((resolve) => {\n",
              "    inputElement.addEventListener('change', (e) => {\n",
              "      resolve(e.target.files);\n",
              "    });\n",
              "  });\n",
              "\n",
              "  const cancel = document.createElement('button');\n",
              "  inputElement.parentElement.appendChild(cancel);\n",
              "  cancel.textContent = 'Cancel upload';\n",
              "  const cancelPromise = new Promise((resolve) => {\n",
              "    cancel.onclick = () => {\n",
              "      resolve(null);\n",
              "    };\n",
              "  });\n",
              "\n",
              "  // Wait for the user to pick the files.\n",
              "  const files = yield {\n",
              "    promise: Promise.race([pickedPromise, cancelPromise]),\n",
              "    response: {\n",
              "      action: 'starting',\n",
              "    }\n",
              "  };\n",
              "\n",
              "  cancel.remove();\n",
              "\n",
              "  // Disable the input element since further picks are not allowed.\n",
              "  inputElement.disabled = true;\n",
              "\n",
              "  if (!files) {\n",
              "    return {\n",
              "      response: {\n",
              "        action: 'complete',\n",
              "      }\n",
              "    };\n",
              "  }\n",
              "\n",
              "  for (const file of files) {\n",
              "    const li = document.createElement('li');\n",
              "    li.append(span(file.name, {fontWeight: 'bold'}));\n",
              "    li.append(span(\n",
              "        `(${file.type || 'n/a'}) - ${file.size} bytes, ` +\n",
              "        `last modified: ${\n",
              "            file.lastModifiedDate ? file.lastModifiedDate.toLocaleDateString() :\n",
              "                                    'n/a'} - `));\n",
              "    const percent = span('0% done');\n",
              "    li.appendChild(percent);\n",
              "\n",
              "    outputElement.appendChild(li);\n",
              "\n",
              "    const fileDataPromise = new Promise((resolve) => {\n",
              "      const reader = new FileReader();\n",
              "      reader.onload = (e) => {\n",
              "        resolve(e.target.result);\n",
              "      };\n",
              "      reader.readAsArrayBuffer(file);\n",
              "    });\n",
              "    // Wait for the data to be ready.\n",
              "    let fileData = yield {\n",
              "      promise: fileDataPromise,\n",
              "      response: {\n",
              "        action: 'continue',\n",
              "      }\n",
              "    };\n",
              "\n",
              "    // Use a chunked sending to avoid message size limits. See b/62115660.\n",
              "    let position = 0;\n",
              "    do {\n",
              "      const length = Math.min(fileData.byteLength - position, MAX_PAYLOAD_SIZE);\n",
              "      const chunk = new Uint8Array(fileData, position, length);\n",
              "      position += length;\n",
              "\n",
              "      const base64 = btoa(String.fromCharCode.apply(null, chunk));\n",
              "      yield {\n",
              "        response: {\n",
              "          action: 'append',\n",
              "          file: file.name,\n",
              "          data: base64,\n",
              "        },\n",
              "      };\n",
              "\n",
              "      let percentDone = fileData.byteLength === 0 ?\n",
              "          100 :\n",
              "          Math.round((position / fileData.byteLength) * 100);\n",
              "      percent.textContent = `${percentDone}% done`;\n",
              "\n",
              "    } while (position < fileData.byteLength);\n",
              "  }\n",
              "\n",
              "  // All done.\n",
              "  yield {\n",
              "    response: {\n",
              "      action: 'complete',\n",
              "    }\n",
              "  };\n",
              "}\n",
              "\n",
              "scope.google = scope.google || {};\n",
              "scope.google.colab = scope.google.colab || {};\n",
              "scope.google.colab._files = {\n",
              "  _uploadFiles,\n",
              "  _uploadFilesContinue,\n",
              "};\n",
              "})(self);\n",
              "</script> "
            ]
          },
          "metadata": {}
        },
        {
          "output_type": "stream",
          "name": "stdout",
          "text": [
            "Saving kaggle.json to kaggle.json\n"
          ]
        },
        {
          "output_type": "execute_result",
          "data": {
            "text/plain": [
              "{'kaggle.json': b'{\"username\":\"vini09\",\"key\":\"366b6dda6f517e24aec2460856a9b32a\"}'}"
            ]
          },
          "metadata": {},
          "execution_count": 4
        }
      ],
      "source": [
        "from google.colab import files\n",
        "files.upload()\n"
      ]
    },
    {
      "cell_type": "code",
      "source": [
        "!mkdir ~/.kaggle\n",
        "!cp kaggle.json ~/.kaggle/\n",
        "!chmod 600 ~/.kaggle/kaggle.json\n"
      ],
      "metadata": {
        "id": "kh-J_Urxs7Zu"
      },
      "id": "kh-J_Urxs7Zu",
      "execution_count": 5,
      "outputs": []
    },
    {
      "cell_type": "markdown",
      "source": [
        "Downloading the Data"
      ],
      "metadata": {
        "id": "uTIy7uI7x-5m"
      },
      "id": "uTIy7uI7x-5m"
    },
    {
      "cell_type": "code",
      "source": [
        "!kaggle competitions download -c dogs-vs-cats"
      ],
      "metadata": {
        "colab": {
          "base_uri": "https://localhost:8080/"
        },
        "id": "FAx6A0wkyCIa",
        "outputId": "bb388e45-a53d-4bf5-b7f3-952f42009901"
      },
      "id": "FAx6A0wkyCIa",
      "execution_count": 6,
      "outputs": [
        {
          "output_type": "stream",
          "name": "stdout",
          "text": [
            "Downloading dogs-vs-cats.zip to /content\n",
            "100% 809M/812M [00:05<00:00, 104MB/s]\n",
            "100% 812M/812M [00:05<00:00, 151MB/s]\n"
          ]
        }
      ]
    },
    {
      "cell_type": "markdown",
      "source": [
        "Unzipping the Data"
      ],
      "metadata": {
        "id": "Rei48SPTydJh"
      },
      "id": "Rei48SPTydJh"
    },
    {
      "cell_type": "code",
      "source": [
        "!unzip -qq dogs-vs-cats.zip"
      ],
      "metadata": {
        "id": "2yMCiwMlyahS"
      },
      "id": "2yMCiwMlyahS",
      "execution_count": 7,
      "outputs": []
    },
    {
      "cell_type": "markdown",
      "source": [
        "Unzipping Train Data"
      ],
      "metadata": {
        "id": "nP5uKcKByiml"
      },
      "id": "nP5uKcKByiml"
    },
    {
      "cell_type": "code",
      "source": [
        "!unzip -qq train.zip"
      ],
      "metadata": {
        "id": "1JXuy0MgypK7"
      },
      "id": "1JXuy0MgypK7",
      "execution_count": 8,
      "outputs": []
    },
    {
      "cell_type": "code",
      "source": [
        "!pip install tensorflow==2.12"
      ],
      "metadata": {
        "id": "JIdf6o7n4tbM",
        "outputId": "fc4323ef-f38d-481d-8823-d4feed1ae26c",
        "colab": {
          "base_uri": "https://localhost:8080/",
          "height": 1000
        }
      },
      "id": "JIdf6o7n4tbM",
      "execution_count": 16,
      "outputs": [
        {
          "output_type": "stream",
          "name": "stdout",
          "text": [
            "Collecting tensorflow==2.12\n",
            "  Downloading tensorflow-2.12.0-cp310-cp310-manylinux_2_17_x86_64.manylinux2014_x86_64.whl (585.9 MB)\n",
            "\u001b[2K     \u001b[90m━━━━━━━━━━━━━━━━━━━━━━━━━━━━━━━━━━━━━━━━\u001b[0m \u001b[32m585.9/585.9 MB\u001b[0m \u001b[31m2.1 MB/s\u001b[0m eta \u001b[36m0:00:00\u001b[0m\n",
            "\u001b[?25hRequirement already satisfied: absl-py>=1.0.0 in /usr/local/lib/python3.10/dist-packages (from tensorflow==2.12) (1.4.0)\n",
            "Requirement already satisfied: astunparse>=1.6.0 in /usr/local/lib/python3.10/dist-packages (from tensorflow==2.12) (1.6.3)\n",
            "Requirement already satisfied: flatbuffers>=2.0 in /usr/local/lib/python3.10/dist-packages (from tensorflow==2.12) (23.5.26)\n",
            "Requirement already satisfied: gast<=0.4.0,>=0.2.1 in /usr/local/lib/python3.10/dist-packages (from tensorflow==2.12) (0.4.0)\n",
            "Requirement already satisfied: google-pasta>=0.1.1 in /usr/local/lib/python3.10/dist-packages (from tensorflow==2.12) (0.2.0)\n",
            "Requirement already satisfied: grpcio<2.0,>=1.24.3 in /usr/local/lib/python3.10/dist-packages (from tensorflow==2.12) (1.59.0)\n",
            "Requirement already satisfied: h5py>=2.9.0 in /usr/local/lib/python3.10/dist-packages (from tensorflow==2.12) (3.9.0)\n",
            "Requirement already satisfied: jax>=0.3.15 in /usr/local/lib/python3.10/dist-packages (from tensorflow==2.12) (0.4.16)\n",
            "Collecting keras<2.13,>=2.12.0 (from tensorflow==2.12)\n",
            "  Downloading keras-2.12.0-py2.py3-none-any.whl (1.7 MB)\n",
            "\u001b[2K     \u001b[90m━━━━━━━━━━━━━━━━━━━━━━━━━━━━━━━━━━━━━━━━\u001b[0m \u001b[32m1.7/1.7 MB\u001b[0m \u001b[31m48.8 MB/s\u001b[0m eta \u001b[36m0:00:00\u001b[0m\n",
            "\u001b[?25hRequirement already satisfied: libclang>=13.0.0 in /usr/local/lib/python3.10/dist-packages (from tensorflow==2.12) (16.0.6)\n",
            "Requirement already satisfied: numpy<1.24,>=1.22 in /usr/local/lib/python3.10/dist-packages (from tensorflow==2.12) (1.23.5)\n",
            "Requirement already satisfied: opt-einsum>=2.3.2 in /usr/local/lib/python3.10/dist-packages (from tensorflow==2.12) (3.3.0)\n",
            "Requirement already satisfied: packaging in /usr/local/lib/python3.10/dist-packages (from tensorflow==2.12) (23.2)\n",
            "Requirement already satisfied: protobuf!=4.21.0,!=4.21.1,!=4.21.2,!=4.21.3,!=4.21.4,!=4.21.5,<5.0.0dev,>=3.20.3 in /usr/local/lib/python3.10/dist-packages (from tensorflow==2.12) (3.20.3)\n",
            "Requirement already satisfied: setuptools in /usr/local/lib/python3.10/dist-packages (from tensorflow==2.12) (67.7.2)\n",
            "Requirement already satisfied: six>=1.12.0 in /usr/local/lib/python3.10/dist-packages (from tensorflow==2.12) (1.16.0)\n",
            "Collecting tensorboard<2.13,>=2.12 (from tensorflow==2.12)\n",
            "  Downloading tensorboard-2.12.3-py3-none-any.whl (5.6 MB)\n",
            "\u001b[2K     \u001b[90m━━━━━━━━━━━━━━━━━━━━━━━━━━━━━━━━━━━━━━━━\u001b[0m \u001b[32m5.6/5.6 MB\u001b[0m \u001b[31m56.2 MB/s\u001b[0m eta \u001b[36m0:00:00\u001b[0m\n",
            "\u001b[?25hCollecting tensorflow-estimator<2.13,>=2.12.0 (from tensorflow==2.12)\n",
            "  Downloading tensorflow_estimator-2.12.0-py2.py3-none-any.whl (440 kB)\n",
            "\u001b[2K     \u001b[90m━━━━━━━━━━━━━━━━━━━━━━━━━━━━━━━━━━━━━━━━\u001b[0m \u001b[32m440.7/440.7 kB\u001b[0m \u001b[31m33.2 MB/s\u001b[0m eta \u001b[36m0:00:00\u001b[0m\n",
            "\u001b[?25hRequirement already satisfied: termcolor>=1.1.0 in /usr/local/lib/python3.10/dist-packages (from tensorflow==2.12) (2.3.0)\n",
            "Requirement already satisfied: typing-extensions>=3.6.6 in /usr/local/lib/python3.10/dist-packages (from tensorflow==2.12) (4.5.0)\n",
            "Collecting wrapt<1.15,>=1.11.0 (from tensorflow==2.12)\n",
            "  Downloading wrapt-1.14.1-cp310-cp310-manylinux_2_5_x86_64.manylinux1_x86_64.manylinux_2_17_x86_64.manylinux2014_x86_64.whl (77 kB)\n",
            "\u001b[2K     \u001b[90m━━━━━━━━━━━━━━━━━━━━━━━━━━━━━━━━━━━━━━━━\u001b[0m \u001b[32m77.9/77.9 kB\u001b[0m \u001b[31m6.1 MB/s\u001b[0m eta \u001b[36m0:00:00\u001b[0m\n",
            "\u001b[?25hRequirement already satisfied: tensorflow-io-gcs-filesystem>=0.23.1 in /usr/local/lib/python3.10/dist-packages (from tensorflow==2.12) (0.34.0)\n",
            "Requirement already satisfied: wheel<1.0,>=0.23.0 in /usr/local/lib/python3.10/dist-packages (from astunparse>=1.6.0->tensorflow==2.12) (0.41.2)\n",
            "Requirement already satisfied: ml-dtypes>=0.2.0 in /usr/local/lib/python3.10/dist-packages (from jax>=0.3.15->tensorflow==2.12) (0.3.1)\n",
            "Requirement already satisfied: scipy>=1.7 in /usr/local/lib/python3.10/dist-packages (from jax>=0.3.15->tensorflow==2.12) (1.11.3)\n",
            "Requirement already satisfied: google-auth<3,>=1.6.3 in /usr/local/lib/python3.10/dist-packages (from tensorboard<2.13,>=2.12->tensorflow==2.12) (2.17.3)\n",
            "Requirement already satisfied: google-auth-oauthlib<1.1,>=0.5 in /usr/local/lib/python3.10/dist-packages (from tensorboard<2.13,>=2.12->tensorflow==2.12) (1.0.0)\n",
            "Requirement already satisfied: markdown>=2.6.8 in /usr/local/lib/python3.10/dist-packages (from tensorboard<2.13,>=2.12->tensorflow==2.12) (3.5)\n",
            "Requirement already satisfied: requests<3,>=2.21.0 in /usr/local/lib/python3.10/dist-packages (from tensorboard<2.13,>=2.12->tensorflow==2.12) (2.31.0)\n",
            "Requirement already satisfied: tensorboard-data-server<0.8.0,>=0.7.0 in /usr/local/lib/python3.10/dist-packages (from tensorboard<2.13,>=2.12->tensorflow==2.12) (0.7.1)\n",
            "Requirement already satisfied: werkzeug>=1.0.1 in /usr/local/lib/python3.10/dist-packages (from tensorboard<2.13,>=2.12->tensorflow==2.12) (3.0.0)\n",
            "Requirement already satisfied: cachetools<6.0,>=2.0.0 in /usr/local/lib/python3.10/dist-packages (from google-auth<3,>=1.6.3->tensorboard<2.13,>=2.12->tensorflow==2.12) (5.3.1)\n",
            "Requirement already satisfied: pyasn1-modules>=0.2.1 in /usr/local/lib/python3.10/dist-packages (from google-auth<3,>=1.6.3->tensorboard<2.13,>=2.12->tensorflow==2.12) (0.3.0)\n",
            "Requirement already satisfied: rsa<5,>=3.1.4 in /usr/local/lib/python3.10/dist-packages (from google-auth<3,>=1.6.3->tensorboard<2.13,>=2.12->tensorflow==2.12) (4.9)\n",
            "Requirement already satisfied: requests-oauthlib>=0.7.0 in /usr/local/lib/python3.10/dist-packages (from google-auth-oauthlib<1.1,>=0.5->tensorboard<2.13,>=2.12->tensorflow==2.12) (1.3.1)\n",
            "Requirement already satisfied: charset-normalizer<4,>=2 in /usr/local/lib/python3.10/dist-packages (from requests<3,>=2.21.0->tensorboard<2.13,>=2.12->tensorflow==2.12) (3.3.0)\n",
            "Requirement already satisfied: idna<4,>=2.5 in /usr/local/lib/python3.10/dist-packages (from requests<3,>=2.21.0->tensorboard<2.13,>=2.12->tensorflow==2.12) (3.4)\n",
            "Requirement already satisfied: urllib3<3,>=1.21.1 in /usr/local/lib/python3.10/dist-packages (from requests<3,>=2.21.0->tensorboard<2.13,>=2.12->tensorflow==2.12) (2.0.7)\n",
            "Requirement already satisfied: certifi>=2017.4.17 in /usr/local/lib/python3.10/dist-packages (from requests<3,>=2.21.0->tensorboard<2.13,>=2.12->tensorflow==2.12) (2023.7.22)\n",
            "Requirement already satisfied: MarkupSafe>=2.1.1 in /usr/local/lib/python3.10/dist-packages (from werkzeug>=1.0.1->tensorboard<2.13,>=2.12->tensorflow==2.12) (2.1.3)\n",
            "Requirement already satisfied: pyasn1<0.6.0,>=0.4.6 in /usr/local/lib/python3.10/dist-packages (from pyasn1-modules>=0.2.1->google-auth<3,>=1.6.3->tensorboard<2.13,>=2.12->tensorflow==2.12) (0.5.0)\n",
            "Requirement already satisfied: oauthlib>=3.0.0 in /usr/local/lib/python3.10/dist-packages (from requests-oauthlib>=0.7.0->google-auth-oauthlib<1.1,>=0.5->tensorboard<2.13,>=2.12->tensorflow==2.12) (3.2.2)\n",
            "Installing collected packages: wrapt, tensorflow-estimator, keras, tensorboard, tensorflow\n",
            "  Attempting uninstall: wrapt\n",
            "    Found existing installation: wrapt 1.15.0\n",
            "    Uninstalling wrapt-1.15.0:\n",
            "      Successfully uninstalled wrapt-1.15.0\n",
            "  Attempting uninstall: tensorflow-estimator\n",
            "    Found existing installation: tensorflow-estimator 2.13.0\n",
            "    Uninstalling tensorflow-estimator-2.13.0:\n",
            "      Successfully uninstalled tensorflow-estimator-2.13.0\n",
            "  Attempting uninstall: keras\n",
            "    Found existing installation: keras 2.13.1\n",
            "    Uninstalling keras-2.13.1:\n",
            "      Successfully uninstalled keras-2.13.1\n",
            "  Attempting uninstall: tensorboard\n",
            "    Found existing installation: tensorboard 2.13.0\n",
            "    Uninstalling tensorboard-2.13.0:\n",
            "      Successfully uninstalled tensorboard-2.13.0\n",
            "  Attempting uninstall: tensorflow\n",
            "    Found existing installation: tensorflow 2.13.0\n",
            "    Uninstalling tensorflow-2.13.0:\n",
            "      Successfully uninstalled tensorflow-2.13.0\n",
            "Successfully installed keras-2.12.0 tensorboard-2.12.3 tensorflow-2.12.0 tensorflow-estimator-2.12.0 wrapt-1.14.1\n"
          ]
        },
        {
          "output_type": "display_data",
          "data": {
            "application/vnd.colab-display-data+json": {
              "pip_warning": {
                "packages": [
                  "keras",
                  "tensorboard",
                  "tensorflow",
                  "wrapt"
                ]
              }
            }
          },
          "metadata": {}
        }
      ]
    },
    {
      "cell_type": "markdown",
      "id": "71081f0a-8f13-49da-9859-655a92a0bd46",
      "metadata": {
        "id": "71081f0a-8f13-49da-9859-655a92a0bd46"
      },
      "source": [
        "<font size=\"4.5\"><b> 1. Consider the Cats & Dogs example. Start initially with a training sample of 1000, a validation sample of 500, and a test sample of 500 (like in the text). Use any technique to reduce overfitting and improve performance in developing a network that you train from scratch. What performance did you achieve? </b></font>"
      ]
    },
    {
      "cell_type": "markdown",
      "id": "a8d9d8ec-ace1-42da-9285-0b76de2a68af",
      "metadata": {
        "id": "a8d9d8ec-ace1-42da-9285-0b76de2a68af"
      },
      "source": [
        "<font size=\"3\"> Creating directory named cats vs dogs small to store the images into 3 subsets named train, validation and test and Dividing the training sample of 1000, a validation sample of 500, and a test sample of 500</font>"
      ]
    },
    {
      "cell_type": "code",
      "execution_count": 20,
      "id": "adbca28c-7ec5-468c-b6b5-02c79719a138",
      "metadata": {
        "id": "adbca28c-7ec5-468c-b6b5-02c79719a138",
        "outputId": "f29402d9-f4e3-4042-aff7-577aac2014b8",
        "colab": {
          "base_uri": "https://localhost:8080/",
          "height": 390
        }
      },
      "outputs": [
        {
          "output_type": "error",
          "ename": "FileExistsError",
          "evalue": "ignored",
          "traceback": [
            "\u001b[0;31m---------------------------------------------------------------------------\u001b[0m",
            "\u001b[0;31mFileExistsError\u001b[0m                           Traceback (most recent call last)",
            "\u001b[0;32m<ipython-input-20-adf56124b89b>\u001b[0m in \u001b[0;36m<cell line: 15>\u001b[0;34m()\u001b[0m\n\u001b[1;32m     13\u001b[0m                             dst=dir / fname)\n\u001b[1;32m     14\u001b[0m \u001b[0;34m\u001b[0m\u001b[0m\n\u001b[0;32m---> 15\u001b[0;31m \u001b[0mmake_subset\u001b[0m\u001b[0;34m(\u001b[0m\u001b[0;34m\"train\"\u001b[0m\u001b[0;34m,\u001b[0m \u001b[0mstart_index\u001b[0m\u001b[0;34m=\u001b[0m\u001b[0;36m0\u001b[0m\u001b[0;34m,\u001b[0m \u001b[0mend_index\u001b[0m\u001b[0;34m=\u001b[0m\u001b[0;36m500\u001b[0m\u001b[0;34m)\u001b[0m\u001b[0;34m\u001b[0m\u001b[0;34m\u001b[0m\u001b[0m\n\u001b[0m\u001b[1;32m     16\u001b[0m \u001b[0mmake_subset\u001b[0m\u001b[0;34m(\u001b[0m\u001b[0;34m\"validation\"\u001b[0m\u001b[0;34m,\u001b[0m \u001b[0mstart_index\u001b[0m\u001b[0;34m=\u001b[0m\u001b[0;36m1000\u001b[0m\u001b[0;34m,\u001b[0m \u001b[0mend_index\u001b[0m\u001b[0;34m=\u001b[0m\u001b[0;36m1250\u001b[0m\u001b[0;34m)\u001b[0m\u001b[0;34m\u001b[0m\u001b[0;34m\u001b[0m\u001b[0m\n\u001b[1;32m     17\u001b[0m \u001b[0mmake_subset\u001b[0m\u001b[0;34m(\u001b[0m\u001b[0;34m\"test\"\u001b[0m\u001b[0;34m,\u001b[0m \u001b[0mstart_index\u001b[0m\u001b[0;34m=\u001b[0m\u001b[0;36m1500\u001b[0m\u001b[0;34m,\u001b[0m \u001b[0mend_index\u001b[0m\u001b[0;34m=\u001b[0m\u001b[0;36m1750\u001b[0m\u001b[0;34m)\u001b[0m\u001b[0;34m\u001b[0m\u001b[0;34m\u001b[0m\u001b[0m\n",
            "\u001b[0;32m<ipython-input-20-adf56124b89b>\u001b[0m in \u001b[0;36mmake_subset\u001b[0;34m(subset_name, start_index, end_index)\u001b[0m\n\u001b[1;32m      7\u001b[0m     \u001b[0;32mfor\u001b[0m \u001b[0mcategory\u001b[0m \u001b[0;32min\u001b[0m \u001b[0;34m(\u001b[0m\u001b[0;34m\"cat\"\u001b[0m\u001b[0;34m,\u001b[0m \u001b[0;34m\"dog\"\u001b[0m\u001b[0;34m)\u001b[0m\u001b[0;34m:\u001b[0m\u001b[0;34m\u001b[0m\u001b[0;34m\u001b[0m\u001b[0m\n\u001b[1;32m      8\u001b[0m         \u001b[0mdir\u001b[0m \u001b[0;34m=\u001b[0m \u001b[0mnew_base_dir\u001b[0m \u001b[0;34m/\u001b[0m \u001b[0msubset_name\u001b[0m \u001b[0;34m/\u001b[0m \u001b[0mcategory\u001b[0m\u001b[0;34m\u001b[0m\u001b[0;34m\u001b[0m\u001b[0m\n\u001b[0;32m----> 9\u001b[0;31m         \u001b[0mos\u001b[0m\u001b[0;34m.\u001b[0m\u001b[0mmakedirs\u001b[0m\u001b[0;34m(\u001b[0m\u001b[0mdir\u001b[0m\u001b[0;34m)\u001b[0m\u001b[0;34m\u001b[0m\u001b[0;34m\u001b[0m\u001b[0m\n\u001b[0m\u001b[1;32m     10\u001b[0m         \u001b[0mfnames\u001b[0m \u001b[0;34m=\u001b[0m \u001b[0;34m[\u001b[0m\u001b[0;34mf\"{category}.{i}.jpg\"\u001b[0m \u001b[0;32mfor\u001b[0m \u001b[0mi\u001b[0m \u001b[0;32min\u001b[0m \u001b[0mrange\u001b[0m\u001b[0;34m(\u001b[0m\u001b[0mstart_index\u001b[0m\u001b[0;34m,\u001b[0m \u001b[0mend_index\u001b[0m\u001b[0;34m)\u001b[0m\u001b[0;34m]\u001b[0m\u001b[0;34m\u001b[0m\u001b[0;34m\u001b[0m\u001b[0m\n\u001b[1;32m     11\u001b[0m         \u001b[0;32mfor\u001b[0m \u001b[0mfname\u001b[0m \u001b[0;32min\u001b[0m \u001b[0mfnames\u001b[0m\u001b[0;34m:\u001b[0m\u001b[0;34m\u001b[0m\u001b[0;34m\u001b[0m\u001b[0m\n",
            "\u001b[0;32m/usr/lib/python3.10/os.py\u001b[0m in \u001b[0;36mmakedirs\u001b[0;34m(name, mode, exist_ok)\u001b[0m\n\u001b[1;32m    223\u001b[0m             \u001b[0;32mreturn\u001b[0m\u001b[0;34m\u001b[0m\u001b[0;34m\u001b[0m\u001b[0m\n\u001b[1;32m    224\u001b[0m     \u001b[0;32mtry\u001b[0m\u001b[0;34m:\u001b[0m\u001b[0;34m\u001b[0m\u001b[0;34m\u001b[0m\u001b[0m\n\u001b[0;32m--> 225\u001b[0;31m         \u001b[0mmkdir\u001b[0m\u001b[0;34m(\u001b[0m\u001b[0mname\u001b[0m\u001b[0;34m,\u001b[0m \u001b[0mmode\u001b[0m\u001b[0;34m)\u001b[0m\u001b[0;34m\u001b[0m\u001b[0;34m\u001b[0m\u001b[0m\n\u001b[0m\u001b[1;32m    226\u001b[0m     \u001b[0;32mexcept\u001b[0m \u001b[0mOSError\u001b[0m\u001b[0;34m:\u001b[0m\u001b[0;34m\u001b[0m\u001b[0;34m\u001b[0m\u001b[0m\n\u001b[1;32m    227\u001b[0m         \u001b[0;31m# Cannot rely on checking for EEXIST, since the operating system\u001b[0m\u001b[0;34m\u001b[0m\u001b[0;34m\u001b[0m\u001b[0m\n",
            "\u001b[0;31mFileExistsError\u001b[0m: [Errno 17] File exists: 'cats_vs_dogs_small/train/cat'"
          ]
        }
      ],
      "source": [
        "import os, shutil, pathlib\n",
        "\n",
        "original_dir = pathlib.Path(\"train\")\n",
        "new_base_dir = pathlib.Path(\"cats_vs_dogs_small\")\n",
        "\n",
        "def make_subset(subset_name, start_index, end_index):\n",
        "    for category in (\"cat\", \"dog\"):\n",
        "        dir = new_base_dir / subset_name / category\n",
        "        os.makedirs(dir)\n",
        "        fnames = [f\"{category}.{i}.jpg\" for i in range(start_index, end_index)]\n",
        "        for fname in fnames:\n",
        "            shutil.copyfile(src=original_dir / fname,\n",
        "                            dst=dir / fname)\n",
        "\n",
        "make_subset(\"train\", start_index=0, end_index=500)\n",
        "make_subset(\"validation\", start_index=1000, end_index=1250)\n",
        "make_subset(\"test\", start_index=1500, end_index=1750)"
      ]
    },
    {
      "cell_type": "markdown",
      "id": "196000de-1761-4383-935f-665e1115d151",
      "metadata": {
        "id": "196000de-1761-4383-935f-665e1115d151"
      },
      "source": [
        "<font size=\"3\"><u>Data Pre-Processing and functions</u> - Using image_dataset_from_directory to read images and functions</font>"
      ]
    },
    {
      "cell_type": "code",
      "execution_count": 19,
      "id": "e7497aa5-e318-4c72-a1e4-6c777444daf0",
      "metadata": {
        "id": "e7497aa5-e318-4c72-a1e4-6c777444daf0",
        "outputId": "5ab85c38-f129-4d20-c69c-a8ae0fdd71f8",
        "colab": {
          "base_uri": "https://localhost:8080/"
        }
      },
      "outputs": [
        {
          "output_type": "stream",
          "name": "stdout",
          "text": [
            "Found 1000 files belonging to 2 classes.\n",
            "Found 500 files belonging to 2 classes.\n",
            "Found 500 files belonging to 2 classes.\n"
          ]
        }
      ],
      "source": [
        "train_dataset = image_dataset_from_directory(\n",
        "    new_base_dir / \"train\",\n",
        "    image_size=(180, 180),\n",
        "    batch_size=32)\n",
        "validation_dataset = image_dataset_from_directory(\n",
        "    new_base_dir / \"validation\",\n",
        "    image_size=(180, 180),\n",
        "    batch_size=32)\n",
        "test_dataset = image_dataset_from_directory(\n",
        "    new_base_dir / \"test\",\n",
        "    image_size=(180, 180),\n",
        "    batch_size=32)"
      ]
    },
    {
      "cell_type": "markdown",
      "id": "a8af8317-1bac-42c9-bb47-1d27c24daaf2",
      "metadata": {
        "id": "a8af8317-1bac-42c9-bb47-1d27c24daaf2"
      },
      "source": [
        "<font size=\"3\">Viewing the shape of the images</font>"
      ]
    },
    {
      "cell_type": "code",
      "execution_count": 11,
      "id": "06e41174-92b7-4627-852b-7e55328c409e",
      "metadata": {
        "id": "06e41174-92b7-4627-852b-7e55328c409e",
        "outputId": "2dca9022-2ba6-4d72-dad9-b5f1755cb22d",
        "colab": {
          "base_uri": "https://localhost:8080/"
        }
      },
      "outputs": [
        {
          "output_type": "stream",
          "name": "stdout",
          "text": [
            "data batch shape: (32, 180, 180, 3)\n",
            "labels batch shape: (32,)\n"
          ]
        }
      ],
      "source": [
        "for data_batch, labels_batch in train_dataset:\n",
        "    print(\"data batch shape:\", data_batch.shape)\n",
        "    print(\"labels batch shape:\", labels_batch.shape)\n",
        "    break"
      ]
    },
    {
      "cell_type": "markdown",
      "id": "0fa9aad3-526b-4fa1-a315-dd1cb32d885c",
      "metadata": {
        "id": "0fa9aad3-526b-4fa1-a315-dd1cb32d885c"
      },
      "source": [
        "<font size=\"3\"><b> Model - 1 MaxPooling Operation with Increase in filters from <u>32 to 256</u> in <u>5 Input Layers</u></b> : Instantiating a small convnet for dogs vs. cats classification </font>"
      ]
    },
    {
      "cell_type": "code",
      "execution_count": 12,
      "id": "70b66ac2-2855-4a35-a1a1-dca22d5f5c55",
      "metadata": {
        "id": "70b66ac2-2855-4a35-a1a1-dca22d5f5c55"
      },
      "outputs": [],
      "source": [
        "#Building the model\n",
        "#Instantiating a small convnet for dogs vs. cats classification\n",
        "#*Model - 1 MaxPooling Operation with Increase in filters from 32 to 256 in 5 Input Layers*\n",
        "\n",
        "inputs = keras.Input(shape=(180, 180, 3))\n",
        "x = layers.Rescaling(1./255)(inputs)\n",
        "x = layers.Conv2D(filters=32, kernel_size=3, activation=\"relu\")(x)\n",
        "x = layers.MaxPooling2D(pool_size=2)(x)\n",
        "x = layers.Conv2D(filters=64, kernel_size=3, activation=\"relu\")(x)\n",
        "x = layers.MaxPooling2D(pool_size=2)(x)\n",
        "x = layers.Conv2D(filters=128, kernel_size=3, activation=\"relu\")(x)\n",
        "x = layers.MaxPooling2D(pool_size=2)(x)\n",
        "x = layers.Conv2D(filters=256, kernel_size=3, activation=\"relu\")(x)\n",
        "x = layers.MaxPooling2D(pool_size=2)(x)\n",
        "x = layers.Conv2D(filters=256, kernel_size=3, activation=\"relu\")(x)\n",
        "x = layers.Flatten()(x)\n",
        "outputs = layers.Dense(1, activation=\"sigmoid\")(x)\n",
        "\n",
        "\n",
        "model = keras.Model(inputs=inputs, outputs=outputs)"
      ]
    },
    {
      "cell_type": "markdown",
      "id": "b8762dab-3e0c-4fb6-82cd-45cb406975f2",
      "metadata": {
        "id": "b8762dab-3e0c-4fb6-82cd-45cb406975f2"
      },
      "source": [
        "<font size=\"3\"> Summary of Model - 1 </font>"
      ]
    },
    {
      "cell_type": "code",
      "execution_count": 13,
      "id": "800b8449-b33e-4018-915d-a8863667418d",
      "metadata": {
        "id": "800b8449-b33e-4018-915d-a8863667418d",
        "outputId": "1ce94001-4dfc-480c-d822-ec4b7e861f24",
        "colab": {
          "base_uri": "https://localhost:8080/"
        }
      },
      "outputs": [
        {
          "output_type": "stream",
          "name": "stdout",
          "text": [
            "Model: \"model\"\n",
            "_________________________________________________________________\n",
            " Layer (type)                Output Shape              Param #   \n",
            "=================================================================\n",
            " input_1 (InputLayer)        [(None, 180, 180, 3)]     0         \n",
            "                                                                 \n",
            " rescaling (Rescaling)       (None, 180, 180, 3)       0         \n",
            "                                                                 \n",
            " conv2d (Conv2D)             (None, 178, 178, 32)      896       \n",
            "                                                                 \n",
            " max_pooling2d (MaxPooling2  (None, 89, 89, 32)        0         \n",
            " D)                                                              \n",
            "                                                                 \n",
            " conv2d_1 (Conv2D)           (None, 87, 87, 64)        18496     \n",
            "                                                                 \n",
            " max_pooling2d_1 (MaxPoolin  (None, 43, 43, 64)        0         \n",
            " g2D)                                                            \n",
            "                                                                 \n",
            " conv2d_2 (Conv2D)           (None, 41, 41, 128)       73856     \n",
            "                                                                 \n",
            " max_pooling2d_2 (MaxPoolin  (None, 20, 20, 128)       0         \n",
            " g2D)                                                            \n",
            "                                                                 \n",
            " conv2d_3 (Conv2D)           (None, 18, 18, 256)       295168    \n",
            "                                                                 \n",
            " max_pooling2d_3 (MaxPoolin  (None, 9, 9, 256)         0         \n",
            " g2D)                                                            \n",
            "                                                                 \n",
            " conv2d_4 (Conv2D)           (None, 7, 7, 256)         590080    \n",
            "                                                                 \n",
            " flatten (Flatten)           (None, 12544)             0         \n",
            "                                                                 \n",
            " dense (Dense)               (None, 1)                 12545     \n",
            "                                                                 \n",
            "=================================================================\n",
            "Total params: 991041 (3.78 MB)\n",
            "Trainable params: 991041 (3.78 MB)\n",
            "Non-trainable params: 0 (0.00 Byte)\n",
            "_________________________________________________________________\n"
          ]
        }
      ],
      "source": [
        "model.summary()"
      ]
    },
    {
      "cell_type": "markdown",
      "id": "f7a33b20-4b14-4f4c-8811-8beaa60768d7",
      "metadata": {
        "id": "f7a33b20-4b14-4f4c-8811-8beaa60768d7"
      },
      "source": [
        "<font size=\"3\"> Training the model 1 </font>"
      ]
    },
    {
      "cell_type": "code",
      "execution_count": 14,
      "id": "8043b77e-f9d5-4d65-a08a-08065154d095",
      "metadata": {
        "id": "8043b77e-f9d5-4d65-a08a-08065154d095",
        "outputId": "0503a4d9-e411-45a4-aeda-1377e29d8aa7",
        "colab": {
          "base_uri": "https://localhost:8080/",
          "height": 425
        }
      },
      "outputs": [
        {
          "output_type": "stream",
          "name": "stdout",
          "text": [
            "Epoch 1/30\n",
            "32/32 [==============================] - ETA: 0s - loss: 0.6926 - accuracy: 0.5160"
          ]
        },
        {
          "output_type": "error",
          "ename": "ValueError",
          "evalue": "ignored",
          "traceback": [
            "\u001b[0;31m---------------------------------------------------------------------------\u001b[0m",
            "\u001b[0;31mValueError\u001b[0m                                Traceback (most recent call last)",
            "\u001b[0;32m<ipython-input-14-c5d38ee2fd0a>\u001b[0m in \u001b[0;36m<cell line: 16>\u001b[0;34m()\u001b[0m\n\u001b[1;32m     14\u001b[0m \u001b[0;34m\u001b[0m\u001b[0m\n\u001b[1;32m     15\u001b[0m \u001b[0;31m# Fitting/Running the Model\u001b[0m\u001b[0;34m\u001b[0m\u001b[0;34m\u001b[0m\u001b[0m\n\u001b[0;32m---> 16\u001b[0;31m Model_1 = model.fit(\n\u001b[0m\u001b[1;32m     17\u001b[0m           \u001b[0mtrain_dataset\u001b[0m\u001b[0;34m,\u001b[0m\u001b[0;34m\u001b[0m\u001b[0;34m\u001b[0m\u001b[0m\n\u001b[1;32m     18\u001b[0m           \u001b[0mepochs\u001b[0m\u001b[0;34m=\u001b[0m \u001b[0;36m30\u001b[0m\u001b[0;34m,\u001b[0m\u001b[0;34m\u001b[0m\u001b[0;34m\u001b[0m\u001b[0m\n",
            "\u001b[0;32m/usr/local/lib/python3.10/dist-packages/keras/src/utils/traceback_utils.py\u001b[0m in \u001b[0;36merror_handler\u001b[0;34m(*args, **kwargs)\u001b[0m\n\u001b[1;32m     68\u001b[0m             \u001b[0;31m# To get the full stack trace, call:\u001b[0m\u001b[0;34m\u001b[0m\u001b[0;34m\u001b[0m\u001b[0m\n\u001b[1;32m     69\u001b[0m             \u001b[0;31m# `tf.debugging.disable_traceback_filtering()`\u001b[0m\u001b[0;34m\u001b[0m\u001b[0;34m\u001b[0m\u001b[0m\n\u001b[0;32m---> 70\u001b[0;31m             \u001b[0;32mraise\u001b[0m \u001b[0me\u001b[0m\u001b[0;34m.\u001b[0m\u001b[0mwith_traceback\u001b[0m\u001b[0;34m(\u001b[0m\u001b[0mfiltered_tb\u001b[0m\u001b[0;34m)\u001b[0m \u001b[0;32mfrom\u001b[0m \u001b[0;32mNone\u001b[0m\u001b[0;34m\u001b[0m\u001b[0;34m\u001b[0m\u001b[0m\n\u001b[0m\u001b[1;32m     71\u001b[0m         \u001b[0;32mfinally\u001b[0m\u001b[0;34m:\u001b[0m\u001b[0;34m\u001b[0m\u001b[0;34m\u001b[0m\u001b[0m\n\u001b[1;32m     72\u001b[0m             \u001b[0;32mdel\u001b[0m \u001b[0mfiltered_tb\u001b[0m\u001b[0;34m\u001b[0m\u001b[0;34m\u001b[0m\u001b[0m\n",
            "\u001b[0;32m/usr/local/lib/python3.10/dist-packages/keras/src/saving/saving_api.py\u001b[0m in \u001b[0;36msave_model\u001b[0;34m(model, filepath, overwrite, save_format, **kwargs)\u001b[0m\n\u001b[1;32m    140\u001b[0m                 \u001b[0;32mreturn\u001b[0m\u001b[0;34m\u001b[0m\u001b[0;34m\u001b[0m\u001b[0m\n\u001b[1;32m    141\u001b[0m         \u001b[0;32mif\u001b[0m \u001b[0mkwargs\u001b[0m\u001b[0;34m:\u001b[0m\u001b[0;34m\u001b[0m\u001b[0;34m\u001b[0m\u001b[0m\n\u001b[0;32m--> 142\u001b[0;31m             raise ValueError(\n\u001b[0m\u001b[1;32m    143\u001b[0m                 \u001b[0;34m\"The following argument(s) are not supported \"\u001b[0m\u001b[0;34m\u001b[0m\u001b[0;34m\u001b[0m\u001b[0m\n\u001b[1;32m    144\u001b[0m                 \u001b[0;34mf\"with the native Keras format: {list(kwargs.keys())}\"\u001b[0m\u001b[0;34m\u001b[0m\u001b[0;34m\u001b[0m\u001b[0m\n",
            "\u001b[0;31mValueError\u001b[0m: The following argument(s) are not supported with the native Keras format: ['options']"
          ]
        }
      ],
      "source": [
        "# Compilimg the results of the model\n",
        "model.compile(loss=\"binary_crossentropy\",\n",
        "              optimizer=\"adam\",\n",
        "              metrics=[\"accuracy\"])\n",
        "\n",
        "\n",
        "# Saving the results of the model\n",
        "callbacks = ModelCheckpoint(\n",
        "            filepath= \"model1.keras\",\n",
        "            save_best_only= True,\n",
        "            monitor= \"val_loss\"\n",
        "            )\n",
        "\n",
        "\n",
        "# Fitting/Running the Model\n",
        "Model_1 = model.fit(\n",
        "          train_dataset,\n",
        "          epochs= 30,\n",
        "          validation_data= validation_dataset,\n",
        "          callbacks= callbacks)"
      ]
    },
    {
      "cell_type": "markdown",
      "id": "3afff707-2b3d-42d9-81da-62443a90b2bc",
      "metadata": {
        "id": "3afff707-2b3d-42d9-81da-62443a90b2bc"
      },
      "source": [
        "<font size=\"3\"> Looking at the visuals of the Training and Validation Accuracy/Loss</font>"
      ]
    },
    {
      "cell_type": "code",
      "execution_count": null,
      "id": "f457b2dd-d1bc-47db-b519-4e7a6101c0a7",
      "metadata": {
        "id": "f457b2dd-d1bc-47db-b519-4e7a6101c0a7",
        "outputId": "ac9078f6-5b57-4675-8142-1e97d0607572"
      },
      "outputs": [
        {
          "data": {
            "image/png": "[encoded data removed]",
            "text/plain": [
              "<Figure size 432x288 with 1 Axes>"
            ]
          },
          "metadata": {
            "needs_background": "light"
          },
          "output_type": "display_data"
        },
        {
          "data": {
            "image/png": "[encoded data removed]",
            "text/plain": [
              "<Figure size 432x288 with 1 Axes>"
            ]
          },
          "metadata": {
            "needs_background": "light"
          },
          "output_type": "display_data"
        }
      ],
      "source": [
        "accuracy = Model_1.history[\"accuracy\"]\n",
        "val_accuracy = Model_1.history[\"val_accuracy\"]\n",
        "\n",
        "loss = Model_1.history[\"loss\"]\n",
        "val_loss = Model_1.history[\"val_loss\"]\n",
        "\n",
        "epochs = range(1, len(accuracy) + 1)\n",
        "plt.plot(epochs, accuracy, color=\"grey\", label=\"Training Accuracy\")\n",
        "plt.plot(epochs, val_accuracy, color=\"blue\",linestyle=\"dashed\", label=\"Validation Accuracy\")\n",
        "plt.title(\"Training and Validation Accuracy\")\n",
        "plt.legend()\n",
        "plt.figure()\n",
        "\n",
        "plt.plot(epochs, loss, color=\"grey\", label=\"Training Loss\")\n",
        "plt.plot(epochs, val_loss, color=\"blue\", linestyle=\"dashed\", label=\"Validation Loss\")\n",
        "plt.title(\"Training and Validation Loss\")\n",
        "plt.legend()\n",
        "plt.show()"
      ]
    },
    {
      "cell_type": "markdown",
      "id": "a3edfccc-f3f0-4d21-91ed-f23784cd3dea",
      "metadata": {
        "id": "a3edfccc-f3f0-4d21-91ed-f23784cd3dea"
      },
      "source": [
        "<font size=\"3\"> Evaluating the performance of Model_1 on test set</font>"
      ]
    },
    {
      "cell_type": "code",
      "execution_count": null,
      "id": "888e6dd8-3c1f-4bb0-8f71-5d46e6d203a6",
      "metadata": {
        "id": "888e6dd8-3c1f-4bb0-8f71-5d46e6d203a6",
        "outputId": "3111f6f4-775c-495d-8b0f-416d8a4c1abc"
      },
      "outputs": [
        {
          "name": "stdout",
          "output_type": "stream",
          "text": [
            "16/16 [==============================] - 5s 300ms/step - loss: 0.6718 - accuracy: 0.6660\n",
            "Loss: 0.672\n",
            "Accuracy: 0.666\n"
          ]
        }
      ],
      "source": [
        "test_model = keras.models.load_model(\"model1.keras\")\n",
        "Model1_Results = test_model.evaluate(test_dataset)\n",
        "print(f'Loss: {Model1_Results[0]:.3f}')\n",
        "print(f'Accuracy: {Model1_Results[1]:.3f}')"
      ]
    },
    {
      "cell_type": "markdown",
      "id": "f9f146e5-f720-41c2-8d58-eefdc83a29a5",
      "metadata": {
        "id": "f9f146e5-f720-41c2-8d58-eefdc83a29a5"
      },
      "source": [
        "<font size=\"3\"><b> Using Measures to Avoid Overfitting</b></font>\n",
        "\n",
        "<font size=\"3\"><u>Data Augmentation<u></font>"
      ]
    },
    {
      "cell_type": "code",
      "execution_count": null,
      "id": "f671ec29-ab70-4851-8bed-979afedc1ca2",
      "metadata": {
        "id": "f671ec29-ab70-4851-8bed-979afedc1ca2"
      },
      "outputs": [],
      "source": [
        "# To deprecate warnings that are making the output look clumsy\n",
        "import logging\n",
        "logging.getLogger('tensorflow').disabled = True"
      ]
    },
    {
      "cell_type": "markdown",
      "id": "41b44b2a-9bad-44f0-a9a2-207e586dbb82",
      "metadata": {
        "id": "41b44b2a-9bad-44f0-a9a2-207e586dbb82"
      },
      "source": [
        "<font size=\"3\"> Using few of the techniques such as random flip, random zoom, random rotation so as to create augmented versions of the image</font>"
      ]
    },
    {
      "cell_type": "code",
      "execution_count": null,
      "id": "e9bf3938-8ef9-43e8-b47b-840e41320215",
      "metadata": {
        "id": "e9bf3938-8ef9-43e8-b47b-840e41320215"
      },
      "outputs": [],
      "source": [
        "data_augmentation = keras.Sequential(\n",
        "    [\n",
        "        layers.RandomFlip(\"horizontal\"),\n",
        "        layers.RandomRotation(0.1),\n",
        "        layers.RandomZoom(0.2)\n",
        "    ]\n",
        ")"
      ]
    },
    {
      "cell_type": "markdown",
      "id": "97b01936-111f-457e-a38a-8da61dd5935c",
      "metadata": {
        "id": "97b01936-111f-457e-a38a-8da61dd5935c"
      },
      "source": [
        "<font size=\"3\">Looking at the augmented images</font>"
      ]
    },
    {
      "cell_type": "code",
      "execution_count": null,
      "id": "07a12253-ab1b-4112-82b7-9ba79d0cadfe",
      "metadata": {
        "id": "07a12253-ab1b-4112-82b7-9ba79d0cadfe",
        "outputId": "351eaa55-712f-4689-b964-12623ccb45ba"
      },
      "outputs": [
        {
          "data": {
            "image/png": "[encoded data removed]",
            "text/plain": [
              "<Figure size 720x720 with 9 Axes>"
            ]
          },
          "metadata": {
            "needs_background": "light"
          },
          "output_type": "display_data"
        }
      ],
      "source": [
        "plt.figure(figsize=(10, 10))\n",
        "for images, _ in train_dataset.take(1):\n",
        "   for i in range(9):\n",
        "      augmented_images = data_augmentation(images)\n",
        "      ax = plt.subplot(3, 3, i + 1)\n",
        "      plt.imshow(augmented_images[0].numpy().astype(\"uint8\"))\n",
        "      plt.axis(\"off\")"
      ]
    },
    {
      "cell_type": "markdown",
      "id": "7effc0f4-9ec3-4e6e-92f0-3659e87da5c1",
      "metadata": {
        "id": "7effc0f4-9ec3-4e6e-92f0-3659e87da5c1"
      },
      "source": [
        "<font size=\"3\"><b> Model - 2 MaxPooling Operation with Increase in filters from <u>32 to 256</u> in <u>5 Input Layers</u> with the data being used from the <u>Augmented Images</u> and a <u>droput rate of 0.5</u>*</b> </font>"
      ]
    },
    {
      "cell_type": "code",
      "execution_count": null,
      "id": "0372cc92-9c14-4c39-8da5-b1e4687d8bf4",
      "metadata": {
        "id": "0372cc92-9c14-4c39-8da5-b1e4687d8bf4"
      },
      "outputs": [],
      "source": [
        "inputs = keras.Input(shape=(180, 180, 3))\n",
        "x = data_augmentation(inputs)\n",
        "x = layers.Rescaling(1./255)(x)\n",
        "x = layers.Conv2D(filters=32, kernel_size=3, activation=\"relu\")(x)\n",
        "x = layers.MaxPooling2D(pool_size=2)(x)\n",
        "x = layers.Conv2D(filters=64, kernel_size=3, activation=\"relu\")(x)\n",
        "x = layers.MaxPooling2D(pool_size=2)(x)\n",
        "x = layers.Conv2D(filters=128, kernel_size=3, activation=\"relu\")(x)\n",
        "x = layers.MaxPooling2D(pool_size=2)(x)\n",
        "x = layers.Conv2D(filters=256, kernel_size=3, activation=\"relu\")(x)\n",
        "x = layers.MaxPooling2D(pool_size=2)(x)\n",
        "x = layers.Conv2D(filters=256, kernel_size=3, activation=\"relu\")(x)\n",
        "x = layers.Flatten()(x)\n",
        "x = layers.Dropout(0.5)(x)\n",
        "outputs = layers.Dense(1, activation=\"sigmoid\")(x)\n",
        "\n",
        "model = keras.Model(inputs=inputs, outputs=outputs)"
      ]
    },
    {
      "cell_type": "markdown",
      "id": "3153e9c3-10d7-483a-b388-6ff3e18ad5df",
      "metadata": {
        "id": "3153e9c3-10d7-483a-b388-6ff3e18ad5df"
      },
      "source": [
        "<font size=\"3\">Training the model 2</font>"
      ]
    },
    {
      "cell_type": "code",
      "execution_count": null,
      "id": "0ba3ec5e-a600-4e84-9f5e-51d2c00b8ea2",
      "metadata": {
        "id": "0ba3ec5e-a600-4e84-9f5e-51d2c00b8ea2",
        "outputId": "6f8d677d-c321-4f5d-9f74-1c6e7bda1c26"
      },
      "outputs": [
        {
          "name": "stdout",
          "output_type": "stream",
          "text": [
            "Epoch 1/30\n",
            "32/32 [==============================] - 46s 1s/step - loss: 0.7047 - accuracy: 0.5190 - val_loss: 0.6928 - val_accuracy: 0.5000\n",
            "Epoch 2/30\n",
            "32/32 [==============================] - 45s 1s/step - loss: 0.6901 - accuracy: 0.5520 - val_loss: 0.7256 - val_accuracy: 0.5000\n",
            "Epoch 3/30\n",
            "32/32 [==============================] - 45s 1s/step - loss: 0.7006 - accuracy: 0.4840 - val_loss: 0.6942 - val_accuracy: 0.5000\n",
            "Epoch 4/30\n",
            "32/32 [==============================] - 45s 1s/step - loss: 0.6938 - accuracy: 0.5110 - val_loss: 0.6931 - val_accuracy: 0.5000\n",
            "Epoch 5/30\n",
            "32/32 [==============================] - 45s 1s/step - loss: 0.6934 - accuracy: 0.4880 - val_loss: 0.6932 - val_accuracy: 0.5000\n",
            "Epoch 6/30\n",
            "32/32 [==============================] - 45s 1s/step - loss: 0.6932 - accuracy: 0.5010 - val_loss: 0.6931 - val_accuracy: 0.5000\n",
            "Epoch 7/30\n",
            "32/32 [==============================] - 45s 1s/step - loss: 0.6939 - accuracy: 0.5110 - val_loss: 0.6934 - val_accuracy: 0.5000\n",
            "Epoch 8/30\n",
            "32/32 [==============================] - 45s 1s/step - loss: 0.6944 - accuracy: 0.4940 - val_loss: 0.6947 - val_accuracy: 0.5000\n",
            "Epoch 9/30\n",
            "32/32 [==============================] - 45s 1s/step - loss: 0.6931 - accuracy: 0.5100 - val_loss: 0.6902 - val_accuracy: 0.5000\n",
            "Epoch 10/30\n",
            "32/32 [==============================] - 45s 1s/step - loss: 0.6857 - accuracy: 0.5200 - val_loss: 0.6888 - val_accuracy: 0.4900\n",
            "Epoch 11/30\n",
            "32/32 [==============================] - 45s 1s/step - loss: 0.6862 - accuracy: 0.5040 - val_loss: 0.6751 - val_accuracy: 0.6160\n",
            "Epoch 12/30\n",
            "32/32 [==============================] - 45s 1s/step - loss: 0.6827 - accuracy: 0.5800 - val_loss: 0.6797 - val_accuracy: 0.5240\n",
            "Epoch 13/30\n",
            "32/32 [==============================] - 45s 1s/step - loss: 0.6780 - accuracy: 0.5720 - val_loss: 0.6578 - val_accuracy: 0.6060\n",
            "Epoch 14/30\n",
            "32/32 [==============================] - 45s 1s/step - loss: 0.6709 - accuracy: 0.5800 - val_loss: 0.6917 - val_accuracy: 0.5520\n",
            "Epoch 15/30\n",
            "32/32 [==============================] - 45s 1s/step - loss: 0.6694 - accuracy: 0.5950 - val_loss: 0.6782 - val_accuracy: 0.5940\n",
            "Epoch 16/30\n",
            "32/32 [==============================] - 45s 1s/step - loss: 0.6718 - accuracy: 0.5890 - val_loss: 0.7302 - val_accuracy: 0.5560\n",
            "Epoch 17/30\n",
            "32/32 [==============================] - 45s 1s/step - loss: 0.6678 - accuracy: 0.5990 - val_loss: 0.6320 - val_accuracy: 0.6200\n",
            "Epoch 18/30\n",
            "32/32 [==============================] - 45s 1s/step - loss: 0.6458 - accuracy: 0.6270 - val_loss: 0.6261 - val_accuracy: 0.6500\n",
            "Epoch 19/30\n",
            "32/32 [==============================] - 45s 1s/step - loss: 0.6363 - accuracy: 0.6510 - val_loss: 0.6296 - val_accuracy: 0.6460\n",
            "Epoch 20/30\n",
            "32/32 [==============================] - 45s 1s/step - loss: 0.6169 - accuracy: 0.6590 - val_loss: 0.6291 - val_accuracy: 0.6540\n",
            "Epoch 21/30\n",
            "32/32 [==============================] - 45s 1s/step - loss: 0.6454 - accuracy: 0.6350 - val_loss: 0.6117 - val_accuracy: 0.6320\n",
            "Epoch 22/30\n",
            "32/32 [==============================] - 45s 1s/step - loss: 0.6124 - accuracy: 0.6720 - val_loss: 0.6042 - val_accuracy: 0.6420\n",
            "Epoch 23/30\n",
            "32/32 [==============================] - 45s 1s/step - loss: 0.6133 - accuracy: 0.6900 - val_loss: 0.5955 - val_accuracy: 0.6560\n",
            "Epoch 24/30\n",
            "32/32 [==============================] - 45s 1s/step - loss: 0.5890 - accuracy: 0.6900 - val_loss: 0.6554 - val_accuracy: 0.6480\n",
            "Epoch 25/30\n",
            "32/32 [==============================] - 45s 1s/step - loss: 0.6135 - accuracy: 0.6620 - val_loss: 0.6035 - val_accuracy: 0.6340\n",
            "Epoch 26/30\n",
            "32/32 [==============================] - 45s 1s/step - loss: 0.5958 - accuracy: 0.6740 - val_loss: 0.5884 - val_accuracy: 0.6540\n",
            "Epoch 27/30\n",
            "32/32 [==============================] - 45s 1s/step - loss: 0.5871 - accuracy: 0.6970 - val_loss: 0.5831 - val_accuracy: 0.6540\n",
            "Epoch 28/30\n",
            "32/32 [==============================] - 45s 1s/step - loss: 0.5784 - accuracy: 0.6990 - val_loss: 0.5812 - val_accuracy: 0.6800\n",
            "Epoch 29/30\n",
            "32/32 [==============================] - 45s 1s/step - loss: 0.5906 - accuracy: 0.6950 - val_loss: 0.5805 - val_accuracy: 0.6900\n",
            "Epoch 30/30\n",
            "32/32 [==============================] - 45s 1s/step - loss: 0.5952 - accuracy: 0.6800 - val_loss: 0.5667 - val_accuracy: 0.6800\n"
          ]
        }
      ],
      "source": [
        "# Compiling the model\n",
        "model.compile(loss=\"binary_crossentropy\",\n",
        "              optimizer=\"adam\",\n",
        "              metrics=[\"accuracy\"])\n",
        "\n",
        "# Saving the results of the model\n",
        "callbacks = ModelCheckpoint(\n",
        "            filepath= \"model2.keras\",\n",
        "            save_best_only= True,\n",
        "            monitor= \"val_loss\")\n",
        "\n",
        "# Fitting/Running the Model\n",
        "Model_2 = model.fit(\n",
        "          train_dataset,\n",
        "          epochs= 30,\n",
        "          validation_data= validation_dataset,\n",
        "          callbacks= callbacks)"
      ]
    },
    {
      "cell_type": "markdown",
      "id": "77b024ee-ca26-44db-83f7-40dde229fc24",
      "metadata": {
        "id": "77b024ee-ca26-44db-83f7-40dde229fc24"
      },
      "source": [
        "<font size=\"3\">Visualizing the Training and Validation Accuracy/Loss 2</font>"
      ]
    },
    {
      "cell_type": "code",
      "execution_count": null,
      "id": "71777445-e6f4-481f-987f-47610509bd11",
      "metadata": {
        "id": "71777445-e6f4-481f-987f-47610509bd11",
        "outputId": "9b558e4c-4c04-4421-c5dd-983084c4de45"
      },
      "outputs": [
        {
          "data": {
            "image/png": "[encoded data removed]",
            "text/plain": [
              "<Figure size 432x288 with 1 Axes>"
            ]
          },
          "metadata": {
            "needs_background": "light"
          },
          "output_type": "display_data"
        },
        {
          "data": {
            "image/png": "[encoded data removed]",
            "text/plain": [
              "<Figure size 432x288 with 1 Axes>"
            ]
          },
          "metadata": {
            "needs_background": "light"
          },
          "output_type": "display_data"
        }
      ],
      "source": [
        "accuracy = Model_2.history[\"accuracy\"]\n",
        "val_accuracy = Model_2.history[\"val_accuracy\"]\n",
        "\n",
        "loss = Model_2.history[\"loss\"]\n",
        "val_loss = Model_2.history[\"val_loss\"]\n",
        "\n",
        "epochs = range(1, len(accuracy) + 1)\n",
        "plt.plot(epochs, accuracy, color=\"grey\", label=\"Training Accuracy\")\n",
        "plt.plot(epochs, val_accuracy, color=\"blue\",linestyle=\"dashed\", label=\"Validation Accuracy\")\n",
        "plt.title(\"Training and Validation Accuracy\")\n",
        "plt.legend()\n",
        "plt.figure()\n",
        "\n",
        "plt.plot(epochs, loss, color=\"grey\", label=\"Training Loss\")\n",
        "plt.plot(epochs, val_loss, color=\"blue\", linestyle=\"dashed\", label=\"Validation Loss\")\n",
        "plt.title(\"Training and Validation Loss\")\n",
        "plt.legend()\n",
        "plt.show()"
      ]
    },
    {
      "cell_type": "markdown",
      "id": "ba2a4763-3ae8-4121-8024-74600cef0d47",
      "metadata": {
        "id": "ba2a4763-3ae8-4121-8024-74600cef0d47"
      },
      "source": [
        "<font size=\"3\">Evaluating the performance of Model_2 on the test set</font>"
      ]
    },
    {
      "cell_type": "code",
      "execution_count": null,
      "id": "90fb34b6-bfae-434f-94dc-aeaed47bed01",
      "metadata": {
        "id": "90fb34b6-bfae-434f-94dc-aeaed47bed01",
        "outputId": "73ffa735-f453-4879-ae83-b7337ca2db24"
      },
      "outputs": [
        {
          "name": "stdout",
          "output_type": "stream",
          "text": [
            "16/16 [==============================] - 5s 300ms/step - loss: 0.5941 - accuracy: 0.6920\n",
            "Loss: 0.594\n",
            "Accuracy: 0.692\n"
          ]
        }
      ],
      "source": [
        "test_model = keras.models.load_model(\"model2.keras\")\n",
        "Model2_Results = test_model.evaluate(test_dataset)\n",
        "print(f'Loss: {Model2_Results[0]:.3f}')\n",
        "print(f'Accuracy: {Model2_Results[1]:.3f}')"
      ]
    },
    {
      "cell_type": "markdown",
      "id": "36588252-fa28-4e34-99b7-b5d384066879",
      "metadata": {
        "id": "36588252-fa28-4e34-99b7-b5d384066879"
      },
      "source": [
        "<font size=\"3\"><b>Comparing the Model 1 and Model 2</b> : we can clearly see that the accuracy rate of model 2 is increased by 10</font>"
      ]
    },
    {
      "cell_type": "markdown",
      "id": "f22e5c8d-874d-47fd-b55e-84a4208dfa61",
      "metadata": {
        "id": "f22e5c8d-874d-47fd-b55e-84a4208dfa61"
      },
      "source": [
        "<font size=\"3\"><b>Model - 3 MaxPooling Operation with Increase in filters from 32 to 512 in <u>6 Input Layers</u> with the use of <u>Augmented Images</u> and <u>Dropout rate of 0.5</u></b> </font>"
      ]
    },
    {
      "cell_type": "code",
      "execution_count": null,
      "id": "754c506e-0f11-4cdf-99c6-c79750b71e0d",
      "metadata": {
        "id": "754c506e-0f11-4cdf-99c6-c79750b71e0d"
      },
      "outputs": [],
      "source": [
        "inputs = keras.Input(shape=(180, 180, 3))\n",
        "x = data_augmentation(inputs)\n",
        "x = layers.Rescaling(1./255)(x)\n",
        "x = layers.Conv2D(filters=32, kernel_size=3, activation=\"relu\")(x)\n",
        "x = layers.MaxPooling2D(pool_size=2)(x)\n",
        "x = layers.Conv2D(filters=64, kernel_size=3, activation=\"relu\")(x)\n",
        "x = layers.MaxPooling2D(pool_size=2)(x)\n",
        "x = layers.Conv2D(filters=128, kernel_size=3, activation=\"relu\")(x)\n",
        "x = layers.MaxPooling2D(pool_size=2)(x)\n",
        "x = layers.Conv2D(filters=256, kernel_size=3, activation=\"relu\")(x)\n",
        "x = layers.MaxPooling2D(pool_size=2)(x)\n",
        "x = layers.Conv2D(filters=256, kernel_size=3, activation=\"relu\")(x)\n",
        "x = layers.MaxPooling2D(pool_size=2)(x)\n",
        "x = layers.Conv2D(filters=512, kernel_size=3, activation=\"relu\")(x)\n",
        "x = layers.Flatten()(x)\n",
        "x = layers.Dropout(0.5)(x)\n",
        "outputs = layers.Dense(1, activation=\"sigmoid\")(x)\n",
        "\n",
        "model = keras.Model(inputs=inputs, outputs=outputs)"
      ]
    },
    {
      "cell_type": "code",
      "execution_count": null,
      "id": "6b57249c-7cbf-4c05-8df0-229c1c52044d",
      "metadata": {
        "id": "6b57249c-7cbf-4c05-8df0-229c1c52044d",
        "outputId": "e5bb7e36-7380-4690-c8b2-afd4c8a87b92"
      },
      "outputs": [
        {
          "name": "stdout",
          "output_type": "stream",
          "text": [
            "Model: \"model_3\"\n",
            "_________________________________________________________________\n",
            "Layer (type)                 Output Shape              Param #   \n",
            "=================================================================\n",
            "input_4 (InputLayer)         [(None, 180, 180, 3)]     0         \n",
            "_________________________________________________________________\n",
            "sequential (Sequential)      (None, 180, 180, 3)       0         \n",
            "_________________________________________________________________\n",
            "rescaling_3 (Rescaling)      (None, 180, 180, 3)       0         \n",
            "_________________________________________________________________\n",
            "conv2d_15 (Conv2D)           (None, 178, 178, 32)      896       \n",
            "_________________________________________________________________\n",
            "max_pooling2d_12 (MaxPooling (None, 89, 89, 32)        0         \n",
            "_________________________________________________________________\n",
            "conv2d_16 (Conv2D)           (None, 87, 87, 64)        18496     \n",
            "_________________________________________________________________\n",
            "max_pooling2d_13 (MaxPooling (None, 43, 43, 64)        0         \n",
            "_________________________________________________________________\n",
            "conv2d_17 (Conv2D)           (None, 41, 41, 128)       73856     \n",
            "_________________________________________________________________\n",
            "max_pooling2d_14 (MaxPooling (None, 20, 20, 128)       0         \n",
            "_________________________________________________________________\n",
            "conv2d_18 (Conv2D)           (None, 18, 18, 256)       295168    \n",
            "_________________________________________________________________\n",
            "max_pooling2d_15 (MaxPooling (None, 9, 9, 256)         0         \n",
            "_________________________________________________________________\n",
            "conv2d_19 (Conv2D)           (None, 7, 7, 256)         590080    \n",
            "_________________________________________________________________\n",
            "max_pooling2d_16 (MaxPooling (None, 3, 3, 256)         0         \n",
            "_________________________________________________________________\n",
            "conv2d_20 (Conv2D)           (None, 1, 1, 512)         1180160   \n",
            "_________________________________________________________________\n",
            "flatten_3 (Flatten)          (None, 512)               0         \n",
            "_________________________________________________________________\n",
            "dropout_1 (Dropout)          (None, 512)               0         \n",
            "_________________________________________________________________\n",
            "dense_3 (Dense)              (None, 1)                 513       \n",
            "=================================================================\n",
            "Total params: 2,159,169\n",
            "Trainable params: 2,159,169\n",
            "Non-trainable params: 0\n",
            "_________________________________________________________________\n"
          ]
        }
      ],
      "source": [
        "model.summary()"
      ]
    },
    {
      "cell_type": "markdown",
      "id": "ce5b3ce5-24dd-4cf9-8f2f-9db2b806d369",
      "metadata": {
        "id": "ce5b3ce5-24dd-4cf9-8f2f-9db2b806d369"
      },
      "source": [
        "<font size=\"3\">Training the model 3</font>"
      ]
    },
    {
      "cell_type": "code",
      "execution_count": null,
      "id": "50721354-0c3d-4f47-85cf-65e5a1c3ea29",
      "metadata": {
        "id": "50721354-0c3d-4f47-85cf-65e5a1c3ea29",
        "outputId": "1ab5f215-78c3-40e0-bc90-f746ecaf14ab"
      },
      "outputs": [
        {
          "ename": "NameError",
          "evalue": "name 'model' is not defined",
          "output_type": "error",
          "traceback": [
            "\u001b[0;31m---------------------------------------------------------------------------\u001b[0m",
            "\u001b[0;31mNameError\u001b[0m                                 Traceback (most recent call last)",
            "\u001b[0;32m<ipython-input-1-e7ccd874e4eb>\u001b[0m in \u001b[0;36m<module>\u001b[0;34m\u001b[0m\n\u001b[1;32m      1\u001b[0m \u001b[0;31m# Compiling the Model\u001b[0m\u001b[0;34m\u001b[0m\u001b[0;34m\u001b[0m\u001b[0;34m\u001b[0m\u001b[0m\n\u001b[0;32m----> 2\u001b[0;31m model.compile(loss= \"binary_crossentropy\",\n\u001b[0m\u001b[1;32m      3\u001b[0m               \u001b[0moptimizer\u001b[0m\u001b[0;34m=\u001b[0m \u001b[0;34m\"adam\"\u001b[0m\u001b[0;34m,\u001b[0m\u001b[0;34m\u001b[0m\u001b[0;34m\u001b[0m\u001b[0m\n\u001b[1;32m      4\u001b[0m               metrics= [\"accuracy\"])\n\u001b[1;32m      5\u001b[0m \u001b[0;34m\u001b[0m\u001b[0m\n",
            "\u001b[0;31mNameError\u001b[0m: name 'model' is not defined"
          ]
        }
      ],
      "source": [
        "# Compiling the Model\n",
        "model.compile(loss= \"binary_crossentropy\",\n",
        "              optimizer= \"adam\",\n",
        "              metrics= [\"accuracy\"])\n",
        "\n",
        "\n",
        "# Monitoring the best validation loss using Callbacks\n",
        "callbacks = ModelCheckpoint(\n",
        "            filepath= \"model3.keras\",\n",
        "            save_best_only= True,\n",
        "            monitor= \"val_loss\")\n",
        "\n",
        "\n",
        "# Model Fit\n",
        "Model_3 = model.fit(\n",
        "          train_dataset,\n",
        "          epochs= 30,\n",
        "          validation_data= validation_dataset,\n",
        "          callbacks= callbacks)"
      ]
    },
    {
      "cell_type": "markdown",
      "id": "015fd2bc-f65f-4b45-a103-04b2a33fe2c8",
      "metadata": {
        "id": "015fd2bc-f65f-4b45-a103-04b2a33fe2c8"
      },
      "source": [
        "<font size=\"3\">Visualizing the Training and Validation Accuracy/Loss 2</font>"
      ]
    },
    {
      "cell_type": "code",
      "execution_count": null,
      "id": "3c901f81-6f4c-44ff-a082-5899dfe433d3",
      "metadata": {
        "id": "3c901f81-6f4c-44ff-a082-5899dfe433d3"
      },
      "outputs": [],
      "source": [
        "accuracy = Model_3.history[\"accuracy\"]\n",
        "val_accuracy = Model_3.history[\"val_accuracy\"]\n",
        "\n",
        "loss = Model_3.history[\"loss\"]\n",
        "val_loss = Model_3.history[\"val_loss\"]\n",
        "\n",
        "epochs = range(1, len(accuracy) + 1)\n",
        "plt.plot(epochs, accuracy, color=\"grey\", label=\"Training Accuracy\")\n",
        "plt.plot(epochs, val_accuracy, color=\"blue\", linestyle=\"dashed\", label=\"Validation Accuracy\")\n",
        "plt.title(\"Training and Validation Accuracy\")\n",
        "plt.legend()\n",
        "plt.figure()\n",
        "\n",
        "plt.plot(epochs, loss, color=\"grey\", label=\"Training Loss\")\n",
        "plt.plot(epochs, val_loss, color=\"blue\", linestyle=\"dashed\", label=\"Validation Loss\")\n",
        "plt.title(\"Training and Validation Loss\")\n",
        "plt.legend()\n",
        "plt.show()"
      ]
    },
    {
      "cell_type": "markdown",
      "id": "6845fa71-1c9b-4215-baf0-31596f17b37a",
      "metadata": {
        "id": "6845fa71-1c9b-4215-baf0-31596f17b37a"
      },
      "source": [
        "<font size=\"3\">Evaluating the performance of Model_2 on the test set</font>"
      ]
    },
    {
      "cell_type": "code",
      "execution_count": null,
      "id": "f9ac39df-32a4-48d9-87e4-25bfdcac43fa",
      "metadata": {
        "id": "f9ac39df-32a4-48d9-87e4-25bfdcac43fa"
      },
      "outputs": [],
      "source": [
        "best_model = keras.models.load_model(\"model3.keras\")\n",
        "Model3_Results = best_model.evaluate(test_dataset)\n",
        "print(f'Loss: {Model3_Results[0]:.3f}')\n",
        "print(f'Accuracy: {Model3_Results[1]:.3f}')"
      ]
    },
    {
      "cell_type": "markdown",
      "id": "be03ba86-0efb-4eac-8e32-d6033b081144",
      "metadata": {
        "id": "be03ba86-0efb-4eac-8e32-d6033b081144"
      },
      "source": [
        "<font size=\"3\"><b>Model - 4 MaxPooling Operation with Increase in filters from <u>64 to 1024</u> in <u>5 Input Layers</u> with the use of <u>Augmented Images</u> and <u>Dropout rate of 0.6</u></b> </font>"
      ]
    },
    {
      "cell_type": "code",
      "execution_count": null,
      "id": "219bc09c-22c4-4029-a61c-be40a0d4f9bf",
      "metadata": {
        "id": "219bc09c-22c4-4029-a61c-be40a0d4f9bf"
      },
      "outputs": [],
      "source": [
        "inputs = keras.Input(shape=(180,180,3))\n",
        "x = data_augmentation(inputs)\n",
        "x = layers.Rescaling(1./255)(x)\n",
        "x = layers.Conv2D(filters=64, kernel_size=3, activation=\"relu\")(x)\n",
        "x = layers.MaxPooling2D(pool_size=2)(x)\n",
        "x = layers.Conv2D(filters=128, kernel_size=3, activation=\"relu\")(x)\n",
        "x = layers.MaxPooling2D(pool_size=2)(x)\n",
        "x = layers.Conv2D(filters=256, kernel_size=3, activation=\"relu\")(x)\n",
        "x = layers.MaxPooling2D(pool_size=2)(x)\n",
        "x = layers.Conv2D(filters=512, kernel_size=3, activation=\"relu\")(x)\n",
        "x = layers.MaxPooling2D(pool_size=2)(x)\n",
        "x = layers.Conv2D(filters=1024, kernel_size=3, activation=\"relu\")(x)\n",
        "x = layers.Flatten()(x)\n",
        "x = layers.Dropout(0.6)(x)\n",
        "\n",
        "outputs = layers.Dense(1, activation=\"sigmoid\")(x)\n",
        "\n",
        "model = keras.Model(inputs=inputs, outputs=outputs)"
      ]
    },
    {
      "cell_type": "code",
      "execution_count": null,
      "id": "52039774-5bc3-43d6-827b-967e97a75788",
      "metadata": {
        "id": "52039774-5bc3-43d6-827b-967e97a75788"
      },
      "outputs": [],
      "source": [
        "model.summary()"
      ]
    },
    {
      "cell_type": "code",
      "execution_count": null,
      "id": "2b8c3163-a6e6-4e5b-b83c-0e09a6e4d228",
      "metadata": {
        "id": "2b8c3163-a6e6-4e5b-b83c-0e09a6e4d228"
      },
      "outputs": [],
      "source": [
        "# Compiling the Model\n",
        "model.compile(loss= \"binary_crossentropy\",\n",
        "              optimizer= \"adam\",\n",
        "              metrics= ['accuracy'])\n",
        "\n",
        "\n",
        "# Monitoring the best validation loss using Callbacks\n",
        "callbacks = ModelCheckpoint(\n",
        "            filepath = \"model4.keras\",\n",
        "            save_best_only= True,\n",
        "            monitor= \"val_loss\"\n",
        "            )\n",
        "\n",
        "# Model Fit\n",
        "Model_4 = model.fit(\n",
        "          train_dataset,\n",
        "          epochs= 30,\n",
        "          validation_data= validation_dataset,\n",
        "          callbacks= callbacks\n",
        "          )"
      ]
    },
    {
      "cell_type": "markdown",
      "id": "ec922d77-0656-4c63-989d-41ce48b32305",
      "metadata": {
        "id": "ec922d77-0656-4c63-989d-41ce48b32305"
      },
      "source": [
        "<font size=\"3\">Visualizing the Training and Validation Accuracy/Loss 2</font>"
      ]
    },
    {
      "cell_type": "code",
      "execution_count": null,
      "id": "76fe8fb9-ec30-4b66-8b3e-eb99b521dd16",
      "metadata": {
        "id": "76fe8fb9-ec30-4b66-8b3e-eb99b521dd16"
      },
      "outputs": [],
      "source": [
        "accuracy = Model_4.history[\"accuracy\"]\n",
        "val_accuracy = Model_4.history[\"val_accuracy\"]\n",
        "\n",
        "loss = Model_4.history[\"loss\"]\n",
        "val_loss = Model_4.history[\"val_loss\"]\n",
        "\n",
        "epochs = range(1, len(accuracy) + 1)\n",
        "plt.plot(epochs, accuracy, color=\"grey\", label=\"Training Accuracy\")\n",
        "plt.plot(epochs, val_accuracy, color=\"blue\", linestyle=\"dashed\", label=\"Validation Accuracy\")\n",
        "plt.title(\"Training and Validation Accuracy\")\n",
        "plt.legend()\n",
        "plt.figure()\n",
        "\n",
        "plt.plot(epochs, loss, color=\"grey\", label=\"Training Loss\")\n",
        "plt.plot(epochs, val_loss, color=\"blue\", linestyle=\"dashed\", label=\"Validation Loss\")\n",
        "plt.title(\"Training and Validation Loss\")\n",
        "plt.legend()\n",
        "plt.show()"
      ]
    },
    {
      "cell_type": "code",
      "execution_count": null,
      "id": "218c8c1e-a0a8-477e-8ef4-eba14c4b8b6f",
      "metadata": {
        "id": "218c8c1e-a0a8-477e-8ef4-eba14c4b8b6f"
      },
      "outputs": [],
      "source": [
        "<font size=\"3\">Evaluating the performance of Model_2 on the test set</font>"
      ]
    },
    {
      "cell_type": "code",
      "execution_count": null,
      "id": "aea42dd1-f108-4229-9d95-d5c2d5fad039",
      "metadata": {
        "id": "aea42dd1-f108-4229-9d95-d5c2d5fad039"
      },
      "outputs": [],
      "source": [
        "best_model = keras.models.load_model(\"model4.keras\")\n",
        "Model4_Results = best_model.evaluate(test_dataset)\n",
        "print(f'Loss: {Model4_Results[0]:.3f}')\n",
        "print(f'Accuracy: {Model4_Results[1]:.3f}')"
      ]
    },
    {
      "cell_type": "markdown",
      "id": "ee1af6fc-420f-4cc4-bebd-3bdba3b47d11",
      "metadata": {
        "id": "ee1af6fc-420f-4cc4-bebd-3bdba3b47d11"
      },
      "source": [
        "<font size=\"3\"><b>Summary for Question 1</b>: We did try to build 4 models with the training sample being 1000. Now lets compare the loss and Accuracy of all the 4 models to see which model gives better result</font>\n",
        "\n",
        "<font size=\"3\"><b>Model 1:</b> filters from 32 to 256, 5 Input Layers</font>\n",
        "\n",
        "<font size=\"3\"><b>Model 2:</b> filters from 32 to 256, 5 Input Layers, Augmented Images and Droput rate of 0.5</font>\n",
        "\n",
        "<font size=\"3\"><b>Model 3:</b> filters from 32 to 512, 6 Input Layers, Augmented Images and Dropout rate of 0.5</font>\n",
        "\n",
        "<font size=\"3\"><b>Model 4:</b> filters from 64 to 1024, 5 Input Layers, Augmented Images and Dropout rate of 0.6 </font>"
      ]
    },
    {
      "cell_type": "code",
      "execution_count": null,
      "id": "87a02d58-d54f-4f28-ae8d-59feac96f03e",
      "metadata": {
        "id": "87a02d58-d54f-4f28-ae8d-59feac96f03e"
      },
      "outputs": [],
      "source": [
        "Model_1 = (0.645, 0.614)\n",
        "Model_2 = (0.601, 0.712)\n",
        "Model_3 = (0.609,0.692)\n",
        "Model_4 = (0.666, 0.652)"
      ]
    },
    {
      "cell_type": "code",
      "execution_count": null,
      "id": "1a4ae91b-08e1-40f8-8f9c-5d60b01cce42",
      "metadata": {
        "id": "1a4ae91b-08e1-40f8-8f9c-5d60b01cce42"
      },
      "outputs": [],
      "source": [
        "Models = (\"Mod_1\",\"Mod_2\",\"Mod_3\",\"Mod_4\")\n",
        "Loss = (Model_1[0],Model_2[0],Model_3[0],Model_4[0])\n",
        "Accuracy = (Model_1[1],Model_2[1],Model_3[1],Model_4[1])"
      ]
    },
    {
      "cell_type": "code",
      "execution_count": null,
      "id": "4b900fad-24d5-4e83-aded-c8c43fd92e18",
      "metadata": {
        "id": "4b900fad-24d5-4e83-aded-c8c43fd92e18"
      },
      "outputs": [],
      "source": [
        "fig, ax = plt.subplots()\n",
        "ax.scatter(Loss,Accuracy)\n",
        "for i, txt in enumerate(Models):\n",
        "    ax.annotate(txt, (Loss[i],Accuracy[i] ))\n",
        "plt.title(\"Summary for Accuracy and Loss\")\n",
        "plt.ylabel(\"Accuracy\")\n",
        "plt.xlabel(\"Loss\")\n",
        "\n",
        "plt.show()"
      ]
    },
    {
      "cell_type": "markdown",
      "id": "f03a8ab3-fee9-4afb-8f48-d8d7810a6b73",
      "metadata": {
        "id": "f03a8ab3-fee9-4afb-8f48-d8d7810a6b73"
      },
      "source": [
        "<font size=\"3\"><b> Conclusions:</b> From the above graph we can conclude that model 2 is the best amoung all with higher accuracy and minimum loss, however model model 4 has the highest loss </font>\n",
        "\n",
        "<font size=\"3\"><b> Recommendation:</b> As we can see model 2 is performing best amoung all 4 models hence we should choose model with filters from 32 to 256, 5 Input Layers, Augmented Images and Droput rate of 0.5  </font>"
      ]
    },
    {
      "cell_type": "markdown",
      "id": "b33849f6-3ca8-4085-8f47-e52fddc21f50",
      "metadata": {
        "id": "b33849f6-3ca8-4085-8f47-e52fddc21f50"
      },
      "source": [
        "*<font size=\"4.5\"><b> 2. Increase your training sample size. You may pick any amount. Keep the validation and test samples the same as above. Optimize your network (again training from scratch).What performance did you achieve? </b></font>*"
      ]
    },
    {
      "cell_type": "markdown",
      "id": "1ab74121-d2e6-4273-a875-72bb786e4c77",
      "metadata": {
        "id": "1ab74121-d2e6-4273-a875-72bb786e4c77"
      },
      "source": [
        "<font size=\"3\"><b>Considering Training Sample - 2000 </b></font>"
      ]
    },
    {
      "cell_type": "code",
      "execution_count": null,
      "id": "c80cd170-ddb0-46b0-8502-6f4f99590ae8",
      "metadata": {
        "id": "c80cd170-ddb0-46b0-8502-6f4f99590ae8"
      },
      "outputs": [],
      "source": [
        "#Define the existing directories\n",
        "original_dir_path = \"/users/PGS0322/nchauras/AML_Data/train\"\n",
        "base_dir_path = \"/users/PGS0322/nchauras/AML_Data/Data_Distribution\"\n",
        "\n",
        "#Convert the directory paths to pathlib.Path objects\n",
        "original_dir = pathlib.Path(original_dir_path)\n",
        "new_base_dir = pathlib.Path(base_dir_path)\n",
        "\n",
        "def make_subset(subset_name, start_index, end_index):\n",
        "    for category in (\"cat\", \"dog\"):\n",
        "        dir = new_base_dir / subset_name / category\n",
        "        os.makedirs(dir, exist_ok=True)  # Add the exist_ok parameter\n",
        "        fnames = [f\"{category}.{i}.jpg\" for i in range(start_index, end_index)]\n",
        "        for fname in fnames:\n",
        "            src_file = original_dir / fname\n",
        "            if src_file.is_file():\n",
        "                shutil.copyfile(src=src_file, dst=dir / fname)\n",
        "            else:\n",
        "                print(f\"File {fname} does not exist in the original directory.\")\n",
        "\n",
        "make_subset(\"train\", start_index=0, end_index=1000)\n",
        "make_subset(\"validation\", start_index=1000, end_index=1250)\n",
        "make_subset(\"test\", start_index=1500, end_index=1750)"
      ]
    },
    {
      "cell_type": "code",
      "execution_count": null,
      "id": "13d2ae00-c8e2-485e-82d1-dbb06c4551b3",
      "metadata": {
        "id": "13d2ae00-c8e2-485e-82d1-dbb06c4551b3"
      },
      "outputs": [],
      "source": [
        "<font size=\"3\"><b>Data Pre-Processing: </b> Using image_dataset_from_directory to read images</font>"
      ]
    },
    {
      "cell_type": "code",
      "execution_count": null,
      "id": "1f549ce8-8782-468a-8271-c936cd9b8791",
      "metadata": {
        "id": "1f549ce8-8782-468a-8271-c936cd9b8791"
      },
      "outputs": [],
      "source": [
        "train_dataset = image_dataset_from_directory(\n",
        "    new_base_dir / \"train\",\n",
        "    image_size=(180, 180),\n",
        "    batch_size=32)\n",
        "validation_dataset = image_dataset_from_directory(\n",
        "    new_base_dir / \"validation\",\n",
        "    image_size=(180, 180),\n",
        "    batch_size=32)\n",
        "test_dataset = image_dataset_from_directory(\n",
        "    new_base_dir / \"test\",\n",
        "    image_size=(180, 180),\n",
        "    batch_size=32)"
      ]
    },
    {
      "cell_type": "markdown",
      "id": "1ba1e0d6-5a1f-4a01-b9b8-030e27801403",
      "metadata": {
        "id": "1ba1e0d6-5a1f-4a01-b9b8-030e27801403"
      },
      "source": [
        "<font size=\"3\">Viewing the size of the images</font>"
      ]
    },
    {
      "cell_type": "code",
      "execution_count": null,
      "id": "84b4af58-a012-41d2-8a0f-7ef33a73b888",
      "metadata": {
        "id": "84b4af58-a012-41d2-8a0f-7ef33a73b888"
      },
      "outputs": [],
      "source": [
        "for data_batch, labels_batch in train_dataset:\n",
        "    print(\"data batch shape:\", data_batch.shape)\n",
        "    print(\"labels batch shape:\", labels_batch.shape)\n",
        "    break"
      ]
    },
    {
      "cell_type": "markdown",
      "id": "f1f4a062-d84a-43ab-bb61-2db2582a7355",
      "metadata": {
        "id": "f1f4a062-d84a-43ab-bb61-2db2582a7355"
      },
      "source": [
        "<font size=\"3\"><font size=\"3\">Viewing the size of the images</font></font>"
      ]
    },
    {
      "cell_type": "code",
      "execution_count": null,
      "id": "79986ce5-4228-438f-8366-ec57ad5b35ce",
      "metadata": {
        "id": "79986ce5-4228-438f-8366-ec57ad5b35ce"
      },
      "outputs": [],
      "source": [
        "data_augmentation_1 = keras.Sequential(\n",
        "    [\n",
        "        layers.RandomFlip(\"horizontal\"),\n",
        "        layers.RandomRotation(0.15),\n",
        "        layers.RandomZoom(0.25)\n",
        "    ]\n",
        ")"
      ]
    },
    {
      "cell_type": "markdown",
      "id": "dcb3252e-0142-492a-a9a5-3ae8d7c095d1",
      "metadata": {
        "id": "dcb3252e-0142-492a-a9a5-3ae8d7c095d1"
      },
      "source": [
        "<font size=\"3\"><b>Model - 5 MaxPooling Operation with Increase in filters from 32 to 256 in 5 Input Layers with the data being used from the Augmented Images and a droput rate of 0.5 <u>(Training Sample - 2000)</u></b> </font>"
      ]
    },
    {
      "cell_type": "code",
      "execution_count": null,
      "id": "761fb234-2805-4c72-ad3b-c5ced1231a14",
      "metadata": {
        "id": "761fb234-2805-4c72-ad3b-c5ced1231a14"
      },
      "outputs": [],
      "source": [
        "inputs = keras.Input(shape=(180, 180, 3))\n",
        "x = data_augmentation_1(inputs)\n",
        "x = layers.Rescaling(1./255)(x)\n",
        "x = layers.Conv2D(filters=32, kernel_size=3, activation=\"relu\")(x)\n",
        "x = layers.MaxPooling2D(pool_size=2)(x)\n",
        "x = layers.Conv2D(filters=64, kernel_size=3, activation=\"relu\")(x)\n",
        "x = layers.MaxPooling2D(pool_size=2)(x)\n",
        "x = layers.Conv2D(filters=128, kernel_size=3, activation=\"relu\")(x)\n",
        "x = layers.MaxPooling2D(pool_size=2)(x)\n",
        "x = layers.Conv2D(filters=256, kernel_size=3, activation=\"relu\")(x)\n",
        "x = layers.MaxPooling2D(pool_size=2)(x)\n",
        "x = layers.Conv2D(filters=256, kernel_size=3, activation=\"relu\")(x)\n",
        "x = layers.Flatten()(x)\n",
        "x = layers.Dropout(0.5)(x)\n",
        "outputs = layers.Dense(1, activation=\"sigmoid\")(x)\n",
        "\n",
        "model = keras.Model(inputs=inputs, outputs=outputs)"
      ]
    },
    {
      "cell_type": "code",
      "execution_count": null,
      "id": "b6dce701-97a0-416f-9ea8-c23b7dded04d",
      "metadata": {
        "id": "b6dce701-97a0-416f-9ea8-c23b7dded04d"
      },
      "outputs": [],
      "source": [
        "model.summary()"
      ]
    },
    {
      "cell_type": "markdown",
      "id": "a400bf29-bcc8-403d-8f9b-ab6084267eae",
      "metadata": {
        "id": "a400bf29-bcc8-403d-8f9b-ab6084267eae"
      },
      "source": [
        "<font size=\"3\">Training the model 5</font>"
      ]
    },
    {
      "cell_type": "code",
      "execution_count": null,
      "id": "9dc29d7f-7471-4892-8d6e-6205e52f26bb",
      "metadata": {
        "id": "9dc29d7f-7471-4892-8d6e-6205e52f26bb"
      },
      "outputs": [],
      "source": [
        "\n",
        "# Compiling the Model\n",
        "model.compile(loss= \"binary_crossentropy\",\n",
        "              optimizer= \"adam\",\n",
        "              metrics= ['accuracy'])\n",
        "\n",
        "\n",
        "# Monitoring the best validation loss using Callbacks\n",
        "callbacks = ModelCheckpoint(\n",
        "            filepath = \"model5.keras\",\n",
        "            save_best_only= True,\n",
        "            monitor= \"val_loss\"\n",
        "            )\n",
        "\n",
        "# Model Fit\n",
        "Model_5 = model.fit(\n",
        "          train_dataset,\n",
        "          epochs= 50,\n",
        "          validation_data= validation_dataset,\n",
        "          callbacks= callbacks\n",
        "          )"
      ]
    },
    {
      "cell_type": "markdown",
      "id": "66acdb84-c5c4-4e7f-b134-6f7e10d8de10",
      "metadata": {
        "id": "66acdb84-c5c4-4e7f-b134-6f7e10d8de10"
      },
      "source": [
        "<font size=\"3\">Visualizing the Training and Validation Accuracy/Loss 2</font>"
      ]
    },
    {
      "cell_type": "code",
      "execution_count": null,
      "id": "810cda73-b4ad-4f51-8de2-6b1b7f4aa5d3",
      "metadata": {
        "id": "810cda73-b4ad-4f51-8de2-6b1b7f4aa5d3"
      },
      "outputs": [],
      "source": [
        "accuracy = Model_5.history[\"accuracy\"]\n",
        "val_accuracy = Model_5.history[\"val_accuracy\"]\n",
        "\n",
        "loss = Model_5.history[\"loss\"]\n",
        "val_loss = Model_5.history[\"val_loss\"]\n",
        "\n",
        "epochs = range(1, len(accuracy) + 1)\n",
        "plt.plot(epochs, accuracy, color=\"grey\", label=\"Training Accuracy\")\n",
        "plt.plot(epochs, val_accuracy, color=\"blue\", linestyle=\"dashed\", label=\"Validation Accuracy\")\n",
        "plt.title(\"Training and Validation Accuracy\")\n",
        "plt.legend()\n",
        "plt.figure()\n",
        "\n",
        "plt.plot(epochs, loss, color=\"grey\", label=\"Training Loss\")\n",
        "plt.plot(epochs, val_loss, color=\"blue\", linestyle=\"dashed\", label=\"Validation Loss\")\n",
        "plt.title(\"Training and Validation Loss\")\n",
        "plt.legend()\n",
        "plt.show()"
      ]
    },
    {
      "cell_type": "markdown",
      "id": "470e21f4-9eed-4f00-8662-b10cbb72775c",
      "metadata": {
        "id": "470e21f4-9eed-4f00-8662-b10cbb72775c"
      },
      "source": [
        "<font size=\"3\">Evaluating the performance of Model_5 on test set</font>"
      ]
    },
    {
      "cell_type": "code",
      "execution_count": null,
      "id": "cba48ded-f3c3-468f-ad27-618c762a4928",
      "metadata": {
        "id": "cba48ded-f3c3-468f-ad27-618c762a4928"
      },
      "outputs": [],
      "source": [
        "best_model = keras.models.load_model(\"model5.keras\")\n",
        "Model5_Results = best_model.evaluate(test_dataset)\n",
        "print(f'Loss: {Model5_Results[0]:.3f}')\n",
        "print(f'Accuracy: {Model5_Results[1]:.3f}')"
      ]
    },
    {
      "cell_type": "markdown",
      "id": "d27d06c0-87fd-49c6-914f-c0db970562d9",
      "metadata": {
        "id": "d27d06c0-87fd-49c6-914f-c0db970562d9"
      },
      "source": [
        "<font size=\"3\"> <b>Summary :</b> The second model built just with 1000 training samples resulted in 71% accuracy whereas the same model with an further increase in training samples to 2000 spiked the accuracy to 86% i.e. 15% increase in the accuracy.</font>"
      ]
    },
    {
      "cell_type": "markdown",
      "id": "1f500991-1893-4ceb-8843-279003ed1bb5",
      "metadata": {
        "id": "1f500991-1893-4ceb-8843-279003ed1bb5"
      },
      "source": [
        "<font size=\"3\"><b>Model - 6 Strides Operation with <u>Padding being \"Same\"</u> with Increase in filters from 32 to 256 in 5 Input Layers with the data being used from the Augmented Images and a droput rate of 0.5 <u>(Training Sample - 2000)</u></b> </font>"
      ]
    },
    {
      "cell_type": "code",
      "execution_count": null,
      "id": "8e1ce6a2-4e86-431d-931a-2567d71dae98",
      "metadata": {
        "id": "8e1ce6a2-4e86-431d-931a-2567d71dae98"
      },
      "outputs": [],
      "source": [
        "inputs = keras.Input(shape=(180, 180, 3))\n",
        "x = data_augmentation_1(inputs)\n",
        "x = layers.Rescaling(1./255)(x)\n",
        "x = layers.Conv2D(filters=32, kernel_size=3, strides=2, activation=\"relu\", padding=\"same\")(x)\n",
        "x = layers.Conv2D(filters=64, kernel_size=3, strides=2, activation=\"relu\", padding=\"same\")(x)\n",
        "x = layers.Conv2D(filters=128, kernel_size=3, strides=2, activation=\"relu\", padding=\"same\")(x)\n",
        "x = layers.Conv2D(filters=256, kernel_size=3, strides=2, activation=\"relu\", padding=\"same\")(x)\n",
        "x = layers.Conv2D(filters=256, kernel_size=3, strides=2, activation=\"relu\", padding=\"same\")(x)\n",
        "x = layers.Flatten()(x)\n",
        "x = layers.Dropout(0.5)(x)\n",
        "outputs = layers.Dense(1, activation=\"sigmoid\")(x)\n",
        "\n",
        "model = keras.Model(inputs=inputs, outputs=outputs)"
      ]
    },
    {
      "cell_type": "code",
      "execution_count": null,
      "id": "1dae3036-1adc-40e1-b848-205edd32c834",
      "metadata": {
        "id": "1dae3036-1adc-40e1-b848-205edd32c834"
      },
      "outputs": [],
      "source": [
        "model.summary()"
      ]
    },
    {
      "cell_type": "markdown",
      "id": "29dec7ea-33d3-48ad-8019-18948bd23680",
      "metadata": {
        "id": "29dec7ea-33d3-48ad-8019-18948bd23680"
      },
      "source": [
        "<font size=\"3\">Training the model 6</font>"
      ]
    },
    {
      "cell_type": "code",
      "execution_count": null,
      "id": "01c859f9-71e4-498e-b2a8-7ee2832d0c08",
      "metadata": {
        "id": "01c859f9-71e4-498e-b2a8-7ee2832d0c08"
      },
      "outputs": [],
      "source": [
        "# Compiling the Model\n",
        "model.compile(loss= \"binary_crossentropy\",\n",
        "              optimizer= \"adam\",\n",
        "              metrics= ['accuracy'])\n",
        "\n",
        "\n",
        "# Monitoring the best validation loss using Callbacks\n",
        "callbacks = ModelCheckpoint(\n",
        "            filepath = \"model6.keras\",\n",
        "            save_best_only= True,\n",
        "            monitor= \"val_loss\"\n",
        "            )\n",
        "\n",
        "# Model Fit\n",
        "Model_6 = model.fit(\n",
        "          train_dataset,\n",
        "          epochs= 50,\n",
        "          validation_data= validation_dataset,\n",
        "          callbacks= callbacks\n",
        "          )"
      ]
    },
    {
      "cell_type": "markdown",
      "id": "c3ee3480-72bd-4e78-9fa0-8657e79469ea",
      "metadata": {
        "id": "c3ee3480-72bd-4e78-9fa0-8657e79469ea"
      },
      "source": [
        "<font size=\"3\">Visualizing the Training and Validation Accuracy/Loss</font>"
      ]
    },
    {
      "cell_type": "code",
      "execution_count": null,
      "id": "0475d909-8885-4c83-bbcf-356826ce5596",
      "metadata": {
        "id": "0475d909-8885-4c83-bbcf-356826ce5596"
      },
      "outputs": [],
      "source": [
        "accuracy = Model_6.history[\"accuracy\"]\n",
        "val_accuracy = Model_6.history[\"val_accuracy\"]\n",
        "\n",
        "loss = Model_6.history[\"loss\"]\n",
        "val_loss = Model_6.history[\"val_loss\"]\n",
        "\n",
        "epochs = range(1, len(accuracy) + 1)\n",
        "plt.plot(epochs, accuracy, color=\"grey\", label=\"Training Accuracy\")\n",
        "plt.plot(epochs, val_accuracy, color=\"blue\", linestyle=\"dashed\", label=\"Validation Accuracy\")\n",
        "plt.title(\"Training and Validation Accuracy\")\n",
        "plt.legend()\n",
        "plt.figure()\n",
        "\n",
        "plt.plot(epochs, loss, color=\"grey\", label=\"Training Loss\")\n",
        "plt.plot(epochs, val_loss, color=\"blue\", linestyle=\"dashed\", label=\"Validation Loss\")\n",
        "plt.title(\"Training and Validation Loss\")\n",
        "plt.legend()\n",
        "plt.show()"
      ]
    },
    {
      "cell_type": "markdown",
      "id": "7cd0e090-e6fb-48da-8a9c-635bc4d48bc3",
      "metadata": {
        "id": "7cd0e090-e6fb-48da-8a9c-635bc4d48bc3"
      },
      "source": [
        "<font size=\"3\">Evaluating the performance of Model_6 on test set</font>"
      ]
    },
    {
      "cell_type": "code",
      "execution_count": null,
      "id": "0555e8ab-0188-44c9-9f22-a88642ee18bd",
      "metadata": {
        "id": "0555e8ab-0188-44c9-9f22-a88642ee18bd"
      },
      "outputs": [],
      "source": [
        "best_model = keras.models.load_model(\"model6.keras\")\n",
        "Model6_Results = best_model.evaluate(test_dataset)\n",
        "print(f'Loss: {Model6_Results[0]:.3f}')\n",
        "print(f'Accuracy: {Model6_Results[1]:.3f}')"
      ]
    },
    {
      "cell_type": "markdown",
      "id": "205f94eb-04f2-4b82-8567-44888e99286a",
      "metadata": {
        "id": "205f94eb-04f2-4b82-8567-44888e99286a"
      },
      "source": [
        "<font size=\"3\"><b>Summary for Question 2</b>: We did try to build 2 more models with training sample being 2000. Now lets compare the loss and Accuracy of 3 models to see which model gives better result</font>\n",
        "\n",
        "<font size=\"3\"><b>Model 2:</b> filters from 32 to 256, 5 Input Layers, Augmented Images and Droput rate of 0.5, training size 1000</font>\n",
        "\n",
        "<font size=\"3\"><b>Model 5:</b> filters from 32 to 256, 5 Input Layers, Augmented Images and Droput rate of 0.5, <u>training size 2000</u></font>\n",
        "\n",
        "<font size=\"3\"><b>Model 6:</b> filters from 32 to 256, 5 Input Layers, Augmented Images and Droput rate of 0.5, <u>training size 2000</u>, <u>Padding being same</u> </font>"
      ]
    },
    {
      "cell_type": "code",
      "execution_count": null,
      "id": "c6c07f91-1278-4357-91d5-872ec8a66b8e",
      "metadata": {
        "id": "c6c07f91-1278-4357-91d5-872ec8a66b8e"
      },
      "outputs": [],
      "source": [
        "Model_5 = (0.445,0.860)\n",
        "Model_6 = (0.608,0.650)"
      ]
    },
    {
      "cell_type": "code",
      "execution_count": null,
      "id": "ab7ec39d-c2e3-4429-839c-b95d14fa41f8",
      "metadata": {
        "id": "ab7ec39d-c2e3-4429-839c-b95d14fa41f8"
      },
      "outputs": [],
      "source": [
        "Models_2 = (\"Mod_2\",\"Mod_5\",\"Mod_6\")\n",
        "Loss_2 = (Model_2[0],Model_5[0],Model_6[0])\n",
        "Accuracy_2 = (Model_2[1],Model_5[1],Model_6[1])"
      ]
    },
    {
      "cell_type": "code",
      "execution_count": null,
      "id": "072eaf0e-e88b-4dbd-bd51-1d64dd858a64",
      "metadata": {
        "id": "072eaf0e-e88b-4dbd-bd51-1d64dd858a64"
      },
      "outputs": [],
      "source": [
        "fig, ax = plt.subplots()\n",
        "ax.scatter(Loss_2,Accuracy_2)\n",
        "for i, txt in enumerate(Models_2):\n",
        "    ax.annotate(txt, (Loss_2[i],Accuracy_2[i] ))\n",
        "plt.title(\"Summary for Accuracy and Loss\")\n",
        "plt.ylabel(\"Accuracy\")\n",
        "plt.xlabel(\"Loss\")\n",
        "\n",
        "plt.show()"
      ]
    },
    {
      "cell_type": "markdown",
      "id": "ea520c08-d615-41cf-a3cc-2142fbe0dbd3",
      "metadata": {
        "id": "ea520c08-d615-41cf-a3cc-2142fbe0dbd3"
      },
      "source": [
        "*Using Strides with Padding turned on didn't provide much of a benefit to the model, here we can see that the accuracy decreased by 21% when compared to Model 5 which was built using the Max Pooling Layer.\n",
        "\n",
        "*By optimizing the network and increasing the training sample from 1000 to 2000 we saw an increase in accuracy to 86%.\n",
        "\n",
        "*To answer the second question we let's plot Model 5 and Model 6 to see which model is the best.\n",
        "\n",
        "*We can clearly understand from the above graphs that Model_5 is having highest accuracy amongst the models built so far i.e 86% and the least loss of 44.5%. Increasing the training sample to 2000 and providing different augmented images proved to be useful in increasing the performance of the model.*"
      ]
    },
    {
      "cell_type": "markdown",
      "id": "8b847194-75eb-48e2-a0ca-8f1590fc4c93",
      "metadata": {
        "id": "8b847194-75eb-48e2-a0ca-8f1590fc4c93"
      },
      "source": [
        "*<font size=\"4.5\"><b> 3. Now change your training sample so that you achieve better performance than those from Steps 1 and 2. This sample size may be larger, or smaller than those in the previous steps. The objective is to find the ideal training sample size to get best prediction results </b></font>*"
      ]
    },
    {
      "cell_type": "markdown",
      "id": "49c0c121-16f5-46ed-af38-5a0a2706453b",
      "metadata": {
        "id": "49c0c121-16f5-46ed-af38-5a0a2706453b"
      },
      "source": [
        "<font size=\"3\"> As we saw in above graph that with the increase in training sample size the Accuracy is also increasing hence will <b>increase the sample size to 3000 and 5000</u> for better performance </font>"
      ]
    },
    {
      "cell_type": "markdown",
      "id": "99df51ce-e03c-47dc-bda5-d90da811bda6",
      "metadata": {
        "id": "99df51ce-e03c-47dc-bda5-d90da811bda6"
      },
      "source": [
        "<font size=\"3\"><b> Training Sample 3000</b> </font>"
      ]
    },
    {
      "cell_type": "code",
      "execution_count": null,
      "id": "bb9cba65-0853-4c9e-a9dd-4381c1a233d9",
      "metadata": {
        "id": "bb9cba65-0853-4c9e-a9dd-4381c1a233d9"
      },
      "outputs": [],
      "source": [
        "#Define the existing directories\n",
        "original_dir_path = \"/users/PGS0322/nchauras/AML_Data/train\"\n",
        "base_dir_path = \"/users/PGS0322/nchauras/AML_Data/Data_Distribution\"\n",
        "\n",
        "#Convert the directory paths to pathlib.Path objects\n",
        "original_dir = pathlib.Path(original_dir_path)\n",
        "new_base_dir = pathlib.Path(base_dir_path)\n",
        "\n",
        "def make_subset(subset_name, start_index, end_index):\n",
        "    for category in (\"cat\", \"dog\"):\n",
        "        dir = new_base_dir / subset_name / category\n",
        "        os.makedirs(dir, exist_ok=True)  # Add the exist_ok parameter\n",
        "        fnames = [f\"{category}.{i}.jpg\" for i in range(start_index, end_index)]\n",
        "        for fname in fnames:\n",
        "            src_file = original_dir / fname\n",
        "            if src_file.is_file():\n",
        "                shutil.copyfile(src=src_file, dst=dir / fname)\n",
        "            else:\n",
        "                print(f\"File {fname} does not exist in the original directory.\")\n",
        "\n",
        "make_subset(\"train\", start_index=0, end_index=1500)\n",
        "make_subset(\"validation\", start_index=1000, end_index=1250)\n",
        "make_subset(\"test\", start_index=1500, end_index=1750)"
      ]
    },
    {
      "cell_type": "code",
      "execution_count": null,
      "id": "7a5f826b-232e-4785-a434-44cae84da612",
      "metadata": {
        "id": "7a5f826b-232e-4785-a434-44cae84da612"
      },
      "outputs": [],
      "source": [
        "train_dataset = image_dataset_from_directory(\n",
        "    new_base_dir / \"train\",\n",
        "    image_size=(180, 180),\n",
        "    batch_size=32)\n",
        "validation_dataset = image_dataset_from_directory(\n",
        "    new_base_dir / \"validation\",\n",
        "    image_size=(180, 180),\n",
        "    batch_size=32)\n",
        "test_dataset = image_dataset_from_directory(\n",
        "    new_base_dir / \"test\",\n",
        "    image_size=(180, 180),\n",
        "    batch_size=32)"
      ]
    },
    {
      "cell_type": "code",
      "execution_count": null,
      "id": "aa772bff-f13d-4c58-a0e3-b1bdaec60ba5",
      "metadata": {
        "id": "aa772bff-f13d-4c58-a0e3-b1bdaec60ba5"
      },
      "outputs": [],
      "source": [
        "for data_batch, labels_batch in train_dataset:\n",
        "    print(\"data batch shape:\", data_batch.shape)\n",
        "    print(\"labels batch shape:\", labels_batch.shape)\n",
        "    break"
      ]
    },
    {
      "cell_type": "markdown",
      "id": "401f297f-5ef9-41ba-b31e-46a3d963e283",
      "metadata": {
        "id": "401f297f-5ef9-41ba-b31e-46a3d963e283"
      },
      "source": [
        "<font size=\"3\"> Using few of the techniques such as random flip, random zoom, random rotation so as to create augmented versions of the image</font>"
      ]
    },
    {
      "cell_type": "code",
      "execution_count": null,
      "id": "1c39ccb7-fc67-4b93-9f8b-24296c9cea71",
      "metadata": {
        "id": "1c39ccb7-fc67-4b93-9f8b-24296c9cea71"
      },
      "outputs": [],
      "source": [
        "data_augmentation_2 = keras.Sequential(\n",
        "    [\n",
        "        layers.RandomFlip(\"horizontal\"),\n",
        "        layers.RandomRotation(0.15),\n",
        "        layers.RandomZoom(0.25)\n",
        "    ]\n",
        ")\n"
      ]
    },
    {
      "cell_type": "markdown",
      "id": "0aaa7708-53da-4431-88d2-62e5de957b89",
      "metadata": {
        "id": "0aaa7708-53da-4431-88d2-62e5de957b89"
      },
      "source": [
        "<font size=\"3\"><b>Model - 7 <u>MaxPooling Operation</u> with Increase in filters from 32 to 256 in 5 Input Layers with the data being used from the Augmented Images and a droput rate of 0.5 <u>(Training Sample - 3000)</u></b> </font>"
      ]
    },
    {
      "cell_type": "code",
      "execution_count": null,
      "id": "38fdcd03-910b-4c83-85b4-f35f67ef7c31",
      "metadata": {
        "id": "38fdcd03-910b-4c83-85b4-f35f67ef7c31"
      },
      "outputs": [],
      "source": [
        "inputs = keras.Input(shape=(180, 180, 3))\n",
        "x = data_augmentation_2(inputs)\n",
        "x = layers.Rescaling(1./255)(x)\n",
        "x = layers.Conv2D(filters=32, kernel_size=3, activation=\"relu\")(x)\n",
        "x = layers.MaxPooling2D(pool_size=2)(x)\n",
        "x = layers.Conv2D(filters=64, kernel_size=3, activation=\"relu\")(x)\n",
        "x = layers.MaxPooling2D(pool_size=2)(x)\n",
        "x = layers.Conv2D(filters=128, kernel_size=3, activation=\"relu\")(x)\n",
        "x = layers.MaxPooling2D(pool_size=2)(x)\n",
        "x = layers.Conv2D(filters=256, kernel_size=3, activation=\"relu\")(x)\n",
        "x = layers.MaxPooling2D(pool_size=2)(x)\n",
        "x = layers.Conv2D(filters=256, kernel_size=3, activation=\"relu\")(x)\n",
        "x = layers.Flatten()(x)\n",
        "x = layers.Dropout(0.5)(x)\n",
        "outputs = layers.Dense(1, activation=\"sigmoid\")(x)\n",
        "\n",
        "model = keras.Model(inputs=inputs, outputs=outputs)"
      ]
    },
    {
      "cell_type": "code",
      "execution_count": null,
      "id": "45768196-5dfd-490a-9e8c-663c6de1c15d",
      "metadata": {
        "id": "45768196-5dfd-490a-9e8c-663c6de1c15d"
      },
      "outputs": [],
      "source": [
        "model.summary()"
      ]
    },
    {
      "cell_type": "code",
      "execution_count": null,
      "id": "c86ae372-7093-4673-be09-b2b54986b3c4",
      "metadata": {
        "id": "c86ae372-7093-4673-be09-b2b54986b3c4"
      },
      "outputs": [],
      "source": [
        "# Compiling the Model\n",
        "model.compile(loss= \"binary_crossentropy\",\n",
        "              optimizer= \"adam\",\n",
        "              metrics= ['accuracy'])\n",
        "\n",
        "\n",
        "# Monitoring the best validation loss using Callbacks\n",
        "callbacks = ModelCheckpoint(\n",
        "            filepath = \"model7.keras\",\n",
        "            save_best_only= True,\n",
        "            monitor= \"val_loss\"\n",
        "            )\n",
        "\n",
        "# Model Fit\n",
        "Model_7 = model.fit(\n",
        "          train_dataset,\n",
        "          epochs= 50,\n",
        "          validation_data= validation_dataset,\n",
        "          callbacks= callbacks\n",
        "          )"
      ]
    },
    {
      "cell_type": "code",
      "execution_count": null,
      "id": "7b214a8d-1148-4fa3-b0de-39d444891ee1",
      "metadata": {
        "id": "7b214a8d-1148-4fa3-b0de-39d444891ee1"
      },
      "outputs": [],
      "source": [
        "accuracy = Model_7.history[\"accuracy\"]\n",
        "val_accuracy = Model_7.history[\"val_accuracy\"]\n",
        "\n",
        "loss = Model_7.history[\"loss\"]\n",
        "val_loss = Model_7.history[\"val_loss\"]\n",
        "\n",
        "epochs = range(1, len(accuracy) + 1)\n",
        "plt.plot(epochs, accuracy, color=\"grey\", label=\"Training Accuracy\")\n",
        "plt.plot(epochs, val_accuracy, color=\"blue\", linestyle=\"dashed\", label=\"Validation Accuracy\")\n",
        "plt.title(\"Training and Validation Accuracy\")\n",
        "plt.legend()\n",
        "plt.figure()\n",
        "\n",
        "plt.plot(epochs, loss, color=\"grey\", label=\"Training Loss\")\n",
        "plt.plot(epochs, val_loss, color=\"blue\", linestyle=\"dashed\", label=\"Validation Loss\")\n",
        "plt.title(\"Training and Validation Loss\")\n",
        "plt.legend()\n",
        "plt.show()"
      ]
    },
    {
      "cell_type": "code",
      "execution_count": null,
      "id": "181da070-ad88-4365-8618-2743049b868f",
      "metadata": {
        "id": "181da070-ad88-4365-8618-2743049b868f"
      },
      "outputs": [],
      "source": [
        "best_model = keras.models.load_model(\"model7.keras\")\n",
        "Model7_Results = best_model.evaluate(test_dataset)\n",
        "print(f'Loss: {Model7_Results[0]:.3f}')\n",
        "print(f'Accuracy: {Model7_Results[1]:.3f}')"
      ]
    },
    {
      "cell_type": "markdown",
      "id": "cb073968-a29f-48a1-beaa-be501a775eb9",
      "metadata": {
        "id": "cb073968-a29f-48a1-beaa-be501a775eb9"
      },
      "source": [
        "<font size=\"3\">In the previous Model 6, we attempted to replace the conventional max pooling operation with strides, but the results were not as promising as expected. and in model 7 we used Maxpooling only. Therefore, we are exploring a hybrid approach that combines both max pooling and strides to evaluate the performance of this new model.</font>\n",
        "\n",
        "<font size=\"3\">Max pooling is a downsampling operation that reduces the spatial dimensions of the feature map, aiming to capture the most prominent features while discarding less relevant information. On the other hand, strides determine the step rate of the sliding window used to extract and learn the features from the data. This hybrid approach aims to leverage the advantages of both techniques, potentially enhancing the model's ability to capture intricate patterns and features while maintaining computational efficiency.</font>"
      ]
    },
    {
      "cell_type": "markdown",
      "id": "faccea7d-8ec3-4f8a-a79f-391154d973e9",
      "metadata": {
        "id": "faccea7d-8ec3-4f8a-a79f-391154d973e9"
      },
      "source": [
        "<font size=\"3\"><b>Model - 8 <u>MaxPooling + Strides of Step-Size 2 Operation</u> with Increase in filters from 32 to 256 in 5 Input Layers with the data being used from the Augmented Images and a droput rate of 0.5 (Training Sample - 3000)</u></b> </font>"
      ]
    },
    {
      "cell_type": "code",
      "execution_count": null,
      "id": "0300e29a-6646-451c-a295-dee02c950fdb",
      "metadata": {
        "id": "0300e29a-6646-451c-a295-dee02c950fdb"
      },
      "outputs": [],
      "source": [
        "inputs = keras.Input(shape=(180, 180, 3))\n",
        "x = data_augmentation_2(inputs)\n",
        "x = layers.Rescaling(1./255)(x)\n",
        "x = layers.Conv2D(filters=32, kernel_size=3, activation=\"relu\")(x)\n",
        "x = layers.MaxPooling2D(pool_size=2, strides=2)(x)\n",
        "x = layers.Conv2D(filters=64, kernel_size=3, activation=\"relu\")(x)\n",
        "x = layers.MaxPooling2D(pool_size=2, strides=2)(x)\n",
        "x = layers.Conv2D(filters=128, kernel_size=3, activation=\"relu\")(x)\n",
        "x = layers.MaxPooling2D(pool_size=2, strides=2)(x)\n",
        "x = layers.Conv2D(filters=256, kernel_size=3, activation=\"relu\")(x)\n",
        "x = layers.MaxPooling2D(pool_size=2,strides=2)(x)\n",
        "x = layers.Conv2D(filters=256, kernel_size=3, activation=\"relu\")(x)\n",
        "x = layers.Flatten()(x)\n",
        "x = layers.Dropout(0.5)(x)\n",
        "outputs = layers.Dense(1, activation=\"sigmoid\")(x)\n",
        "\n",
        "model = keras.Model(inputs=inputs, outputs=outputs)"
      ]
    },
    {
      "cell_type": "code",
      "execution_count": null,
      "id": "c4a420ca-25dd-4532-83cc-6f851ab02cf4",
      "metadata": {
        "id": "c4a420ca-25dd-4532-83cc-6f851ab02cf4"
      },
      "outputs": [],
      "source": [
        "model.summary()"
      ]
    },
    {
      "cell_type": "code",
      "execution_count": null,
      "id": "7166c8c9-024f-4158-8cbd-f3994c062e01",
      "metadata": {
        "id": "7166c8c9-024f-4158-8cbd-f3994c062e01"
      },
      "outputs": [],
      "source": [
        "# Compiling the Model\n",
        "model.compile(loss= \"binary_crossentropy\",\n",
        "              optimizer= \"adam\",\n",
        "              metrics= ['accuracy'])\n",
        "\n",
        "\n",
        "# Monitoring the best validation loss using Callbacks\n",
        "callbacks = ModelCheckpoint(\n",
        "            filepath = \"model8.keras\",\n",
        "            save_best_only= True,\n",
        "            monitor= \"val_loss\"\n",
        "            )\n",
        "\n",
        "# Model Fit\n",
        "Model_8 = model.fit(\n",
        "          train_dataset,\n",
        "          epochs= 50,\n",
        "          validation_data= validation_dataset,\n",
        "          callbacks= callbacks\n",
        "          )"
      ]
    },
    {
      "cell_type": "code",
      "execution_count": null,
      "id": "4f92fd4b-ee20-4ec6-89af-df4c7f719ad9",
      "metadata": {
        "id": "4f92fd4b-ee20-4ec6-89af-df4c7f719ad9"
      },
      "outputs": [],
      "source": [
        "accuracy = Model_8.history[\"accuracy\"]\n",
        "val_accuracy = Model_8.history[\"val_accuracy\"]\n",
        "\n",
        "loss = Model_8.history[\"loss\"]\n",
        "val_loss = Model_8.history[\"val_loss\"]\n",
        "\n",
        "epochs = range(1, len(accuracy) + 1)\n",
        "plt.plot(epochs, accuracy, color=\"grey\", label=\"Training Accuracy\")\n",
        "plt.plot(epochs, val_accuracy, color=\"blue\", linestyle=\"dashed\", label=\"Validation Accuracy\")\n",
        "plt.title(\"Training and Validation Accuracy\")\n",
        "plt.legend()\n",
        "plt.figure()\n",
        "\n",
        "plt.plot(epochs, loss, color=\"grey\", label=\"Training Loss\")\n",
        "plt.plot(epochs, val_loss, color=\"blue\", linestyle=\"dashed\", label=\"Validation Loss\")\n",
        "plt.title(\"Training and Validation Loss\")\n",
        "plt.legend()\n",
        "plt.show()"
      ]
    },
    {
      "cell_type": "code",
      "execution_count": null,
      "id": "0d29562d-06ae-4126-a1d4-96fe7d9d03e9",
      "metadata": {
        "id": "0d29562d-06ae-4126-a1d4-96fe7d9d03e9"
      },
      "outputs": [],
      "source": [
        "best_model = keras.models.load_model(\"model8.keras\")\n",
        "Model8_Results = best_model.evaluate(test_dataset)\n",
        "print(f'Loss: {Model8_Results[0]:.3f}')\n",
        "print(f'Accuracy: {Model8_Results[1]:.3f}')"
      ]
    },
    {
      "cell_type": "markdown",
      "id": "431f3c32-67c6-4ed7-8930-69a109e582bb",
      "metadata": {
        "id": "431f3c32-67c6-4ed7-8930-69a109e582bb"
      },
      "source": [
        "<font size=\"3\"><b>Model - 9 <u>MaxPooling + Strides of Step-Size 2 with Padding</u> turned on Operation with Increase in filters from 32 to 512 in 5 Input Layers with the data being used from the Augmented Images and a droput rate of 0.5 <u>(Training Sample - 3000)</u></b> </font>"
      ]
    },
    {
      "cell_type": "code",
      "execution_count": null,
      "id": "f92c215c-9b42-4d2a-97a4-914bfb9366b1",
      "metadata": {
        "id": "f92c215c-9b42-4d2a-97a4-914bfb9366b1"
      },
      "outputs": [],
      "source": [
        "inputs = keras.Input(shape=(180, 180, 3))\n",
        "x = data_augmentation_2(inputs)\n",
        "x = layers.Rescaling(1./255)(x)\n",
        "x = layers.Conv2D(filters=32, kernel_size=3, activation=\"relu\")(x)\n",
        "x = layers.MaxPooling2D(pool_size=2, strides=2, padding=\"same\")(x)\n",
        "x = layers.Conv2D(filters=64, kernel_size=3, activation=\"relu\")(x)\n",
        "x = layers.MaxPooling2D(pool_size=2, strides=2, padding=\"same\")(x)\n",
        "x = layers.Conv2D(filters=128, kernel_size=3, activation=\"relu\")(x)\n",
        "x = layers.MaxPooling2D(pool_size=2, strides=2, padding=\"same\")(x)\n",
        "x = layers.Conv2D(filters=256, kernel_size=3, activation=\"relu\")(x)\n",
        "x = layers.MaxPooling2D(pool_size=2,strides=2, padding=\"same\")(x)\n",
        "x = layers.Conv2D(filters=512, kernel_size=3, activation=\"relu\")(x)\n",
        "x = layers.Flatten()(x)\n",
        "x = layers.Dropout(0.5)(x)\n",
        "outputs = layers.Dense(1, activation=\"sigmoid\")(x)\n",
        "\n",
        "model = keras.Model(inputs=inputs, outputs=outputs)"
      ]
    },
    {
      "cell_type": "code",
      "execution_count": null,
      "id": "25e55c0e-a740-49a5-925a-3640961d4a84",
      "metadata": {
        "id": "25e55c0e-a740-49a5-925a-3640961d4a84"
      },
      "outputs": [],
      "source": [
        "model.summary()"
      ]
    },
    {
      "cell_type": "code",
      "execution_count": null,
      "id": "e4261be1-21cb-431b-b167-15257f1b9276",
      "metadata": {
        "id": "e4261be1-21cb-431b-b167-15257f1b9276"
      },
      "outputs": [],
      "source": [
        "# Compiling the Model\n",
        "model.compile(loss= \"binary_crossentropy\",\n",
        "              optimizer= \"adam\",\n",
        "              metrics= ['accuracy'])\n",
        "\n",
        "\n",
        "# Monitoring the best validation loss using Callbacks\n",
        "callbacks = ModelCheckpoint(\n",
        "            filepath = \"model9.keras\",\n",
        "            save_best_only= True,\n",
        "            monitor= \"val_loss\"\n",
        "            )\n",
        "\n",
        "# Model Fit\n",
        "Model_9 = model.fit(\n",
        "          train_dataset,\n",
        "          epochs= 50,\n",
        "          validation_data= validation_dataset,\n",
        "          callbacks= callbacks\n",
        "          )"
      ]
    },
    {
      "cell_type": "code",
      "execution_count": null,
      "id": "e71a1da2-6545-46ee-837d-923d59f925e8",
      "metadata": {
        "id": "e71a1da2-6545-46ee-837d-923d59f925e8"
      },
      "outputs": [],
      "source": [
        "accuracy = Model_9.history[\"accuracy\"]\n",
        "val_accuracy = Model_9.history[\"val_accuracy\"]\n",
        "\n",
        "loss = Model_9.history[\"loss\"]\n",
        "val_loss = Model_9.history[\"val_loss\"]\n",
        "\n",
        "epochs = range(1, len(accuracy) + 1)\n",
        "plt.plot(epochs, accuracy, color=\"grey\", label=\"Training Accuracy\")\n",
        "plt.plot(epochs, val_accuracy, color=\"blue\", linestyle=\"dashed\", label=\"Validation Accuracy\")\n",
        "plt.title(\"Training and Validation Accuracy\")\n",
        "plt.legend()\n",
        "plt.figure()\n",
        "\n",
        "plt.plot(epochs, loss, color=\"grey\", label=\"Training Loss\")\n",
        "plt.plot(epochs, val_loss, color=\"blue\", linestyle=\"dashed\", label=\"Validation Loss\")\n",
        "plt.title(\"Training and Validation Loss\")\n",
        "plt.legend()\n",
        "plt.show()"
      ]
    },
    {
      "cell_type": "code",
      "execution_count": null,
      "id": "64ea2027-39c9-488c-b9f0-896624e294c3",
      "metadata": {
        "id": "64ea2027-39c9-488c-b9f0-896624e294c3"
      },
      "outputs": [],
      "source": [
        "best_model = keras.models.load_model(\"model9.keras\")\n",
        "Model9_Results = best_model.evaluate(test_dataset)\n",
        "print(f'Loss: {Model9_Results[0]:.3f}')\n",
        "print(f'Accuracy: {Model9_Results[1]:.3f}')"
      ]
    },
    {
      "cell_type": "markdown",
      "id": "1e7d6897-d23e-4d7c-aa60-9fa5e488f135",
      "metadata": {
        "id": "1e7d6897-d23e-4d7c-aa60-9fa5e488f135"
      },
      "source": [
        "<font size=\"3\">Let's see which of the models have best performance when the training sample was set to 3000. Note: Here models 8 and 9 were trained differently with strides being used with maxpooling and strides being used with maxpooling and padding turned on.</font>\n",
        "\n",
        "<font size=\"3\"><b>Model 6:</b> trides Operation with Padding being \"Same\" ,filters from 32 to 512, 5 Input Layers, droput rate of 0.5, Training Sample - 3000</font>\n",
        "\n",
        "<font size=\"3\"><b>Model 7:</b> MaxPooling Operation,filters from 32 to 512, 5 Input Layers, droput rate of 0.5, Training Sample - 3000</font>\n",
        "\n",
        "<font size=\"3\"><b>Model 8:</b> MaxPooling + Strides of Step-Size 2,filters from 32 to 512, 5 Input Layers, droput rate of 0.5, Training Sample - 3000</font>\n",
        "\n",
        "<font size=\"3\"><b>Model 9:</b> MaxPooling + Strides of Step-Size 2 with Padding turned on,filters from 32 to 512, 5 Input Layers, droput rate of 0.5, Training Sample - 3000 </font>"
      ]
    },
    {
      "cell_type": "code",
      "execution_count": null,
      "id": "887f5235-26c3-43d1-8f3f-96b75702756f",
      "metadata": {
        "id": "887f5235-26c3-43d1-8f3f-96b75702756f"
      },
      "outputs": [],
      "source": [
        "Model_7 = (0.495,0.818)\n",
        "Model_8 = (0.425,0.856)\n",
        "Model_9 = (0.551,0.782)"
      ]
    },
    {
      "cell_type": "code",
      "execution_count": null,
      "id": "b7b5f6c0-6142-4a62-911b-1b48a28a6f94",
      "metadata": {
        "id": "b7b5f6c0-6142-4a62-911b-1b48a28a6f94"
      },
      "outputs": [],
      "source": [
        "Models_3 = (,\"Mod_6\",\"Mod_7\",\"Mod_8\",\"Mod_9\")\n",
        "Loss_3 = (Model_6[0],Model_7[0],Model_8[0],Model_9[0])\n",
        "Accuracy_3 = (Model_6[1],Model_7[1],Model_8[1],Model_9[1])\n",
        "\n",
        "fig, ax = plt.subplots()\n",
        "ax.scatter(Loss_3,Accuracy_3)\n",
        "for i, txt in enumerate(Models_3):\n",
        "    ax.annotate(txt, (Loss_3[i],Accuracy_3[i] ))\n",
        "plt.title(\"Summary for Accuracy and Loss\")\n",
        "plt.ylabel(\"Accuracy\")\n",
        "plt.xlabel(\"Loss\")\n",
        "\n",
        "plt.show()"
      ]
    },
    {
      "cell_type": "markdown",
      "id": "b1e6471d-117d-4e2c-89fa-6dd42cc21cb9",
      "metadata": {
        "id": "b1e6471d-117d-4e2c-89fa-6dd42cc21cb9"
      },
      "source": [
        "Here we can clearly see that the model which was built with 5 layers using maxpooling along with strides was giving the highest accuracy i.e. 85.6 % with least loss amongst the other 2 models i.e. 42.5%.\n",
        "\n",
        "Now, we are increasing the training sample to 5000 and building a model from scratch to check it's performance on the unseen data."
      ]
    },
    {
      "cell_type": "markdown",
      "id": "6bc6129b-6e6c-4d0d-ac36-32d8bd973a37",
      "metadata": {
        "id": "6bc6129b-6e6c-4d0d-ac36-32d8bd973a37"
      },
      "source": [
        "<font size=\"3\"><b>Training Sample - 5000<b></font>"
      ]
    },
    {
      "cell_type": "code",
      "execution_count": null,
      "id": "a6fe6d65-6779-447b-ab11-d683d1c9efae",
      "metadata": {
        "id": "a6fe6d65-6779-447b-ab11-d683d1c9efae"
      },
      "outputs": [],
      "source": [
        "#Define the existing directories\n",
        "original_dir_path = \"/users/PGS0322/nchauras/AML_Data/train\"\n",
        "base_dir_path = \"/users/PGS0322/nchauras/AML_Data/Data_Distribution\"\n",
        "\n",
        "#Convert the directory paths to pathlib.Path objects\n",
        "original_dir = pathlib.Path(original_dir_path)\n",
        "new_base_dir = pathlib.Path(base_dir_path)\n",
        "\n",
        "def make_subset(subset_name, start_index, end_index):\n",
        "    for category in (\"cat\", \"dog\"):\n",
        "        dir = new_base_dir / subset_name / category\n",
        "        os.makedirs(dir, exist_ok=True)  # Add the exist_ok parameter\n",
        "        fnames = [f\"{category}.{i}.jpg\" for i in range(start_index, end_index)]\n",
        "        for fname in fnames:\n",
        "            src_file = original_dir / fname\n",
        "            if src_file.is_file():\n",
        "                shutil.copyfile(src=src_file, dst=dir / fname)\n",
        "            else:\n",
        "                print(f\"File {fname} does not exist in the original directory.\")\n",
        "\n",
        "make_subset(\"train\", start_index=0, end_index=2500)\n",
        "make_subset(\"validation\", start_index=1000, end_index=1250)\n",
        "make_subset(\"test\", start_index=1500, end_index=1750)"
      ]
    },
    {
      "cell_type": "code",
      "execution_count": null,
      "id": "7f19c1e3-ea34-421a-820c-158db4ed1b3e",
      "metadata": {
        "id": "7f19c1e3-ea34-421a-820c-158db4ed1b3e"
      },
      "outputs": [],
      "source": [
        "train_dataset = image_dataset_from_directory(\n",
        "    new_base_dir / \"train\",\n",
        "    image_size=(180, 180),\n",
        "    batch_size=32)\n",
        "validation_dataset = image_dataset_from_directory(\n",
        "    new_base_dir / \"validation\",\n",
        "    image_size=(180, 180),\n",
        "    batch_size=32)\n",
        "test_dataset = image_dataset_from_directory(\n",
        "    new_base_dir / \"test\",\n",
        "    image_size=(180, 180),\n",
        "    batch_size=32)"
      ]
    },
    {
      "cell_type": "code",
      "execution_count": null,
      "id": "fae63a6a-ef91-4b65-8366-2ea41e4cbd8d",
      "metadata": {
        "id": "fae63a6a-ef91-4b65-8366-2ea41e4cbd8d"
      },
      "outputs": [],
      "source": [
        "for data_batch, labels_batch in train_dataset:\n",
        "    print(\"data batch shape:\", data_batch.shape)\n",
        "    print(\"labels batch shape:\", labels_batch.shape)\n",
        "    break"
      ]
    },
    {
      "cell_type": "code",
      "execution_count": null,
      "id": "2a4fd8b6-ef22-4458-9727-c6e7acf3ee98",
      "metadata": {
        "id": "2a4fd8b6-ef22-4458-9727-c6e7acf3ee98"
      },
      "outputs": [],
      "source": [
        "data_augmentation_3 = keras.Sequential(\n",
        "    [\n",
        "        layers.RandomFlip(\"horizontal\"),\n",
        "        layers.RandomRotation(0.15),\n",
        "        layers.RandomZoom(0.25)\n",
        "    ]\n",
        ")"
      ]
    },
    {
      "cell_type": "markdown",
      "id": "d94e7b70-9806-42ff-a5e5-0ed748280722",
      "metadata": {
        "id": "d94e7b70-9806-42ff-a5e5-0ed748280722"
      },
      "source": [
        "<font size=\"3\"><b>Model - 10 MaxPooling Operation with Increase in filters from 32 to 256 in 5 Input Layers with the data being used from the Augmented Images and a droput rate of 0.5 <u>(Training Sample - 5000)</u></b> </font>"
      ]
    },
    {
      "cell_type": "code",
      "execution_count": null,
      "id": "14fc955a-91ae-4660-85ba-a3d0bee8c252",
      "metadata": {
        "id": "14fc955a-91ae-4660-85ba-a3d0bee8c252"
      },
      "outputs": [],
      "source": [
        "inputs = keras.Input(shape=(180, 180, 3))\n",
        "x = data_augmentation_3(inputs)\n",
        "x = layers.Rescaling(1./255)(x)\n",
        "x = layers.Conv2D(filters=32, kernel_size=3, activation=\"relu\")(x)\n",
        "x = layers.MaxPooling2D(pool_size=2)(x)\n",
        "x = layers.Conv2D(filters=64, kernel_size=3, activation=\"relu\")(x)\n",
        "x = layers.MaxPooling2D(pool_size=2)(x)\n",
        "x = layers.Conv2D(filters=128, kernel_size=3, activation=\"relu\")(x)\n",
        "x = layers.MaxPooling2D(pool_size=2)(x)\n",
        "x = layers.Conv2D(filters=256, kernel_size=3, activation=\"relu\")(x)\n",
        "x = layers.MaxPooling2D(pool_size=2)(x)\n",
        "x = layers.Conv2D(filters=256, kernel_size=3, activation=\"relu\")(x)\n",
        "x = layers.Flatten()(x)\n",
        "x = layers.Dropout(0.5)(x)\n",
        "outputs = layers.Dense(1, activation=\"sigmoid\")(x)\n",
        "\n",
        "model = keras.Model(inputs=inputs, outputs=outputs)"
      ]
    },
    {
      "cell_type": "code",
      "execution_count": null,
      "id": "286a7a66-0027-46b6-ad00-d939ba37f68f",
      "metadata": {
        "id": "286a7a66-0027-46b6-ad00-d939ba37f68f"
      },
      "outputs": [],
      "source": [
        "model.summary()"
      ]
    },
    {
      "cell_type": "code",
      "execution_count": null,
      "id": "3354b02c-039f-463b-b10a-c993e47b5bc2",
      "metadata": {
        "id": "3354b02c-039f-463b-b10a-c993e47b5bc2"
      },
      "outputs": [],
      "source": [
        "# Compiling the Model\n",
        "model.compile(loss= \"binary_crossentropy\",\n",
        "              optimizer= \"adam\",\n",
        "              metrics= ['accuracy'])\n",
        "\n",
        "\n",
        "# Monitoring the best validation loss using Callbacks\n",
        "callbacks = ModelCheckpoint(\n",
        "            filepath = \"model10.keras\",\n",
        "            save_best_only= True,\n",
        "            monitor= \"val_loss\"\n",
        "            )\n",
        "\n",
        "# Model Fit\n",
        "Model_10 = model.fit(\n",
        "          train_dataset,\n",
        "          epochs= 50,\n",
        "          validation_data= validation_dataset,\n",
        "          callbacks= callbacks\n",
        "          )"
      ]
    },
    {
      "cell_type": "code",
      "execution_count": null,
      "id": "3a4b5221-e8dd-4a63-be99-e9da53310051",
      "metadata": {
        "id": "3a4b5221-e8dd-4a63-be99-e9da53310051"
      },
      "outputs": [],
      "source": [
        "accuracy = Model_10.history[\"accuracy\"]\n",
        "val_accuracy = Model_10.history[\"val_accuracy\"]\n",
        "\n",
        "loss = Model_10.history[\"loss\"]\n",
        "val_loss = Model_10.history[\"val_loss\"]\n",
        "\n",
        "epochs = range(1, len(accuracy) + 1)\n",
        "plt.plot(epochs, accuracy, color=\"grey\", label=\"Training Accuracy\")\n",
        "plt.plot(epochs, val_accuracy, color=\"blue\", linestyle=\"dashed\", label=\"Validation Accuracy\")\n",
        "plt.title(\"Training and Validation Accuracy\")\n",
        "plt.legend()\n",
        "plt.figure()\n",
        "\n",
        "plt.plot(epochs, loss, color=\"grey\", label=\"Training Loss\")\n",
        "plt.plot(epochs, val_loss, color=\"blue\", linestyle=\"dashed\", label=\"Validation Loss\")\n",
        "plt.title(\"Training and Validation Loss\")\n",
        "plt.legend()\n",
        "plt.show()"
      ]
    },
    {
      "cell_type": "code",
      "execution_count": null,
      "id": "320cc757-7757-46fd-b45d-ff9ff323ed33",
      "metadata": {
        "id": "320cc757-7757-46fd-b45d-ff9ff323ed33"
      },
      "outputs": [],
      "source": [
        "best_model = keras.models.load_model(\"model10.keras\")\n",
        "Model10_Results = best_model.evaluate(test_dataset)\n",
        "print(f'Loss: {Model10_Results[0]:.3f}')\n",
        "print(f'Accuracy: {Model10_Results[1]:.3f}')"
      ]
    },
    {
      "cell_type": "markdown",
      "id": "32aa09cf-cec6-4949-8c4a-0bf3d0252175",
      "metadata": {
        "id": "32aa09cf-cec6-4949-8c4a-0bf3d0252175"
      },
      "source": [
        "<font size=\"3\"><b>Summary for Question 3</b>, we constructed four models, three of which were trained with a sample size of 3000. The top-performing model achieved an 85.6% accuracy. Notably, when we expanded the training sample to 5000, the accuracy rose to 92%. Consequently, we deduce that increasing the training sample to 5000 substantially enhances the model's performance.Regarding the plausible reason for the validation loss being lower than the training loss, it is likely influenced by the adopted split strategy. In this case, the training sample is nearly as extensive as 5000, while the validation and test sets remain fixed at 500 each. Additionally, it is essential to acknowledge that during training, regularizations such as dropout or L1 and L2 regularizers play a significant role, contributing to the computation of the training loss. Conversely, during the validation or test phase, these regularizers are disabled, potentially leading to a lower loss compared to the training loss.</font>"
      ]
    },
    {
      "cell_type": "markdown",
      "id": "1c7c5a9d-5cfc-41ba-b962-62653afaf2ba",
      "metadata": {
        "id": "1c7c5a9d-5cfc-41ba-b962-62653afaf2ba"
      },
      "source": [
        "*<font size=\"4.5\"><b> 4. Repeat Steps 1-3, but now using a pretrained network. The sample sizes you use in Steps 2 and 3 for the pretrained network may be the same or different from those using the network where you trained from scratch. Again, use any and all optimization techniques to get best performance </b></font>*"
      ]
    },
    {
      "cell_type": "markdown",
      "id": "72f3e3dc-0b9f-49b3-9b0a-992ca4de6ba1",
      "metadata": {
        "id": "72f3e3dc-0b9f-49b3-9b0a-992ca4de6ba1"
      },
      "source": [
        "<font size=\"4.5\"><b> Leveraging a Pre-Trained Model - VGG16 </b></font>"
      ]
    },
    {
      "cell_type": "markdown",
      "id": "a1e4ad66-704c-49e2-9ee2-7d4b85c03e01",
      "metadata": {
        "id": "a1e4ad66-704c-49e2-9ee2-7d4b85c03e01"
      },
      "source": [
        "<font size=\"4.5\"><b> VGG - Model 1 (1000 Training Samples) </b></font>"
      ]
    },
    {
      "cell_type": "code",
      "execution_count": null,
      "id": "407f5178-100a-4796-8d58-e79237f6577f",
      "metadata": {
        "id": "407f5178-100a-4796-8d58-e79237f6577f"
      },
      "outputs": [],
      "source": [
        "conv_base = keras.applications.vgg16.VGG16(\n",
        "    weights=\"imagenet\",\n",
        "    include_top=False,\n",
        "    input_shape=(180, 180, 3))"
      ]
    },
    {
      "cell_type": "code",
      "execution_count": null,
      "id": "62941b5f-1b6d-45fb-a4fd-69c803400d3a",
      "metadata": {
        "id": "62941b5f-1b6d-45fb-a4fd-69c803400d3a"
      },
      "outputs": [],
      "source": [
        "conv_base.summary()"
      ]
    },
    {
      "cell_type": "code",
      "execution_count": null,
      "id": "8079684a-5721-4faf-9bbc-79825e54498e",
      "metadata": {
        "id": "8079684a-5721-4faf-9bbc-79825e54498e"
      },
      "outputs": [],
      "source": [
        "#extracting VGG 16 features and Labels\n",
        "def get_features_and_labels(dataset):\n",
        "    all_features = []\n",
        "    all_labels = []\n",
        "    for images, labels in dataset:\n",
        "        preprocessed_images = keras.applications.vgg16.preprocess_input(images)\n",
        "        features = conv_base.predict(preprocessed_images)\n",
        "        all_features.append(features)\n",
        "        all_labels.append(labels)\n",
        "    return np.concatenate(all_features), np.concatenate(all_labels)\n",
        "\n",
        "train_features, train_labels =  get_features_and_labels(train_dataset)\n",
        "val_features, val_labels =  get_features_and_labels(validation_dataset)\n",
        "test_features, test_labels =  get_features_and_labels(test_dataset)"
      ]
    },
    {
      "cell_type": "code",
      "execution_count": null,
      "id": "d7d4d2a2-a5fe-48dc-b371-1e9faa668e17",
      "metadata": {
        "id": "d7d4d2a2-a5fe-48dc-b371-1e9faa668e17"
      },
      "outputs": [],
      "source": [
        "train_features.shape"
      ]
    },
    {
      "cell_type": "markdown",
      "id": "ddc30944-220c-4841-b633-83bba3033b05",
      "metadata": {
        "id": "ddc30944-220c-4841-b633-83bba3033b05"
      },
      "source": [
        "<font size=\"4.5\"><b> VGG - Model 1 Dense Layer with 256 Nodes and Droput Rate of 0.5 and optimizer being rmsprop with the Original Images</b></font>"
      ]
    },
    {
      "cell_type": "code",
      "execution_count": null,
      "id": "d5c6005d-f3ef-4a0e-8310-2b41da3211fb",
      "metadata": {
        "id": "d5c6005d-f3ef-4a0e-8310-2b41da3211fb"
      },
      "outputs": [],
      "source": [
        "# Defining and Training the densely connected classifier\n",
        "# The last dense stacked layer and the classifier\n",
        "inputs = keras.Input(shape=(5, 5, 512))\n",
        "x = layers.Flatten()(inputs)\n",
        "x = layers.Dense(256)(x)\n",
        "x = layers.Dropout(0.5)(x)\n",
        "\n",
        "outputs = layers.Dense(1, activation=\"sigmoid\")(x)\n",
        "\n",
        "model = keras.Model(inputs, outputs)\n",
        "\n",
        "\n",
        "# Compiling the Model\n",
        "model.compile(loss=\"binary_crossentropy\",\n",
        "              optimizer=\"rmsprop\",\n",
        "              metrics=[\"accuracy\"])\n",
        "\n",
        "\n",
        "# Using CallBacks to monitor the best val_loss\n",
        "callbacks = ModelCheckpoint(\n",
        "            filepath=\"vgg_model1.keras\",\n",
        "            save_best_only=True,\n",
        "            monitor=\"val_loss\")\n",
        "\n",
        "\n",
        "# Model Fit\n",
        "VGG_Model_1 = model.fit(\n",
        "              train_features, train_labels,\n",
        "              epochs= 30,\n",
        "              validation_data= (val_features, val_labels),\n",
        "              callbacks= callbacks)"
      ]
    },
    {
      "cell_type": "code",
      "execution_count": null,
      "id": "37a95f83-24c5-4086-8126-13c81b80cd6f",
      "metadata": {
        "id": "37a95f83-24c5-4086-8126-13c81b80cd6f"
      },
      "outputs": [],
      "source": [
        "acc = VGG_Model_1.history[\"accuracy\"]\n",
        "val_acc = VGG_Model_1.history[\"val_accuracy\"]\n",
        "\n",
        "loss = VGG_Model_1.history[\"loss\"]\n",
        "val_loss = VGG_Model_1.history[\"val_loss\"]\n",
        "\n",
        "epochs = range(1, len(acc) + 1)\n",
        "plt.plot(epochs, acc, color=\"grey\", label=\"Training Accuracy\")\n",
        "plt.plot(epochs, val_acc, color=\"blue\", linestyle=\"dashed\", label=\"Validation Accuracy\")\n",
        "plt.title(\"Training and validation Accuracy\")\n",
        "plt.legend()\n",
        "plt.figure()\n",
        "\n",
        "plt.plot(epochs, loss, color=\"grey\", label=\"Training Loss\")\n",
        "plt.plot(epochs, val_loss, color=\"blue\", linestyle=\"dashed\", label=\"Validation Loss\")\n",
        "plt.title(\"Training and validation Loss\")\n",
        "plt.legend()\n",
        "plt.show()"
      ]
    },
    {
      "cell_type": "code",
      "execution_count": null,
      "id": "231d118c-2fd4-42b1-bbe7-1c8444afe6eb",
      "metadata": {
        "id": "231d118c-2fd4-42b1-bbe7-1c8444afe6eb"
      },
      "outputs": [],
      "source": [
        "best_model = keras.models.load_model(\"vgg_model1.keras\")\n",
        "VGG_Model_1_Results = best_model.evaluate(test_features,test_labels)\n",
        "print(f'Loss: {VGG_Model_1_Results[0]:.3f}')\n",
        "print(f'Accuracy: {VGG_Model_1_Results[1]:.3f}')"
      ]
    },
    {
      "cell_type": "markdown",
      "id": "c4b66d95-efee-4bfc-ad53-01003e506035",
      "metadata": {
        "id": "c4b66d95-efee-4bfc-ad53-01003e506035"
      },
      "source": [
        "<font size=\"4.5\"><b> VGG - Model 2 (1000 Training Samples) </b></font>"
      ]
    },
    {
      "cell_type": "markdown",
      "id": "f6030c55-17b3-4916-a9dc-88a5679b01be",
      "metadata": {
        "id": "f6030c55-17b3-4916-a9dc-88a5679b01be"
      },
      "source": [
        "We have configured the pre-trained model to retain its existing weights during training, only allowing the densely connected networks and the classifier to adjust their weights during the training process.\n",
        "\n",
        "This approach helps prevent overfitting as the pre-trained model remains unchanged, providing a stable foundation for the model. Moreover, when dealing with limited training data and constrained computational resources, freezing the pre-trained model training can be particularly advantageous.\n",
        "\n",
        "To illustrate the impact of this configuration, we can print the list of trainable weights both before and after freezing the pre-trained model."
      ]
    },
    {
      "cell_type": "code",
      "execution_count": null,
      "id": "5bd740b0-c3d7-49dd-9898-0d8b7fed0715",
      "metadata": {
        "id": "5bd740b0-c3d7-49dd-9898-0d8b7fed0715"
      },
      "outputs": [],
      "source": [
        "# Before Freezing\n",
        "conv_base.trainable = True\n",
        "print(\"This is the number of trainable weights \"\n",
        "      \"before freezing the conv base:\", len(conv_base.trainable_weights))"
      ]
    },
    {
      "cell_type": "code",
      "execution_count": null,
      "id": "2eece845-a634-48fe-86dc-fcbe45b8218d",
      "metadata": {
        "id": "2eece845-a634-48fe-86dc-fcbe45b8218d"
      },
      "outputs": [],
      "source": [
        "# After Freezing\n",
        "conv_base.trainable = False\n",
        "print(\"This is the number of trainable weights \"\n",
        "      \"after freezing the conv base:\", len(conv_base.trainable_weights))"
      ]
    },
    {
      "cell_type": "code",
      "execution_count": null,
      "id": "5d557cb0-195e-431e-b4c5-46eee497abd2",
      "metadata": {
        "id": "5d557cb0-195e-431e-b4c5-46eee497abd2"
      },
      "outputs": [],
      "source": [
        "conv_base.summary()"
      ]
    },
    {
      "cell_type": "markdown",
      "id": "ac099515-2c89-4727-a5f2-e0b0683bdc5d",
      "metadata": {
        "id": "ac099515-2c89-4727-a5f2-e0b0683bdc5d"
      },
      "source": [
        "<font size=\"4.5\"><b> VGG - Model 2 Dense Layer with 256 Nodes and Droput Rate of 0.5 and optimizer being rmsprop with the Augmented Images</b></font>"
      ]
    },
    {
      "cell_type": "code",
      "execution_count": null,
      "id": "49207bda-17a7-4323-99c6-99d4afe43b91",
      "metadata": {
        "id": "49207bda-17a7-4323-99c6-99d4afe43b91"
      },
      "outputs": [],
      "source": [
        "# Data Augmentation -Adding a data augmentation stage to provide augmented training samples and a classifier to the convolutional base\n",
        "data_augmentation = keras.Sequential(\n",
        "    [\n",
        "        layers.RandomFlip(\"horizontal\"),\n",
        "        layers.RandomRotation(0.1),\n",
        "        layers.RandomZoom(0.2),\n",
        "    ]\n",
        ")\n",
        "\n",
        "# Adding the Classifier and Dense Network\n",
        "inputs = keras.Input(shape=(180, 180, 3))\n",
        "x = data_augmentation(inputs)\n",
        "x = keras.applications.vgg16.preprocess_input(x)\n",
        "x = conv_base(x)\n",
        "x = layers.Flatten()(x)\n",
        "x = layers.Dense(256)(x)\n",
        "x = layers.Dropout(0.5)(x)\n",
        "\n",
        "outputs = layers.Dense(1, activation=\"sigmoid\")(x)\n",
        "\n",
        "model = keras.Model(inputs, outputs)\n"
      ]
    },
    {
      "cell_type": "code",
      "execution_count": null,
      "id": "10df47d3-6d36-49cb-9506-61b79d177261",
      "metadata": {
        "id": "10df47d3-6d36-49cb-9506-61b79d177261"
      },
      "outputs": [],
      "source": [
        "# Compiling the Model\n",
        "model.compile(loss=\"binary_crossentropy\",\n",
        "              optimizer=\"rmsprop\",\n",
        "              metrics=[\"accuracy\"])\n",
        "\n",
        "# Using CallBacks to monitor the best val_loss\n",
        "callbacks = ModelCheckpoint(\n",
        "            filepath= \"vgg_model2.keras\",\n",
        "            save_best_only= True,\n",
        "            monitor= \"val_loss\")\n",
        "\n",
        "# Model Fit\n",
        "VGG_Model_2 = model.fit(\n",
        "              train_dataset,\n",
        "              epochs= 30,\n",
        "              validation_data=validation_dataset,\n",
        "              callbacks=callbacks)"
      ]
    },
    {
      "cell_type": "code",
      "execution_count": null,
      "id": "bdff959f-c89f-4e4d-b335-a84ddcdfffaf",
      "metadata": {
        "id": "bdff959f-c89f-4e4d-b335-a84ddcdfffaf"
      },
      "outputs": [],
      "source": [
        "acc = VGG_Model_2.history[\"accuracy\"]\n",
        "val_acc = VGG_Model_2.history[\"val_accuracy\"]\n",
        "\n",
        "loss = VGG_Model_2.history[\"loss\"]\n",
        "val_loss = VGG_Model_2.history[\"val_loss\"]\n",
        "\n",
        "epochs = range(1, len(acc) + 1)\n",
        "plt.plot(epochs, acc, color=\"grey\", label=\"Training Accuracy\")\n",
        "plt.plot(epochs, val_acc, color=\"blue\", linestyle=\"dashed\", label=\"Validation Accuracy\")\n",
        "plt.title(\"Training and validation Accuracy\")\n",
        "plt.legend()\n",
        "plt.figure()\n",
        "\n",
        "plt.plot(epochs, loss, color=\"grey\", label=\"Training Loss\")\n",
        "plt.plot(epochs, val_loss, color=\"blue\", linestyle=\"dashed\", label=\"Validation Loss\")\n",
        "plt.title(\"Training and validation Loss\")\n",
        "plt.legend()\n",
        "plt.show()"
      ]
    },
    {
      "cell_type": "code",
      "execution_count": null,
      "id": "e127394a-569c-4864-9188-304ad2919ade",
      "metadata": {
        "id": "e127394a-569c-4864-9188-304ad2919ade"
      },
      "outputs": [],
      "source": [
        "best_model = keras.models.load_model(\"vgg_model2.keras\")\n",
        "VGG_Model_2_Results= best_model.evaluate(test_dataset)\n",
        "print(f'Loss: {VGG_Model_2_Results[0]:.3f}')\n",
        "print(f'Accuracy: {VGG_Model_2_Results[1]:.3f}')"
      ]
    },
    {
      "cell_type": "markdown",
      "id": "61a66c0a-1da1-4171-be34-820a0121fdfc",
      "metadata": {
        "id": "61a66c0a-1da1-4171-be34-820a0121fdfc"
      },
      "source": [
        "<font size=\"4.5\"><b> Fine Tuning the VGG_Model_2</b></font>"
      ]
    },
    {
      "cell_type": "code",
      "execution_count": null,
      "id": "11c7a58a-8ca2-49c7-b365-5546edb76405",
      "metadata": {
        "id": "11c7a58a-8ca2-49c7-b365-5546edb76405"
      },
      "outputs": [],
      "source": [
        "conv_base.trainable = True\n",
        "for layer in conv_base.layers[:-4]:\n",
        "    layer.trainable = False"
      ]
    },
    {
      "cell_type": "markdown",
      "id": "8be347e9-6200-4cae-9edc-9b6df46800c0",
      "metadata": {
        "id": "8be347e9-6200-4cae-9edc-9b6df46800c0"
      },
      "source": [
        "<font size=\"4.5\">It is crucial to understand that pre-trained networks are not solely utilized for singular image classification tasks; rather, they are trained to handle diverse use cases and classifications. The initial layers of the network are adept at capturing general features, while the subsequent layers tend to specialize in extracting features specific to the problem at hand. When we opt to freeze the initial layers, we effectively prevent overfitting, enabling the model to assimilate more intricate details pertaining to our specific classification task. This strategic approach encourages the model to focus on learning the nuanced aspects of the target classification problem.</font>"
      ]
    },
    {
      "cell_type": "code",
      "execution_count": null,
      "id": "55097de6-ef20-4f0b-81d8-5fb128589137",
      "metadata": {
        "id": "55097de6-ef20-4f0b-81d8-5fb128589137"
      },
      "outputs": [],
      "source": [
        "model.compile(loss=\"binary_crossentropy\",\n",
        "              optimizer=keras.optimizers.RMSprop(learning_rate=1e-5),\n",
        "              metrics=[\"accuracy\"])\n",
        "\n",
        "\n",
        "callbacks = ModelCheckpoint(\n",
        "            filepath=\"fine_tuning_vgg_model2.keras\",\n",
        "            save_best_only=True,\n",
        "            monitor=\"val_loss\")\n",
        "\n",
        "\n",
        "FineTuned_VGG_Model_2 = model.fit(\n",
        "                        train_dataset,\n",
        "                        epochs=30,\n",
        "                        validation_data=validation_dataset,\n",
        "                        callbacks=callbacks)"
      ]
    },
    {
      "cell_type": "code",
      "execution_count": null,
      "id": "808ae202-c4b3-42c0-91cb-557ed009d770",
      "metadata": {
        "id": "808ae202-c4b3-42c0-91cb-557ed009d770"
      },
      "outputs": [],
      "source": [
        "acc = FineTuned_VGG_Model_2.history[\"accuracy\"]\n",
        "val_acc = FineTuned_VGG_Model_2.history[\"val_accuracy\"]\n",
        "\n",
        "loss = FineTuned_VGG_Model_2.history[\"loss\"]\n",
        "val_loss = FineTuned_VGG_Model_2.history[\"val_loss\"]\n",
        "\n",
        "epochs = range(1, len(acc) + 1)\n",
        "plt.plot(epochs, acc, color=\"grey\", label=\"Training Accuracy\")\n",
        "plt.plot(epochs, val_acc, color=\"blue\", linestyle=\"dashed\", label=\"Validation Accuracy\")\n",
        "plt.title(\"Training and validation Accuracy\")\n",
        "plt.legend()\n",
        "plt.figure()\n",
        "\n",
        "plt.plot(epochs, loss, color=\"grey\", label=\"Training Loss\")\n",
        "plt.plot(epochs, val_loss, color=\"blue\", linestyle=\"dashed\", label=\"Validation Loss\")\n",
        "plt.title(\"Training and validation Loss\")\n",
        "plt.legend()\n",
        "plt.show()"
      ]
    },
    {
      "cell_type": "code",
      "execution_count": null,
      "id": "d853926f-78a5-43a4-946f-2b663d2629cb",
      "metadata": {
        "id": "d853926f-78a5-43a4-946f-2b663d2629cb"
      },
      "outputs": [],
      "source": [
        "best_model = keras.models.load_model(\"fine_tuning_vgg_model2.keras\")\n",
        "FineTuned_VGG_Model_2_Results = best_model.evaluate(test_dataset)\n",
        "print(f\"Loss: {FineTuned_VGG_Model_2_Results[0]:.3f}\")\n",
        "print(f\"Accuracy: {FineTuned_VGG_Model_2_Results[1]:.3f}\")"
      ]
    },
    {
      "cell_type": "markdown",
      "id": "530c758c-da7f-43c1-b010-30398ea30644",
      "metadata": {
        "id": "530c758c-da7f-43c1-b010-30398ea30644"
      },
      "source": [
        "<font size=\"4.5\"> In above 2 VGG16 models analysis, we constructed three models utilizing the pre-trained network VGG16. Notably, we observed that preventing the pre-trained network from updating its weights during training, and subsequently freezing the initial layers of the pre-trained network, resulted in higher accuracy. Consequently, we aim to employ the same methodology in building two models using a training sample size of 5000."
      ]
    },
    {
      "cell_type": "markdown",
      "id": "271cbf2a-145f-4e96-b1e4-650f98b03e35",
      "metadata": {
        "id": "271cbf2a-145f-4e96-b1e4-650f98b03e35"
      },
      "source": [
        "<font size=\"4.5\"><b> VGG - Model 3 (5000 Training Samples) </b></font>"
      ]
    },
    {
      "cell_type": "code",
      "execution_count": null,
      "id": "528bf7da-a602-4ad9-a6a2-ecd245eacd8f",
      "metadata": {
        "id": "528bf7da-a602-4ad9-a6a2-ecd245eacd8f"
      },
      "outputs": [],
      "source": [
        "conv_base= keras.applications.vgg16.VGG16(\n",
        "           weights=\"imagenet\",\n",
        "           include_top=False)\n",
        "\n",
        "conv_base.trainable = False\n"
      ]
    },
    {
      "cell_type": "code",
      "execution_count": null,
      "id": "85db514b-8199-443d-bc46-77c1c9084e22",
      "metadata": {
        "id": "85db514b-8199-443d-bc46-77c1c9084e22"
      },
      "outputs": [],
      "source": [
        "conv_base.summary()"
      ]
    },
    {
      "cell_type": "code",
      "execution_count": null,
      "id": "ade2e26f-40c7-46ed-b27a-a95ebe31ce0e",
      "metadata": {
        "id": "ade2e26f-40c7-46ed-b27a-a95ebe31ce0e"
      },
      "outputs": [],
      "source": [
        "train_dataset = image_dataset_from_directory(\n",
        "    new_base_dir / \"train\",\n",
        "    image_size=(180, 180),\n",
        "    batch_size=32)\n",
        "validation_dataset = image_dataset_from_directory(\n",
        "    new_base_dir / \"validation\",\n",
        "    image_size=(180, 180),\n",
        "    batch_size=32)\n",
        "test_dataset = image_dataset_from_directory(\n",
        "    new_base_dir / \"test\",\n",
        "    image_size=(180, 180),\n",
        "    batch_size=32)"
      ]
    },
    {
      "cell_type": "code",
      "execution_count": null,
      "id": "0ef86a67-cc73-454b-99cf-0da7bc727780",
      "metadata": {
        "id": "0ef86a67-cc73-454b-99cf-0da7bc727780"
      },
      "outputs": [],
      "source": [
        "# Data Augmentation\n",
        "data_augmentation_4 = keras.Sequential(\n",
        "    [\n",
        "        layers.RandomFlip(\"horizontal\"),\n",
        "        layers.RandomRotation(0.15),\n",
        "        layers.RandomZoom(0.25),\n",
        "    ]\n",
        ")\n",
        "\n",
        "# Adding the Classifier and Dense Network\n",
        "inputs = keras.Input(shape=(180, 180, 3))\n",
        "x = data_augmentation_4(inputs)\n",
        "x = keras.applications.vgg16.preprocess_input(x)\n",
        "x = conv_base(x)\n",
        "x = layers.Flatten()(x)\n",
        "x = layers.Dense(256)(x)\n",
        "x = layers.Dropout(0.5)(x)\n",
        "\n",
        "outputs = layers.Dense(1, activation=\"sigmoid\")(x)\n",
        "\n",
        "model = keras.Model(inputs, outputs)\n",
        "\n",
        "# Compiling the Model\n",
        "model.compile(loss=\"binary_crossentropy\",\n",
        "              optimizer=\"adam\",\n",
        "              metrics=[\"accuracy\"])\n",
        "\n",
        "# Using CallBacks to monitor the best val_loss\n",
        "callbacks = ModelCheckpoint(\n",
        "            filepath= \"vgg_model3.keras\",\n",
        "            save_best_only= True,\n",
        "            monitor= \"val_loss\")\n",
        "\n",
        "# Model Fit\n",
        "VGG_Model_3 = model.fit(\n",
        "              train_dataset,\n",
        "              epochs= 50,\n",
        "              validation_data=validation_dataset,\n",
        "              callbacks=callbacks)"
      ]
    },
    {
      "cell_type": "code",
      "execution_count": null,
      "id": "233fe163-b280-4e80-88ec-adea55118ac1",
      "metadata": {
        "id": "233fe163-b280-4e80-88ec-adea55118ac1"
      },
      "outputs": [],
      "source": [
        "acc = VGG_Model_3.history[\"accuracy\"]\n",
        "val_acc = VGG_Model_3.history[\"val_accuracy\"]\n",
        "\n",
        "loss = VGG_Model_3.history[\"loss\"]\n",
        "val_loss = VGG_Model_3.history[\"val_loss\"]\n",
        "\n",
        "epochs = range(1, len(acc) + 1)\n",
        "plt.plot(epochs, acc, color=\"grey\", label=\"Training Accuracy\")\n",
        "plt.plot(epochs, val_acc, color=\"blue\", linestyle=\"dashed\", label=\"Validation Accuracy\")\n",
        "plt.title(\"Training and Validation Accuracy\")\n",
        "plt.legend()\n",
        "plt.figure()\n",
        "\n",
        "plt.plot(epochs, loss, color=\"grey\", label=\"Training Loss\")\n",
        "plt.plot(epochs, val_loss, color=\"blue\", linestyle=\"dashed\", label=\"Validation Loss\")\n",
        "plt.title(\"Training and Validation Loss\")\n",
        "plt.legend()\n",
        "plt.show()"
      ]
    },
    {
      "cell_type": "code",
      "execution_count": null,
      "id": "c3a60a59-adb6-4edb-82f3-61435a3bd3dd",
      "metadata": {
        "id": "c3a60a59-adb6-4edb-82f3-61435a3bd3dd"
      },
      "outputs": [],
      "source": [
        "best_model = keras.models.load_model(\"vgg_model3.keras\")\n",
        "VGG_Model_3_Results = best_model.evaluate(test_dataset)\n",
        "print(f\"Loss: {VGG_Model_3_Results[0]:.3f}\")\n",
        "print(f\"Accuracy: {VGG_Model_3_Results[1]:.3f}\")"
      ]
    },
    {
      "cell_type": "markdown",
      "id": "12206257-8607-48a6-a7fc-1b9272748a04",
      "metadata": {
        "id": "12206257-8607-48a6-a7fc-1b9272748a04"
      },
      "source": [
        "<font size=\"4.5\"><b> Fine Tunning VGG_Model_3 (Training Samples - 5000)</b></font>"
      ]
    },
    {
      "cell_type": "markdown",
      "id": "d121ac03-227a-4cab-8890-b12341f53d55",
      "metadata": {
        "id": "d121ac03-227a-4cab-8890-b12341f53d55"
      },
      "source": [
        "<font size=\"4.5\">In our efforts to optimize VGG_Model3, we have chosen to freeze the initial four layers. This strategy aims to prevent the model from overfitting and allows it to concentrate solely on learning the distinctive features relevant to our particular classification task.Consequently, we have configured the pre-trained layers to remain unaltered during training, while simultaneously ensuring that the first four layers remain frozen. These optimizations are instrumental in enhancing the model's performance when dealing with a training sample size of 5000.</font>"
      ]
    },
    {
      "cell_type": "code",
      "execution_count": null,
      "id": "1c1deebf-83ff-4d48-8f0f-115553fe7160",
      "metadata": {
        "id": "1c1deebf-83ff-4d48-8f0f-115553fe7160"
      },
      "outputs": [],
      "source": [
        "conv_base.trainable = True\n",
        "for layer in conv_base.layers[:-4]:\n",
        "    layer.trainable = False"
      ]
    },
    {
      "cell_type": "code",
      "execution_count": null,
      "id": "aaaaa77b-8cfd-4fd6-a6d1-ab9d8d79a414",
      "metadata": {
        "id": "aaaaa77b-8cfd-4fd6-a6d1-ab9d8d79a414"
      },
      "outputs": [],
      "source": [
        "model.compile(loss=\"binary_crossentropy\",\n",
        "              optimizer=keras.optimizers.Adam(learning_rate=1e-5),\n",
        "              metrics=[\"accuracy\"])\n",
        "\n",
        "\n",
        "callbacks = ModelCheckpoint(\n",
        "            filepath=\"fine_tuning_vgg_model3.keras\",\n",
        "            save_best_only=True,\n",
        "            monitor=\"val_loss\")\n",
        "\n",
        "\n",
        "FineTuned_VGG_Model_3 = model.fit(\n",
        "                        train_dataset,\n",
        "                        epochs=50,\n",
        "                        validation_data=validation_dataset,\n",
        "                        callbacks=callbacks)"
      ]
    },
    {
      "cell_type": "code",
      "execution_count": null,
      "id": "d06a10cb-ea86-4d7f-84bb-5df64675079b",
      "metadata": {
        "id": "d06a10cb-ea86-4d7f-84bb-5df64675079b"
      },
      "outputs": [],
      "source": [
        "acc = FineTuned_VGG_Model_3.history[\"accuracy\"]\n",
        "val_acc = FineTuned_VGG_Model_3.history[\"val_accuracy\"]\n",
        "\n",
        "loss = FineTuned_VGG_Model_3.history[\"loss\"]\n",
        "val_loss = FineTuned_VGG_Model_3.history[\"val_loss\"]\n",
        "\n",
        "epochs = range(1, len(acc) + 1)\n",
        "plt.plot(epochs, acc, color=\"grey\", label=\"Training Accuracy\")\n",
        "plt.plot(epochs, val_acc, color=\"blue\", linestyle=\"dashed\", label=\"Validation Accuracy\")\n",
        "plt.title(\"Training and validation Accuracy\")\n",
        "plt.legend()\n",
        "plt.figure()\n",
        "\n",
        "plt.plot(epochs, loss, color=\"grey\", label=\"Training Loss\")\n",
        "plt.plot(epochs, val_loss, color=\"blue\", linestyle=\"dashed\", label=\"Validation Loss\")\n",
        "plt.title(\"Training and validation Loss\")\n",
        "plt.legend()\n",
        "plt.show()"
      ]
    },
    {
      "cell_type": "code",
      "execution_count": null,
      "id": "0256e979-be05-44e1-91bb-94baae1c0321",
      "metadata": {
        "id": "0256e979-be05-44e1-91bb-94baae1c0321"
      },
      "outputs": [],
      "source": [
        "best_model = keras.models.load_model(\"fine_tuning_vgg_model3.keras\")\n",
        "FineTuned_VGG_Model_3_Results = best_model.evaluate(test_dataset)\n",
        "print(f\"Loss: {FineTuned_VGG_Model_3_Results[0]:.3f}\")\n",
        "print(f\"Accuracy: {FineTuned_VGG_Model_3_Results[1]:.3f}\")"
      ]
    },
    {
      "cell_type": "markdown",
      "id": "9e8c89dd-dd84-421a-982b-606149ddd1e7",
      "metadata": {
        "id": "9e8c89dd-dd84-421a-982b-606149ddd1e7"
      },
      "source": [
        "<font size=\"4.5\">Now, having constructed a total of 15 models, with two models serving as fine-tuned versions of the initial ones, we are poised to conduct a comparative analysis to determine the best-performing models in two distinct categories: Scratch Models and Pre-Trained Models. Our immediate focus is to evaluate the best model developed from scratch. This evaluation entails comparing the loss and accuracy metrics of the 10 models built across four different training samples. The primary objective is to ascertain the optimal training sample size for the task of classifying cats and dogs.<font>\n",
        "\n",
        "<font size=\"3\"><b>Model 1:</b> filters from 32 to 256, 5 Input Layers</font>\n",
        "\n",
        "<font size=\"3\"><b>Model 2:</b> filters from 32 to 256, 5 Input Layers, Augmented Images and Droput rate of 0.5</font>\n",
        "\n",
        "<font size=\"3\"><b>Model 3:</b> <u>filters from 32 to 512, 6 Input Layers</u>, Augmented Images and Dropout rate of 0.5</font>\n",
        "\n",
        "<font size=\"3\"><b>Model 4:</b> <u>filters from 64 to 1024</u>, 5 Input Layers, Augmented Images and Dropout rate of 0.6 </font>\n",
        "\n",
        "<font size=\"3\"><b>Model 5:</b> filters from 32 to 256, 5 Input Layers, Augmented Images and Droput rate of 0.5, <u>training size 2000</u></font>\n",
        "\n",
        "<font size=\"3\"><b>Model 6:</b> filters from 32 to 256, 5 Input Layers, Augmented Images and Droput rate of 0.5, <u>training size 2000</u>, <u>Padding being same</u> </font>\n",
        "\n",
        "<font size=\"3\"><b>Model 7:</b> MaxPooling Operation,filters from 32 to 512, 5 Input Layers, Augmented Images, droput rate of 0.5, <u>Training Sample - 3000</u></font>\n",
        "\n",
        "<font size=\"3\"><b>Model 8:</b> <u>MaxPooling + Strides of Step-Size 2</u>,filters from 32 to 512, 5 Input Layers, Augmented Images, droput rate of 0.5, <u>Training Sample - 3000</u></font>\n",
        "\n",
        "<font size=\"3\"><b>Model 9:</b> <u>MaxPooling + Strides of Step-Size 2 with Padding turned on</u>,filters from 32 to 512, 5 Input Layers,Augmented Images, droput rate of 0.5, <u>Training Sample - 3000</u> </font>\n",
        "    \n",
        "<font size=\"3\"><b>Model 10:</b> filters from 32 to 512, 5 Input Layers,Augmented Images, droput rate of 0.5, <u>Training Sample - 5000</u> </font>"
      ]
    },
    {
      "cell_type": "code",
      "execution_count": null,
      "id": "3532f46e-a712-49b5-879b-d6fb2807bc99",
      "metadata": {
        "id": "3532f46e-a712-49b5-879b-d6fb2807bc99"
      },
      "outputs": [],
      "source": [
        "# Scratch Models\n",
        "Model_1 = (0.645, 0.614)\n",
        "Model_2 = (0.601, 0.712)\n",
        "Model_3 = (0.609,0.692)\n",
        "Model_4 = (0.666, 0.652)\n",
        "Model_5 = (0.445,0.860)\n",
        "Model_6 = (0.608,0.650)\n",
        "Model_7 = (0.495,0.818)\n",
        "Model_8 = (0.425,0.856)\n",
        "Model_9 = (0.551,0.782)\n",
        "Model_10 = (0.182,0.920)"
      ]
    },
    {
      "cell_type": "code",
      "execution_count": null,
      "id": "af1245e8-6f8d-48ae-bf78-cf19e505f2d3",
      "metadata": {
        "id": "af1245e8-6f8d-48ae-bf78-cf19e505f2d3"
      },
      "outputs": [],
      "source": [
        "Models_4 = (,\"Mod_1\",\"Mod_2\",\"Mod_3\",\"Mod_4\",\"Mod_5\",\"Mod_6\",\"Mod_7\",\"Mod_8\",\"Mod_9\",\"Mod_10\")\n",
        "Loss_4 = (Model_1[0],Model_2[0],Model_3[0],Model_4[0],Model_5[0],Model_6[0],Model_7[0],Model_8[0],Model_9[0],Model_10[0])\n",
        "Accuracy_4 = (Model_1[1],Model_2[1],Model_3[1],Model_4[1],Model_5[1],Model_6[1],Model_7[1],Model_8[1],Model_9[1],Model_10[1])\n",
        "\n",
        "fig, ax = plt.subplots()\n",
        "ax.scatter(Loss_4,Accuracy_4)\n",
        "for i, txt in enumerate(Models_4):\n",
        "    ax.annotate(txt, (Loss_4[i],Accuracy_4[i] ))\n",
        "plt.title(\"Summary for Accuracy and Loss\")\n",
        "plt.ylabel(\"Accuracy\")\n",
        "plt.xlabel(\"Loss\")\n",
        "\n",
        "plt.show()"
      ]
    },
    {
      "cell_type": "markdown",
      "id": "e6337653-8105-484e-9fb2-dc60e7e77d79",
      "metadata": {
        "id": "e6337653-8105-484e-9fb2-dc60e7e77d79"
      },
      "source": [
        "<font size=\"4.5\"><b>Regarding the scratch models, Model_10, trained with 5000 samples, emerged as the top-performing model, exhibiting a notable 92% accuracy and a 18% loss on the test set. Model_10 was constructed using a five-layer architecture, incorporating filters ranging from 32 to 256. The model was enhanced with a max-pooling layer and a dropout rate of 0.5, with the integration of augmented images during the training process.<b><font>"
      ]
    },
    {
      "cell_type": "markdown",
      "id": "c1a8c1ff-f0b5-47bf-a4be-f999c63369e1",
      "metadata": {
        "id": "c1a8c1ff-f0b5-47bf-a4be-f999c63369e1"
      },
      "source": [
        "<font size=\"4.5\">Next we built 5 models using the pre-trained vgg16 network, the first 3 were built using 1000 as sample and rmsprop as optimizer and the next 2 where built using 5000 as sample size and adam as optimizer<font>\n",
        "    \n",
        "<font size=\"3\"><b>VGG 1:</b> filters from 32 to 256, 5 Input Layers</font>\n",
        "\n",
        "<font size=\"3\"><b>VGG 2:</b> filters from 32 to 256, 5 Input Layers, Augmented Images and Droput rate of 0.5</font>\n",
        "\n",
        "<font size=\"3\"><b>VGG 3:</b> <u>filters from 32 to 512, 6 Input Layers</u>, Augmented Images and Dropout rate of 0.5</font>\n",
        "\n",
        "<font size=\"3\"><b>VGG 4:</b> VGG - Model 3 (5000 Training Samples) </font>\n",
        "\n",
        "<font size=\"3\"><b>VGG 5:</b> Fine Tunning VGG_Model_3 (Training Samples - 5000)</font>\n"
      ]
    },
    {
      "cell_type": "code",
      "execution_count": null,
      "id": "cafb6931-654b-4c28-b860-8ee63ee927f1",
      "metadata": {
        "id": "cafb6931-654b-4c28-b860-8ee63ee927f1"
      },
      "outputs": [],
      "source": [
        "# Pre-Trained Models\n",
        "VGG_Model_1 = (12.350,0.956)\n",
        "VGG_Model_2 = (5.111,0.958)\n",
        "FineTuned_VGG_Model_2 = (9.085,0.966)\n",
        "VGG_Model_3 = (0.236,0.986)\n",
        "FineTuned_VGG_Model_3 = (0.083,0.994)"
      ]
    },
    {
      "cell_type": "code",
      "execution_count": null,
      "id": "6479d9db-148e-46c9-be1c-0f7305576602",
      "metadata": {
        "id": "6479d9db-148e-46c9-be1c-0f7305576602"
      },
      "outputs": [],
      "source": [
        "Models_5 = (,\"VGG_1\",\"VGG_2\",\"VGG_3\",\"VGG_4\",\"VGG_5\")\n",
        "Loss_5 = (VGG_1[0],VGG_2[0],VGG_3[0],VGG_4[0],VGG_5[0])\n",
        "Accuracy_5 = (VGG_1[1],VGG_2[1],VGG_3[1],VGG_4[1],VGG_5[1])\n",
        "\n",
        "fig, ax = plt.subplots()\n",
        "ax.scatter(Loss_5,Accuracy_5)\n",
        "for i, txt in enumerate(Models_5):\n",
        "    ax.annotate(txt, (Loss_5[i],Accuracy_5[i] ))\n",
        "plt.title(\"Summary for Accuracy and Loss\")\n",
        "plt.ylabel(\"Accuracy\")\n",
        "plt.xlabel(\"Loss\")\n",
        "\n",
        "plt.show()"
      ]
    },
    {
      "cell_type": "markdown",
      "id": "cd7556d2-a4ea-417d-8098-e68a5802c973",
      "metadata": {
        "id": "cd7556d2-a4ea-417d-8098-e68a5802c973"
      },
      "source": [
        "In the realm of pre-trained models, it was Model_5, or the FineTuned_VGG_Model_3, that stood out as the top performer, boasting an impressive 99.4% accuracy and a mere 8.3% loss. Constructed with 5000 training samples, this model was optimized using the Adam optimizer with a learning rate of 0.000001.\n",
        "\n",
        "Both in the case of Scratch Models and Pre-Trained Models, it became evident that the best-performing models were those trained using 5000 training samples and the Adam optimizer. The correlation between the training sample size and the network's performance is unmistakable. In my view, a larger sample size enables the model to train more effectively and grasp the intricate features of the images pertinent to the specific classification task at hand, in our case, distinguishing between cats and dogs.\n",
        "\n",
        "In the context of models built from scratch, those utilizing Adam as the optimizer, alongside a max-pooling layer with a pooling size of 2, proved to be the most effective, irrespective of the sample sizes. To optimize these networks, I experimented with incorporating a dropout rate of 0.5 and augmented images, which notably resulted in a considerable increase in accuracy when evaluating unseen data.\n",
        "\n",
        "Similarly, leveraging the Adam optimizer, along with a dropout rate and augmented images, proved instrumental in fine-tuning the pre-trained network. By enforcing a constraint that prohibited the pre-trained model from modifying its weights during training, we ensured the model remained focused on the specific task of classifying cats versus dogs. Additionally, freezing the initial four layers aimed to direct the model's attention specifically to the intricate characteristics of the cats and dogs classification task."
      ]
    }
  ],
  "metadata": {
    "kernelspec": {
      "display_name": "Python 3",
      "language": "python",
      "name": "python3"
    },
    "language_info": {
      "codemirror_mode": {
        "name": "ipython",
        "version": 3
      },
      "file_extension": ".py",
      "mimetype": "text/x-python",
      "name": "python",
      "nbconvert_exporter": "python",
      "pygments_lexer": "ipython3",
      "version": "3.6.8"
    },
    "colab": {
      "provenance": [],
      "include_colab_link": true
    }
  },
  "nbformat": 4,
  "nbformat_minor": 5
}