{
  "nbformat": 4,
  "nbformat_minor": 0,
  "metadata": {
    "colab": {
      "provenance": [],
      "machine_shape": "hm",
      "gpuType": "T4",
      "authorship_tag": "ABX9TyOlCicplH5p6Z5+aeM2GI0+",
      "include_colab_link": true
    },
    "kernelspec": {
      "name": "python3",
      "display_name": "Python 3"
    },
    "language_info": {
      "name": "python"
    },
    "accelerator": "GPU"
  },
  "cells": [
    {
      "cell_type": "markdown",
      "metadata": {
        "id": "view-in-github",
        "colab_type": "text"
      },
      "source": [
        "<a href=\"https://colab.research.google.com/github/Nisha40108/ADVANCED-MACHINE-LEARNING-64061-/blob/main/Assignment_4_Text%26Sequence.ipynb\" target=\"_parent\"><img src=\"https://colab.research.google.com/assets/colab-badge.svg\" alt=\"Open In Colab\"/></a>"
      ]
    },
    {
      "cell_type": "markdown",
      "source": [
        "# **Assignment 4 - Text and Sequence Data using IMDB dataset**\n",
        "\n",
        "# **Name: Nisha Chaurasia**\n",
        "\n",
        "# **Date: 11-26-2023**"
      ],
      "metadata": {
        "id": "b_mrOJejKvJE"
      }
    },
    {
      "cell_type": "code",
      "source": [
        "!pip install tensorflow==2.12"
      ],
      "metadata": {
        "colab": {
          "base_uri": "https://localhost:8080/"
        },
        "id": "qA1g0TUmNORB",
        "outputId": "aaf589f4-da77-4fa2-ba8e-7224f9149edd"
      },
      "execution_count": 4,
      "outputs": [
        {
          "output_type": "stream",
          "name": "stdout",
          "text": [
            "Requirement already satisfied: tensorflow==2.12 in /usr/local/lib/python3.10/dist-packages (2.12.0)\n",
            "Requirement already satisfied: absl-py>=1.0.0 in /usr/local/lib/python3.10/dist-packages (from tensorflow==2.12) (1.4.0)\n",
            "Requirement already satisfied: astunparse>=1.6.0 in /usr/local/lib/python3.10/dist-packages (from tensorflow==2.12) (1.6.3)\n",
            "Requirement already satisfied: flatbuffers>=2.0 in /usr/local/lib/python3.10/dist-packages (from tensorflow==2.12) (23.5.26)\n",
            "Requirement already satisfied: gast<=0.4.0,>=0.2.1 in /usr/local/lib/python3.10/dist-packages (from tensorflow==2.12) (0.4.0)\n",
            "Requirement already satisfied: google-pasta>=0.1.1 in /usr/local/lib/python3.10/dist-packages (from tensorflow==2.12) (0.2.0)\n",
            "Requirement already satisfied: grpcio<2.0,>=1.24.3 in /usr/local/lib/python3.10/dist-packages (from tensorflow==2.12) (1.59.2)\n",
            "Requirement already satisfied: h5py>=2.9.0 in /usr/local/lib/python3.10/dist-packages (from tensorflow==2.12) (3.9.0)\n",
            "Requirement already satisfied: jax>=0.3.15 in /usr/local/lib/python3.10/dist-packages (from tensorflow==2.12) (0.4.20)\n",
            "Requirement already satisfied: keras<2.13,>=2.12.0 in /usr/local/lib/python3.10/dist-packages (from tensorflow==2.12) (2.12.0)\n",
            "Requirement already satisfied: libclang>=13.0.0 in /usr/local/lib/python3.10/dist-packages (from tensorflow==2.12) (16.0.6)\n",
            "Requirement already satisfied: numpy<1.24,>=1.22 in /usr/local/lib/python3.10/dist-packages (from tensorflow==2.12) (1.23.5)\n",
            "Requirement already satisfied: opt-einsum>=2.3.2 in /usr/local/lib/python3.10/dist-packages (from tensorflow==2.12) (3.3.0)\n",
            "Requirement already satisfied: packaging in /usr/local/lib/python3.10/dist-packages (from tensorflow==2.12) (23.2)\n",
            "Requirement already satisfied: protobuf!=4.21.0,!=4.21.1,!=4.21.2,!=4.21.3,!=4.21.4,!=4.21.5,<5.0.0dev,>=3.20.3 in /usr/local/lib/python3.10/dist-packages (from tensorflow==2.12) (3.20.3)\n",
            "Requirement already satisfied: setuptools in /usr/local/lib/python3.10/dist-packages (from tensorflow==2.12) (67.7.2)\n",
            "Requirement already satisfied: six>=1.12.0 in /usr/local/lib/python3.10/dist-packages (from tensorflow==2.12) (1.16.0)\n",
            "Requirement already satisfied: tensorboard<2.13,>=2.12 in /usr/local/lib/python3.10/dist-packages (from tensorflow==2.12) (2.12.3)\n",
            "Requirement already satisfied: tensorflow-estimator<2.13,>=2.12.0 in /usr/local/lib/python3.10/dist-packages (from tensorflow==2.12) (2.12.0)\n",
            "Requirement already satisfied: termcolor>=1.1.0 in /usr/local/lib/python3.10/dist-packages (from tensorflow==2.12) (2.3.0)\n",
            "Requirement already satisfied: typing-extensions>=3.6.6 in /usr/local/lib/python3.10/dist-packages (from tensorflow==2.12) (4.5.0)\n",
            "Requirement already satisfied: wrapt<1.15,>=1.11.0 in /usr/local/lib/python3.10/dist-packages (from tensorflow==2.12) (1.14.1)\n",
            "Requirement already satisfied: tensorflow-io-gcs-filesystem>=0.23.1 in /usr/local/lib/python3.10/dist-packages (from tensorflow==2.12) (0.34.0)\n",
            "Requirement already satisfied: wheel<1.0,>=0.23.0 in /usr/local/lib/python3.10/dist-packages (from astunparse>=1.6.0->tensorflow==2.12) (0.41.3)\n",
            "Requirement already satisfied: ml-dtypes>=0.2.0 in /usr/local/lib/python3.10/dist-packages (from jax>=0.3.15->tensorflow==2.12) (0.2.0)\n",
            "Requirement already satisfied: scipy>=1.9 in /usr/local/lib/python3.10/dist-packages (from jax>=0.3.15->tensorflow==2.12) (1.11.3)\n",
            "Requirement already satisfied: google-auth<3,>=1.6.3 in /usr/local/lib/python3.10/dist-packages (from tensorboard<2.13,>=2.12->tensorflow==2.12) (2.17.3)\n",
            "Requirement already satisfied: google-auth-oauthlib<1.1,>=0.5 in /usr/local/lib/python3.10/dist-packages (from tensorboard<2.13,>=2.12->tensorflow==2.12) (1.0.0)\n",
            "Requirement already satisfied: markdown>=2.6.8 in /usr/local/lib/python3.10/dist-packages (from tensorboard<2.13,>=2.12->tensorflow==2.12) (3.5.1)\n",
            "Requirement already satisfied: requests<3,>=2.21.0 in /usr/local/lib/python3.10/dist-packages (from tensorboard<2.13,>=2.12->tensorflow==2.12) (2.31.0)\n",
            "Requirement already satisfied: tensorboard-data-server<0.8.0,>=0.7.0 in /usr/local/lib/python3.10/dist-packages (from tensorboard<2.13,>=2.12->tensorflow==2.12) (0.7.2)\n",
            "Requirement already satisfied: werkzeug>=1.0.1 in /usr/local/lib/python3.10/dist-packages (from tensorboard<2.13,>=2.12->tensorflow==2.12) (3.0.1)\n",
            "Requirement already satisfied: cachetools<6.0,>=2.0.0 in /usr/local/lib/python3.10/dist-packages (from google-auth<3,>=1.6.3->tensorboard<2.13,>=2.12->tensorflow==2.12) (5.3.2)\n",
            "Requirement already satisfied: pyasn1-modules>=0.2.1 in /usr/local/lib/python3.10/dist-packages (from google-auth<3,>=1.6.3->tensorboard<2.13,>=2.12->tensorflow==2.12) (0.3.0)\n",
            "Requirement already satisfied: rsa<5,>=3.1.4 in /usr/local/lib/python3.10/dist-packages (from google-auth<3,>=1.6.3->tensorboard<2.13,>=2.12->tensorflow==2.12) (4.9)\n",
            "Requirement already satisfied: requests-oauthlib>=0.7.0 in /usr/local/lib/python3.10/dist-packages (from google-auth-oauthlib<1.1,>=0.5->tensorboard<2.13,>=2.12->tensorflow==2.12) (1.3.1)\n",
            "Requirement already satisfied: charset-normalizer<4,>=2 in /usr/local/lib/python3.10/dist-packages (from requests<3,>=2.21.0->tensorboard<2.13,>=2.12->tensorflow==2.12) (3.3.2)\n",
            "Requirement already satisfied: idna<4,>=2.5 in /usr/local/lib/python3.10/dist-packages (from requests<3,>=2.21.0->tensorboard<2.13,>=2.12->tensorflow==2.12) (3.4)\n",
            "Requirement already satisfied: urllib3<3,>=1.21.1 in /usr/local/lib/python3.10/dist-packages (from requests<3,>=2.21.0->tensorboard<2.13,>=2.12->tensorflow==2.12) (2.0.7)\n",
            "Requirement already satisfied: certifi>=2017.4.17 in /usr/local/lib/python3.10/dist-packages (from requests<3,>=2.21.0->tensorboard<2.13,>=2.12->tensorflow==2.12) (2023.7.22)\n",
            "Requirement already satisfied: MarkupSafe>=2.1.1 in /usr/local/lib/python3.10/dist-packages (from werkzeug>=1.0.1->tensorboard<2.13,>=2.12->tensorflow==2.12) (2.1.3)\n",
            "Requirement already satisfied: pyasn1<0.6.0,>=0.4.6 in /usr/local/lib/python3.10/dist-packages (from pyasn1-modules>=0.2.1->google-auth<3,>=1.6.3->tensorboard<2.13,>=2.12->tensorflow==2.12) (0.5.0)\n",
            "Requirement already satisfied: oauthlib>=3.0.0 in /usr/local/lib/python3.10/dist-packages (from requests-oauthlib>=0.7.0->google-auth-oauthlib<1.1,>=0.5->tensorboard<2.13,>=2.12->tensorflow==2.12) (3.2.2)\n"
          ]
        }
      ]
    },
    {
      "cell_type": "markdown",
      "source": [
        "**Loading the important libraries**"
      ],
      "metadata": {
        "id": "RxKBV_W8NhO3"
      }
    },
    {
      "cell_type": "code",
      "source": [
        "import pandas as pd\n",
        "import numpy as np\n",
        "import seaborn as sns\n",
        "import matplotlib.pyplot as plt\n",
        "%matplotlib inline\n",
        "import logging\n",
        "logging.getLogger('tensorflow').disabled = True"
      ],
      "metadata": {
        "id": "Eon7X342N2hR"
      },
      "execution_count": 5,
      "outputs": []
    },
    {
      "cell_type": "markdown",
      "source": [
        "**Importing TensorFlow and Keras:**"
      ],
      "metadata": {
        "id": "XFM9QXhQRrKh"
      }
    },
    {
      "cell_type": "code",
      "source": [
        "from tensorflow import keras\n",
        "from tensorflow.keras import layers\n",
        "from sklearn.model_selection import train_test_split\n",
        "from keras import preprocessing\n",
        "from keras.preprocessing.text import Tokenizer\n",
        "from tensorflow.keras.preprocessing.sequence import pad_sequences\n",
        "from keras.datasets import imdb\n",
        "from keras.models import Sequential\n",
        "from keras.layers import Flatten, Dense, Embedding, LSTM,  Conv1D, MaxPooling1D, GlobalMaxPooling1D, Dropout\n",
        "from keras.models import load_model\n",
        "from keras.optimizers import RMSprop\n",
        "from tensorflow.keras.callbacks import EarlyStopping\n",
        "from tensorflow.keras.callbacks import ModelCheckpoint\n",
        "from tensorflow.keras.optimizers import Adam\n",
        "from google.colab import files\n",
        "import re, os"
      ],
      "metadata": {
        "id": "KGYHkN3URoiL"
      },
      "execution_count": 7,
      "outputs": []
    },
    {
      "cell_type": "markdown",
      "source": [
        "#### Considering the IMDB example from Chapter 6. Re-running the example and modifying the  by **implementing a cutoff for reviews after 150 words, Training Sample - 100, Validation Sample - 10000, Consider only the top 10,000 words**"
      ],
      "metadata": {
        "id": "pu8DfrCDazNv"
      }
    },
    {
      "cell_type": "markdown",
      "source": [
        "### **Model 1: Basic model from scratch**"
      ],
      "metadata": {
        "id": "JbquvIvKvh3W"
      }
    },
    {
      "cell_type": "code",
      "source": [
        "num_words = 10000\n",
        "maxlen = 150\n",
        "\n",
        "(train_data, train_labels), (test_data, test_labels) = imdb.load_data(num_words=num_words)\n",
        "train_data = pad_sequences(train_data, maxlen=maxlen)\n",
        "test_data = pad_sequences(test_data, maxlen=maxlen)\n",
        "\n",
        "# Combining the Training and Testing data create an entire dataset\n",
        "texts = np.concatenate((train_data, test_data), axis=0)\n",
        "labels = np.concatenate((train_labels, test_labels), axis=0)\n",
        "\n",
        "# Splitting the data into Training and Validation Samples\n",
        "train_texts, val_texts, train_labels, val_labels = train_test_split(texts, labels, train_size=100, test_size=10000, random_state=42, stratify=labels)\n",
        "\n",
        "# Further split the data to get the test size of 5000 samples\n",
        "_, test_texts, _, test_labels = train_test_split(test_data, test_labels, test_size=5000, random_state=42, stratify=test_labels)"
      ],
      "metadata": {
        "id": "vtUvPhyevhQ0"
      },
      "execution_count": 34,
      "outputs": []
    },
    {
      "cell_type": "code",
      "source": [
        "train_texts.shape"
      ],
      "metadata": {
        "colab": {
          "base_uri": "https://localhost:8080/"
        },
        "id": "UG0BVyvM0rOf",
        "outputId": "a6c44628-b4c9-4011-f1d7-ab411a04bbcf"
      },
      "execution_count": 35,
      "outputs": [
        {
          "output_type": "execute_result",
          "data": {
            "text/plain": [
              "(100, 150)"
            ]
          },
          "metadata": {},
          "execution_count": 35
        }
      ]
    },
    {
      "cell_type": "code",
      "source": [
        "val_texts.shape"
      ],
      "metadata": {
        "colab": {
          "base_uri": "https://localhost:8080/"
        },
        "id": "iuybYOde0x2v",
        "outputId": "f1e69464-25b1-4879-eac6-f7dc23ff2af4"
      },
      "execution_count": 36,
      "outputs": [
        {
          "output_type": "execute_result",
          "data": {
            "text/plain": [
              "(10000, 150)"
            ]
          },
          "metadata": {},
          "execution_count": 36
        }
      ]
    },
    {
      "cell_type": "code",
      "source": [
        "test_texts.shape"
      ],
      "metadata": {
        "colab": {
          "base_uri": "https://localhost:8080/"
        },
        "id": "kAQk9C160yLt",
        "outputId": "f087eaeb-5ab3-47ea-c0e5-c32d0410c16b"
      },
      "execution_count": 37,
      "outputs": [
        {
          "output_type": "execute_result",
          "data": {
            "text/plain": [
              "(5000, 150)"
            ]
          },
          "metadata": {},
          "execution_count": 37
        }
      ]
    },
    {
      "cell_type": "markdown",
      "source": [
        "**Model Building**"
      ],
      "metadata": {
        "id": "TQlwWwHidN7M"
      }
    },
    {
      "cell_type": "code",
      "source": [
        "model = Sequential()\n",
        "model.add(Embedding(10000, 8, input_length=maxlen))\n",
        "model.add(Flatten())\n",
        "model.add(Dense(1, activation = 'sigmoid'))\n",
        "model.compile(optimizer = 'rmsprop', loss = 'binary_crossentropy', metrics = ['accuracy'])\n",
        "model.summary()"
      ],
      "metadata": {
        "colab": {
          "base_uri": "https://localhost:8080/"
        },
        "id": "IZ4e-UAt1Bf4",
        "outputId": "3662b195-3edc-4ad5-ad1f-ae16016d313b"
      },
      "execution_count": 38,
      "outputs": [
        {
          "output_type": "stream",
          "name": "stdout",
          "text": [
            "Model: \"sequential_2\"\n",
            "_________________________________________________________________\n",
            " Layer (type)                Output Shape              Param #   \n",
            "=================================================================\n",
            " embedding_2 (Embedding)     (None, 150, 8)            80000     \n",
            "                                                                 \n",
            " flatten_2 (Flatten)         (None, 1200)              0         \n",
            "                                                                 \n",
            " dense_2 (Dense)             (None, 1)                 1201      \n",
            "                                                                 \n",
            "=================================================================\n",
            "Total params: 81,201\n",
            "Trainable params: 81,201\n",
            "Non-trainable params: 0\n",
            "_________________________________________________________________\n"
          ]
        }
      ]
    },
    {
      "cell_type": "markdown",
      "source": [
        "**Model Execution**"
      ],
      "metadata": {
        "id": "ZFvEY5DChHD1"
      }
    },
    {
      "cell_type": "code",
      "source": [
        "# Setting Callbacks\n",
        "callbacks = ModelCheckpoint(\n",
        "            filepath= \"model1.h5\",\n",
        "            save_best_only= True,\n",
        "            monitor= \"val_loss\"\n",
        "            )\n",
        "\n",
        "\n",
        "# Model Fit - Running the Model\n",
        "Model_1 = model.fit(train_texts, train_labels,\n",
        "                    epochs=30,\n",
        "                    batch_size=32,\n",
        "                    validation_data=(val_texts, val_labels),\n",
        "                    callbacks=callbacks)"
      ],
      "metadata": {
        "colab": {
          "base_uri": "https://localhost:8080/"
        },
        "id": "FbNkjdk-1gh4",
        "outputId": "73194917-3f51-447f-e051-f6fa8d984160"
      },
      "execution_count": 39,
      "outputs": [
        {
          "output_type": "stream",
          "name": "stdout",
          "text": [
            "Epoch 1/30\n",
            "4/4 [==============================] - 2s 345ms/step - loss: 0.6954 - accuracy: 0.4900 - val_loss: 0.6934 - val_accuracy: 0.4995\n",
            "Epoch 2/30\n",
            "4/4 [==============================] - 1s 276ms/step - loss: 0.6728 - accuracy: 0.8300 - val_loss: 0.6934 - val_accuracy: 0.5008\n",
            "Epoch 3/30\n",
            "4/4 [==============================] - 1s 288ms/step - loss: 0.6573 - accuracy: 0.9200 - val_loss: 0.6934 - val_accuracy: 0.5005\n",
            "Epoch 4/30\n",
            "4/4 [==============================] - 1s 289ms/step - loss: 0.6434 - accuracy: 0.9900 - val_loss: 0.6934 - val_accuracy: 0.5006\n",
            "Epoch 5/30\n",
            "4/4 [==============================] - 1s 293ms/step - loss: 0.6301 - accuracy: 0.9900 - val_loss: 0.6933 - val_accuracy: 0.5022\n",
            "Epoch 6/30\n",
            "4/4 [==============================] - 1s 261ms/step - loss: 0.6170 - accuracy: 1.0000 - val_loss: 0.6933 - val_accuracy: 0.5034\n",
            "Epoch 7/30\n",
            "4/4 [==============================] - 1s 269ms/step - loss: 0.6034 - accuracy: 1.0000 - val_loss: 0.6933 - val_accuracy: 0.5033\n",
            "Epoch 8/30\n",
            "4/4 [==============================] - 1s 291ms/step - loss: 0.5890 - accuracy: 1.0000 - val_loss: 0.6933 - val_accuracy: 0.5069\n",
            "Epoch 9/30\n",
            "4/4 [==============================] - 1s 289ms/step - loss: 0.5744 - accuracy: 1.0000 - val_loss: 0.6933 - val_accuracy: 0.5062\n",
            "Epoch 10/30\n",
            "4/4 [==============================] - 1s 292ms/step - loss: 0.5594 - accuracy: 1.0000 - val_loss: 0.6933 - val_accuracy: 0.5078\n",
            "Epoch 11/30\n",
            "4/4 [==============================] - 1s 205ms/step - loss: 0.5436 - accuracy: 1.0000 - val_loss: 0.6932 - val_accuracy: 0.5061\n",
            "Epoch 12/30\n",
            "4/4 [==============================] - 1s 280ms/step - loss: 0.5273 - accuracy: 1.0000 - val_loss: 0.6932 - val_accuracy: 0.5067\n",
            "Epoch 13/30\n",
            "4/4 [==============================] - 1s 288ms/step - loss: 0.5107 - accuracy: 1.0000 - val_loss: 0.6933 - val_accuracy: 0.5065\n",
            "Epoch 14/30\n",
            "4/4 [==============================] - 1s 249ms/step - loss: 0.4939 - accuracy: 1.0000 - val_loss: 0.6933 - val_accuracy: 0.5061\n",
            "Epoch 15/30\n",
            "4/4 [==============================] - 1s 237ms/step - loss: 0.4772 - accuracy: 1.0000 - val_loss: 0.6933 - val_accuracy: 0.5072\n",
            "Epoch 16/30\n",
            "4/4 [==============================] - 1s 270ms/step - loss: 0.4596 - accuracy: 1.0000 - val_loss: 0.6933 - val_accuracy: 0.5070\n",
            "Epoch 17/30\n",
            "4/4 [==============================] - 1s 268ms/step - loss: 0.4419 - accuracy: 1.0000 - val_loss: 0.6933 - val_accuracy: 0.5076\n",
            "Epoch 18/30\n",
            "4/4 [==============================] - 1s 236ms/step - loss: 0.4241 - accuracy: 1.0000 - val_loss: 0.6933 - val_accuracy: 0.5091\n",
            "Epoch 19/30\n",
            "4/4 [==============================] - 1s 289ms/step - loss: 0.4061 - accuracy: 1.0000 - val_loss: 0.6935 - val_accuracy: 0.5079\n",
            "Epoch 20/30\n",
            "4/4 [==============================] - 1s 253ms/step - loss: 0.3882 - accuracy: 1.0000 - val_loss: 0.6934 - val_accuracy: 0.5099\n",
            "Epoch 21/30\n",
            "4/4 [==============================] - 1s 255ms/step - loss: 0.3707 - accuracy: 1.0000 - val_loss: 0.6934 - val_accuracy: 0.5116\n",
            "Epoch 22/30\n",
            "4/4 [==============================] - 1s 258ms/step - loss: 0.3531 - accuracy: 1.0000 - val_loss: 0.6935 - val_accuracy: 0.5108\n",
            "Epoch 23/30\n",
            "4/4 [==============================] - 1s 280ms/step - loss: 0.3353 - accuracy: 1.0000 - val_loss: 0.6936 - val_accuracy: 0.5118\n",
            "Epoch 24/30\n",
            "4/4 [==============================] - 1s 298ms/step - loss: 0.3180 - accuracy: 1.0000 - val_loss: 0.6936 - val_accuracy: 0.5144\n",
            "Epoch 25/30\n",
            "4/4 [==============================] - 1s 256ms/step - loss: 0.3012 - accuracy: 1.0000 - val_loss: 0.6938 - val_accuracy: 0.5119\n",
            "Epoch 26/30\n",
            "4/4 [==============================] - 1s 304ms/step - loss: 0.2848 - accuracy: 1.0000 - val_loss: 0.6941 - val_accuracy: 0.5110\n",
            "Epoch 27/30\n",
            "4/4 [==============================] - 1s 224ms/step - loss: 0.2688 - accuracy: 1.0000 - val_loss: 0.6943 - val_accuracy: 0.5111\n",
            "Epoch 28/30\n",
            "4/4 [==============================] - 1s 246ms/step - loss: 0.2532 - accuracy: 1.0000 - val_loss: 0.6945 - val_accuracy: 0.5124\n",
            "Epoch 29/30\n",
            "4/4 [==============================] - 1s 221ms/step - loss: 0.2381 - accuracy: 1.0000 - val_loss: 0.6946 - val_accuracy: 0.5147\n",
            "Epoch 30/30\n",
            "4/4 [==============================] - 1s 295ms/step - loss: 0.2239 - accuracy: 1.0000 - val_loss: 0.6948 - val_accuracy: 0.5137\n"
          ]
        }
      ]
    },
    {
      "cell_type": "markdown",
      "source": [
        "**Ploating the Accuracy and loss for training and validation**"
      ],
      "metadata": {
        "id": "Kq4cR11ntVcQ"
      }
    },
    {
      "cell_type": "code",
      "source": [
        "accuracy = Model_1.history['accuracy']\n",
        "val_accuracy = Model_1.history['val_accuracy']\n",
        "\n",
        "loss = Model_1.history[\"loss\"]\n",
        "val_loss = Model_1.history[\"val_loss\"]\n",
        "\n",
        "epochs = range(1, len(accuracy) + 1)\n",
        "\n",
        "plt.figure(figsize=(6,4))\n",
        "plt.plot(epochs, accuracy, color=\"grey\", linestyle=\"dashed\", label=\"Training Accuracy\")\n",
        "plt.plot(epochs, val_accuracy, color=\"blue\",linestyle=\"dashed\", label=\"Validation Accuracy\")\n",
        "plt.title(\"Model_1:Accuracy\")\n",
        "plt.legend()\n",
        "plt.figure()\n",
        "\n",
        "plt.figure(figsize=(6,4))\n",
        "plt.plot(epochs, loss, color=\"grey\", linestyle=\"dashed\", label=\"Training Loss\")\n",
        "plt.plot(epochs, val_loss, color=\"blue\", linestyle=\"dashed\", label=\"Validation Loss\")\n",
        "plt.title(\"Model_1: Loss\")\n",
        "plt.legend()\n",
        "plt.show()"
      ],
      "metadata": {
        "colab": {
          "base_uri": "https://localhost:8080/",
          "height": 782
        },
        "id": "Tw7i0jmf1rv-",
        "outputId": "80563e95-dc67-4786-eef4-5db0d0ceb984"
      },
      "execution_count": 32,
      "outputs": [
        {
          "output_type": "display_data",
          "data": {
            "text/plain": [
              "<Figure size 600x400 with 1 Axes>"
            ],
            "image/png": "[encoded data removed]"
          },
          "metadata": {}
        },
        {
          "output_type": "display_data",
          "data": {
            "text/plain": [
              "<Figure size 640x480 with 0 Axes>"
            ]
          },
          "metadata": {}
        },
        {
          "output_type": "display_data",
          "data": {
            "text/plain": [
              "<Figure size 600x400 with 1 Axes>"
            ],
            "image/png": "[encoded data removed]"
          },
          "metadata": {}
        }
      ]
    },
    {
      "cell_type": "code",
      "source": [
        "test_model = load_model('model1.h5')\n",
        "Model1_Results = test_model.evaluate(test_texts,test_labels)\n",
        "print(f'Loss: {Model1_Results[0]:.3f}')\n",
        "print(f'Accuracy: {Model1_Results[1]:.3f}')"
      ],
      "metadata": {
        "colab": {
          "base_uri": "https://localhost:8080/"
        },
        "id": "RuMkg-dh2A_v",
        "outputId": "9221f013-6543-488c-fd94-b6204240e0c7"
      },
      "execution_count": 33,
      "outputs": [
        {
          "output_type": "stream",
          "name": "stdout",
          "text": [
            "157/157 [==============================] - 0s 2ms/step - loss: 0.6928 - accuracy: 0.5084\n",
            "Loss: 0.693\n",
            "Accuracy: 0.508\n"
          ]
        }
      ]
    },
    {
      "cell_type": "markdown",
      "source": [
        "The model with 100 training samples which was built with just an embedding layer resulted in 51.7% Accuracy, which is not that bad because the model was just trained with 100 Samples."
      ],
      "metadata": {
        "id": "BN8wPrscvKLj"
      }
    },
    {
      "cell_type": "markdown",
      "source": [
        "### **Model 2: Increasing the training sample to 1000 and with Embedding Layer**"
      ],
      "metadata": {
        "id": "kaJzb-292Fho"
      }
    },
    {
      "cell_type": "code",
      "source": [
        "num_words = 10000\n",
        "maxlen = 150\n",
        "\n",
        "(train_data, train_labels), (test_data, test_labels) = imdb.load_data(num_words=num_words)\n",
        "train_data = pad_sequences(train_data, maxlen=maxlen)\n",
        "test_data = pad_sequences(test_data, maxlen=maxlen)\n",
        "\n",
        "# Combining the Training and Testing data create an entire dataset\n",
        "texts = np.concatenate((train_data, test_data), axis=0)\n",
        "labels = np.concatenate((train_labels, test_labels), axis=0)\n",
        "\n",
        "# Splitting the data into Training and Validation Samples\n",
        "train_texts, val_texts, train_labels, val_labels = train_test_split(texts, labels, train_size=10000, test_size=10000, random_state=42, stratify=labels)\n",
        "\n",
        "# Further split the data to get the test size of 5000 samples\n",
        "_, test_texts, _, test_labels = train_test_split(test_data, test_labels, test_size=5000, random_state=42, stratify=test_labels)"
      ],
      "metadata": {
        "id": "JUhMEnoo6Ddb"
      },
      "execution_count": 40,
      "outputs": []
    },
    {
      "cell_type": "code",
      "source": [
        "train_texts.shape"
      ],
      "metadata": {
        "id": "psPPyz3m6DrL",
        "outputId": "651d7df6-d1c3-40bb-9147-26bc89211068",
        "colab": {
          "base_uri": "https://localhost:8080/"
        }
      },
      "execution_count": 41,
      "outputs": [
        {
          "output_type": "execute_result",
          "data": {
            "text/plain": [
              "(10000, 150)"
            ]
          },
          "metadata": {},
          "execution_count": 41
        }
      ]
    },
    {
      "cell_type": "code",
      "source": [
        "val_texts.shape"
      ],
      "metadata": {
        "id": "FqIwQj_l6D0o",
        "outputId": "2cf403a1-4d3e-499f-eeee-5fa8e8ac7134",
        "colab": {
          "base_uri": "https://localhost:8080/"
        }
      },
      "execution_count": 42,
      "outputs": [
        {
          "output_type": "execute_result",
          "data": {
            "text/plain": [
              "(10000, 150)"
            ]
          },
          "metadata": {},
          "execution_count": 42
        }
      ]
    },
    {
      "cell_type": "code",
      "source": [
        "test_texts.shape"
      ],
      "metadata": {
        "id": "WEc7E3tU6D6s",
        "outputId": "fa1ac354-72f7-4aaf-ca0a-73989ae996b4",
        "colab": {
          "base_uri": "https://localhost:8080/"
        }
      },
      "execution_count": 43,
      "outputs": [
        {
          "output_type": "execute_result",
          "data": {
            "text/plain": [
              "(5000, 150)"
            ]
          },
          "metadata": {},
          "execution_count": 43
        }
      ]
    },
    {
      "cell_type": "code",
      "source": [
        "model = Sequential()\n",
        "model.add(Embedding(10000, 8, input_length=maxlen))\n",
        "model.add(Flatten())\n",
        "model.add(Dense(1, activation = 'sigmoid'))\n",
        "model.compile(optimizer = 'rmsprop', loss = 'binary_crossentropy', metrics = ['accuracy'])\n",
        "model.summary()"
      ],
      "metadata": {
        "id": "vvV9M2bu6D_S",
        "outputId": "13dfa043-fc7a-4904-9726-050682d07cf9",
        "colab": {
          "base_uri": "https://localhost:8080/"
        }
      },
      "execution_count": 46,
      "outputs": [
        {
          "output_type": "stream",
          "name": "stdout",
          "text": [
            "Model: \"sequential_4\"\n",
            "_________________________________________________________________\n",
            " Layer (type)                Output Shape              Param #   \n",
            "=================================================================\n",
            " embedding_4 (Embedding)     (None, 150, 8)            80000     \n",
            "                                                                 \n",
            " flatten_4 (Flatten)         (None, 1200)              0         \n",
            "                                                                 \n",
            " dense_4 (Dense)             (None, 1)                 1201      \n",
            "                                                                 \n",
            "=================================================================\n",
            "Total params: 81,201\n",
            "Trainable params: 81,201\n",
            "Non-trainable params: 0\n",
            "_________________________________________________________________\n"
          ]
        }
      ]
    },
    {
      "cell_type": "code",
      "source": [
        "# Setting Callbacks\n",
        "callbacks = ModelCheckpoint(\n",
        "            filepath= \"model2.h5\",\n",
        "            save_best_only= True,\n",
        "            monitor= \"val_loss\"\n",
        "            )\n",
        "\n",
        "\n",
        "# Model Fit - Running the Model\n",
        "Model_2 = model.fit(train_texts, train_labels,\n",
        "                    epochs=30,\n",
        "                    batch_size=32,\n",
        "                    validation_data=(val_texts, val_labels),\n",
        "                    callbacks=callbacks)"
      ],
      "metadata": {
        "id": "3DQU8mY-6Z2c",
        "outputId": "a572fd37-3eb9-41bc-bc29-9d9d04990205",
        "colab": {
          "base_uri": "https://localhost:8080/"
        }
      },
      "execution_count": 47,
      "outputs": [
        {
          "output_type": "stream",
          "name": "stdout",
          "text": [
            "Epoch 1/30\n",
            "313/313 [==============================] - 2s 8ms/step - loss: 0.2305 - accuracy: 0.9164 - val_loss: 0.3186 - val_accuracy: 0.8652\n",
            "Epoch 2/30\n",
            "313/313 [==============================] - 2s 7ms/step - loss: 0.1945 - accuracy: 0.9321 - val_loss: 0.3161 - val_accuracy: 0.8648\n",
            "Epoch 3/30\n",
            "313/313 [==============================] - 2s 6ms/step - loss: 0.1650 - accuracy: 0.9440 - val_loss: 0.3175 - val_accuracy: 0.8640\n",
            "Epoch 4/30\n",
            "313/313 [==============================] - 2s 7ms/step - loss: 0.1400 - accuracy: 0.9557 - val_loss: 0.3195 - val_accuracy: 0.8671\n",
            "Epoch 5/30\n",
            "313/313 [==============================] - 2s 7ms/step - loss: 0.1178 - accuracy: 0.9647 - val_loss: 0.3244 - val_accuracy: 0.8639\n",
            "Epoch 6/30\n",
            "313/313 [==============================] - 2s 6ms/step - loss: 0.0979 - accuracy: 0.9710 - val_loss: 0.3346 - val_accuracy: 0.8602\n",
            "Epoch 7/30\n",
            "313/313 [==============================] - 2s 6ms/step - loss: 0.0807 - accuracy: 0.9796 - val_loss: 0.3431 - val_accuracy: 0.8618\n",
            "Epoch 8/30\n",
            "313/313 [==============================] - 2s 6ms/step - loss: 0.0657 - accuracy: 0.9855 - val_loss: 0.3552 - val_accuracy: 0.8623\n",
            "Epoch 9/30\n",
            "313/313 [==============================] - 2s 6ms/step - loss: 0.0527 - accuracy: 0.9881 - val_loss: 0.3671 - val_accuracy: 0.8591\n",
            "Epoch 10/30\n",
            "313/313 [==============================] - 2s 6ms/step - loss: 0.0418 - accuracy: 0.9919 - val_loss: 0.3778 - val_accuracy: 0.8568\n",
            "Epoch 11/30\n",
            "313/313 [==============================] - 2s 6ms/step - loss: 0.0329 - accuracy: 0.9950 - val_loss: 0.3901 - val_accuracy: 0.8560\n",
            "Epoch 12/30\n",
            "313/313 [==============================] - 2s 6ms/step - loss: 0.0257 - accuracy: 0.9964 - val_loss: 0.4067 - val_accuracy: 0.8542\n",
            "Epoch 13/30\n",
            "313/313 [==============================] - 2s 6ms/step - loss: 0.0200 - accuracy: 0.9972 - val_loss: 0.4226 - val_accuracy: 0.8520\n",
            "Epoch 14/30\n",
            "313/313 [==============================] - 2s 6ms/step - loss: 0.0152 - accuracy: 0.9975 - val_loss: 0.4425 - val_accuracy: 0.8515\n",
            "Epoch 15/30\n",
            "313/313 [==============================] - 2s 5ms/step - loss: 0.0119 - accuracy: 0.9982 - val_loss: 0.4602 - val_accuracy: 0.8499\n",
            "Epoch 16/30\n",
            "313/313 [==============================] - 2s 6ms/step - loss: 0.0090 - accuracy: 0.9990 - val_loss: 0.4716 - val_accuracy: 0.8500\n",
            "Epoch 17/30\n",
            "313/313 [==============================] - 2s 5ms/step - loss: 0.0074 - accuracy: 0.9992 - val_loss: 0.4882 - val_accuracy: 0.8507\n",
            "Epoch 18/30\n",
            "313/313 [==============================] - 2s 5ms/step - loss: 0.0059 - accuracy: 0.9992 - val_loss: 0.5024 - val_accuracy: 0.8495\n",
            "Epoch 19/30\n",
            "313/313 [==============================] - 2s 5ms/step - loss: 0.0046 - accuracy: 0.9995 - val_loss: 0.5254 - val_accuracy: 0.8482\n",
            "Epoch 20/30\n",
            "313/313 [==============================] - 2s 5ms/step - loss: 0.0037 - accuracy: 0.9996 - val_loss: 0.5297 - val_accuracy: 0.8478\n",
            "Epoch 21/30\n",
            "313/313 [==============================] - 2s 6ms/step - loss: 0.0030 - accuracy: 0.9998 - val_loss: 0.5444 - val_accuracy: 0.8480\n",
            "Epoch 22/30\n",
            "313/313 [==============================] - 2s 5ms/step - loss: 0.0025 - accuracy: 0.9998 - val_loss: 0.5580 - val_accuracy: 0.8479\n",
            "Epoch 23/30\n",
            "313/313 [==============================] - 2s 6ms/step - loss: 0.0021 - accuracy: 0.9998 - val_loss: 0.5655 - val_accuracy: 0.8466\n",
            "Epoch 24/30\n",
            "313/313 [==============================] - 2s 6ms/step - loss: 0.0018 - accuracy: 0.9999 - val_loss: 0.5790 - val_accuracy: 0.8472\n",
            "Epoch 25/30\n",
            "313/313 [==============================] - 2s 5ms/step - loss: 0.0016 - accuracy: 0.9999 - val_loss: 0.5868 - val_accuracy: 0.8478\n",
            "Epoch 26/30\n",
            "313/313 [==============================] - 2s 5ms/step - loss: 0.0014 - accuracy: 0.9998 - val_loss: 0.5953 - val_accuracy: 0.8485\n",
            "Epoch 27/30\n",
            "313/313 [==============================] - 2s 6ms/step - loss: 0.0012 - accuracy: 0.9999 - val_loss: 0.5999 - val_accuracy: 0.8466\n",
            "Epoch 28/30\n",
            "313/313 [==============================] - 2s 5ms/step - loss: 0.0011 - accuracy: 0.9999 - val_loss: 0.6078 - val_accuracy: 0.8465\n",
            "Epoch 29/30\n",
            "313/313 [==============================] - 2s 6ms/step - loss: 9.5430e-04 - accuracy: 0.9999 - val_loss: 0.6150 - val_accuracy: 0.8467\n",
            "Epoch 30/30\n",
            "313/313 [==============================] - 2s 6ms/step - loss: 8.5225e-04 - accuracy: 0.9999 - val_loss: 0.6228 - val_accuracy: 0.8465\n"
          ]
        }
      ]
    },
    {
      "cell_type": "code",
      "source": [
        "accuracy = Model_2.history['accuracy']\n",
        "val_accuracy = Model_2.history['val_accuracy']\n",
        "\n",
        "loss = Model_2.history[\"loss\"]\n",
        "val_loss = Model_2.history[\"val_loss\"]\n",
        "\n",
        "epochs = range(1, len(accuracy) + 1)\n",
        "\n",
        "plt.figure(figsize=(6,4))\n",
        "plt.plot(epochs, accuracy, color=\"grey\", linestyle=\"dashed\", label=\"Training Accuracy\")\n",
        "plt.plot(epochs, val_accuracy, color=\"blue\",linestyle=\"dashed\", label=\"Validation Accuracy\")\n",
        "plt.title(\"Model_2:Accuracy\")\n",
        "plt.legend()\n",
        "plt.figure()\n",
        "\n",
        "plt.figure(figsize=(6,4))\n",
        "plt.plot(epochs, loss, color=\"grey\", linestyle=\"dashed\", label=\"Training Loss\")\n",
        "plt.plot(epochs, val_loss, color=\"blue\", linestyle=\"dashed\", label=\"Validation Loss\")\n",
        "plt.title(\"Model_2: Loss\")\n",
        "plt.legend()\n",
        "plt.show()"
      ],
      "metadata": {
        "id": "w6fQMzoo6dHX"
      },
      "execution_count": null,
      "outputs": []
    },
    {
      "cell_type": "code",
      "source": [
        "test_model = load_model('model2.h5')\n",
        "Model2_Results = test_model.evaluate(test_texts,test_labels)\n",
        "print(f'Loss: {Model2_Results[0]:.3f}')\n",
        "print(f'Accuracy: {Model2_Results[1]:.3f}')"
      ],
      "metadata": {
        "id": "N5WDr9Fr7_3D"
      },
      "execution_count": null,
      "outputs": []
    }
  ]
}