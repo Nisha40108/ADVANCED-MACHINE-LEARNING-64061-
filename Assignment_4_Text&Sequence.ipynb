{
  "nbformat": 4,
  "nbformat_minor": 0,
  "metadata": {
    "colab": {
      "provenance": [],
      "machine_shape": "hm",
      "gpuType": "T4",
      "authorship_tag": "ABX9TyMkhrIwXaztyOOULykWPvft",
      "include_colab_link": true
    },
    "kernelspec": {
      "name": "python3",
      "display_name": "Python 3"
    },
    "language_info": {
      "name": "python"
    },
    "accelerator": "GPU"
  },
  "cells": [
    {
      "cell_type": "markdown",
      "metadata": {
        "id": "view-in-github",
        "colab_type": "text"
      },
      "source": [
        "<a href=\"https://colab.research.google.com/github/Nisha40108/ADVANCED-MACHINE-LEARNING-64061-/blob/main/Assignment_4_Text%26Sequence.ipynb\" target=\"_parent\"><img src=\"https://colab.research.google.com/assets/colab-badge.svg\" alt=\"Open In Colab\"/></a>"
      ]
    },
    {
      "cell_type": "markdown",
      "source": [
        "# **Assignment 4 - Text and Sequence Data using IMDB dataset**\n",
        "\n",
        "# **Name: Nisha Chaurasia**\n",
        "\n",
        "# **Date: 11-26-2023**"
      ],
      "metadata": {
        "id": "b_mrOJejKvJE"
      }
    },
    {
      "cell_type": "code",
      "source": [
        "!pip install tensorflow==2.12"
      ],
      "metadata": {
        "colab": {
          "base_uri": "https://localhost:8080/"
        },
        "id": "qA1g0TUmNORB",
        "outputId": "1daea114-1f7b-4ef3-cf29-ee3142f1c36b"
      },
      "execution_count": 48,
      "outputs": [
        {
          "output_type": "stream",
          "name": "stdout",
          "text": [
            "Requirement already satisfied: tensorflow==2.12 in /usr/local/lib/python3.10/dist-packages (2.12.0)\n",
            "Requirement already satisfied: absl-py>=1.0.0 in /usr/local/lib/python3.10/dist-packages (from tensorflow==2.12) (1.4.0)\n",
            "Requirement already satisfied: astunparse>=1.6.0 in /usr/local/lib/python3.10/dist-packages (from tensorflow==2.12) (1.6.3)\n",
            "Requirement already satisfied: flatbuffers>=2.0 in /usr/local/lib/python3.10/dist-packages (from tensorflow==2.12) (23.5.26)\n",
            "Requirement already satisfied: gast<=0.4.0,>=0.2.1 in /usr/local/lib/python3.10/dist-packages (from tensorflow==2.12) (0.4.0)\n",
            "Requirement already satisfied: google-pasta>=0.1.1 in /usr/local/lib/python3.10/dist-packages (from tensorflow==2.12) (0.2.0)\n",
            "Requirement already satisfied: grpcio<2.0,>=1.24.3 in /usr/local/lib/python3.10/dist-packages (from tensorflow==2.12) (1.59.2)\n",
            "Requirement already satisfied: h5py>=2.9.0 in /usr/local/lib/python3.10/dist-packages (from tensorflow==2.12) (3.9.0)\n",
            "Requirement already satisfied: jax>=0.3.15 in /usr/local/lib/python3.10/dist-packages (from tensorflow==2.12) (0.4.20)\n",
            "Requirement already satisfied: keras<2.13,>=2.12.0 in /usr/local/lib/python3.10/dist-packages (from tensorflow==2.12) (2.12.0)\n",
            "Requirement already satisfied: libclang>=13.0.0 in /usr/local/lib/python3.10/dist-packages (from tensorflow==2.12) (16.0.6)\n",
            "Requirement already satisfied: numpy<1.24,>=1.22 in /usr/local/lib/python3.10/dist-packages (from tensorflow==2.12) (1.23.5)\n",
            "Requirement already satisfied: opt-einsum>=2.3.2 in /usr/local/lib/python3.10/dist-packages (from tensorflow==2.12) (3.3.0)\n",
            "Requirement already satisfied: packaging in /usr/local/lib/python3.10/dist-packages (from tensorflow==2.12) (23.2)\n",
            "Requirement already satisfied: protobuf!=4.21.0,!=4.21.1,!=4.21.2,!=4.21.3,!=4.21.4,!=4.21.5,<5.0.0dev,>=3.20.3 in /usr/local/lib/python3.10/dist-packages (from tensorflow==2.12) (3.20.3)\n",
            "Requirement already satisfied: setuptools in /usr/local/lib/python3.10/dist-packages (from tensorflow==2.12) (67.7.2)\n",
            "Requirement already satisfied: six>=1.12.0 in /usr/local/lib/python3.10/dist-packages (from tensorflow==2.12) (1.16.0)\n",
            "Requirement already satisfied: tensorboard<2.13,>=2.12 in /usr/local/lib/python3.10/dist-packages (from tensorflow==2.12) (2.12.3)\n",
            "Requirement already satisfied: tensorflow-estimator<2.13,>=2.12.0 in /usr/local/lib/python3.10/dist-packages (from tensorflow==2.12) (2.12.0)\n",
            "Requirement already satisfied: termcolor>=1.1.0 in /usr/local/lib/python3.10/dist-packages (from tensorflow==2.12) (2.3.0)\n",
            "Requirement already satisfied: typing-extensions>=3.6.6 in /usr/local/lib/python3.10/dist-packages (from tensorflow==2.12) (4.5.0)\n",
            "Requirement already satisfied: wrapt<1.15,>=1.11.0 in /usr/local/lib/python3.10/dist-packages (from tensorflow==2.12) (1.14.1)\n",
            "Requirement already satisfied: tensorflow-io-gcs-filesystem>=0.23.1 in /usr/local/lib/python3.10/dist-packages (from tensorflow==2.12) (0.34.0)\n",
            "Requirement already satisfied: wheel<1.0,>=0.23.0 in /usr/local/lib/python3.10/dist-packages (from astunparse>=1.6.0->tensorflow==2.12) (0.41.3)\n",
            "Requirement already satisfied: ml-dtypes>=0.2.0 in /usr/local/lib/python3.10/dist-packages (from jax>=0.3.15->tensorflow==2.12) (0.2.0)\n",
            "Requirement already satisfied: scipy>=1.9 in /usr/local/lib/python3.10/dist-packages (from jax>=0.3.15->tensorflow==2.12) (1.11.3)\n",
            "Requirement already satisfied: google-auth<3,>=1.6.3 in /usr/local/lib/python3.10/dist-packages (from tensorboard<2.13,>=2.12->tensorflow==2.12) (2.17.3)\n",
            "Requirement already satisfied: google-auth-oauthlib<1.1,>=0.5 in /usr/local/lib/python3.10/dist-packages (from tensorboard<2.13,>=2.12->tensorflow==2.12) (1.0.0)\n",
            "Requirement already satisfied: markdown>=2.6.8 in /usr/local/lib/python3.10/dist-packages (from tensorboard<2.13,>=2.12->tensorflow==2.12) (3.5.1)\n",
            "Requirement already satisfied: requests<3,>=2.21.0 in /usr/local/lib/python3.10/dist-packages (from tensorboard<2.13,>=2.12->tensorflow==2.12) (2.31.0)\n",
            "Requirement already satisfied: tensorboard-data-server<0.8.0,>=0.7.0 in /usr/local/lib/python3.10/dist-packages (from tensorboard<2.13,>=2.12->tensorflow==2.12) (0.7.2)\n",
            "Requirement already satisfied: werkzeug>=1.0.1 in /usr/local/lib/python3.10/dist-packages (from tensorboard<2.13,>=2.12->tensorflow==2.12) (3.0.1)\n",
            "Requirement already satisfied: cachetools<6.0,>=2.0.0 in /usr/local/lib/python3.10/dist-packages (from google-auth<3,>=1.6.3->tensorboard<2.13,>=2.12->tensorflow==2.12) (5.3.2)\n",
            "Requirement already satisfied: pyasn1-modules>=0.2.1 in /usr/local/lib/python3.10/dist-packages (from google-auth<3,>=1.6.3->tensorboard<2.13,>=2.12->tensorflow==2.12) (0.3.0)\n",
            "Requirement already satisfied: rsa<5,>=3.1.4 in /usr/local/lib/python3.10/dist-packages (from google-auth<3,>=1.6.3->tensorboard<2.13,>=2.12->tensorflow==2.12) (4.9)\n",
            "Requirement already satisfied: requests-oauthlib>=0.7.0 in /usr/local/lib/python3.10/dist-packages (from google-auth-oauthlib<1.1,>=0.5->tensorboard<2.13,>=2.12->tensorflow==2.12) (1.3.1)\n",
            "Requirement already satisfied: charset-normalizer<4,>=2 in /usr/local/lib/python3.10/dist-packages (from requests<3,>=2.21.0->tensorboard<2.13,>=2.12->tensorflow==2.12) (3.3.2)\n",
            "Requirement already satisfied: idna<4,>=2.5 in /usr/local/lib/python3.10/dist-packages (from requests<3,>=2.21.0->tensorboard<2.13,>=2.12->tensorflow==2.12) (3.4)\n",
            "Requirement already satisfied: urllib3<3,>=1.21.1 in /usr/local/lib/python3.10/dist-packages (from requests<3,>=2.21.0->tensorboard<2.13,>=2.12->tensorflow==2.12) (2.0.7)\n",
            "Requirement already satisfied: certifi>=2017.4.17 in /usr/local/lib/python3.10/dist-packages (from requests<3,>=2.21.0->tensorboard<2.13,>=2.12->tensorflow==2.12) (2023.7.22)\n",
            "Requirement already satisfied: MarkupSafe>=2.1.1 in /usr/local/lib/python3.10/dist-packages (from werkzeug>=1.0.1->tensorboard<2.13,>=2.12->tensorflow==2.12) (2.1.3)\n",
            "Requirement already satisfied: pyasn1<0.6.0,>=0.4.6 in /usr/local/lib/python3.10/dist-packages (from pyasn1-modules>=0.2.1->google-auth<3,>=1.6.3->tensorboard<2.13,>=2.12->tensorflow==2.12) (0.5.0)\n",
            "Requirement already satisfied: oauthlib>=3.0.0 in /usr/local/lib/python3.10/dist-packages (from requests-oauthlib>=0.7.0->google-auth-oauthlib<1.1,>=0.5->tensorboard<2.13,>=2.12->tensorflow==2.12) (3.2.2)\n"
          ]
        }
      ]
    },
    {
      "cell_type": "markdown",
      "source": [
        "**Loading the important libraries**"
      ],
      "metadata": {
        "id": "RxKBV_W8NhO3"
      }
    },
    {
      "cell_type": "code",
      "source": [
        "import pandas as pd\n",
        "import numpy as np\n",
        "import seaborn as sns\n",
        "import matplotlib.pyplot as plt\n",
        "%matplotlib inline\n",
        "import logging\n",
        "logging.getLogger('tensorflow').disabled = True"
      ],
      "metadata": {
        "id": "Eon7X342N2hR"
      },
      "execution_count": 49,
      "outputs": []
    },
    {
      "cell_type": "markdown",
      "source": [
        "**Importing TensorFlow and Keras:**"
      ],
      "metadata": {
        "id": "XFM9QXhQRrKh"
      }
    },
    {
      "cell_type": "code",
      "source": [
        "from tensorflow import keras\n",
        "from tensorflow.keras import layers\n",
        "from sklearn.model_selection import train_test_split\n",
        "from keras import preprocessing\n",
        "from keras.preprocessing.text import Tokenizer\n",
        "from tensorflow.keras.preprocessing.sequence import pad_sequences\n",
        "from keras.datasets import imdb\n",
        "from keras.models import Sequential\n",
        "from keras.layers import Flatten, Dense, Embedding, LSTM,  Conv1D, MaxPooling1D, GlobalMaxPooling1D, Dropout\n",
        "from keras.models import load_model\n",
        "from keras.optimizers import RMSprop\n",
        "from tensorflow.keras.callbacks import EarlyStopping\n",
        "from tensorflow.keras.callbacks import ModelCheckpoint\n",
        "from tensorflow.keras.optimizers import Adam\n",
        "from google.colab import files\n",
        "import re, os"
      ],
      "metadata": {
        "id": "KGYHkN3URoiL"
      },
      "execution_count": 50,
      "outputs": []
    },
    {
      "cell_type": "code",
      "source": [],
      "metadata": {
        "id": "8pCR_CLxcB_Q"
      },
      "execution_count": null,
      "outputs": []
    },
    {
      "cell_type": "markdown",
      "source": [
        "#### Considering the IMDB example from Chapter 6. Re-running the example and modifying the  by **implementing a cutoff for reviews after 150 words, Training Sample - 100, Validation Sample - 10000, Consider only the top 10,000 words**"
      ],
      "metadata": {
        "id": "pu8DfrCDazNv"
      }
    },
    {
      "cell_type": "markdown",
      "source": [
        "### **Model 1: Basic model from scratch**"
      ],
      "metadata": {
        "id": "JbquvIvKvh3W"
      }
    },
    {
      "cell_type": "code",
      "source": [
        "num_words = 10000\n",
        "maxlen = 150\n",
        "\n",
        "(train_data, train_labels), (test_data, test_labels) = imdb.load_data(num_words=num_words)\n",
        "train_data = pad_sequences(train_data, maxlen=maxlen)\n",
        "test_data = pad_sequences(test_data, maxlen=maxlen)\n",
        "\n",
        "\n",
        "# Combining the Training and Testing data create an entire dataset\n",
        "texts = np.concatenate((train_data, test_data), axis=0)\n",
        "labels = np.concatenate((train_labels, test_labels), axis=0)\n",
        "\n",
        "# Splitting the data into Training and Validation Samples\n",
        "train_texts, val_texts, train_labels, val_labels = train_test_split(texts, labels, train_size=100, test_size=10000, random_state=42, stratify=labels)\n",
        "print(train_texts.shape)\n",
        "# Further split the data to get the test size of 5000 samples\n",
        "_, test_texts, _, test_labels = train_test_split(test_data, test_labels, test_size=5000, random_state=42, stratify=test_labels)\n",
        "\n",
        "# Create a tokenizer\n",
        "tokenizer = Tokenizer(num_words=num_words)\n",
        "tokenizer.fit_on_texts(train_texts)\n",
        "\n",
        "# Convert text sequences to numerical sequences\n",
        "train_sequences = tokenizer.texts_to_sequences(train_texts)\n",
        "val_sequences = tokenizer.texts_to_sequences(val_texts)\n",
        "test_sequences = tokenizer.texts_to_sequences(test_texts)\n",
        "\n",
        "# Pad sequences to have consistent length\n",
        "train_data_vectorized = pad_sequences(train_sequences, maxlen=max_len)\n",
        "val_data_vectorized = pad_sequences(val_sequences, maxlen=max_len)\n",
        "test_data_vectorized = pad_sequences(test_sequences, maxlen=max_len)"
      ],
      "metadata": {
        "colab": {
          "base_uri": "https://localhost:8080/",
          "height": 425
        },
        "id": "vtUvPhyevhQ0",
        "outputId": "405dad1e-d890-4909-d9d3-f756deb0ac4e"
      },
      "execution_count": 134,
      "outputs": [
        {
          "output_type": "stream",
          "name": "stdout",
          "text": [
            "(100, 150)\n"
          ]
        },
        {
          "output_type": "error",
          "ename": "AttributeError",
          "evalue": "ignored",
          "traceback": [
            "\u001b[0;31m---------------------------------------------------------------------------\u001b[0m",
            "\u001b[0;31mAttributeError\u001b[0m                            Traceback (most recent call last)",
            "\u001b[0;32m<ipython-input-134-8b7365d1d575>\u001b[0m in \u001b[0;36m<cell line: 21>\u001b[0;34m()\u001b[0m\n\u001b[1;32m     19\u001b[0m \u001b[0;31m# Create a tokenizer\u001b[0m\u001b[0;34m\u001b[0m\u001b[0;34m\u001b[0m\u001b[0m\n\u001b[1;32m     20\u001b[0m \u001b[0mtokenizer\u001b[0m \u001b[0;34m=\u001b[0m \u001b[0mTokenizer\u001b[0m\u001b[0;34m(\u001b[0m\u001b[0mnum_words\u001b[0m\u001b[0;34m=\u001b[0m\u001b[0mnum_words\u001b[0m\u001b[0;34m)\u001b[0m\u001b[0;34m\u001b[0m\u001b[0;34m\u001b[0m\u001b[0m\n\u001b[0;32m---> 21\u001b[0;31m \u001b[0mtokenizer\u001b[0m\u001b[0;34m.\u001b[0m\u001b[0mfit_on_texts\u001b[0m\u001b[0;34m(\u001b[0m\u001b[0mtrain_texts\u001b[0m\u001b[0;34m)\u001b[0m\u001b[0;34m\u001b[0m\u001b[0;34m\u001b[0m\u001b[0m\n\u001b[0m\u001b[1;32m     22\u001b[0m \u001b[0;34m\u001b[0m\u001b[0m\n\u001b[1;32m     23\u001b[0m \u001b[0;31m# Convert text sequences to numerical sequences\u001b[0m\u001b[0;34m\u001b[0m\u001b[0;34m\u001b[0m\u001b[0m\n",
            "\u001b[0;32m/usr/local/lib/python3.10/dist-packages/keras/preprocessing/text.py\u001b[0m in \u001b[0;36mfit_on_texts\u001b[0;34m(self, texts)\u001b[0m\n\u001b[1;32m    291\u001b[0m             \u001b[0;32melse\u001b[0m\u001b[0;34m:\u001b[0m\u001b[0;34m\u001b[0m\u001b[0;34m\u001b[0m\u001b[0m\n\u001b[1;32m    292\u001b[0m                 \u001b[0;32mif\u001b[0m \u001b[0mself\u001b[0m\u001b[0;34m.\u001b[0m\u001b[0manalyzer\u001b[0m \u001b[0;32mis\u001b[0m \u001b[0;32mNone\u001b[0m\u001b[0;34m:\u001b[0m\u001b[0;34m\u001b[0m\u001b[0;34m\u001b[0m\u001b[0m\n\u001b[0;32m--> 293\u001b[0;31m                     seq = text_to_word_sequence(\n\u001b[0m\u001b[1;32m    294\u001b[0m                         \u001b[0mtext\u001b[0m\u001b[0;34m,\u001b[0m\u001b[0;34m\u001b[0m\u001b[0;34m\u001b[0m\u001b[0m\n\u001b[1;32m    295\u001b[0m                         \u001b[0mfilters\u001b[0m\u001b[0;34m=\u001b[0m\u001b[0mself\u001b[0m\u001b[0;34m.\u001b[0m\u001b[0mfilters\u001b[0m\u001b[0;34m,\u001b[0m\u001b[0;34m\u001b[0m\u001b[0;34m\u001b[0m\u001b[0m\n",
            "\u001b[0;32m/usr/local/lib/python3.10/dist-packages/keras/preprocessing/text.py\u001b[0m in \u001b[0;36mtext_to_word_sequence\u001b[0;34m(input_text, filters, lower, split)\u001b[0m\n\u001b[1;32m     72\u001b[0m     \"\"\"\n\u001b[1;32m     73\u001b[0m     \u001b[0;32mif\u001b[0m \u001b[0mlower\u001b[0m\u001b[0;34m:\u001b[0m\u001b[0;34m\u001b[0m\u001b[0;34m\u001b[0m\u001b[0m\n\u001b[0;32m---> 74\u001b[0;31m         \u001b[0minput_text\u001b[0m \u001b[0;34m=\u001b[0m \u001b[0minput_text\u001b[0m\u001b[0;34m.\u001b[0m\u001b[0mlower\u001b[0m\u001b[0;34m(\u001b[0m\u001b[0;34m)\u001b[0m\u001b[0;34m\u001b[0m\u001b[0;34m\u001b[0m\u001b[0m\n\u001b[0m\u001b[1;32m     75\u001b[0m \u001b[0;34m\u001b[0m\u001b[0m\n\u001b[1;32m     76\u001b[0m     \u001b[0mtranslate_dict\u001b[0m \u001b[0;34m=\u001b[0m \u001b[0;34m{\u001b[0m\u001b[0mc\u001b[0m\u001b[0;34m:\u001b[0m \u001b[0msplit\u001b[0m \u001b[0;32mfor\u001b[0m \u001b[0mc\u001b[0m \u001b[0;32min\u001b[0m \u001b[0mfilters\u001b[0m\u001b[0;34m}\u001b[0m\u001b[0;34m\u001b[0m\u001b[0;34m\u001b[0m\u001b[0m\n",
            "\u001b[0;31mAttributeError\u001b[0m: 'numpy.ndarray' object has no attribute 'lower'"
          ]
        }
      ]
    },
    {
      "cell_type": "code",
      "source": [
        "!curl -O https://ai.stanford.edu/~amaas/data/sentiment/aclImdb_v1.tar.gz\n",
        "!tar -xf aclImdb_v1.tar.gz\n",
        "!rm -r aclImdb/train/unsup"
      ],
      "metadata": {
        "id": "0jUUqfWfchio",
        "outputId": "3a9069f6-5330-468e-ed30-107480e1a841",
        "colab": {
          "base_uri": "https://localhost:8080/"
        }
      },
      "execution_count": 111,
      "outputs": [
        {
          "output_type": "stream",
          "name": "stdout",
          "text": [
            "  % Total    % Received % Xferd  Average Speed   Time    Time     Time  Current\n",
            "                                 Dload  Upload   Total   Spent    Left  Speed\n",
            "100 80.2M  100 80.2M    0     0  1236k      0  0:01:06  0:01:06 --:--:-- 1101k\n"
          ]
        }
      ]
    },
    {
      "cell_type": "code",
      "source": [
        "import os\n",
        "import pathlib\n",
        "import shutil\n",
        "import random\n",
        "from tensorflow import keras\n",
        "\n",
        "batch_size = 32\n",
        "base_dir = pathlib.Path(\"aclImdb\")\n",
        "val_dir = base_dir / \"val\"\n",
        "train_dir = base_dir / \"train\"\n",
        "\n",
        "# Check if the destination directory exists before creating it\n",
        "for category in (\"neg\", \"pos\"):\n",
        "    val_category_dir = val_dir / category\n",
        "    if not os.path.exists(val_category_dir):\n",
        "        os.makedirs(val_category_dir)\n",
        "\n",
        "        files = os.listdir(train_dir / category)\n",
        "        random.Random(1337).shuffle(files)\n",
        "        num_val_samples = int(0.2 * len(files))\n",
        "        val_files = files[-num_val_samples:]\n",
        "\n",
        "        for fname in val_files:\n",
        "            shutil.move(train_dir / category / fname, val_category_dir / fname)"
      ],
      "metadata": {
        "id": "9xiuQ5aWlN7w"
      },
      "execution_count": 130,
      "outputs": []
    },
    {
      "cell_type": "code",
      "source": [
        "import os\n",
        "import pathlib\n",
        "import shutil\n",
        "import random\n",
        "from tensorflow import keras\n",
        "\n",
        "batch_size = 32\n",
        "base_dir = pathlib.Path(\"aclImdb\")\n",
        "val_dir = base_dir / \"val\"\n",
        "train_dir = base_dir / \"train\"\n",
        "\n",
        "# Check if the destination directory exists before creating it\n",
        "for category in (\"neg\", \"pos\"):\n",
        "    val_category_dir = val_dir / category\n",
        "    if not os.path.exists(val_category_dir):\n",
        "        os.makedirs(val_category_dir)\n",
        "\n",
        "        files = os.listdir(train_dir / category)\n",
        "        random.Random(1337).shuffle(files)\n",
        "        num_val_samples = int(0.2 * len(files))\n",
        "        val_files = files[-num_val_samples:]\n",
        "\n",
        "        for fname in val_files:\n",
        "            shutil.move(train_dir / category / fname, val_category_dir / fname)\n",
        "\n",
        "# Rest of your code remains the same\n",
        "train_ds = keras.utils.text_dataset_from_directory(\n",
        "    \"aclImdb/train\", batch_size=batch_size\n",
        ")\n",
        "val_ds = keras.utils.text_dataset_from_directory(\n",
        "    \"aclImdb/val\", batch_size=batch_size\n",
        ")\n",
        "test_ds = keras.utils.text_dataset_from_directory(\n",
        "    \"aclImdb/test\", batch_size=batch_size\n",
        ")\n",
        "text_only_train_ds = combined_ds.map(lambda x, y: x)"
      ],
      "metadata": {
        "id": "xMTXF5_tchsG",
        "outputId": "232c2d0d-f649-41a0-8977-d043bc33278b",
        "colab": {
          "base_uri": "https://localhost:8080/"
        }
      },
      "execution_count": 139,
      "outputs": [
        {
          "output_type": "stream",
          "name": "stdout",
          "text": [
            "Found 25000 files belonging to 2 classes.\n",
            "Found 5000 files belonging to 2 classes.\n",
            "Found 25000 files belonging to 2 classes.\n"
          ]
        }
      ]
    },
    {
      "cell_type": "code",
      "source": [
        "from tensorflow.keras import layers\n",
        "\n",
        "max_length = 600\n",
        "max_tokens = 20000\n",
        "text_vectorization = layers.TextVectorization(\n",
        "    max_tokens=max_tokens,\n",
        "    output_mode=\"int\",\n",
        "    output_sequence_length=max_length,\n",
        ")\n",
        "text_vectorization.adapt(text_only_train_ds)\n",
        "\n",
        "int_train_ds = train_ds.map(\n",
        "    lambda x, y: (text_vectorization(x), y),\n",
        "    num_parallel_calls=4)\n",
        "int_val_ds = val_ds.map(\n",
        "    lambda x, y: (text_vectorization(x), y),\n",
        "    num_parallel_calls=4)\n",
        "int_test_ds = test_ds.map(\n",
        "    lambda x, y: (text_vectorization(x), y),\n",
        "    num_parallel_calls=4)\n",
        "combined_ds = int_train_ds.concatenate(int_val_ds).concatenate(int_test_ds)\n",
        "\n",
        "# Shuffle the combined dataset\n",
        "shuffled_ds = combined_ds.shuffle(buffer_size=len(combined_ds), seed=42)\n",
        "\n",
        "# Define sizes for each split\n",
        "train_size = 100\n",
        "val_size = 10000\n",
        "test_size = 5000\n",
        "\n",
        "# Split the shuffled dataset\n",
        "train_ds = shuffled_ds.take(train_size)\n",
        "val_ds = shuffled_ds.skip(train_size).take(val_size)\n",
        "test_ds = shuffled_ds.skip(train_size + val_size).take(test_size)"
      ],
      "metadata": {
        "id": "UrKVUz_kchzJ"
      },
      "execution_count": 145,
      "outputs": []
    },
    {
      "cell_type": "code",
      "source": [
        "print(train_ds)"
      ],
      "metadata": {
        "colab": {
          "base_uri": "https://localhost:8080/"
        },
        "id": "UG0BVyvM0rOf",
        "outputId": "a21b1986-97ee-45fb-c5ac-1ded57b296e5"
      },
      "execution_count": 149,
      "outputs": [
        {
          "output_type": "stream",
          "name": "stdout",
          "text": [
            "<_TakeDataset element_spec=(TensorSpec(shape=(None, 600), dtype=tf.int64, name=None), TensorSpec(shape=(None,), dtype=tf.int32, name=None))>\n"
          ]
        }
      ]
    },
    {
      "cell_type": "code",
      "source": [
        "val_texts.shape"
      ],
      "metadata": {
        "colab": {
          "base_uri": "https://localhost:8080/"
        },
        "id": "iuybYOde0x2v",
        "outputId": "15dd04b2-fa8c-4a78-f14d-1b404a06b384"
      },
      "execution_count": 53,
      "outputs": [
        {
          "output_type": "execute_result",
          "data": {
            "text/plain": [
              "(10000, 150)"
            ]
          },
          "metadata": {},
          "execution_count": 53
        }
      ]
    },
    {
      "cell_type": "code",
      "source": [
        "test_texts.shape"
      ],
      "metadata": {
        "colab": {
          "base_uri": "https://localhost:8080/"
        },
        "id": "kAQk9C160yLt",
        "outputId": "d01e0a93-f3fb-4d29-b31f-c9541e169d81"
      },
      "execution_count": 54,
      "outputs": [
        {
          "output_type": "execute_result",
          "data": {
            "text/plain": [
              "(5000, 150)"
            ]
          },
          "metadata": {},
          "execution_count": 54
        }
      ]
    },
    {
      "cell_type": "markdown",
      "source": [
        "**Model Building**"
      ],
      "metadata": {
        "id": "TQlwWwHidN7M"
      }
    },
    {
      "cell_type": "code",
      "source": [
        "model = Sequential()\n",
        "model.add(Embedding(10000, 8, input_length=maxlen))\n",
        "model.add(Flatten())\n",
        "model.add(Dense(1, activation = 'sigmoid'))\n",
        "model.compile(optimizer = 'rmsprop', loss = 'binary_crossentropy', metrics = ['accuracy'])\n",
        "model.summary()"
      ],
      "metadata": {
        "colab": {
          "base_uri": "https://localhost:8080/"
        },
        "id": "IZ4e-UAt1Bf4",
        "outputId": "27bf29bc-f869-4c47-91e7-8e8d87073a5b"
      },
      "execution_count": 55,
      "outputs": [
        {
          "output_type": "stream",
          "name": "stdout",
          "text": [
            "Model: \"sequential_5\"\n",
            "_________________________________________________________________\n",
            " Layer (type)                Output Shape              Param #   \n",
            "=================================================================\n",
            " embedding_5 (Embedding)     (None, 150, 8)            80000     \n",
            "                                                                 \n",
            " flatten_5 (Flatten)         (None, 1200)              0         \n",
            "                                                                 \n",
            " dense_5 (Dense)             (None, 1)                 1201      \n",
            "                                                                 \n",
            "=================================================================\n",
            "Total params: 81,201\n",
            "Trainable params: 81,201\n",
            "Non-trainable params: 0\n",
            "_________________________________________________________________\n"
          ]
        }
      ]
    },
    {
      "cell_type": "markdown",
      "source": [
        "**Model Execution**"
      ],
      "metadata": {
        "id": "ZFvEY5DChHD1"
      }
    },
    {
      "cell_type": "code",
      "source": [
        "# Setting Callbacks\n",
        "callbacks = ModelCheckpoint(\n",
        "            filepath= \"model1.h5\",\n",
        "            save_best_only= True,\n",
        "            monitor= \"val_loss\"\n",
        "            )\n",
        "\n",
        "\n",
        "# Model Fit - Running the Model\n",
        "Model_1 = model.fit(train_ds, train_labels,\n",
        "                    epochs=30,\n",
        "                    batch_size=32,\n",
        "                    validation_data=(val_texts, val_labels),\n",
        "                    callbacks=callbacks)"
      ],
      "metadata": {
        "colab": {
          "base_uri": "https://localhost:8080/"
        },
        "id": "FbNkjdk-1gh4",
        "outputId": "ae6968c5-f357-40a7-a3f5-d56eea798ffa"
      },
      "execution_count": 56,
      "outputs": [
        {
          "output_type": "stream",
          "name": "stdout",
          "text": [
            "Epoch 1/30\n",
            "4/4 [==============================] - 2s 331ms/step - loss: 0.6898 - accuracy: 0.5600 - val_loss: 0.6933 - val_accuracy: 0.5006\n",
            "Epoch 2/30\n",
            "4/4 [==============================] - 1s 281ms/step - loss: 0.6679 - accuracy: 0.8900 - val_loss: 0.6932 - val_accuracy: 0.5021\n",
            "Epoch 3/30\n",
            "4/4 [==============================] - 1s 271ms/step - loss: 0.6525 - accuracy: 0.9600 - val_loss: 0.6932 - val_accuracy: 0.5040\n",
            "Epoch 4/30\n",
            "4/4 [==============================] - 1s 292ms/step - loss: 0.6388 - accuracy: 0.9900 - val_loss: 0.6931 - val_accuracy: 0.5067\n",
            "Epoch 5/30\n",
            "4/4 [==============================] - 1s 313ms/step - loss: 0.6261 - accuracy: 1.0000 - val_loss: 0.6931 - val_accuracy: 0.5084\n",
            "Epoch 6/30\n",
            "4/4 [==============================] - 1s 328ms/step - loss: 0.6130 - accuracy: 1.0000 - val_loss: 0.6932 - val_accuracy: 0.5069\n",
            "Epoch 7/30\n",
            "4/4 [==============================] - 1s 318ms/step - loss: 0.5997 - accuracy: 1.0000 - val_loss: 0.6932 - val_accuracy: 0.5080\n",
            "Epoch 8/30\n",
            "4/4 [==============================] - 1s 321ms/step - loss: 0.5858 - accuracy: 1.0000 - val_loss: 0.6932 - val_accuracy: 0.5071\n",
            "Epoch 9/30\n",
            "4/4 [==============================] - 1s 316ms/step - loss: 0.5720 - accuracy: 1.0000 - val_loss: 0.6934 - val_accuracy: 0.5022\n",
            "Epoch 10/30\n",
            "4/4 [==============================] - 1s 297ms/step - loss: 0.5572 - accuracy: 1.0000 - val_loss: 0.6934 - val_accuracy: 0.5040\n",
            "Epoch 11/30\n",
            "4/4 [==============================] - 1s 273ms/step - loss: 0.5422 - accuracy: 1.0000 - val_loss: 0.6934 - val_accuracy: 0.5038\n",
            "Epoch 12/30\n",
            "4/4 [==============================] - 1s 330ms/step - loss: 0.5266 - accuracy: 1.0000 - val_loss: 0.6934 - val_accuracy: 0.5033\n",
            "Epoch 13/30\n",
            "4/4 [==============================] - 1s 281ms/step - loss: 0.5105 - accuracy: 1.0000 - val_loss: 0.6934 - val_accuracy: 0.5031\n",
            "Epoch 14/30\n",
            "4/4 [==============================] - 1s 270ms/step - loss: 0.4940 - accuracy: 1.0000 - val_loss: 0.6935 - val_accuracy: 0.5034\n",
            "Epoch 15/30\n",
            "4/4 [==============================] - 1s 288ms/step - loss: 0.4773 - accuracy: 1.0000 - val_loss: 0.6937 - val_accuracy: 0.5010\n",
            "Epoch 16/30\n",
            "4/4 [==============================] - 1s 197ms/step - loss: 0.4607 - accuracy: 1.0000 - val_loss: 0.6940 - val_accuracy: 0.5006\n",
            "Epoch 17/30\n",
            "4/4 [==============================] - 1s 161ms/step - loss: 0.4434 - accuracy: 1.0000 - val_loss: 0.6940 - val_accuracy: 0.5007\n",
            "Epoch 18/30\n",
            "4/4 [==============================] - 1s 277ms/step - loss: 0.4258 - accuracy: 1.0000 - val_loss: 0.6940 - val_accuracy: 0.5032\n",
            "Epoch 19/30\n",
            "4/4 [==============================] - 1s 253ms/step - loss: 0.4085 - accuracy: 1.0000 - val_loss: 0.6941 - val_accuracy: 0.5043\n",
            "Epoch 20/30\n",
            "4/4 [==============================] - 1s 204ms/step - loss: 0.3913 - accuracy: 1.0000 - val_loss: 0.6942 - val_accuracy: 0.5034\n",
            "Epoch 21/30\n",
            "4/4 [==============================] - 1s 245ms/step - loss: 0.3736 - accuracy: 1.0000 - val_loss: 0.6943 - val_accuracy: 0.5030\n",
            "Epoch 22/30\n",
            "4/4 [==============================] - 1s 267ms/step - loss: 0.3567 - accuracy: 1.0000 - val_loss: 0.6945 - val_accuracy: 0.5037\n",
            "Epoch 23/30\n",
            "4/4 [==============================] - 1s 209ms/step - loss: 0.3395 - accuracy: 1.0000 - val_loss: 0.6947 - val_accuracy: 0.5039\n",
            "Epoch 24/30\n",
            "4/4 [==============================] - 1s 294ms/step - loss: 0.3226 - accuracy: 1.0000 - val_loss: 0.6949 - val_accuracy: 0.5036\n",
            "Epoch 25/30\n",
            "4/4 [==============================] - 1s 249ms/step - loss: 0.3062 - accuracy: 1.0000 - val_loss: 0.6950 - val_accuracy: 0.5060\n",
            "Epoch 26/30\n",
            "4/4 [==============================] - 1s 247ms/step - loss: 0.2901 - accuracy: 1.0000 - val_loss: 0.6952 - val_accuracy: 0.5045\n",
            "Epoch 27/30\n",
            "4/4 [==============================] - 1s 254ms/step - loss: 0.2743 - accuracy: 1.0000 - val_loss: 0.6955 - val_accuracy: 0.5063\n",
            "Epoch 28/30\n",
            "4/4 [==============================] - 1s 269ms/step - loss: 0.2591 - accuracy: 1.0000 - val_loss: 0.6959 - val_accuracy: 0.5053\n",
            "Epoch 29/30\n",
            "4/4 [==============================] - 1s 244ms/step - loss: 0.2444 - accuracy: 1.0000 - val_loss: 0.6962 - val_accuracy: 0.5074\n",
            "Epoch 30/30\n",
            "4/4 [==============================] - 1s 283ms/step - loss: 0.2301 - accuracy: 1.0000 - val_loss: 0.6965 - val_accuracy: 0.5012\n"
          ]
        }
      ]
    },
    {
      "cell_type": "markdown",
      "source": [
        "**Ploating the Accuracy and loss for training and validation**"
      ],
      "metadata": {
        "id": "Kq4cR11ntVcQ"
      }
    },
    {
      "cell_type": "code",
      "source": [
        "accuracy = Model_1.history['accuracy']\n",
        "val_accuracy = Model_1.history['val_accuracy']\n",
        "\n",
        "loss = Model_1.history[\"loss\"]\n",
        "val_loss = Model_1.history[\"val_loss\"]\n",
        "\n",
        "epochs = range(1, len(accuracy) + 1)\n",
        "\n",
        "plt.figure(figsize=(6,4))\n",
        "plt.plot(epochs, accuracy, color=\"grey\", linestyle=\"dashed\", label=\"Training Accuracy\")\n",
        "plt.plot(epochs, val_accuracy, color=\"blue\",linestyle=\"dashed\", label=\"Validation Accuracy\")\n",
        "plt.title(\"Model_1:Accuracy\")\n",
        "plt.legend()\n",
        "plt.figure()\n",
        "\n",
        "plt.figure(figsize=(6,4))\n",
        "plt.plot(epochs, loss, color=\"grey\", linestyle=\"dashed\", label=\"Training Loss\")\n",
        "plt.plot(epochs, val_loss, color=\"blue\", linestyle=\"dashed\", label=\"Validation Loss\")\n",
        "plt.title(\"Model_1: Loss\")\n",
        "plt.legend()\n",
        "plt.show()"
      ],
      "metadata": {
        "colab": {
          "base_uri": "https://localhost:8080/",
          "height": 782
        },
        "id": "Tw7i0jmf1rv-",
        "outputId": "7ee62f69-b9e9-4647-fe87-116fd01f447d"
      },
      "execution_count": 57,
      "outputs": [
        {
          "output_type": "display_data",
          "data": {
            "text/plain": [
              "<Figure size 600x400 with 1 Axes>"
            ],
            "image/png": "[encoded data removed]"
          },
          "metadata": {}
        },
        {
          "output_type": "display_data",
          "data": {
            "text/plain": [
              "<Figure size 640x480 with 0 Axes>"
            ]
          },
          "metadata": {}
        },
        {
          "output_type": "display_data",
          "data": {
            "text/plain": [
              "<Figure size 600x400 with 1 Axes>"
            ],
            "image/png": "[encoded data removed]"
          },
          "metadata": {}
        }
      ]
    },
    {
      "cell_type": "code",
      "source": [
        "test_model = load_model('model1.h5')\n",
        "Model1_Results = test_model.evaluate(test_texts,test_labels)\n",
        "print(f'Loss: {Model1_Results[0]:.3f}')\n",
        "print(f'Accuracy: {Model1_Results[1]:.3f}')"
      ],
      "metadata": {
        "colab": {
          "base_uri": "https://localhost:8080/"
        },
        "id": "RuMkg-dh2A_v",
        "outputId": "5ed7d8ea-91c4-4fb5-a2fd-6f5b799ce929"
      },
      "execution_count": 58,
      "outputs": [
        {
          "output_type": "stream",
          "name": "stdout",
          "text": [
            "157/157 [==============================] - 0s 2ms/step - loss: 0.6932 - accuracy: 0.5112\n",
            "Loss: 0.693\n",
            "Accuracy: 0.511\n"
          ]
        }
      ]
    },
    {
      "cell_type": "markdown",
      "source": [
        "The model with 100 training samples which was built with just an embedding layer resulted in 51.7% Accuracy, which is not that bad because the model was just trained with 100 Samples."
      ],
      "metadata": {
        "id": "BN8wPrscvKLj"
      }
    },
    {
      "cell_type": "markdown",
      "source": [
        "### **Model 2: Increasing the training sample to 1000 and with Embedding Layer**"
      ],
      "metadata": {
        "id": "kaJzb-292Fho"
      }
    },
    {
      "cell_type": "code",
      "source": [
        "num_words = 10000\n",
        "maxlen = 150\n",
        "\n",
        "(train_data, train_labels), (test_data, test_labels) = imdb.load_data(num_words=num_words)\n",
        "train_data = pad_sequences(train_data, maxlen=maxlen)\n",
        "test_data = pad_sequences(test_data, maxlen=maxlen)\n",
        "\n",
        "# Combining the Training and Testing data create an entire dataset\n",
        "texts = np.concatenate((train_data, test_data), axis=0)\n",
        "labels = np.concatenate((train_labels, test_labels), axis=0)\n",
        "\n",
        "# Splitting the data into Training and Validation Samples\n",
        "train_texts, val_texts, train_labels, val_labels = train_test_split(texts, labels, train_size=10000, test_size=10000, random_state=42, stratify=labels)\n",
        "\n",
        "# Further split the data to get the test size of 5000 samples\n",
        "_, test_texts, _, test_labels = train_test_split(test_data, test_labels, test_size=5000, random_state=42, stratify=test_labels)"
      ],
      "metadata": {
        "id": "JUhMEnoo6Ddb"
      },
      "execution_count": 59,
      "outputs": []
    },
    {
      "cell_type": "code",
      "source": [
        "train_texts.shape"
      ],
      "metadata": {
        "colab": {
          "base_uri": "https://localhost:8080/"
        },
        "id": "psPPyz3m6DrL",
        "outputId": "4992a4aa-0c70-40b9-b7c1-559b63b85e8b"
      },
      "execution_count": 60,
      "outputs": [
        {
          "output_type": "execute_result",
          "data": {
            "text/plain": [
              "(10000, 150)"
            ]
          },
          "metadata": {},
          "execution_count": 60
        }
      ]
    },
    {
      "cell_type": "code",
      "source": [
        "val_texts.shape"
      ],
      "metadata": {
        "colab": {
          "base_uri": "https://localhost:8080/"
        },
        "id": "FqIwQj_l6D0o",
        "outputId": "ea5dc45d-1100-4553-ee96-6db3b0284fda"
      },
      "execution_count": 61,
      "outputs": [
        {
          "output_type": "execute_result",
          "data": {
            "text/plain": [
              "(10000, 150)"
            ]
          },
          "metadata": {},
          "execution_count": 61
        }
      ]
    },
    {
      "cell_type": "code",
      "source": [
        "test_texts.shape"
      ],
      "metadata": {
        "colab": {
          "base_uri": "https://localhost:8080/"
        },
        "id": "WEc7E3tU6D6s",
        "outputId": "412012fe-5f75-415d-c48c-b9261c998569"
      },
      "execution_count": 62,
      "outputs": [
        {
          "output_type": "execute_result",
          "data": {
            "text/plain": [
              "(5000, 150)"
            ]
          },
          "metadata": {},
          "execution_count": 62
        }
      ]
    },
    {
      "cell_type": "code",
      "source": [
        "model = Sequential()\n",
        "model.add(Embedding(10000, 8, input_length=maxlen))\n",
        "model.add(Flatten())\n",
        "model.add(Dense(1, activation = 'sigmoid'))\n",
        "model.compile(optimizer = 'rmsprop', loss = 'binary_crossentropy', metrics = ['accuracy'])\n",
        "model.summary()"
      ],
      "metadata": {
        "colab": {
          "base_uri": "https://localhost:8080/"
        },
        "id": "vvV9M2bu6D_S",
        "outputId": "bb71b62f-1f98-4ba2-8b86-963df35b1fd2"
      },
      "execution_count": 63,
      "outputs": [
        {
          "output_type": "stream",
          "name": "stdout",
          "text": [
            "Model: \"sequential_6\"\n",
            "_________________________________________________________________\n",
            " Layer (type)                Output Shape              Param #   \n",
            "=================================================================\n",
            " embedding_6 (Embedding)     (None, 150, 8)            80000     \n",
            "                                                                 \n",
            " flatten_6 (Flatten)         (None, 1200)              0         \n",
            "                                                                 \n",
            " dense_6 (Dense)             (None, 1)                 1201      \n",
            "                                                                 \n",
            "=================================================================\n",
            "Total params: 81,201\n",
            "Trainable params: 81,201\n",
            "Non-trainable params: 0\n",
            "_________________________________________________________________\n"
          ]
        }
      ]
    },
    {
      "cell_type": "code",
      "source": [
        "# Setting Callbacks\n",
        "callbacks = ModelCheckpoint(\n",
        "            filepath= \"model2.h5\",\n",
        "            save_best_only= True,\n",
        "            monitor= \"val_loss\"\n",
        "            )\n",
        "\n",
        "\n",
        "# Model Fit - Running the Model\n",
        "Model_2 = model.fit(train_texts, train_labels,\n",
        "                    epochs=30,\n",
        "                    batch_size=32,\n",
        "                    validation_data=(val_texts, val_labels),\n",
        "                    callbacks=callbacks)"
      ],
      "metadata": {
        "colab": {
          "base_uri": "https://localhost:8080/"
        },
        "id": "3DQU8mY-6Z2c",
        "outputId": "540874e0-4472-4eff-e36e-f8b9e1aeed38"
      },
      "execution_count": 64,
      "outputs": [
        {
          "output_type": "stream",
          "name": "stdout",
          "text": [
            "Epoch 1/30\n",
            "313/313 [==============================] - 18s 57ms/step - loss: 0.6756 - accuracy: 0.6157 - val_loss: 0.6307 - val_accuracy: 0.7221\n",
            "Epoch 2/30\n",
            "313/313 [==============================] - 6s 21ms/step - loss: 0.5129 - accuracy: 0.8111 - val_loss: 0.4458 - val_accuracy: 0.8216\n",
            "Epoch 3/30\n",
            "313/313 [==============================] - 4s 12ms/step - loss: 0.3517 - accuracy: 0.8707 - val_loss: 0.3622 - val_accuracy: 0.8498\n",
            "Epoch 4/30\n",
            "313/313 [==============================] - 2s 7ms/step - loss: 0.2739 - accuracy: 0.8968 - val_loss: 0.3338 - val_accuracy: 0.8591\n",
            "Epoch 5/30\n",
            "313/313 [==============================] - 3s 9ms/step - loss: 0.2254 - accuracy: 0.9199 - val_loss: 0.3223 - val_accuracy: 0.8626\n",
            "Epoch 6/30\n",
            "313/313 [==============================] - 2s 7ms/step - loss: 0.1899 - accuracy: 0.9344 - val_loss: 0.3145 - val_accuracy: 0.8665\n",
            "Epoch 7/30\n",
            "313/313 [==============================] - 2s 5ms/step - loss: 0.1594 - accuracy: 0.9475 - val_loss: 0.3172 - val_accuracy: 0.8645\n",
            "Epoch 8/30\n",
            "313/313 [==============================] - 2s 7ms/step - loss: 0.1340 - accuracy: 0.9587 - val_loss: 0.3213 - val_accuracy: 0.8647\n",
            "Epoch 9/30\n",
            "313/313 [==============================] - 3s 9ms/step - loss: 0.1121 - accuracy: 0.9679 - val_loss: 0.3279 - val_accuracy: 0.8654\n",
            "Epoch 10/30\n",
            "313/313 [==============================] - 1s 5ms/step - loss: 0.0932 - accuracy: 0.9738 - val_loss: 0.3344 - val_accuracy: 0.8630\n",
            "Epoch 11/30\n",
            "313/313 [==============================] - 2s 7ms/step - loss: 0.0765 - accuracy: 0.9808 - val_loss: 0.3481 - val_accuracy: 0.8609\n",
            "Epoch 12/30\n",
            "313/313 [==============================] - 2s 6ms/step - loss: 0.0619 - accuracy: 0.9859 - val_loss: 0.3591 - val_accuracy: 0.8589\n",
            "Epoch 13/30\n",
            "313/313 [==============================] - 2s 5ms/step - loss: 0.0495 - accuracy: 0.9899 - val_loss: 0.3716 - val_accuracy: 0.8582\n",
            "Epoch 14/30\n",
            "313/313 [==============================] - 2s 6ms/step - loss: 0.0397 - accuracy: 0.9925 - val_loss: 0.3838 - val_accuracy: 0.8564\n",
            "Epoch 15/30\n",
            "313/313 [==============================] - 2s 5ms/step - loss: 0.0313 - accuracy: 0.9945 - val_loss: 0.4012 - val_accuracy: 0.8550\n",
            "Epoch 16/30\n",
            "313/313 [==============================] - 2s 6ms/step - loss: 0.0245 - accuracy: 0.9968 - val_loss: 0.4147 - val_accuracy: 0.8539\n",
            "Epoch 17/30\n",
            "313/313 [==============================] - 2s 5ms/step - loss: 0.0192 - accuracy: 0.9973 - val_loss: 0.4378 - val_accuracy: 0.8498\n",
            "Epoch 18/30\n",
            "313/313 [==============================] - 1s 5ms/step - loss: 0.0146 - accuracy: 0.9983 - val_loss: 0.4482 - val_accuracy: 0.8531\n",
            "Epoch 19/30\n",
            "313/313 [==============================] - 2s 6ms/step - loss: 0.0116 - accuracy: 0.9985 - val_loss: 0.4659 - val_accuracy: 0.8511\n",
            "Epoch 20/30\n",
            "313/313 [==============================] - 1s 5ms/step - loss: 0.0088 - accuracy: 0.9990 - val_loss: 0.4845 - val_accuracy: 0.8472\n",
            "Epoch 21/30\n",
            "313/313 [==============================] - 2s 5ms/step - loss: 0.0069 - accuracy: 0.9993 - val_loss: 0.4964 - val_accuracy: 0.8487\n",
            "Epoch 22/30\n",
            "313/313 [==============================] - 1s 5ms/step - loss: 0.0055 - accuracy: 0.9995 - val_loss: 0.5149 - val_accuracy: 0.8480\n",
            "Epoch 23/30\n",
            "313/313 [==============================] - 1s 5ms/step - loss: 0.0045 - accuracy: 0.9997 - val_loss: 0.5293 - val_accuracy: 0.8483\n",
            "Epoch 24/30\n",
            "313/313 [==============================] - 1s 5ms/step - loss: 0.0036 - accuracy: 0.9997 - val_loss: 0.5419 - val_accuracy: 0.8479\n",
            "Epoch 25/30\n",
            "313/313 [==============================] - 2s 5ms/step - loss: 0.0030 - accuracy: 0.9998 - val_loss: 0.5557 - val_accuracy: 0.8466\n",
            "Epoch 26/30\n",
            "313/313 [==============================] - 2s 7ms/step - loss: 0.0025 - accuracy: 0.9999 - val_loss: 0.5670 - val_accuracy: 0.8467\n",
            "Epoch 27/30\n",
            "313/313 [==============================] - 2s 5ms/step - loss: 0.0021 - accuracy: 0.9999 - val_loss: 0.5816 - val_accuracy: 0.8450\n",
            "Epoch 28/30\n",
            "313/313 [==============================] - 1s 5ms/step - loss: 0.0018 - accuracy: 0.9999 - val_loss: 0.5872 - val_accuracy: 0.8470\n",
            "Epoch 29/30\n",
            "313/313 [==============================] - 2s 5ms/step - loss: 0.0015 - accuracy: 0.9998 - val_loss: 0.5986 - val_accuracy: 0.8465\n",
            "Epoch 30/30\n",
            "313/313 [==============================] - 1s 5ms/step - loss: 0.0014 - accuracy: 0.9999 - val_loss: 0.6070 - val_accuracy: 0.8472\n"
          ]
        }
      ]
    },
    {
      "cell_type": "code",
      "source": [
        "accuracy = Model_2.history['accuracy']\n",
        "val_accuracy = Model_2.history['val_accuracy']\n",
        "\n",
        "loss = Model_2.history[\"loss\"]\n",
        "val_loss = Model_2.history[\"val_loss\"]\n",
        "\n",
        "epochs = range(1, len(accuracy) + 1)\n",
        "\n",
        "plt.figure(figsize=(6,4))\n",
        "plt.plot(epochs, accuracy, color=\"grey\", linestyle=\"dashed\", label=\"Training Accuracy\")\n",
        "plt.plot(epochs, val_accuracy, color=\"blue\",linestyle=\"dashed\", label=\"Validation Accuracy\")\n",
        "plt.title(\"Model_2:Accuracy\")\n",
        "plt.legend()\n",
        "plt.figure()\n",
        "\n",
        "plt.figure(figsize=(6,4))\n",
        "plt.plot(epochs, loss, color=\"grey\", linestyle=\"dashed\", label=\"Training Loss\")\n",
        "plt.plot(epochs, val_loss, color=\"blue\", linestyle=\"dashed\", label=\"Validation Loss\")\n",
        "plt.title(\"Model_2: Loss\")\n",
        "plt.legend()\n",
        "plt.show()"
      ],
      "metadata": {
        "colab": {
          "base_uri": "https://localhost:8080/",
          "height": 782
        },
        "id": "w6fQMzoo6dHX",
        "outputId": "0fcc838f-19aa-473c-9025-42e57de32407"
      },
      "execution_count": 65,
      "outputs": [
        {
          "output_type": "display_data",
          "data": {
            "text/plain": [
              "<Figure size 600x400 with 1 Axes>"
            ],
            "image/png": "[encoded data removed]"
          },
          "metadata": {}
        },
        {
          "output_type": "display_data",
          "data": {
            "text/plain": [
              "<Figure size 640x480 with 0 Axes>"
            ]
          },
          "metadata": {}
        },
        {
          "output_type": "display_data",
          "data": {
            "text/plain": [
              "<Figure size 600x400 with 1 Axes>"
            ],
            "image/png": "[encoded data removed]"
          },
          "metadata": {}
        }
      ]
    },
    {
      "cell_type": "code",
      "source": [
        "test_model = load_model('model2.h5')\n",
        "Model2_Results = test_model.evaluate(test_texts,test_labels)\n",
        "print(f'Loss: {Model2_Results[0]:.3f}')\n",
        "print(f'Accuracy: {Model2_Results[1]:.3f}')"
      ],
      "metadata": {
        "colab": {
          "base_uri": "https://localhost:8080/"
        },
        "id": "N5WDr9Fr7_3D",
        "outputId": "22608c56-0c26-4536-b72d-5bc538687472"
      },
      "execution_count": 66,
      "outputs": [
        {
          "output_type": "stream",
          "name": "stdout",
          "text": [
            "157/157 [==============================] - 0s 2ms/step - loss: 0.2804 - accuracy: 0.8800\n",
            "Loss: 0.280\n",
            "Accuracy: 0.880\n"
          ]
        }
      ]
    },
    {
      "cell_type": "markdown",
      "source": [
        "Model 3: Increase training size to 25000, everything else same"
      ],
      "metadata": {
        "id": "v6ZOiyC1AJ2O"
      }
    },
    {
      "cell_type": "code",
      "source": [
        "num_words = 10000\n",
        "maxlen = 150\n",
        "\n",
        "(train_data, train_labels), (test_data, test_labels) = imdb.load_data(num_words=num_words)\n",
        "train_data = pad_sequences(train_data, maxlen=maxlen)\n",
        "test_data = pad_sequences(test_data, maxlen=maxlen)\n",
        "\n",
        "# Combining the Training and Testing data create an entire dataset\n",
        "texts = np.concatenate((train_data, test_data), axis=0)\n",
        "labels = np.concatenate((train_labels, test_labels), axis=0)\n",
        "\n",
        "# Splitting the data into Training and Validation Samples\n",
        "train_texts, val_texts, train_labels, val_labels = train_test_split(texts, labels, train_size=25000, test_size=10000, random_state=42, stratify=labels)\n",
        "\n",
        "# Further split the data to get the test size of 5000 samples\n",
        "_, test_texts, _, test_labels = train_test_split(test_data, test_labels, test_size=5000, random_state=42, stratify=test_labels)"
      ],
      "metadata": {
        "id": "5OasW-0vATfT"
      },
      "execution_count": 80,
      "outputs": []
    },
    {
      "cell_type": "code",
      "source": [
        "train_texts.shape"
      ],
      "metadata": {
        "colab": {
          "base_uri": "https://localhost:8080/"
        },
        "id": "4fanbBnAAiZV",
        "outputId": "fc96687d-e192-4388-9681-d3291e8d3713"
      },
      "execution_count": 81,
      "outputs": [
        {
          "output_type": "execute_result",
          "data": {
            "text/plain": [
              "(25000, 150)"
            ]
          },
          "metadata": {},
          "execution_count": 81
        }
      ]
    },
    {
      "cell_type": "code",
      "source": [
        "val_texts.shape"
      ],
      "metadata": {
        "colab": {
          "base_uri": "https://localhost:8080/"
        },
        "id": "Mw5L4kahAjMf",
        "outputId": "fc0cc024-6e51-442e-e172-6b7ad55827a1"
      },
      "execution_count": 82,
      "outputs": [
        {
          "output_type": "execute_result",
          "data": {
            "text/plain": [
              "(10000, 150)"
            ]
          },
          "metadata": {},
          "execution_count": 82
        }
      ]
    },
    {
      "cell_type": "code",
      "source": [
        "test_texts.shape"
      ],
      "metadata": {
        "colab": {
          "base_uri": "https://localhost:8080/"
        },
        "id": "1NMRTkooAjPh",
        "outputId": "54bd68b1-3d57-4b6e-8559-811173a6af77"
      },
      "execution_count": 83,
      "outputs": [
        {
          "output_type": "execute_result",
          "data": {
            "text/plain": [
              "(5000, 150)"
            ]
          },
          "metadata": {},
          "execution_count": 83
        }
      ]
    },
    {
      "cell_type": "code",
      "source": [
        "model = Sequential()\n",
        "model.add(Embedding(10000, 8, input_length=maxlen))\n",
        "model.add(Flatten())\n",
        "model.add(Dense(1, activation = 'sigmoid'))\n",
        "model.compile(optimizer = 'rmsprop', loss = 'binary_crossentropy', metrics = ['accuracy'])\n",
        "model.summary()"
      ],
      "metadata": {
        "colab": {
          "base_uri": "https://localhost:8080/"
        },
        "id": "ce1OXRgkCJZs",
        "outputId": "f173872f-28c5-4683-a78c-714715a86422"
      },
      "execution_count": 84,
      "outputs": [
        {
          "output_type": "stream",
          "name": "stdout",
          "text": [
            "Model: \"sequential_9\"\n",
            "_________________________________________________________________\n",
            " Layer (type)                Output Shape              Param #   \n",
            "=================================================================\n",
            " embedding_9 (Embedding)     (None, 150, 8)            80000     \n",
            "                                                                 \n",
            " flatten_7 (Flatten)         (None, 1200)              0         \n",
            "                                                                 \n",
            " dense_11 (Dense)            (None, 1)                 1201      \n",
            "                                                                 \n",
            "=================================================================\n",
            "Total params: 81,201\n",
            "Trainable params: 81,201\n",
            "Non-trainable params: 0\n",
            "_________________________________________________________________\n"
          ]
        }
      ]
    },
    {
      "cell_type": "code",
      "source": [
        "# Setting Callbacks\n",
        "callbacks = ModelCheckpoint(\n",
        "            filepath= \"model3.h5\",\n",
        "            save_best_only= True,\n",
        "            monitor= \"val_loss\"\n",
        "            )\n",
        "\n",
        "\n",
        "# Model Fit - Running the Model\n",
        "Model_3 = model.fit(train_texts, train_labels,\n",
        "                    epochs=30,\n",
        "                    batch_size=32,\n",
        "                    validation_data=(val_texts, val_labels),\n",
        "                    callbacks=callbacks)"
      ],
      "metadata": {
        "colab": {
          "base_uri": "https://localhost:8080/"
        },
        "id": "c7d59407BPD-",
        "outputId": "e4286dea-b02b-4b67-ace0-44a910d4789e"
      },
      "execution_count": 85,
      "outputs": [
        {
          "output_type": "stream",
          "name": "stdout",
          "text": [
            "Epoch 1/30\n",
            "782/782 [==============================] - 25s 31ms/step - loss: 0.5781 - accuracy: 0.7077 - val_loss: 0.3965 - val_accuracy: 0.8390\n",
            "Epoch 2/30\n",
            "782/782 [==============================] - 6s 8ms/step - loss: 0.3154 - accuracy: 0.8706 - val_loss: 0.2960 - val_accuracy: 0.8778\n",
            "Epoch 3/30\n",
            "782/782 [==============================] - 5s 7ms/step - loss: 0.2520 - accuracy: 0.8981 - val_loss: 0.2841 - val_accuracy: 0.8831\n",
            "Epoch 4/30\n",
            "782/782 [==============================] - 4s 5ms/step - loss: 0.2213 - accuracy: 0.9127 - val_loss: 0.2820 - val_accuracy: 0.8832\n",
            "Epoch 5/30\n",
            "782/782 [==============================] - 4s 5ms/step - loss: 0.1986 - accuracy: 0.9220 - val_loss: 0.2905 - val_accuracy: 0.8813\n",
            "Epoch 6/30\n",
            "782/782 [==============================] - 3s 4ms/step - loss: 0.1793 - accuracy: 0.9334 - val_loss: 0.2994 - val_accuracy: 0.8801\n",
            "Epoch 7/30\n",
            "782/782 [==============================] - 3s 4ms/step - loss: 0.1618 - accuracy: 0.9397 - val_loss: 0.3006 - val_accuracy: 0.8806\n",
            "Epoch 8/30\n",
            "782/782 [==============================] - 3s 4ms/step - loss: 0.1451 - accuracy: 0.9475 - val_loss: 0.3125 - val_accuracy: 0.8772\n",
            "Epoch 9/30\n",
            "782/782 [==============================] - 3s 4ms/step - loss: 0.1291 - accuracy: 0.9553 - val_loss: 0.3266 - val_accuracy: 0.8749\n",
            "Epoch 10/30\n",
            "782/782 [==============================] - 3s 4ms/step - loss: 0.1139 - accuracy: 0.9614 - val_loss: 0.3364 - val_accuracy: 0.8753\n",
            "Epoch 11/30\n",
            "782/782 [==============================] - 3s 4ms/step - loss: 0.0995 - accuracy: 0.9686 - val_loss: 0.3618 - val_accuracy: 0.8674\n",
            "Epoch 12/30\n",
            "782/782 [==============================] - 3s 4ms/step - loss: 0.0857 - accuracy: 0.9739 - val_loss: 0.3670 - val_accuracy: 0.8693\n",
            "Epoch 13/30\n",
            "782/782 [==============================] - 3s 4ms/step - loss: 0.0737 - accuracy: 0.9784 - val_loss: 0.3818 - val_accuracy: 0.8667\n",
            "Epoch 14/30\n",
            "782/782 [==============================] - 3s 4ms/step - loss: 0.0624 - accuracy: 0.9827 - val_loss: 0.3983 - val_accuracy: 0.8647\n",
            "Epoch 15/30\n",
            "782/782 [==============================] - 3s 4ms/step - loss: 0.0525 - accuracy: 0.9870 - val_loss: 0.4185 - val_accuracy: 0.8630\n",
            "Epoch 16/30\n",
            "782/782 [==============================] - 3s 4ms/step - loss: 0.0440 - accuracy: 0.9893 - val_loss: 0.4369 - val_accuracy: 0.8613\n",
            "Epoch 17/30\n",
            "782/782 [==============================] - 3s 4ms/step - loss: 0.0364 - accuracy: 0.9921 - val_loss: 0.4565 - val_accuracy: 0.8610\n",
            "Epoch 18/30\n",
            "782/782 [==============================] - 3s 4ms/step - loss: 0.0299 - accuracy: 0.9937 - val_loss: 0.4826 - val_accuracy: 0.8570\n",
            "Epoch 19/30\n",
            "782/782 [==============================] - 3s 4ms/step - loss: 0.0245 - accuracy: 0.9950 - val_loss: 0.5010 - val_accuracy: 0.8566\n",
            "Epoch 20/30\n",
            "782/782 [==============================] - 4s 5ms/step - loss: 0.0199 - accuracy: 0.9962 - val_loss: 0.5217 - val_accuracy: 0.8552\n",
            "Epoch 21/30\n",
            "782/782 [==============================] - 3s 4ms/step - loss: 0.0165 - accuracy: 0.9968 - val_loss: 0.5446 - val_accuracy: 0.8547\n",
            "Epoch 22/30\n",
            "782/782 [==============================] - 3s 4ms/step - loss: 0.0137 - accuracy: 0.9975 - val_loss: 0.5681 - val_accuracy: 0.8531\n",
            "Epoch 23/30\n",
            "782/782 [==============================] - 3s 4ms/step - loss: 0.0113 - accuracy: 0.9978 - val_loss: 0.5898 - val_accuracy: 0.8521\n",
            "Epoch 24/30\n",
            "782/782 [==============================] - 3s 4ms/step - loss: 0.0093 - accuracy: 0.9984 - val_loss: 0.6130 - val_accuracy: 0.8516\n",
            "Epoch 25/30\n",
            "782/782 [==============================] - 3s 4ms/step - loss: 0.0079 - accuracy: 0.9986 - val_loss: 0.6322 - val_accuracy: 0.8505\n",
            "Epoch 26/30\n",
            "782/782 [==============================] - 3s 4ms/step - loss: 0.0065 - accuracy: 0.9989 - val_loss: 0.6526 - val_accuracy: 0.8505\n",
            "Epoch 27/30\n",
            "782/782 [==============================] - 3s 4ms/step - loss: 0.0055 - accuracy: 0.9990 - val_loss: 0.6739 - val_accuracy: 0.8489\n",
            "Epoch 28/30\n",
            "782/782 [==============================] - 3s 3ms/step - loss: 0.0047 - accuracy: 0.9993 - val_loss: 0.6892 - val_accuracy: 0.8509\n",
            "Epoch 29/30\n",
            "782/782 [==============================] - 4s 5ms/step - loss: 0.0041 - accuracy: 0.9994 - val_loss: 0.7061 - val_accuracy: 0.8500\n",
            "Epoch 30/30\n",
            "782/782 [==============================] - 3s 4ms/step - loss: 0.0035 - accuracy: 0.9994 - val_loss: 0.7216 - val_accuracy: 0.8491\n"
          ]
        }
      ]
    },
    {
      "cell_type": "code",
      "source": [
        "accuracy = Model_3.history['accuracy']\n",
        "val_accuracy = Model_3.history['val_accuracy']\n",
        "\n",
        "loss = Model_3.history[\"loss\"]\n",
        "val_loss = Model_3.history[\"val_loss\"]\n",
        "\n",
        "epochs = range(1, len(accuracy) + 1)\n",
        "\n",
        "plt.figure(figsize=(6,4))\n",
        "plt.plot(epochs, accuracy, color=\"grey\", linestyle=\"dashed\", label=\"Training Accuracy\")\n",
        "plt.plot(epochs, val_accuracy, color=\"blue\",linestyle=\"dashed\", label=\"Validation Accuracy\")\n",
        "plt.title(\"Model_3:Accuracy\")\n",
        "plt.legend()\n",
        "plt.figure()\n",
        "\n",
        "plt.figure(figsize=(6,4))\n",
        "plt.plot(epochs, loss, color=\"grey\", linestyle=\"dashed\", label=\"Training Loss\")\n",
        "plt.plot(epochs, val_loss, color=\"blue\", linestyle=\"dashed\", label=\"Validation Loss\")\n",
        "plt.title(\"Model_3: Loss\")\n",
        "plt.legend()\n",
        "plt.show()"
      ],
      "metadata": {
        "colab": {
          "base_uri": "https://localhost:8080/",
          "height": 782
        },
        "id": "IulTCwPNAjU7",
        "outputId": "f2e39006-407a-4602-af18-27f5f9f75166"
      },
      "execution_count": 86,
      "outputs": [
        {
          "output_type": "display_data",
          "data": {
            "text/plain": [
              "<Figure size 600x400 with 1 Axes>"
            ],
            "image/png": "[encoded data removed]"
          },
          "metadata": {}
        },
        {
          "output_type": "display_data",
          "data": {
            "text/plain": [
              "<Figure size 640x480 with 0 Axes>"
            ]
          },
          "metadata": {}
        },
        {
          "output_type": "display_data",
          "data": {
            "text/plain": [
              "<Figure size 600x400 with 1 Axes>"
            ],
            "image/png": "[encoded data removed]"
          },
          "metadata": {}
        }
      ]
    },
    {
      "cell_type": "code",
      "source": [
        "test_model = load_model('model3.h5')\n",
        "Model3_Results = test_model.evaluate(test_texts,test_labels)\n",
        "print(f'Loss: {Model3_Results[0]:.3f}')\n",
        "print(f'Accuracy: {Model3_Results[1]:.3f}')"
      ],
      "metadata": {
        "colab": {
          "base_uri": "https://localhost:8080/"
        },
        "id": "S0RfDrNkAjXt",
        "outputId": "0fd8334f-7299-4b0e-99cc-941041853086"
      },
      "execution_count": 87,
      "outputs": [
        {
          "output_type": "stream",
          "name": "stdout",
          "text": [
            "157/157 [==============================] - 0s 2ms/step - loss: 0.2409 - accuracy: 0.8992\n",
            "Loss: 0.241\n",
            "Accuracy: 0.899\n"
          ]
        }
      ]
    },
    {
      "cell_type": "markdown",
      "source": [
        "Model 4: Use same training size but use convolution 1D and Embadding layer together"
      ],
      "metadata": {
        "id": "ATU594gx-Evp"
      }
    },
    {
      "cell_type": "code",
      "source": [
        "model = Sequential()\n",
        "\n",
        "maxlen = 150\n",
        "model.add(Embedding(10000, 8, input_length=maxlen))\n",
        "\n",
        "model.add(Conv1D(512, 3, activation='relu'))\n",
        "model.add(MaxPooling1D(3))\n",
        "\n",
        "model.add(Conv1D(256, 3, activation='relu'))\n",
        "model.add(MaxPooling1D(3))\n",
        "\n",
        "model.add(Conv1D(256, 3, activation='relu'))\n",
        "model.add(Dropout(0.8))\n",
        "model.add(MaxPooling1D(3))\n",
        "\n",
        "model.add(GlobalMaxPooling1D())\n",
        "\n",
        "model.add(Dense(256, activation='relu'))\n",
        "model.add(Dense(1, activation='sigmoid'))\n",
        "\n",
        "\n",
        "# Compiling the Model\n",
        "adam = keras.optimizers.Adam(learning_rate = 0.0001)\n",
        "model.compile(optimizer=adam, loss='binary_crossentropy', metrics=['accuracy'])\n",
        "model.summary()"
      ],
      "metadata": {
        "colab": {
          "base_uri": "https://localhost:8080/"
        },
        "id": "oZ0rIMB7-g4F",
        "outputId": "bf6668a0-c841-452c-84c6-202958807493"
      },
      "execution_count": 88,
      "outputs": [
        {
          "output_type": "stream",
          "name": "stdout",
          "text": [
            "Model: \"sequential_10\"\n",
            "_________________________________________________________________\n",
            " Layer (type)                Output Shape              Param #   \n",
            "=================================================================\n",
            " embedding_10 (Embedding)    (None, 150, 8)            80000     \n",
            "                                                                 \n",
            " conv1d_6 (Conv1D)           (None, 148, 512)          12800     \n",
            "                                                                 \n",
            " max_pooling1d_6 (MaxPooling  (None, 49, 512)          0         \n",
            " 1D)                                                             \n",
            "                                                                 \n",
            " conv1d_7 (Conv1D)           (None, 47, 256)           393472    \n",
            "                                                                 \n",
            " max_pooling1d_7 (MaxPooling  (None, 15, 256)          0         \n",
            " 1D)                                                             \n",
            "                                                                 \n",
            " conv1d_8 (Conv1D)           (None, 13, 256)           196864    \n",
            "                                                                 \n",
            " dropout_2 (Dropout)         (None, 13, 256)           0         \n",
            "                                                                 \n",
            " max_pooling1d_8 (MaxPooling  (None, 4, 256)           0         \n",
            " 1D)                                                             \n",
            "                                                                 \n",
            " global_max_pooling1d_2 (Glo  (None, 256)              0         \n",
            " balMaxPooling1D)                                                \n",
            "                                                                 \n",
            " dense_12 (Dense)            (None, 256)               65792     \n",
            "                                                                 \n",
            " dense_13 (Dense)            (None, 1)                 257       \n",
            "                                                                 \n",
            "=================================================================\n",
            "Total params: 749,185\n",
            "Trainable params: 749,185\n",
            "Non-trainable params: 0\n",
            "_________________________________________________________________\n"
          ]
        }
      ]
    },
    {
      "cell_type": "code",
      "source": [
        "callbacks = ModelCheckpoint(\n",
        "            filepath= \"model4.h5\",\n",
        "            save_best_only= True,\n",
        "            monitor= \"val_loss\"\n",
        "            )\n",
        "\n",
        "Model_4 = model.fit(train_texts, train_labels,\n",
        "                    epochs=30,\n",
        "                    batch_size=32,\n",
        "                    validation_data=(val_texts, val_labels),\n",
        "                    callbacks=callbacks)"
      ],
      "metadata": {
        "colab": {
          "base_uri": "https://localhost:8080/"
        },
        "id": "SI98n3pc-xGW",
        "outputId": "6b53d614-77b4-4f8d-fd73-934270864be1"
      },
      "execution_count": 89,
      "outputs": [
        {
          "output_type": "stream",
          "name": "stdout",
          "text": [
            "Epoch 1/30\n",
            "782/782 [==============================] - 38s 46ms/step - loss: 0.6277 - accuracy: 0.6061 - val_loss: 0.5615 - val_accuracy: 0.7936\n",
            "Epoch 2/30\n",
            "782/782 [==============================] - 9s 12ms/step - loss: 0.3868 - accuracy: 0.8274 - val_loss: 0.4987 - val_accuracy: 0.8294\n",
            "Epoch 3/30\n",
            "782/782 [==============================] - 9s 11ms/step - loss: 0.3150 - accuracy: 0.8667 - val_loss: 0.4667 - val_accuracy: 0.8361\n",
            "Epoch 4/30\n",
            "782/782 [==============================] - 7s 9ms/step - loss: 0.2773 - accuracy: 0.8848 - val_loss: 0.4566 - val_accuracy: 0.8294\n",
            "Epoch 5/30\n",
            "782/782 [==============================] - 6s 8ms/step - loss: 0.2451 - accuracy: 0.9023 - val_loss: 0.4408 - val_accuracy: 0.8359\n",
            "Epoch 6/30\n",
            "782/782 [==============================] - 6s 8ms/step - loss: 0.2192 - accuracy: 0.9130 - val_loss: 0.4275 - val_accuracy: 0.8360\n",
            "Epoch 7/30\n",
            "782/782 [==============================] - 6s 8ms/step - loss: 0.1946 - accuracy: 0.9266 - val_loss: 0.4301 - val_accuracy: 0.8203\n",
            "Epoch 8/30\n",
            "782/782 [==============================] - 6s 8ms/step - loss: 0.1748 - accuracy: 0.9356 - val_loss: 0.4215 - val_accuracy: 0.8261\n",
            "Epoch 9/30\n",
            "782/782 [==============================] - 6s 8ms/step - loss: 0.1593 - accuracy: 0.9412 - val_loss: 0.4141 - val_accuracy: 0.8213\n",
            "Epoch 10/30\n",
            "782/782 [==============================] - 6s 8ms/step - loss: 0.1363 - accuracy: 0.9531 - val_loss: 0.4102 - val_accuracy: 0.8201\n",
            "Epoch 11/30\n",
            "782/782 [==============================] - 6s 7ms/step - loss: 0.1227 - accuracy: 0.9582 - val_loss: 0.4111 - val_accuracy: 0.8175\n",
            "Epoch 12/30\n",
            "782/782 [==============================] - 6s 8ms/step - loss: 0.1107 - accuracy: 0.9631 - val_loss: 0.4172 - val_accuracy: 0.8133\n",
            "Epoch 13/30\n",
            "782/782 [==============================] - 6s 7ms/step - loss: 0.0958 - accuracy: 0.9693 - val_loss: 0.4267 - val_accuracy: 0.8074\n",
            "Epoch 14/30\n",
            "782/782 [==============================] - 6s 7ms/step - loss: 0.0795 - accuracy: 0.9754 - val_loss: 0.4338 - val_accuracy: 0.8067\n",
            "Epoch 15/30\n",
            "782/782 [==============================] - 5s 7ms/step - loss: 0.0706 - accuracy: 0.9782 - val_loss: 0.4476 - val_accuracy: 0.8035\n",
            "Epoch 16/30\n",
            "782/782 [==============================] - 6s 7ms/step - loss: 0.0591 - accuracy: 0.9821 - val_loss: 0.4686 - val_accuracy: 0.8021\n",
            "Epoch 17/30\n",
            "782/782 [==============================] - 6s 8ms/step - loss: 0.0509 - accuracy: 0.9844 - val_loss: 0.4933 - val_accuracy: 0.8007\n",
            "Epoch 18/30\n",
            "782/782 [==============================] - 6s 7ms/step - loss: 0.0446 - accuracy: 0.9868 - val_loss: 0.5104 - val_accuracy: 0.7983\n",
            "Epoch 19/30\n",
            "782/782 [==============================] - 6s 8ms/step - loss: 0.0411 - accuracy: 0.9870 - val_loss: 0.5416 - val_accuracy: 0.7964\n",
            "Epoch 20/30\n",
            "782/782 [==============================] - 6s 8ms/step - loss: 0.0345 - accuracy: 0.9895 - val_loss: 0.5574 - val_accuracy: 0.7963\n",
            "Epoch 21/30\n",
            "782/782 [==============================] - 5s 7ms/step - loss: 0.0319 - accuracy: 0.9901 - val_loss: 0.5702 - val_accuracy: 0.7974\n",
            "Epoch 22/30\n",
            "782/782 [==============================] - 6s 8ms/step - loss: 0.0254 - accuracy: 0.9924 - val_loss: 0.6054 - val_accuracy: 0.7929\n",
            "Epoch 23/30\n",
            "782/782 [==============================] - 6s 7ms/step - loss: 0.0257 - accuracy: 0.9916 - val_loss: 0.6168 - val_accuracy: 0.7958\n",
            "Epoch 24/30\n",
            "782/782 [==============================] - 6s 7ms/step - loss: 0.0232 - accuracy: 0.9920 - val_loss: 0.6110 - val_accuracy: 0.7955\n",
            "Epoch 25/30\n",
            "782/782 [==============================] - 6s 8ms/step - loss: 0.0213 - accuracy: 0.9932 - val_loss: 0.6529 - val_accuracy: 0.7921\n",
            "Epoch 26/30\n",
            "782/782 [==============================] - 6s 7ms/step - loss: 0.0166 - accuracy: 0.9945 - val_loss: 0.6868 - val_accuracy: 0.7922\n",
            "Epoch 27/30\n",
            "782/782 [==============================] - 6s 7ms/step - loss: 0.0192 - accuracy: 0.9938 - val_loss: 0.6983 - val_accuracy: 0.7931\n",
            "Epoch 28/30\n",
            "782/782 [==============================] - 6s 7ms/step - loss: 0.0165 - accuracy: 0.9942 - val_loss: 0.7429 - val_accuracy: 0.7926\n",
            "Epoch 29/30\n",
            "782/782 [==============================] - 6s 7ms/step - loss: 0.0144 - accuracy: 0.9950 - val_loss: 0.7409 - val_accuracy: 0.7897\n",
            "Epoch 30/30\n",
            "782/782 [==============================] - 6s 7ms/step - loss: 0.0129 - accuracy: 0.9959 - val_loss: 0.7676 - val_accuracy: 0.7920\n"
          ]
        }
      ]
    },
    {
      "cell_type": "code",
      "source": [
        "accuracy = Model_4.history['accuracy']\n",
        "val_accuracy = Model_4.history['val_accuracy']\n",
        "\n",
        "loss = Model_4.history[\"loss\"]\n",
        "val_loss = Model_4.history[\"val_loss\"]\n",
        "\n",
        "epochs = range(1, len(accuracy) + 1)\n",
        "\n",
        "plt.figure(figsize=(6,4))\n",
        "plt.plot(epochs, accuracy, color=\"grey\", linestyle=\"dashed\", label=\"Training Accuracy\")\n",
        "plt.plot(epochs, val_accuracy, color=\"blue\",linestyle=\"dashed\", label=\"Validation Accuracy\")\n",
        "plt.title(\"Model_4:Accuracy\")\n",
        "plt.legend()\n",
        "plt.figure()\n",
        "\n",
        "plt.figure(figsize=(6,4))\n",
        "plt.plot(epochs, loss, color=\"grey\", linestyle=\"dashed\", label=\"Training Loss\")\n",
        "plt.plot(epochs, val_loss, color=\"blue\", linestyle=\"dashed\", label=\"Validation Loss\")\n",
        "plt.title(\"Model_4: Loss\")\n",
        "plt.legend()\n",
        "plt.show()"
      ],
      "metadata": {
        "colab": {
          "base_uri": "https://localhost:8080/",
          "height": 782
        },
        "id": "VvvEWmD9_WPd",
        "outputId": "e0ff9cec-fb86-4a1e-da2d-245fd5244d5b"
      },
      "execution_count": 70,
      "outputs": [
        {
          "output_type": "display_data",
          "data": {
            "text/plain": [
              "<Figure size 600x400 with 1 Axes>"
            ],
            "image/png": "[encoded data removed]"
          },
          "metadata": {}
        },
        {
          "output_type": "display_data",
          "data": {
            "text/plain": [
              "<Figure size 640x480 with 0 Axes>"
            ]
          },
          "metadata": {}
        },
        {
          "output_type": "display_data",
          "data": {
            "text/plain": [
              "<Figure size 600x400 with 1 Axes>"
            ],
            "image/png": "[encoded data removed]"
          },
          "metadata": {}
        }
      ]
    },
    {
      "cell_type": "code",
      "source": [
        "test_model = load_model('model4.h5')\n",
        "Model4_Results = test_model.evaluate(test_texts,test_labels)\n",
        "print(f'Loss: {Model4_Results[0]:.3f}')\n",
        "print(f'Accuracy: {Model4_Results[1]:.3f}')"
      ],
      "metadata": {
        "colab": {
          "base_uri": "https://localhost:8080/"
        },
        "id": "1AMAsOut_1Ve",
        "outputId": "4d50663c-b9aa-438a-f4e4-136953566c7b"
      },
      "execution_count": 72,
      "outputs": [
        {
          "output_type": "stream",
          "name": "stdout",
          "text": [
            "157/157 [==============================] - 1s 4ms/step - loss: 0.3961 - accuracy: 0.8322\n",
            "Loss: 0.396\n",
            "Accuracy: 0.832\n"
          ]
        }
      ]
    },
    {
      "cell_type": "markdown",
      "source": [
        "Model:5 A sequence model built on one-hot encoded vector sequences"
      ],
      "metadata": {
        "id": "GoqwWruEDTRh"
      }
    },
    {
      "cell_type": "code",
      "source": [
        "import tensorflow as tf\n",
        "max_length = 150\n",
        "max_tokens = 10000\n",
        "inputs = keras.Input(shape=(None,), dtype=\"int64\")\n",
        "embedded = tf.one_hot(inputs, depth=max_tokens)\n",
        "x = layers.Bidirectional(layers.LSTM(32))(embedded)\n",
        "x = layers.Dropout(0.5)(x)\n",
        "outputs = layers.Dense(1, activation=\"sigmoid\")(x)\n",
        "model = keras.Model(inputs, outputs)\n",
        "model.compile(optimizer=\"rmsprop\",\n",
        "              loss=\"binary_crossentropy\",\n",
        "              metrics=[\"accuracy\"])\n",
        "model.summary()"
      ],
      "metadata": {
        "colab": {
          "base_uri": "https://localhost:8080/"
        },
        "id": "U5UoTm4DHvfi",
        "outputId": "5893467b-87ee-4c63-e7d4-928095af7da1"
      },
      "execution_count": 92,
      "outputs": [
        {
          "output_type": "stream",
          "name": "stdout",
          "text": [
            "Model: \"model\"\n",
            "_________________________________________________________________\n",
            " Layer (type)                Output Shape              Param #   \n",
            "=================================================================\n",
            " input_1 (InputLayer)        [(None, None)]            0         \n",
            "                                                                 \n",
            " tf.one_hot (TFOpLambda)     (None, None, 10000)       0         \n",
            "                                                                 \n",
            " bidirectional (Bidirectiona  (None, 64)               2568448   \n",
            " l)                                                              \n",
            "                                                                 \n",
            " dropout_3 (Dropout)         (None, 64)                0         \n",
            "                                                                 \n",
            " dense_14 (Dense)            (None, 1)                 65        \n",
            "                                                                 \n",
            "=================================================================\n",
            "Total params: 2,568,513\n",
            "Trainable params: 2,568,513\n",
            "Non-trainable params: 0\n",
            "_________________________________________________________________\n"
          ]
        }
      ]
    },
    {
      "cell_type": "code",
      "source": [
        "callbacks = ModelCheckpoint(\n",
        "            filepath= \"model5.h5\",\n",
        "            save_best_only= True,\n",
        "            monitor= \"val_loss\"\n",
        "            )\n",
        "\n",
        "Model_5 = model.fit(train_texts, train_labels,\n",
        "                    epochs=30,\n",
        "                    batch_size=32,\n",
        "                    validation_data=(val_texts, val_labels),\n",
        "                    callbacks=callbacks)"
      ],
      "metadata": {
        "colab": {
          "base_uri": "https://localhost:8080/"
        },
        "id": "ZsYmv3b1IeNj",
        "outputId": "c588c2b5-0b4b-4f16-944c-3939d4df5265"
      },
      "execution_count": 93,
      "outputs": [
        {
          "output_type": "stream",
          "name": "stdout",
          "text": [
            "Epoch 1/30\n",
            "782/782 [==============================] - 41s 46ms/step - loss: 0.4766 - accuracy: 0.7762 - val_loss: 0.3490 - val_accuracy: 0.8594\n",
            "Epoch 2/30\n",
            "782/782 [==============================] - 34s 43ms/step - loss: 0.3126 - accuracy: 0.8786 - val_loss: 0.3668 - val_accuracy: 0.8661\n",
            "Epoch 3/30\n",
            "782/782 [==============================] - 34s 44ms/step - loss: 0.2626 - accuracy: 0.8981 - val_loss: 0.2794 - val_accuracy: 0.8830\n",
            "Epoch 4/30\n",
            "782/782 [==============================] - 35s 44ms/step - loss: 0.2293 - accuracy: 0.9153 - val_loss: 0.3033 - val_accuracy: 0.8723\n",
            "Epoch 5/30\n",
            "782/782 [==============================] - 34s 44ms/step - loss: 0.2096 - accuracy: 0.9247 - val_loss: 0.2981 - val_accuracy: 0.8740\n",
            "Epoch 6/30\n",
            "782/782 [==============================] - 34s 44ms/step - loss: 0.1863 - accuracy: 0.9313 - val_loss: 0.3968 - val_accuracy: 0.8197\n",
            "Epoch 7/30\n",
            "782/782 [==============================] - 34s 43ms/step - loss: 0.1584 - accuracy: 0.9438 - val_loss: 0.3202 - val_accuracy: 0.8794\n",
            "Epoch 8/30\n",
            "782/782 [==============================] - 34s 44ms/step - loss: 0.1286 - accuracy: 0.9569 - val_loss: 0.3956 - val_accuracy: 0.8758\n",
            "Epoch 9/30\n",
            "782/782 [==============================] - 34s 43ms/step - loss: 0.1085 - accuracy: 0.9641 - val_loss: 0.4644 - val_accuracy: 0.8286\n",
            "Epoch 10/30\n",
            "782/782 [==============================] - 34s 43ms/step - loss: 0.0879 - accuracy: 0.9712 - val_loss: 0.4618 - val_accuracy: 0.8512\n",
            "Epoch 11/30\n",
            "782/782 [==============================] - 34s 44ms/step - loss: 0.0712 - accuracy: 0.9771 - val_loss: 0.5139 - val_accuracy: 0.8632\n",
            "Epoch 12/30\n",
            "782/782 [==============================] - 34s 44ms/step - loss: 0.0586 - accuracy: 0.9812 - val_loss: 0.6827 - val_accuracy: 0.8227\n",
            "Epoch 13/30\n",
            "782/782 [==============================] - 34s 44ms/step - loss: 0.0473 - accuracy: 0.9854 - val_loss: 0.5199 - val_accuracy: 0.8569\n",
            "Epoch 14/30\n",
            "782/782 [==============================] - 34s 43ms/step - loss: 0.0410 - accuracy: 0.9882 - val_loss: 0.5565 - val_accuracy: 0.8603\n",
            "Epoch 15/30\n",
            "782/782 [==============================] - 34s 43ms/step - loss: 0.0352 - accuracy: 0.9896 - val_loss: 0.5412 - val_accuracy: 0.8548\n",
            "Epoch 16/30\n",
            "782/782 [==============================] - 34s 43ms/step - loss: 0.0326 - accuracy: 0.9912 - val_loss: 0.7440 - val_accuracy: 0.8577\n",
            "Epoch 17/30\n",
            "782/782 [==============================] - 34s 43ms/step - loss: 0.0278 - accuracy: 0.9917 - val_loss: 0.6638 - val_accuracy: 0.8502\n",
            "Epoch 18/30\n",
            "782/782 [==============================] - 34s 44ms/step - loss: 0.0244 - accuracy: 0.9936 - val_loss: 0.7191 - val_accuracy: 0.8631\n",
            "Epoch 19/30\n",
            "782/782 [==============================] - 34s 44ms/step - loss: 0.0215 - accuracy: 0.9942 - val_loss: 0.7262 - val_accuracy: 0.8572\n",
            "Epoch 20/30\n",
            "782/782 [==============================] - 34s 44ms/step - loss: 0.0204 - accuracy: 0.9937 - val_loss: 0.7082 - val_accuracy: 0.8593\n",
            "Epoch 21/30\n",
            "782/782 [==============================] - 34s 44ms/step - loss: 0.0210 - accuracy: 0.9946 - val_loss: 0.7848 - val_accuracy: 0.8551\n",
            "Epoch 22/30\n",
            "782/782 [==============================] - 34s 43ms/step - loss: 0.0166 - accuracy: 0.9954 - val_loss: 0.7935 - val_accuracy: 0.8583\n",
            "Epoch 23/30\n",
            "782/782 [==============================] - 34s 44ms/step - loss: 0.0168 - accuracy: 0.9949 - val_loss: 0.8673 - val_accuracy: 0.8565\n",
            "Epoch 24/30\n",
            "782/782 [==============================] - 34s 44ms/step - loss: 0.0170 - accuracy: 0.9950 - val_loss: 0.9275 - val_accuracy: 0.8500\n",
            "Epoch 25/30\n",
            "782/782 [==============================] - 34s 44ms/step - loss: 0.0149 - accuracy: 0.9957 - val_loss: 1.0661 - val_accuracy: 0.8590\n",
            "Epoch 26/30\n",
            "782/782 [==============================] - 34s 44ms/step - loss: 0.0150 - accuracy: 0.9955 - val_loss: 0.8202 - val_accuracy: 0.8578\n",
            "Epoch 27/30\n",
            "782/782 [==============================] - 34s 43ms/step - loss: 0.0146 - accuracy: 0.9960 - val_loss: 0.8805 - val_accuracy: 0.8509\n",
            "Epoch 28/30\n",
            "782/782 [==============================] - 34s 44ms/step - loss: 0.0141 - accuracy: 0.9962 - val_loss: 1.0677 - val_accuracy: 0.8469\n",
            "Epoch 29/30\n",
            "782/782 [==============================] - 34s 43ms/step - loss: 0.0137 - accuracy: 0.9964 - val_loss: 0.8968 - val_accuracy: 0.8510\n",
            "Epoch 30/30\n",
            "782/782 [==============================] - 34s 43ms/step - loss: 0.0125 - accuracy: 0.9972 - val_loss: 0.9114 - val_accuracy: 0.8486\n"
          ]
        }
      ]
    },
    {
      "cell_type": "code",
      "source": [
        "accuracy = Model_5.history['accuracy']\n",
        "val_accuracy = Model_5.history['val_accuracy']\n",
        "\n",
        "loss = Model_5.history[\"loss\"]\n",
        "val_loss = Model_5.history[\"val_loss\"]\n",
        "\n",
        "epochs = range(1, len(accuracy) + 1)\n",
        "\n",
        "plt.figure(figsize=(6,4))\n",
        "plt.plot(epochs, accuracy, color=\"grey\", linestyle=\"dashed\", label=\"Training Accuracy\")\n",
        "plt.plot(epochs, val_accuracy, color=\"blue\",linestyle=\"dashed\", label=\"Validation Accuracy\")\n",
        "plt.title(\"Model_5:Accuracy\")\n",
        "plt.legend()\n",
        "plt.figure()\n",
        "\n",
        "plt.figure(figsize=(6,4))\n",
        "plt.plot(epochs, loss, color=\"grey\", linestyle=\"dashed\", label=\"Training Loss\")\n",
        "plt.plot(epochs, val_loss, color=\"blue\", linestyle=\"dashed\", label=\"Validation Loss\")\n",
        "plt.title(\"Model_5: Loss\")\n",
        "plt.legend()\n",
        "plt.show()"
      ],
      "metadata": {
        "colab": {
          "base_uri": "https://localhost:8080/",
          "height": 782
        },
        "id": "TDwqlSJlJEdX",
        "outputId": "f90d3fc4-29de-43b9-fbf2-5ae351cf7f22"
      },
      "execution_count": 94,
      "outputs": [
        {
          "output_type": "display_data",
          "data": {
            "text/plain": [
              "<Figure size 600x400 with 1 Axes>"
            ],
            "image/png": "[encoded data removed]"
          },
          "metadata": {}
        },
        {
          "output_type": "display_data",
          "data": {
            "text/plain": [
              "<Figure size 640x480 with 0 Axes>"
            ]
          },
          "metadata": {}
        },
        {
          "output_type": "display_data",
          "data": {
            "text/plain": [
              "<Figure size 600x400 with 1 Axes>"
            ],
            "image/png": "[encoded data removed]"
          },
          "metadata": {}
        }
      ]
    },
    {
      "cell_type": "code",
      "source": [
        "test_model = load_model('model5.h5')\n",
        "Model5_Results = test_model.evaluate(test_texts,test_labels)\n",
        "print(f'Loss: {Model5_Results[0]:.3f}')\n",
        "print(f'Accuracy: {Model5_Results[1]:.3f}')"
      ],
      "metadata": {
        "colab": {
          "base_uri": "https://localhost:8080/"
        },
        "id": "0LkdzuzoJNq6",
        "outputId": "aa377b36-dfca-4f70-fe63-3ffb862ed072"
      },
      "execution_count": 95,
      "outputs": [
        {
          "output_type": "stream",
          "name": "stdout",
          "text": [
            "157/157 [==============================] - 4s 20ms/step - loss: 0.2434 - accuracy: 0.9028\n",
            "Loss: 0.243\n",
            "Accuracy: 0.903\n"
          ]
        }
      ]
    },
    {
      "cell_type": "markdown",
      "source": [
        "Model 6: LSTM"
      ],
      "metadata": {
        "id": "sVXN1_ISJpHw"
      }
    },
    {
      "cell_type": "code",
      "source": [
        "inputs = keras.Input(shape=(None,), dtype=\"int64\")\n",
        "embedded = layers.Embedding(input_dim=max_tokens, output_dim=256)(inputs)\n",
        "x = layers.Bidirectional(layers.LSTM(32))(embedded)\n",
        "x = layers.Dropout(0.5)(x)\n",
        "outputs = layers.Dense(1, activation=\"sigmoid\")(x)\n",
        "model = keras.Model(inputs, outputs)\n",
        "model.compile(optimizer=\"rmsprop\",\n",
        "              loss=\"binary_crossentropy\",\n",
        "              metrics=[\"accuracy\"])\n",
        "model.summary()"
      ],
      "metadata": {
        "colab": {
          "base_uri": "https://localhost:8080/"
        },
        "id": "V60yoDBPJ_DI",
        "outputId": "6e7844f8-4f65-489f-a513-32ac8240993f"
      },
      "execution_count": 98,
      "outputs": [
        {
          "output_type": "stream",
          "name": "stdout",
          "text": [
            "Model: \"model_3\"\n",
            "_________________________________________________________________\n",
            " Layer (type)                Output Shape              Param #   \n",
            "=================================================================\n",
            " input_4 (InputLayer)        [(None, None)]            0         \n",
            "                                                                 \n",
            " embedding_13 (Embedding)    (None, None, 256)         2560000   \n",
            "                                                                 \n",
            " bidirectional_3 (Bidirectio  (None, 64)               73984     \n",
            " nal)                                                            \n",
            "                                                                 \n",
            " dropout_6 (Dropout)         (None, 64)                0         \n",
            "                                                                 \n",
            " dense_17 (Dense)            (None, 1)                 65        \n",
            "                                                                 \n",
            "=================================================================\n",
            "Total params: 2,634,049\n",
            "Trainable params: 2,634,049\n",
            "Non-trainable params: 0\n",
            "_________________________________________________________________\n"
          ]
        }
      ]
    },
    {
      "cell_type": "code",
      "source": [
        "callbacks = ModelCheckpoint(\n",
        "            filepath= \"model6.h5\",\n",
        "            save_best_only= True,\n",
        "            monitor= \"val_loss\"\n",
        "            )\n",
        "\n",
        "Model_6 = model.fit(train_texts, train_labels,\n",
        "                    epochs=10,\n",
        "                    batch_size=32,\n",
        "                    validation_data=(val_texts, val_labels),\n",
        "                    callbacks=callbacks)"
      ],
      "metadata": {
        "colab": {
          "base_uri": "https://localhost:8080/"
        },
        "id": "CEuFQJHwQVbR",
        "outputId": "eb8ef0f4-3972-4b39-db90-31a03bbd983a"
      },
      "execution_count": 99,
      "outputs": [
        {
          "output_type": "stream",
          "name": "stdout",
          "text": [
            "Epoch 1/10\n",
            "782/782 [==============================] - 46s 54ms/step - loss: 0.4443 - accuracy: 0.7902 - val_loss: 0.3756 - val_accuracy: 0.8422\n",
            "Epoch 2/10\n",
            "782/782 [==============================] - 16s 20ms/step - loss: 0.2972 - accuracy: 0.8813 - val_loss: 0.3156 - val_accuracy: 0.8706\n",
            "Epoch 3/10\n",
            "782/782 [==============================] - 14s 18ms/step - loss: 0.2428 - accuracy: 0.9056 - val_loss: 0.2934 - val_accuracy: 0.8734\n",
            "Epoch 4/10\n",
            "782/782 [==============================] - 12s 16ms/step - loss: 0.2067 - accuracy: 0.9218 - val_loss: 0.3361 - val_accuracy: 0.8833\n",
            "Epoch 5/10\n",
            "782/782 [==============================] - 11s 15ms/step - loss: 0.1831 - accuracy: 0.9348 - val_loss: 0.3054 - val_accuracy: 0.8839\n",
            "Epoch 6/10\n",
            "782/782 [==============================] - 11s 14ms/step - loss: 0.1549 - accuracy: 0.9453 - val_loss: 0.3798 - val_accuracy: 0.8651\n",
            "Epoch 7/10\n",
            "782/782 [==============================] - 11s 14ms/step - loss: 0.1325 - accuracy: 0.9538 - val_loss: 0.3357 - val_accuracy: 0.8820\n",
            "Epoch 8/10\n",
            "782/782 [==============================] - 11s 15ms/step - loss: 0.1045 - accuracy: 0.9656 - val_loss: 0.4404 - val_accuracy: 0.8556\n",
            "Epoch 9/10\n",
            "782/782 [==============================] - 11s 14ms/step - loss: 0.0837 - accuracy: 0.9730 - val_loss: 0.4913 - val_accuracy: 0.8550\n",
            "Epoch 10/10\n",
            "782/782 [==============================] - 11s 14ms/step - loss: 0.0683 - accuracy: 0.9784 - val_loss: 0.4572 - val_accuracy: 0.8781\n"
          ]
        }
      ]
    },
    {
      "cell_type": "code",
      "source": [
        "accuracy = Model_6.history['accuracy']\n",
        "val_accuracy = Model_6.history['val_accuracy']\n",
        "\n",
        "loss = Model_6.history[\"loss\"]\n",
        "val_loss = Model_6.history[\"val_loss\"]\n",
        "\n",
        "epochs = range(1, len(accuracy) + 1)\n",
        "\n",
        "plt.figure(figsize=(6,4))\n",
        "plt.plot(epochs, accuracy, color=\"grey\", linestyle=\"dashed\", label=\"Training Accuracy\")\n",
        "plt.plot(epochs, val_accuracy, color=\"blue\",linestyle=\"dashed\", label=\"Validation Accuracy\")\n",
        "plt.title(\"Model_6:Accuracy\")\n",
        "plt.legend()\n",
        "plt.figure()\n",
        "\n",
        "plt.figure(figsize=(6,4))\n",
        "plt.plot(epochs, loss, color=\"grey\", linestyle=\"dashed\", label=\"Training Loss\")\n",
        "plt.plot(epochs, val_loss, color=\"blue\", linestyle=\"dashed\", label=\"Validation Loss\")\n",
        "plt.title(\"Model_6: Loss\")\n",
        "plt.legend()\n",
        "plt.show()"
      ],
      "metadata": {
        "colab": {
          "base_uri": "https://localhost:8080/",
          "height": 782
        },
        "id": "qSnBbVlARY-4",
        "outputId": "d35a067e-bd34-4507-9af6-7771d6c33ee4"
      },
      "execution_count": 100,
      "outputs": [
        {
          "output_type": "display_data",
          "data": {
            "text/plain": [
              "<Figure size 600x400 with 1 Axes>"
            ],
            "image/png": "[encoded data removed]"
          },
          "metadata": {}
        },
        {
          "output_type": "display_data",
          "data": {
            "text/plain": [
              "<Figure size 640x480 with 0 Axes>"
            ]
          },
          "metadata": {}
        },
        {
          "output_type": "display_data",
          "data": {
            "text/plain": [
              "<Figure size 600x400 with 1 Axes>"
            ],
            "image/png": "[encoded data removed]"
          },
          "metadata": {}
        }
      ]
    },
    {
      "cell_type": "code",
      "source": [
        "test_model = load_model('model6.h5')\n",
        "Model6_Results = test_model.evaluate(test_texts,test_labels)\n",
        "print(f'Loss: {Model6_Results[0]:.3f}')\n",
        "print(f'Accuracy: {Model6_Results[1]:.3f}')"
      ],
      "metadata": {
        "colab": {
          "base_uri": "https://localhost:8080/"
        },
        "id": "XOxU2OthRqoJ",
        "outputId": "92eaa416-db0c-490e-fc91-9a93f78e0349"
      },
      "execution_count": 101,
      "outputs": [
        {
          "output_type": "stream",
          "name": "stdout",
          "text": [
            "157/157 [==============================] - 2s 6ms/step - loss: 0.2435 - accuracy: 0.9034\n",
            "Loss: 0.243\n",
            "Accuracy: 0.903\n"
          ]
        }
      ]
    },
    {
      "cell_type": "markdown",
      "source": [
        "Model7 : Masking enable"
      ],
      "metadata": {
        "id": "4xTrOiXAR8bj"
      }
    },
    {
      "cell_type": "code",
      "source": [
        "inputs = keras.Input(shape=(None,), dtype=\"int64\")\n",
        "embedded = layers.Embedding(\n",
        "    input_dim=max_tokens, output_dim=256, mask_zero=True)(inputs)\n",
        "x = layers.Bidirectional(layers.LSTM(32))(embedded)\n",
        "x = layers.Dropout(0.5)(x)\n",
        "outputs = layers.Dense(1, activation=\"sigmoid\")(x)\n",
        "model = keras.Model(inputs, outputs)\n",
        "model.compile(optimizer=\"rmsprop\",\n",
        "              loss=\"binary_crossentropy\",\n",
        "              metrics=[\"accuracy\"])\n",
        "model.summary()"
      ],
      "metadata": {
        "colab": {
          "base_uri": "https://localhost:8080/"
        },
        "id": "2qqQUCy5SIWp",
        "outputId": "3dc9d89e-1c52-405b-9481-e346c2b88d65"
      },
      "execution_count": 102,
      "outputs": [
        {
          "output_type": "stream",
          "name": "stdout",
          "text": [
            "Model: \"model_4\"\n",
            "_________________________________________________________________\n",
            " Layer (type)                Output Shape              Param #   \n",
            "=================================================================\n",
            " input_5 (InputLayer)        [(None, None)]            0         \n",
            "                                                                 \n",
            " embedding_14 (Embedding)    (None, None, 256)         2560000   \n",
            "                                                                 \n",
            " bidirectional_4 (Bidirectio  (None, 64)               73984     \n",
            " nal)                                                            \n",
            "                                                                 \n",
            " dropout_7 (Dropout)         (None, 64)                0         \n",
            "                                                                 \n",
            " dense_18 (Dense)            (None, 1)                 65        \n",
            "                                                                 \n",
            "=================================================================\n",
            "Total params: 2,634,049\n",
            "Trainable params: 2,634,049\n",
            "Non-trainable params: 0\n",
            "_________________________________________________________________\n"
          ]
        }
      ]
    },
    {
      "cell_type": "code",
      "source": [
        "callbacks = ModelCheckpoint(\n",
        "            filepath= \"model7.h5\",\n",
        "            save_best_only= True,\n",
        "            monitor= \"val_loss\"\n",
        "            )\n",
        "\n",
        "Model_7 = model.fit(train_texts, train_labels,\n",
        "                    epochs=10,\n",
        "                    batch_size=32,\n",
        "                    validation_data=(val_texts, val_labels),\n",
        "                    callbacks=callbacks)"
      ],
      "metadata": {
        "colab": {
          "base_uri": "https://localhost:8080/",
          "height": 636
        },
        "id": "aq7SL2nmSfEV",
        "outputId": "42343039-a1dc-4bf7-81a6-692a5e79b3fd"
      },
      "execution_count": 103,
      "outputs": [
        {
          "output_type": "stream",
          "name": "stdout",
          "text": [
            "Epoch 1/10\n",
            "782/782 [==============================] - 386s 484ms/step - loss: 0.4359 - accuracy: 0.7909 - val_loss: 0.3468 - val_accuracy: 0.8491\n",
            "Epoch 2/10\n",
            "782/782 [==============================] - 355s 454ms/step - loss: 0.2816 - accuracy: 0.8854 - val_loss: 0.4036 - val_accuracy: 0.8258\n",
            "Epoch 3/10\n",
            "782/782 [==============================] - 362s 463ms/step - loss: 0.2362 - accuracy: 0.9089 - val_loss: 0.3977 - val_accuracy: 0.8443\n",
            "Epoch 4/10\n",
            "782/782 [==============================] - 352s 451ms/step - loss: 0.1974 - accuracy: 0.9247 - val_loss: 0.3580 - val_accuracy: 0.8795\n",
            "Epoch 5/10\n",
            "782/782 [==============================] - 347s 444ms/step - loss: 0.1652 - accuracy: 0.9400 - val_loss: 0.3189 - val_accuracy: 0.8822\n",
            "Epoch 6/10\n",
            "313/782 [===========>..................] - ETA: 3:15 - loss: 0.1197 - accuracy: 0.9593"
          ]
        },
        {
          "output_type": "error",
          "ename": "KeyboardInterrupt",
          "evalue": "ignored",
          "traceback": [
            "\u001b[0;31m---------------------------------------------------------------------------\u001b[0m",
            "\u001b[0;31mKeyboardInterrupt\u001b[0m                         Traceback (most recent call last)",
            "\u001b[0;32m<ipython-input-103-194830beedba>\u001b[0m in \u001b[0;36m<cell line: 7>\u001b[0;34m()\u001b[0m\n\u001b[1;32m      5\u001b[0m             )\n\u001b[1;32m      6\u001b[0m \u001b[0;34m\u001b[0m\u001b[0m\n\u001b[0;32m----> 7\u001b[0;31m Model_7 = model.fit(train_texts, train_labels,\n\u001b[0m\u001b[1;32m      8\u001b[0m                     \u001b[0mepochs\u001b[0m\u001b[0;34m=\u001b[0m\u001b[0;36m10\u001b[0m\u001b[0;34m,\u001b[0m\u001b[0;34m\u001b[0m\u001b[0;34m\u001b[0m\u001b[0m\n\u001b[1;32m      9\u001b[0m                     \u001b[0mbatch_size\u001b[0m\u001b[0;34m=\u001b[0m\u001b[0;36m32\u001b[0m\u001b[0;34m,\u001b[0m\u001b[0;34m\u001b[0m\u001b[0;34m\u001b[0m\u001b[0m\n",
            "\u001b[0;32m/usr/local/lib/python3.10/dist-packages/keras/utils/traceback_utils.py\u001b[0m in \u001b[0;36merror_handler\u001b[0;34m(*args, **kwargs)\u001b[0m\n\u001b[1;32m     63\u001b[0m         \u001b[0mfiltered_tb\u001b[0m \u001b[0;34m=\u001b[0m \u001b[0;32mNone\u001b[0m\u001b[0;34m\u001b[0m\u001b[0;34m\u001b[0m\u001b[0m\n\u001b[1;32m     64\u001b[0m         \u001b[0;32mtry\u001b[0m\u001b[0;34m:\u001b[0m\u001b[0;34m\u001b[0m\u001b[0;34m\u001b[0m\u001b[0m\n\u001b[0;32m---> 65\u001b[0;31m             \u001b[0;32mreturn\u001b[0m \u001b[0mfn\u001b[0m\u001b[0;34m(\u001b[0m\u001b[0;34m*\u001b[0m\u001b[0margs\u001b[0m\u001b[0;34m,\u001b[0m \u001b[0;34m**\u001b[0m\u001b[0mkwargs\u001b[0m\u001b[0;34m)\u001b[0m\u001b[0;34m\u001b[0m\u001b[0;34m\u001b[0m\u001b[0m\n\u001b[0m\u001b[1;32m     66\u001b[0m         \u001b[0;32mexcept\u001b[0m \u001b[0mException\u001b[0m \u001b[0;32mas\u001b[0m \u001b[0me\u001b[0m\u001b[0;34m:\u001b[0m\u001b[0;34m\u001b[0m\u001b[0;34m\u001b[0m\u001b[0m\n\u001b[1;32m     67\u001b[0m             \u001b[0mfiltered_tb\u001b[0m \u001b[0;34m=\u001b[0m \u001b[0m_process_traceback_frames\u001b[0m\u001b[0;34m(\u001b[0m\u001b[0me\u001b[0m\u001b[0;34m.\u001b[0m\u001b[0m__traceback__\u001b[0m\u001b[0;34m)\u001b[0m\u001b[0;34m\u001b[0m\u001b[0;34m\u001b[0m\u001b[0m\n",
            "\u001b[0;32m/usr/local/lib/python3.10/dist-packages/keras/engine/training.py\u001b[0m in \u001b[0;36mfit\u001b[0;34m(self, x, y, batch_size, epochs, verbose, callbacks, validation_split, validation_data, shuffle, class_weight, sample_weight, initial_epoch, steps_per_epoch, validation_steps, validation_batch_size, validation_freq, max_queue_size, workers, use_multiprocessing)\u001b[0m\n\u001b[1;32m   1683\u001b[0m                         ):\n\u001b[1;32m   1684\u001b[0m                             \u001b[0mcallbacks\u001b[0m\u001b[0;34m.\u001b[0m\u001b[0mon_train_batch_begin\u001b[0m\u001b[0;34m(\u001b[0m\u001b[0mstep\u001b[0m\u001b[0;34m)\u001b[0m\u001b[0;34m\u001b[0m\u001b[0;34m\u001b[0m\u001b[0m\n\u001b[0;32m-> 1685\u001b[0;31m                             \u001b[0mtmp_logs\u001b[0m \u001b[0;34m=\u001b[0m \u001b[0mself\u001b[0m\u001b[0;34m.\u001b[0m\u001b[0mtrain_function\u001b[0m\u001b[0;34m(\u001b[0m\u001b[0miterator\u001b[0m\u001b[0;34m)\u001b[0m\u001b[0;34m\u001b[0m\u001b[0;34m\u001b[0m\u001b[0m\n\u001b[0m\u001b[1;32m   1686\u001b[0m                             \u001b[0;32mif\u001b[0m \u001b[0mdata_handler\u001b[0m\u001b[0;34m.\u001b[0m\u001b[0mshould_sync\u001b[0m\u001b[0;34m:\u001b[0m\u001b[0;34m\u001b[0m\u001b[0;34m\u001b[0m\u001b[0m\n\u001b[1;32m   1687\u001b[0m                                 \u001b[0mcontext\u001b[0m\u001b[0;34m.\u001b[0m\u001b[0masync_wait\u001b[0m\u001b[0;34m(\u001b[0m\u001b[0;34m)\u001b[0m\u001b[0;34m\u001b[0m\u001b[0;34m\u001b[0m\u001b[0m\n",
            "\u001b[0;32m/usr/local/lib/python3.10/dist-packages/tensorflow/python/util/traceback_utils.py\u001b[0m in \u001b[0;36merror_handler\u001b[0;34m(*args, **kwargs)\u001b[0m\n\u001b[1;32m    148\u001b[0m     \u001b[0mfiltered_tb\u001b[0m \u001b[0;34m=\u001b[0m \u001b[0;32mNone\u001b[0m\u001b[0;34m\u001b[0m\u001b[0;34m\u001b[0m\u001b[0m\n\u001b[1;32m    149\u001b[0m     \u001b[0;32mtry\u001b[0m\u001b[0;34m:\u001b[0m\u001b[0;34m\u001b[0m\u001b[0;34m\u001b[0m\u001b[0m\n\u001b[0;32m--> 150\u001b[0;31m       \u001b[0;32mreturn\u001b[0m \u001b[0mfn\u001b[0m\u001b[0;34m(\u001b[0m\u001b[0;34m*\u001b[0m\u001b[0margs\u001b[0m\u001b[0;34m,\u001b[0m \u001b[0;34m**\u001b[0m\u001b[0mkwargs\u001b[0m\u001b[0;34m)\u001b[0m\u001b[0;34m\u001b[0m\u001b[0;34m\u001b[0m\u001b[0m\n\u001b[0m\u001b[1;32m    151\u001b[0m     \u001b[0;32mexcept\u001b[0m \u001b[0mException\u001b[0m \u001b[0;32mas\u001b[0m \u001b[0me\u001b[0m\u001b[0;34m:\u001b[0m\u001b[0;34m\u001b[0m\u001b[0;34m\u001b[0m\u001b[0m\n\u001b[1;32m    152\u001b[0m       \u001b[0mfiltered_tb\u001b[0m \u001b[0;34m=\u001b[0m \u001b[0m_process_traceback_frames\u001b[0m\u001b[0;34m(\u001b[0m\u001b[0me\u001b[0m\u001b[0;34m.\u001b[0m\u001b[0m__traceback__\u001b[0m\u001b[0;34m)\u001b[0m\u001b[0;34m\u001b[0m\u001b[0;34m\u001b[0m\u001b[0m\n",
            "\u001b[0;32m/usr/local/lib/python3.10/dist-packages/tensorflow/python/eager/polymorphic_function/polymorphic_function.py\u001b[0m in \u001b[0;36m__call__\u001b[0;34m(self, *args, **kwds)\u001b[0m\n\u001b[1;32m    892\u001b[0m \u001b[0;34m\u001b[0m\u001b[0m\n\u001b[1;32m    893\u001b[0m       \u001b[0;32mwith\u001b[0m \u001b[0mOptionalXlaContext\u001b[0m\u001b[0;34m(\u001b[0m\u001b[0mself\u001b[0m\u001b[0;34m.\u001b[0m\u001b[0m_jit_compile\u001b[0m\u001b[0;34m)\u001b[0m\u001b[0;34m:\u001b[0m\u001b[0;34m\u001b[0m\u001b[0;34m\u001b[0m\u001b[0m\n\u001b[0;32m--> 894\u001b[0;31m         \u001b[0mresult\u001b[0m \u001b[0;34m=\u001b[0m \u001b[0mself\u001b[0m\u001b[0;34m.\u001b[0m\u001b[0m_call\u001b[0m\u001b[0;34m(\u001b[0m\u001b[0;34m*\u001b[0m\u001b[0margs\u001b[0m\u001b[0;34m,\u001b[0m \u001b[0;34m**\u001b[0m\u001b[0mkwds\u001b[0m\u001b[0;34m)\u001b[0m\u001b[0;34m\u001b[0m\u001b[0;34m\u001b[0m\u001b[0m\n\u001b[0m\u001b[1;32m    895\u001b[0m \u001b[0;34m\u001b[0m\u001b[0m\n\u001b[1;32m    896\u001b[0m       \u001b[0mnew_tracing_count\u001b[0m \u001b[0;34m=\u001b[0m \u001b[0mself\u001b[0m\u001b[0;34m.\u001b[0m\u001b[0mexperimental_get_tracing_count\u001b[0m\u001b[0;34m(\u001b[0m\u001b[0;34m)\u001b[0m\u001b[0;34m\u001b[0m\u001b[0;34m\u001b[0m\u001b[0m\n",
            "\u001b[0;32m/usr/local/lib/python3.10/dist-packages/tensorflow/python/eager/polymorphic_function/polymorphic_function.py\u001b[0m in \u001b[0;36m_call\u001b[0;34m(self, *args, **kwds)\u001b[0m\n\u001b[1;32m    924\u001b[0m       \u001b[0;31m# In this case we have created variables on the first call, so we run the\u001b[0m\u001b[0;34m\u001b[0m\u001b[0;34m\u001b[0m\u001b[0m\n\u001b[1;32m    925\u001b[0m       \u001b[0;31m# defunned version which is guaranteed to never create variables.\u001b[0m\u001b[0;34m\u001b[0m\u001b[0;34m\u001b[0m\u001b[0m\n\u001b[0;32m--> 926\u001b[0;31m       \u001b[0;32mreturn\u001b[0m \u001b[0mself\u001b[0m\u001b[0;34m.\u001b[0m\u001b[0m_no_variable_creation_fn\u001b[0m\u001b[0;34m(\u001b[0m\u001b[0;34m*\u001b[0m\u001b[0margs\u001b[0m\u001b[0;34m,\u001b[0m \u001b[0;34m**\u001b[0m\u001b[0mkwds\u001b[0m\u001b[0;34m)\u001b[0m  \u001b[0;31m# pylint: disable=not-callable\u001b[0m\u001b[0;34m\u001b[0m\u001b[0;34m\u001b[0m\u001b[0m\n\u001b[0m\u001b[1;32m    927\u001b[0m     \u001b[0;32melif\u001b[0m \u001b[0mself\u001b[0m\u001b[0;34m.\u001b[0m\u001b[0m_variable_creation_fn\u001b[0m \u001b[0;32mis\u001b[0m \u001b[0;32mnot\u001b[0m \u001b[0;32mNone\u001b[0m\u001b[0;34m:\u001b[0m\u001b[0;34m\u001b[0m\u001b[0;34m\u001b[0m\u001b[0m\n\u001b[1;32m    928\u001b[0m       \u001b[0;31m# Release the lock early so that multiple threads can perform the call\u001b[0m\u001b[0;34m\u001b[0m\u001b[0;34m\u001b[0m\u001b[0m\n",
            "\u001b[0;32m/usr/local/lib/python3.10/dist-packages/tensorflow/python/eager/polymorphic_function/tracing_compiler.py\u001b[0m in \u001b[0;36m__call__\u001b[0;34m(self, *args, **kwargs)\u001b[0m\n\u001b[1;32m    141\u001b[0m       (concrete_function,\n\u001b[1;32m    142\u001b[0m        filtered_flat_args) = self._maybe_define_function(args, kwargs)\n\u001b[0;32m--> 143\u001b[0;31m     return concrete_function._call_flat(\n\u001b[0m\u001b[1;32m    144\u001b[0m         filtered_flat_args, captured_inputs=concrete_function.captured_inputs)  # pylint: disable=protected-access\n\u001b[1;32m    145\u001b[0m \u001b[0;34m\u001b[0m\u001b[0m\n",
            "\u001b[0;32m/usr/local/lib/python3.10/dist-packages/tensorflow/python/eager/polymorphic_function/monomorphic_function.py\u001b[0m in \u001b[0;36m_call_flat\u001b[0;34m(self, args, captured_inputs, cancellation_manager)\u001b[0m\n\u001b[1;32m   1755\u001b[0m         and executing_eagerly):\n\u001b[1;32m   1756\u001b[0m       \u001b[0;31m# No tape is watching; skip to running the function.\u001b[0m\u001b[0;34m\u001b[0m\u001b[0;34m\u001b[0m\u001b[0m\n\u001b[0;32m-> 1757\u001b[0;31m       return self._build_call_outputs(self._inference_function.call(\n\u001b[0m\u001b[1;32m   1758\u001b[0m           ctx, args, cancellation_manager=cancellation_manager))\n\u001b[1;32m   1759\u001b[0m     forward_backward = self._select_forward_and_backward_functions(\n",
            "\u001b[0;32m/usr/local/lib/python3.10/dist-packages/tensorflow/python/eager/polymorphic_function/monomorphic_function.py\u001b[0m in \u001b[0;36mcall\u001b[0;34m(self, ctx, args, cancellation_manager)\u001b[0m\n\u001b[1;32m    379\u001b[0m       \u001b[0;32mwith\u001b[0m \u001b[0m_InterpolateFunctionError\u001b[0m\u001b[0;34m(\u001b[0m\u001b[0mself\u001b[0m\u001b[0;34m)\u001b[0m\u001b[0;34m:\u001b[0m\u001b[0;34m\u001b[0m\u001b[0;34m\u001b[0m\u001b[0m\n\u001b[1;32m    380\u001b[0m         \u001b[0;32mif\u001b[0m \u001b[0mcancellation_manager\u001b[0m \u001b[0;32mis\u001b[0m \u001b[0;32mNone\u001b[0m\u001b[0;34m:\u001b[0m\u001b[0;34m\u001b[0m\u001b[0;34m\u001b[0m\u001b[0m\n\u001b[0;32m--> 381\u001b[0;31m           outputs = execute.execute(\n\u001b[0m\u001b[1;32m    382\u001b[0m               \u001b[0mstr\u001b[0m\u001b[0;34m(\u001b[0m\u001b[0mself\u001b[0m\u001b[0;34m.\u001b[0m\u001b[0msignature\u001b[0m\u001b[0;34m.\u001b[0m\u001b[0mname\u001b[0m\u001b[0;34m)\u001b[0m\u001b[0;34m,\u001b[0m\u001b[0;34m\u001b[0m\u001b[0;34m\u001b[0m\u001b[0m\n\u001b[1;32m    383\u001b[0m               \u001b[0mnum_outputs\u001b[0m\u001b[0;34m=\u001b[0m\u001b[0mself\u001b[0m\u001b[0;34m.\u001b[0m\u001b[0m_num_outputs\u001b[0m\u001b[0;34m,\u001b[0m\u001b[0;34m\u001b[0m\u001b[0;34m\u001b[0m\u001b[0m\n",
            "\u001b[0;32m/usr/local/lib/python3.10/dist-packages/tensorflow/python/eager/execute.py\u001b[0m in \u001b[0;36mquick_execute\u001b[0;34m(op_name, num_outputs, inputs, attrs, ctx, name)\u001b[0m\n\u001b[1;32m     50\u001b[0m   \u001b[0;32mtry\u001b[0m\u001b[0;34m:\u001b[0m\u001b[0;34m\u001b[0m\u001b[0;34m\u001b[0m\u001b[0m\n\u001b[1;32m     51\u001b[0m     \u001b[0mctx\u001b[0m\u001b[0;34m.\u001b[0m\u001b[0mensure_initialized\u001b[0m\u001b[0;34m(\u001b[0m\u001b[0;34m)\u001b[0m\u001b[0;34m\u001b[0m\u001b[0;34m\u001b[0m\u001b[0m\n\u001b[0;32m---> 52\u001b[0;31m     tensors = pywrap_tfe.TFE_Py_Execute(ctx._handle, device_name, op_name,\n\u001b[0m\u001b[1;32m     53\u001b[0m                                         inputs, attrs, num_outputs)\n\u001b[1;32m     54\u001b[0m   \u001b[0;32mexcept\u001b[0m \u001b[0mcore\u001b[0m\u001b[0;34m.\u001b[0m\u001b[0m_NotOkStatusException\u001b[0m \u001b[0;32mas\u001b[0m \u001b[0me\u001b[0m\u001b[0;34m:\u001b[0m\u001b[0;34m\u001b[0m\u001b[0;34m\u001b[0m\u001b[0m\n",
            "\u001b[0;31mKeyboardInterrupt\u001b[0m: "
          ]
        }
      ]
    },
    {
      "cell_type": "code",
      "source": [
        "accuracy = Model_7.history['accuracy']\n",
        "val_accuracy = Model_7.history['val_accuracy']\n",
        "\n",
        "loss = Model_7.history[\"loss\"]\n",
        "val_loss = Model_7.history[\"val_loss\"]\n",
        "\n",
        "epochs = range(1, len(accuracy) + 1)\n",
        "\n",
        "plt.figure(figsize=(6,4))\n",
        "plt.plot(epochs, accuracy, color=\"grey\", linestyle=\"dashed\", label=\"Training Accuracy\")\n",
        "plt.plot(epochs, val_accuracy, color=\"blue\",linestyle=\"dashed\", label=\"Validation Accuracy\")\n",
        "plt.title(\"Model_7:Accuracy\")\n",
        "plt.legend()\n",
        "plt.figure()\n",
        "\n",
        "plt.figure(figsize=(6,4))\n",
        "plt.plot(epochs, loss, color=\"grey\", linestyle=\"dashed\", label=\"Training Loss\")\n",
        "plt.plot(epochs, val_loss, color=\"blue\", linestyle=\"dashed\", label=\"Validation Loss\")\n",
        "plt.title(\"Model_7: Loss\")\n",
        "plt.legend()\n",
        "plt.show()"
      ],
      "metadata": {
        "id": "gefJpUQGSu8S"
      },
      "execution_count": null,
      "outputs": []
    },
    {
      "cell_type": "code",
      "source": [
        "test_model = load_model('model7.h5')\n",
        "Model7_Results = test_model.evaluate(test_texts,test_labels)\n",
        "print(f'Loss: {Model7_Results[0]:.3f}')\n",
        "print(f'Accuracy: {Model7_Results[1]:.3f}')"
      ],
      "metadata": {
        "id": "ASj2YvHfS5_M"
      },
      "execution_count": null,
      "outputs": []
    },
    {
      "cell_type": "markdown",
      "source": [
        "Model 8: TRansformers"
      ],
      "metadata": {
        "id": "cSFPngO5TI2M"
      }
    },
    {
      "cell_type": "code",
      "source": [
        "vocab_size = 10000\n",
        "embed_dim = 150\n",
        "num_heads = 2\n",
        "dense_dim = 32\n",
        "maxlen = 150\n",
        "\n",
        "inputs = keras.Input(shape=(maxlen,), dtype=\"int64\")\n",
        "x = layers.Embedding(vocab_size, embed_dim)(inputs)\n",
        "x = TransformerEncoder(embed_dim, dense_dim, num_heads)(x)\n",
        "x = layers.GlobalMaxPooling1D()(x)\n",
        "x = layers.Dropout(0.5)(x)\n",
        "outputs = layers.Dense(1, activation=\"sigmoid\")(x)\n",
        "model = keras.Model(inputs, outputs)\n",
        "model.compile(optimizer=\"rmsprop\",\n",
        "              loss=\"binary_crossentropy\",\n",
        "              metrics=[\"accuracy\"])\n",
        "model.summary()"
      ],
      "metadata": {
        "id": "i8CxgFM0Txus"
      },
      "execution_count": null,
      "outputs": []
    },
    {
      "cell_type": "code",
      "source": [
        "callbacks = ModelCheckpoint(\n",
        "            filepath= \"model8.h5\",\n",
        "            save_best_only= True,\n",
        "            monitor= \"val_loss\"\n",
        "            )\n",
        "\n",
        "Model_8 = model.fit(train_texts, train_labels,\n",
        "                    epochs=10,\n",
        "                    batch_size=32,\n",
        "                    validation_data=(val_texts, val_labels),\n",
        "                    callbacks=callbacks)"
      ],
      "metadata": {
        "id": "rgjYCV8KWIa1"
      },
      "execution_count": null,
      "outputs": []
    },
    {
      "cell_type": "code",
      "source": [
        "accuracy = Model_8.history['accuracy']\n",
        "val_accuracy = Model_8.history['val_accuracy']\n",
        "\n",
        "loss = Model_8.history[\"loss\"]\n",
        "val_loss = Model_8.history[\"val_loss\"]\n",
        "\n",
        "epochs = range(1, len(accuracy) + 1)\n",
        "\n",
        "plt.figure(figsize=(6,4))\n",
        "plt.plot(epochs, accuracy, color=\"grey\", linestyle=\"dashed\", label=\"Training Accuracy\")\n",
        "plt.plot(epochs, val_accuracy, color=\"blue\",linestyle=\"dashed\", label=\"Validation Accuracy\")\n",
        "plt.title(\"Model_8:Accuracy\")\n",
        "plt.legend()\n",
        "plt.figure()\n",
        "\n",
        "plt.figure(figsize=(6,4))\n",
        "plt.plot(epochs, loss, color=\"grey\", linestyle=\"dashed\", label=\"Training Loss\")\n",
        "plt.plot(epochs, val_loss, color=\"blue\", linestyle=\"dashed\", label=\"Validation Loss\")\n",
        "plt.title(\"Model_8: Loss\")\n",
        "plt.legend()\n",
        "plt.show()"
      ],
      "metadata": {
        "id": "_DevJlE7WQqs"
      },
      "execution_count": null,
      "outputs": []
    },
    {
      "cell_type": "code",
      "source": [
        "test_model = load_model('model8.h5')\n",
        "Model8_Results = test_model.evaluate(test_texts,test_labels)\n",
        "print(f'Loss: {Model8_Results[0]:.3f}')\n",
        "print(f'Accuracy: {Model8_Results[1]:.3f}')"
      ],
      "metadata": {
        "id": "DdCpvhmfWXu5"
      },
      "execution_count": null,
      "outputs": []
    },
    {
      "cell_type": "markdown",
      "source": [
        "Model 9:Pretrained"
      ],
      "metadata": {
        "id": "j5qZHdDkW8JS"
      }
    },
    {
      "cell_type": "code",
      "source": [
        "!wget http://nlp.stanford.edu/data/glove.6B.zip\n",
        "!unzip -q glove.6B.zip"
      ],
      "metadata": {
        "colab": {
          "base_uri": "https://localhost:8080/"
        },
        "id": "2FXAb_LUaFPL",
        "outputId": "d4a2f035-66f8-4e15-9113-9c30192e2fc7"
      },
      "execution_count": 105,
      "outputs": [
        {
          "output_type": "stream",
          "name": "stdout",
          "text": [
            "--2023-11-27 01:32:56--  http://nlp.stanford.edu/data/glove.6B.zip\n",
            "Resolving nlp.stanford.edu (nlp.stanford.edu)... 171.64.67.140\n",
            "Connecting to nlp.stanford.edu (nlp.stanford.edu)|171.64.67.140|:80... connected.\n",
            "HTTP request sent, awaiting response... 302 Found\n",
            "Location: https://nlp.stanford.edu/data/glove.6B.zip [following]\n",
            "--2023-11-27 01:32:56--  https://nlp.stanford.edu/data/glove.6B.zip\n",
            "Connecting to nlp.stanford.edu (nlp.stanford.edu)|171.64.67.140|:443... connected.\n",
            "HTTP request sent, awaiting response... 301 Moved Permanently\n",
            "Location: https://downloads.cs.stanford.edu/nlp/data/glove.6B.zip [following]\n",
            "--2023-11-27 01:32:57--  https://downloads.cs.stanford.edu/nlp/data/glove.6B.zip\n",
            "Resolving downloads.cs.stanford.edu (downloads.cs.stanford.edu)... 171.64.64.22\n",
            "Connecting to downloads.cs.stanford.edu (downloads.cs.stanford.edu)|171.64.64.22|:443... connected.\n",
            "HTTP request sent, awaiting response... 200 OK\n",
            "Length: 862182613 (822M) [application/zip]\n",
            "Saving to: ‘glove.6B.zip’\n",
            "\n",
            "glove.6B.zip        100%[===================>] 822.24M  5.26MB/s    in 3m 13s  \n",
            "\n",
            "2023-11-27 01:36:10 (4.27 MB/s) - ‘glove.6B.zip’ saved [862182613/862182613]\n",
            "\n"
          ]
        }
      ]
    },
    {
      "cell_type": "code",
      "source": [
        "import numpy as np\n",
        "path_to_glove_file = \"glove.6B.100d.txt\"\n",
        "\n",
        "embeddings_index = {}\n",
        "with open(path_to_glove_file) as f:\n",
        "    for line in f:\n",
        "        word, coefs = line.split(maxsplit=1)\n",
        "        coefs = np.fromstring(coefs, \"f\", sep=\" \")\n",
        "        embeddings_index[word] = coefs\n",
        "\n",
        "print(f\"Found {len(embeddings_index)} word vectors.\")"
      ],
      "metadata": {
        "colab": {
          "base_uri": "https://localhost:8080/"
        },
        "id": "6oW3eeLbXA30",
        "outputId": "e13b265e-88d7-4b83-e9f5-5670c3603cbb"
      },
      "execution_count": 106,
      "outputs": [
        {
          "output_type": "stream",
          "name": "stdout",
          "text": [
            "Found 400000 word vectors.\n"
          ]
        }
      ]
    },
    {
      "cell_type": "code",
      "source": [
        "embedding_dim = 100\n",
        "\n",
        "vocabulary = text_vectorization.get_vocabulary()\n",
        "word_index = dict(zip(vocabulary, range(len(vocabulary))))\n",
        "\n",
        "embedding_matrix = np.zeros((max_tokens, embedding_dim))\n",
        "for word, i in word_index.items():\n",
        "    if i < max_tokens:\n",
        "        embedding_vector = embeddings_index.get(word)\n",
        "    if embedding_vector is not None:\n",
        "        embedding_matrix[i] = embedding_vector"
      ],
      "metadata": {
        "colab": {
          "base_uri": "https://localhost:8080/",
          "height": 245
        },
        "id": "5frQ9R8VbQPd",
        "outputId": "65fa037e-85d8-4006-930a-bb824924c4bb"
      },
      "execution_count": 109,
      "outputs": [
        {
          "output_type": "error",
          "ename": "NameError",
          "evalue": "ignored",
          "traceback": [
            "\u001b[0;31m---------------------------------------------------------------------------\u001b[0m",
            "\u001b[0;31mNameError\u001b[0m                                 Traceback (most recent call last)",
            "\u001b[0;32m<ipython-input-109-79b9b63ef989>\u001b[0m in \u001b[0;36m<cell line: 3>\u001b[0;34m()\u001b[0m\n\u001b[1;32m      1\u001b[0m \u001b[0membedding_dim\u001b[0m \u001b[0;34m=\u001b[0m \u001b[0;36m100\u001b[0m\u001b[0;34m\u001b[0m\u001b[0;34m\u001b[0m\u001b[0m\n\u001b[1;32m      2\u001b[0m \u001b[0;34m\u001b[0m\u001b[0m\n\u001b[0;32m----> 3\u001b[0;31m \u001b[0mvocabulary\u001b[0m \u001b[0;34m=\u001b[0m \u001b[0mtext_vectorization\u001b[0m\u001b[0;34m.\u001b[0m\u001b[0mget_vocabulary\u001b[0m\u001b[0;34m(\u001b[0m\u001b[0;34m)\u001b[0m\u001b[0;34m\u001b[0m\u001b[0;34m\u001b[0m\u001b[0m\n\u001b[0m\u001b[1;32m      4\u001b[0m \u001b[0mword_index\u001b[0m \u001b[0;34m=\u001b[0m \u001b[0mdict\u001b[0m\u001b[0;34m(\u001b[0m\u001b[0mzip\u001b[0m\u001b[0;34m(\u001b[0m\u001b[0mvocabulary\u001b[0m\u001b[0;34m,\u001b[0m \u001b[0mrange\u001b[0m\u001b[0;34m(\u001b[0m\u001b[0mlen\u001b[0m\u001b[0;34m(\u001b[0m\u001b[0mvocabulary\u001b[0m\u001b[0;34m)\u001b[0m\u001b[0;34m)\u001b[0m\u001b[0;34m)\u001b[0m\u001b[0;34m)\u001b[0m\u001b[0;34m\u001b[0m\u001b[0;34m\u001b[0m\u001b[0m\n\u001b[1;32m      5\u001b[0m \u001b[0;34m\u001b[0m\u001b[0m\n",
            "\u001b[0;31mNameError\u001b[0m: name 'text_vectorization' is not defined"
          ]
        }
      ]
    },
    {
      "cell_type": "code",
      "source": [
        "embedding_layer = layers.Embedding(\n",
        "    max_tokens,\n",
        "    embedding_dim,\n",
        "    embeddings_initializer=keras.initializers.Constant(embedding_matrix),\n",
        "    trainable=False,\n",
        "    mask_zero=True,\n",
        ")"
      ],
      "metadata": {
        "colab": {
          "base_uri": "https://localhost:8080/",
          "height": 245
        },
        "id": "j81KbeBybJoL",
        "outputId": "f1e6f585-2ad6-416f-a907-8a41fe4bd31a"
      },
      "execution_count": 108,
      "outputs": [
        {
          "output_type": "error",
          "ename": "NameError",
          "evalue": "ignored",
          "traceback": [
            "\u001b[0;31m---------------------------------------------------------------------------\u001b[0m",
            "\u001b[0;31mNameError\u001b[0m                                 Traceback (most recent call last)",
            "\u001b[0;32m<ipython-input-108-2e3268b4ea69>\u001b[0m in \u001b[0;36m<cell line: 1>\u001b[0;34m()\u001b[0m\n\u001b[1;32m      2\u001b[0m     \u001b[0mmax_tokens\u001b[0m\u001b[0;34m,\u001b[0m\u001b[0;34m\u001b[0m\u001b[0;34m\u001b[0m\u001b[0m\n\u001b[1;32m      3\u001b[0m     \u001b[0membedding_dim\u001b[0m\u001b[0;34m,\u001b[0m\u001b[0;34m\u001b[0m\u001b[0;34m\u001b[0m\u001b[0m\n\u001b[0;32m----> 4\u001b[0;31m     \u001b[0membeddings_initializer\u001b[0m\u001b[0;34m=\u001b[0m\u001b[0mkeras\u001b[0m\u001b[0;34m.\u001b[0m\u001b[0minitializers\u001b[0m\u001b[0;34m.\u001b[0m\u001b[0mConstant\u001b[0m\u001b[0;34m(\u001b[0m\u001b[0membedding_matrix\u001b[0m\u001b[0;34m)\u001b[0m\u001b[0;34m,\u001b[0m\u001b[0;34m\u001b[0m\u001b[0;34m\u001b[0m\u001b[0m\n\u001b[0m\u001b[1;32m      5\u001b[0m     \u001b[0mtrainable\u001b[0m\u001b[0;34m=\u001b[0m\u001b[0;32mFalse\u001b[0m\u001b[0;34m,\u001b[0m\u001b[0;34m\u001b[0m\u001b[0;34m\u001b[0m\u001b[0m\n\u001b[1;32m      6\u001b[0m     \u001b[0mmask_zero\u001b[0m\u001b[0;34m=\u001b[0m\u001b[0;32mTrue\u001b[0m\u001b[0;34m,\u001b[0m\u001b[0;34m\u001b[0m\u001b[0;34m\u001b[0m\u001b[0m\n",
            "\u001b[0;31mNameError\u001b[0m: name 'embedding_matrix' is not defined"
          ]
        }
      ]
    },
    {
      "cell_type": "code",
      "source": [
        "embedding_dim = 100\n",
        "\n",
        "vocabulary = text_vectorization.get_vocabulary()\n",
        "word_index = dict(zip(vocabulary, range(len(vocabulary))))\n",
        "\n",
        "embedding_matrix = np.zeros((max_tokens, embedding_dim))\n",
        "for word, i in word_index.items():\n",
        "    if i < max_tokens:\n",
        "        embedding_vector = embeddings_index.get(word)\n",
        "    if embedding_vector is not None:\n",
        "        embedding_matrix[i] = embedding_vector"
      ],
      "metadata": {
        "colab": {
          "base_uri": "https://localhost:8080/",
          "height": 245
        },
        "id": "WlzYKBVSaLvd",
        "outputId": "fb450113-7242-4a8d-e8e8-db27b483c821"
      },
      "execution_count": 107,
      "outputs": [
        {
          "output_type": "error",
          "ename": "NameError",
          "evalue": "ignored",
          "traceback": [
            "\u001b[0;31m---------------------------------------------------------------------------\u001b[0m",
            "\u001b[0;31mNameError\u001b[0m                                 Traceback (most recent call last)",
            "\u001b[0;32m<ipython-input-107-79b9b63ef989>\u001b[0m in \u001b[0;36m<cell line: 3>\u001b[0;34m()\u001b[0m\n\u001b[1;32m      1\u001b[0m \u001b[0membedding_dim\u001b[0m \u001b[0;34m=\u001b[0m \u001b[0;36m100\u001b[0m\u001b[0;34m\u001b[0m\u001b[0;34m\u001b[0m\u001b[0m\n\u001b[1;32m      2\u001b[0m \u001b[0;34m\u001b[0m\u001b[0m\n\u001b[0;32m----> 3\u001b[0;31m \u001b[0mvocabulary\u001b[0m \u001b[0;34m=\u001b[0m \u001b[0mtext_vectorization\u001b[0m\u001b[0;34m.\u001b[0m\u001b[0mget_vocabulary\u001b[0m\u001b[0;34m(\u001b[0m\u001b[0;34m)\u001b[0m\u001b[0;34m\u001b[0m\u001b[0;34m\u001b[0m\u001b[0m\n\u001b[0m\u001b[1;32m      4\u001b[0m \u001b[0mword_index\u001b[0m \u001b[0;34m=\u001b[0m \u001b[0mdict\u001b[0m\u001b[0;34m(\u001b[0m\u001b[0mzip\u001b[0m\u001b[0;34m(\u001b[0m\u001b[0mvocabulary\u001b[0m\u001b[0;34m,\u001b[0m \u001b[0mrange\u001b[0m\u001b[0;34m(\u001b[0m\u001b[0mlen\u001b[0m\u001b[0;34m(\u001b[0m\u001b[0mvocabulary\u001b[0m\u001b[0;34m)\u001b[0m\u001b[0;34m)\u001b[0m\u001b[0;34m)\u001b[0m\u001b[0;34m)\u001b[0m\u001b[0;34m\u001b[0m\u001b[0;34m\u001b[0m\u001b[0m\n\u001b[1;32m      5\u001b[0m \u001b[0;34m\u001b[0m\u001b[0m\n",
            "\u001b[0;31mNameError\u001b[0m: name 'text_vectorization' is not defined"
          ]
        }
      ]
    },
    {
      "cell_type": "code",
      "source": [
        "embedding_layer = layers.Embedding(\n",
        "    max_tokens,\n",
        "    embedding_dim,\n",
        "    embeddings_initializer=keras.initializers.Constant(embedding_matrix),\n",
        "    trainable=False,\n",
        "    mask_zero=True,\n",
        ")"
      ],
      "metadata": {
        "id": "-HlXO3dOaUBm"
      },
      "execution_count": null,
      "outputs": []
    },
    {
      "cell_type": "code",
      "source": [
        "inputs = keras.Input(shape=(None,), dtype=\"int64\")\n",
        "embedded = embedding_layer(inputs)\n",
        "x = layers.Bidirectional(layers.LSTM(32))(embedded)\n",
        "x = layers.Dropout(0.5)(x)\n",
        "outputs = layers.Dense(1, activation=\"sigmoid\")(x)\n",
        "model = keras.Model(inputs, outputs)\n",
        "model.compile(optimizer=\"rmsprop\",\n",
        "              loss=\"binary_crossentropy\",\n",
        "              metrics=[\"accuracy\"])\n",
        "model.summary()"
      ],
      "metadata": {
        "id": "EQrb046LaU4N"
      },
      "execution_count": null,
      "outputs": []
    },
    {
      "cell_type": "code",
      "source": [
        "callbacks = [\n",
        "    keras.callbacks.ModelCheckpoint(\"glove_embeddings_sequence_model.keras\",\n",
        "                                    save_best_only=True)\n",
        "]\n",
        "model.fit(int_train_ds, validation_data=int_val_ds, epochs=10, callbacks=callbacks)\n",
        "model = keras.models.load_model(\"glove_embeddings_sequence_model.keras\")\n",
        "print(f\"Test acc: {model.evaluate(int_test_ds)[1]:.3f}\")"
      ],
      "metadata": {
        "id": "ZQcIEid9aZJg"
      },
      "execution_count": null,
      "outputs": []
    }
  ]
}