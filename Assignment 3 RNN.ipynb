{
  "cells": [
    {
      "cell_type": "markdown",
      "metadata": {
        "id": "uPeqgl7jadhq"
      },
      "source": [
        "# **Assignment 3 - RRN - Weather Time Series Forcasting**\n",
        "\n",
        "# **Name: Nisha Chaurasia**\n",
        "\n",
        "# **Date: 11-04-2023**"
      ]
    },
    {
      "cell_type": "markdown",
      "metadata": {
        "id": "Ht6wiWTUadhr"
      },
      "source": [
        "**A temperature-forecasting example- Data Upload from mazon Web Services (AWS) /keras**"
      ]
    },
    {
      "cell_type": "code",
      "source": [
        "!pip install tensorflow==2.12"
      ],
      "metadata": {
        "id": "h_5xZXTe3o7p",
        "outputId": "04a5c792-5a11-4e32-d8ae-dc89fd4b2aa7",
        "colab": {
          "base_uri": "https://localhost:8080/"
        }
      },
      "execution_count": 1,
      "outputs": [
        {
          "output_type": "stream",
          "name": "stdout",
          "text": [
            "Requirement already satisfied: tensorflow==2.12 in /usr/local/lib/python3.10/dist-packages (2.12.0)\n",
            "Requirement already satisfied: absl-py>=1.0.0 in /usr/local/lib/python3.10/dist-packages (from tensorflow==2.12) (1.4.0)\n",
            "Requirement already satisfied: astunparse>=1.6.0 in /usr/local/lib/python3.10/dist-packages (from tensorflow==2.12) (1.6.3)\n",
            "Requirement already satisfied: flatbuffers>=2.0 in /usr/local/lib/python3.10/dist-packages (from tensorflow==2.12) (23.5.26)\n",
            "Requirement already satisfied: gast<=0.4.0,>=0.2.1 in /usr/local/lib/python3.10/dist-packages (from tensorflow==2.12) (0.4.0)\n",
            "Requirement already satisfied: google-pasta>=0.1.1 in /usr/local/lib/python3.10/dist-packages (from tensorflow==2.12) (0.2.0)\n",
            "Requirement already satisfied: grpcio<2.0,>=1.24.3 in /usr/local/lib/python3.10/dist-packages (from tensorflow==2.12) (1.59.0)\n",
            "Requirement already satisfied: h5py>=2.9.0 in /usr/local/lib/python3.10/dist-packages (from tensorflow==2.12) (3.9.0)\n",
            "Requirement already satisfied: jax>=0.3.15 in /usr/local/lib/python3.10/dist-packages (from tensorflow==2.12) (0.3.25)\n",
            "Requirement already satisfied: keras<2.13,>=2.12.0 in /usr/local/lib/python3.10/dist-packages (from tensorflow==2.12) (2.12.0)\n",
            "Requirement already satisfied: libclang>=13.0.0 in /usr/local/lib/python3.10/dist-packages (from tensorflow==2.12) (16.0.6)\n",
            "Requirement already satisfied: numpy<1.24,>=1.22 in /usr/local/lib/python3.10/dist-packages (from tensorflow==2.12) (1.23.5)\n",
            "Requirement already satisfied: opt-einsum>=2.3.2 in /usr/local/lib/python3.10/dist-packages (from tensorflow==2.12) (3.3.0)\n",
            "Requirement already satisfied: packaging in /usr/local/lib/python3.10/dist-packages (from tensorflow==2.12) (23.2)\n",
            "Requirement already satisfied: protobuf!=4.21.0,!=4.21.1,!=4.21.2,!=4.21.3,!=4.21.4,!=4.21.5,<5.0.0dev,>=3.20.3 in /usr/local/lib/python3.10/dist-packages (from tensorflow==2.12) (3.20.3)\n",
            "Requirement already satisfied: setuptools in /usr/local/lib/python3.10/dist-packages (from tensorflow==2.12) (67.7.2)\n",
            "Requirement already satisfied: six>=1.12.0 in /usr/local/lib/python3.10/dist-packages (from tensorflow==2.12) (1.16.0)\n",
            "Requirement already satisfied: tensorboard<2.13,>=2.12 in /usr/local/lib/python3.10/dist-packages (from tensorflow==2.12) (2.12.0)\n",
            "Requirement already satisfied: tensorflow-estimator<2.13,>=2.12.0 in /usr/local/lib/python3.10/dist-packages (from tensorflow==2.12) (2.12.0)\n",
            "Requirement already satisfied: termcolor>=1.1.0 in /usr/local/lib/python3.10/dist-packages (from tensorflow==2.12) (2.3.0)\n",
            "Requirement already satisfied: typing-extensions>=3.6.6 in /usr/local/lib/python3.10/dist-packages (from tensorflow==2.12) (4.5.0)\n",
            "Requirement already satisfied: wrapt<1.15,>=1.11.0 in /usr/local/lib/python3.10/dist-packages (from tensorflow==2.12) (1.14.1)\n",
            "Requirement already satisfied: tensorflow-io-gcs-filesystem>=0.23.1 in /usr/local/lib/python3.10/dist-packages (from tensorflow==2.12) (0.34.0)\n",
            "Requirement already satisfied: wheel<1.0,>=0.23.0 in /usr/local/lib/python3.10/dist-packages (from astunparse>=1.6.0->tensorflow==2.12) (0.41.2)\n",
            "Requirement already satisfied: scipy>=1.5 in /usr/local/lib/python3.10/dist-packages (from jax>=0.3.15->tensorflow==2.12) (1.11.3)\n",
            "Requirement already satisfied: google-auth<3,>=1.6.3 in /usr/local/lib/python3.10/dist-packages (from tensorboard<2.13,>=2.12->tensorflow==2.12) (2.17.3)\n",
            "Requirement already satisfied: google-auth-oauthlib<0.5,>=0.4.1 in /usr/local/lib/python3.10/dist-packages (from tensorboard<2.13,>=2.12->tensorflow==2.12) (0.4.6)\n",
            "Requirement already satisfied: markdown>=2.6.8 in /usr/local/lib/python3.10/dist-packages (from tensorboard<2.13,>=2.12->tensorflow==2.12) (3.5)\n",
            "Requirement already satisfied: requests<3,>=2.21.0 in /usr/local/lib/python3.10/dist-packages (from tensorboard<2.13,>=2.12->tensorflow==2.12) (2.31.0)\n",
            "Requirement already satisfied: tensorboard-data-server<0.8.0,>=0.7.0 in /usr/local/lib/python3.10/dist-packages (from tensorboard<2.13,>=2.12->tensorflow==2.12) (0.7.2)\n",
            "Requirement already satisfied: tensorboard-plugin-wit>=1.6.0 in /usr/local/lib/python3.10/dist-packages (from tensorboard<2.13,>=2.12->tensorflow==2.12) (1.8.1)\n",
            "Requirement already satisfied: werkzeug>=1.0.1 in /usr/local/lib/python3.10/dist-packages (from tensorboard<2.13,>=2.12->tensorflow==2.12) (3.0.1)\n",
            "Requirement already satisfied: cachetools<6.0,>=2.0.0 in /usr/local/lib/python3.10/dist-packages (from google-auth<3,>=1.6.3->tensorboard<2.13,>=2.12->tensorflow==2.12) (5.3.2)\n",
            "Requirement already satisfied: pyasn1-modules>=0.2.1 in /usr/local/lib/python3.10/dist-packages (from google-auth<3,>=1.6.3->tensorboard<2.13,>=2.12->tensorflow==2.12) (0.3.0)\n",
            "Requirement already satisfied: rsa<5,>=3.1.4 in /usr/local/lib/python3.10/dist-packages (from google-auth<3,>=1.6.3->tensorboard<2.13,>=2.12->tensorflow==2.12) (4.9)\n",
            "Requirement already satisfied: requests-oauthlib>=0.7.0 in /usr/local/lib/python3.10/dist-packages (from google-auth-oauthlib<0.5,>=0.4.1->tensorboard<2.13,>=2.12->tensorflow==2.12) (1.3.1)\n",
            "Requirement already satisfied: charset-normalizer<4,>=2 in /usr/local/lib/python3.10/dist-packages (from requests<3,>=2.21.0->tensorboard<2.13,>=2.12->tensorflow==2.12) (3.3.1)\n",
            "Requirement already satisfied: idna<4,>=2.5 in /usr/local/lib/python3.10/dist-packages (from requests<3,>=2.21.0->tensorboard<2.13,>=2.12->tensorflow==2.12) (3.4)\n",
            "Requirement already satisfied: urllib3<3,>=1.21.1 in /usr/local/lib/python3.10/dist-packages (from requests<3,>=2.21.0->tensorboard<2.13,>=2.12->tensorflow==2.12) (2.0.7)\n",
            "Requirement already satisfied: certifi>=2017.4.17 in /usr/local/lib/python3.10/dist-packages (from requests<3,>=2.21.0->tensorboard<2.13,>=2.12->tensorflow==2.12) (2023.7.22)\n",
            "Requirement already satisfied: MarkupSafe>=2.1.1 in /usr/local/lib/python3.10/dist-packages (from werkzeug>=1.0.1->tensorboard<2.13,>=2.12->tensorflow==2.12) (2.1.3)\n",
            "Requirement already satisfied: pyasn1<0.6.0,>=0.4.6 in /usr/local/lib/python3.10/dist-packages (from pyasn1-modules>=0.2.1->google-auth<3,>=1.6.3->tensorboard<2.13,>=2.12->tensorflow==2.12) (0.5.0)\n",
            "Requirement already satisfied: oauthlib>=3.0.0 in /usr/local/lib/python3.10/dist-packages (from requests-oauthlib>=0.7.0->google-auth-oauthlib<0.5,>=0.4.1->tensorboard<2.13,>=2.12->tensorflow==2.12) (3.2.2)\n"
          ]
        }
      ]
    },
    {
      "cell_type": "code",
      "source": [
        "!wget https://s3.amazonaws.com/keras-datasets/jena_climate_2009_2016.csv.zip\n",
        "!unzip jena_climate_2009_2016.csv.zip"
      ],
      "metadata": {
        "id": "UCXj9nuO3vrR",
        "outputId": "1f0d5030-f701-4d1b-deec-6340b301a5b0",
        "colab": {
          "base_uri": "https://localhost:8080/"
        }
      },
      "execution_count": 2,
      "outputs": [
        {
          "output_type": "stream",
          "name": "stdout",
          "text": [
            "--2023-11-04 22:16:07--  https://s3.amazonaws.com/keras-datasets/jena_climate_2009_2016.csv.zip\n",
            "Resolving s3.amazonaws.com (s3.amazonaws.com)... 52.216.12.30, 54.231.234.136, 52.217.206.208, ...\n",
            "Connecting to s3.amazonaws.com (s3.amazonaws.com)|52.216.12.30|:443... connected.\n",
            "HTTP request sent, awaiting response... 200 OK\n",
            "Length: 13565642 (13M) [application/zip]\n",
            "Saving to: ‘jena_climate_2009_2016.csv.zip’\n",
            "\n",
            "jena_climate_2009_2 100%[===================>]  12.94M  44.3MB/s    in 0.3s    \n",
            "\n",
            "2023-11-04 22:16:08 (44.3 MB/s) - ‘jena_climate_2009_2016.csv.zip’ saved [13565642/13565642]\n",
            "\n",
            "Archive:  jena_climate_2009_2016.csv.zip\n",
            "  inflating: jena_climate_2009_2016.csv  \n",
            "  inflating: __MACOSX/._jena_climate_2009_2016.csv  \n"
          ]
        }
      ]
    },
    {
      "cell_type": "markdown",
      "metadata": {
        "id": "sYK44FNWadhs"
      },
      "source": [
        "**Inspecting the data of the Jena weather dataset - 420451 rows and 15 Features**"
      ]
    },
    {
      "cell_type": "code",
      "execution_count": 3,
      "metadata": {
        "colab": {
          "base_uri": "https://localhost:8080/"
        },
        "id": "lMTLVLCfadhs",
        "outputId": "873c1785-6ba3-436a-db11-978d8419c6e5"
      },
      "outputs": [
        {
          "output_type": "stream",
          "name": "stdout",
          "text": [
            "['\"Date Time\"', '\"p (mbar)\"', '\"T (degC)\"', '\"Tpot (K)\"', '\"Tdew (degC)\"', '\"rh (%)\"', '\"VPmax (mbar)\"', '\"VPact (mbar)\"', '\"VPdef (mbar)\"', '\"sh (g/kg)\"', '\"H2OC (mmol/mol)\"', '\"rho (g/m**3)\"', '\"wv (m/s)\"', '\"max. wv (m/s)\"', '\"wd (deg)\"']\n",
            "420451\n",
            "Number of variables: 15\n",
            "Number of rows: 420451\n"
          ]
        }
      ],
      "source": [
        "import os\n",
        "fname = os.path.join(\"jena_climate_2009_2016.csv\")\n",
        "\n",
        "with open(fname) as f:\n",
        "    data = f.read()\n",
        "\n",
        "lines = data.split(\"\\n\")\n",
        "header = lines[0].split(\",\")\n",
        "lines = lines[1:]\n",
        "print(header)\n",
        "print(len(lines))\n",
        "\n",
        "num_variables = len(header)\n",
        "print(\"Number of variables:\", num_variables)\n",
        "num_rows = len(lines)\n",
        "print(\"Number of rows:\", num_rows)"
      ]
    },
    {
      "cell_type": "markdown",
      "metadata": {
        "id": "yqBixbPpadhs"
      },
      "source": [
        "**Parsing the data- converting the comma-separated values into floating-point numbers, and then storing specific values in the temperature and raw_data arrays for further processing or analysis.**"
      ]
    },
    {
      "cell_type": "code",
      "execution_count": 4,
      "metadata": {
        "id": "02s2YX98adht"
      },
      "outputs": [],
      "source": [
        "import numpy as np\n",
        "temperature = np.zeros((len(lines),))\n",
        "raw_data = np.zeros((len(lines), len(header) - 1))\n",
        "for i, line in enumerate(lines):\n",
        "    values = [float(x) for x in line.split(\",\")[1:]]\n",
        "    temperature[i] = values[1]\n",
        "    raw_data[i, :] = values[:]"
      ]
    },
    {
      "cell_type": "markdown",
      "metadata": {
        "id": "Nqe29tjuadht"
      },
      "source": [
        "**Plotting the temperature timeseries**"
      ]
    },
    {
      "cell_type": "code",
      "execution_count": 5,
      "metadata": {
        "colab": {
          "base_uri": "https://localhost:8080/",
          "height": 470
        },
        "id": "xR7Ym3igadht",
        "outputId": "1d1adfe8-73fa-4805-8088-f8bd3fe6a9b5"
      },
      "outputs": [
        {
          "output_type": "execute_result",
          "data": {
            "text/plain": [
              "Text(0, 0.5, 'Temperature')"
            ]
          },
          "metadata": {},
          "execution_count": 5
        },
        {
          "output_type": "display_data",
          "data": {
            "text/plain": [
              "<Figure size 640x480 with 1 Axes>"
            ],
            "image/png": "[encoded data removed]"
          },
          "metadata": {}
        }
      ],
      "source": [
        "from matplotlib import pyplot as plt\n",
        "plt.plot(range(len(temperature)), temperature)\n",
        "plt.xlabel('Data points')\n",
        "plt.ylabel('Temperature')"
      ]
    },
    {
      "cell_type": "markdown",
      "metadata": {
        "id": "qdO-fsBradhu"
      },
      "source": [
        "**Plotting the first 10 days of the temperature timeseries- As given that one day data has 144 data points hence 10days will have 1440 data points**"
      ]
    },
    {
      "cell_type": "code",
      "execution_count": 6,
      "metadata": {
        "colab": {
          "base_uri": "https://localhost:8080/",
          "height": 466
        },
        "id": "QOqy3Jt8adhu",
        "outputId": "ff30c02e-81da-4905-e5c7-aa197d270d46"
      },
      "outputs": [
        {
          "output_type": "execute_result",
          "data": {
            "text/plain": [
              "Text(0, 0.5, 'Temperature')"
            ]
          },
          "metadata": {},
          "execution_count": 6
        },
        {
          "output_type": "display_data",
          "data": {
            "text/plain": [
              "<Figure size 640x480 with 1 Axes>"
            ],
            "image/png": "[encoded data removed]"
          },
          "metadata": {}
        }
      ],
      "source": [
        "plt.plot(range(1440), temperature[:1440])\n",
        "plt.xlabel('Data points')\n",
        "plt.ylabel('Temperature')"
      ]
    },
    {
      "cell_type": "markdown",
      "metadata": {
        "id": "xgIr3Ilradhu"
      },
      "source": [
        "**Computing the number of samples we'll use for each data split- 50% for Train, 25%- validation**"
      ]
    },
    {
      "cell_type": "code",
      "execution_count": 7,
      "metadata": {
        "colab": {
          "base_uri": "https://localhost:8080/"
        },
        "id": "VUkBz7lAadhu",
        "outputId": "9f621af5-6088-4107-82aa-0bc479f57b58"
      },
      "outputs": [
        {
          "output_type": "stream",
          "name": "stdout",
          "text": [
            "num_train_samples: 210225\n",
            "num_val_samples: 105112\n",
            "num_test_samples: 105114\n"
          ]
        }
      ],
      "source": [
        "num_train_samples = int(0.5 * len(raw_data))\n",
        "num_val_samples = int(0.25 * len(raw_data))\n",
        "num_test_samples = len(raw_data) - num_train_samples - num_val_samples\n",
        "print(\"num_train_samples:\", num_train_samples)\n",
        "print(\"num_val_samples:\", num_val_samples)\n",
        "print(\"num_test_samples:\", num_test_samples)"
      ]
    },
    {
      "cell_type": "markdown",
      "metadata": {
        "id": "oskMf-fiadhu"
      },
      "source": [
        "### **Preparing the data**"
      ]
    },
    {
      "cell_type": "markdown",
      "metadata": {
        "id": "LQ6NvHTCadhu"
      },
      "source": [
        "**Normalizing the data- Since the data is already in a numerical format, vectorization is unnecessary. However, given that the data scales differ across variables, with temperature ranging from -20 to +30 and pressure measured in millibars, it is advisable to standardize all variables.**"
      ]
    },
    {
      "cell_type": "code",
      "execution_count": 8,
      "metadata": {
        "id": "0rceRPDeadhu"
      },
      "outputs": [],
      "source": [
        "mean = raw_data[:num_train_samples].mean(axis=0)\n",
        "raw_data -= mean\n",
        "std = raw_data[:num_train_samples].std(axis=0)\n",
        "raw_data /= std"
      ]
    },
    {
      "cell_type": "code",
      "execution_count": 9,
      "metadata": {
        "colab": {
          "base_uri": "https://localhost:8080/"
        },
        "id": "qcZR4N6Ladhv",
        "outputId": "517fd26f-e3cc-4f8d-b40b-ca5f88430d7c"
      },
      "outputs": [
        {
          "output_type": "stream",
          "name": "stdout",
          "text": [
            "[0, 1, 2] 3\n",
            "[1, 2, 3] 4\n",
            "[2, 3, 4] 5\n",
            "[3, 4, 5] 6\n",
            "[4, 5, 6] 7\n"
          ]
        }
      ],
      "source": [
        "import numpy as np\n",
        "from tensorflow import keras\n",
        "int_sequence = np.arange(10)\n",
        "dummy_dataset = keras.utils.timeseries_dataset_from_array(\n",
        "    data=int_sequence[:-3],\n",
        "    targets=int_sequence[3:],\n",
        "    sequence_length=3,\n",
        "    batch_size=2,\n",
        ")\n",
        "\n",
        "for inputs, targets in dummy_dataset:\n",
        "    for i in range(inputs.shape[0]):\n",
        "        print([int(x) for x in inputs[i]], int(targets[i]))"
      ]
    },
    {
      "cell_type": "markdown",
      "metadata": {
        "id": "tkBvDzUZadhv"
      },
      "source": [
        "**Instantiating datasets for training, validation, and testing - it is required because the samples in the dataset are highly redundant Hence, it would be inefficient to allocate memory for each sample explicitly. Instead, we will generate the samples dynamically.**"
      ]
    },
    {
      "cell_type": "code",
      "execution_count": 10,
      "metadata": {
        "id": "MwLXCDqpadhv"
      },
      "outputs": [],
      "source": [
        "sampling_rate = 6\n",
        "sequence_length = 120\n",
        "delay = sampling_rate * (sequence_length + 24 - 1)\n",
        "batch_size = 256\n",
        "\n",
        "train_dataset = keras.utils.timeseries_dataset_from_array(\n",
        "    raw_data[:-delay],\n",
        "    targets=temperature[delay:],\n",
        "    sampling_rate=sampling_rate,\n",
        "    sequence_length=sequence_length,\n",
        "    shuffle=True,\n",
        "    batch_size=batch_size,\n",
        "    start_index=0,\n",
        "    end_index=num_train_samples)\n",
        "\n",
        "val_dataset = keras.utils.timeseries_dataset_from_array(\n",
        "    raw_data[:-delay],\n",
        "    targets=temperature[delay:],\n",
        "    sampling_rate=sampling_rate,\n",
        "    sequence_length=sequence_length,\n",
        "    shuffle=True,\n",
        "    batch_size=batch_size,\n",
        "    start_index=num_train_samples,\n",
        "    end_index=num_train_samples + num_val_samples)\n",
        "\n",
        "test_dataset = keras.utils.timeseries_dataset_from_array(\n",
        "    raw_data[:-delay],\n",
        "    targets=temperature[delay:],\n",
        "    sampling_rate=sampling_rate,\n",
        "    sequence_length=sequence_length,\n",
        "    shuffle=True,\n",
        "    batch_size=batch_size,\n",
        "    start_index=num_train_samples + num_val_samples)"
      ]
    },
    {
      "cell_type": "markdown",
      "metadata": {
        "id": "w_DppXTJadhv"
      },
      "source": [
        "**Inspecting the output of one of our datasets**"
      ]
    },
    {
      "cell_type": "code",
      "execution_count": 11,
      "metadata": {
        "colab": {
          "base_uri": "https://localhost:8080/"
        },
        "id": "xG-1fMm6adhw",
        "outputId": "37deea32-9545-4536-81d4-2c148b46573e"
      },
      "outputs": [
        {
          "output_type": "stream",
          "name": "stdout",
          "text": [
            "samples shape: (256, 120, 14)\n",
            "targets shape: (256,)\n"
          ]
        }
      ],
      "source": [
        "for samples, targets in train_dataset:\n",
        "    print(\"samples shape:\", samples.shape)\n",
        "    print(\"targets shape:\", targets.shape)\n",
        "    break"
      ]
    },
    {
      "cell_type": "markdown",
      "metadata": {
        "id": "cO70vvfZadhw"
      },
      "source": [
        "### **A common-sense, non-machine-learning baseline**"
      ]
    },
    {
      "cell_type": "markdown",
      "metadata": {
        "id": "TmImCc92adhw"
      },
      "source": [
        "**Computing the common-sense baseline MAE - This defined function \"evaluate_naive_method\" provides a baseline for evaluating the performance of a simple forecasting approach, where the last value in the input sequence is used as a prediction for the next value.**"
      ]
    },
    {
      "cell_type": "code",
      "execution_count": 12,
      "metadata": {
        "colab": {
          "base_uri": "https://localhost:8080/"
        },
        "id": "JCgOnX9yadhw",
        "outputId": "57fd1f9b-8f79-4add-ee7d-9080d9e98af7"
      },
      "outputs": [
        {
          "output_type": "stream",
          "name": "stdout",
          "text": [
            "Validation MAE: 2.44\n",
            "Test MAE: 2.62\n"
          ]
        }
      ],
      "source": [
        "def evaluate_naive_method(dataset):\n",
        "    total_abs_err = 0.\n",
        "    samples_seen = 0\n",
        "    for samples, targets in dataset:\n",
        "        preds = samples[:, -1, 1] * std[1] + mean[1]\n",
        "        total_abs_err += np.sum(np.abs(preds - targets))\n",
        "        samples_seen += samples.shape[0]\n",
        "    return total_abs_err / samples_seen\n",
        "\n",
        "print(f\"Validation MAE: {evaluate_naive_method(val_dataset):.2f}\")\n",
        "print(f\"Test MAE: {evaluate_naive_method(test_dataset):.2f}\")"
      ]
    },
    {
      "cell_type": "markdown",
      "source": [
        "Common-sense baseline approach is to predict that the temperature 24 hours ahead will be identical to the current temperature. By using this straightforward baseline, the validation MAE (Mean Absolute Error) is 2.44 degrees Celsius, while the test MAE is 2.62 degrees Celsius. In other words, assuming that the temperature in the future remains the same as the current temperature would result in an average deviation of approximately two and a half degrees."
      ],
      "metadata": {
        "id": "Zi3VsKzlzODR"
      }
    },
    {
      "cell_type": "markdown",
      "source": [
        "### **A basic machine-learning model - Dense Layer**"
      ],
      "metadata": {
        "id": "O1iWeeFi6010"
      }
    },
    {
      "cell_type": "markdown",
      "source": [
        "**Training and evaluating a densely connected model**"
      ],
      "metadata": {
        "id": "sKOq_iqf61Jc"
      }
    },
    {
      "cell_type": "code",
      "source": [
        "from tensorflow import keras\n",
        "from tensorflow.keras import layers\n",
        "\n",
        "inputs = keras.Input(shape=(sequence_length, raw_data.shape[-1]))\n",
        "x = layers.Flatten()(inputs)\n",
        "x = layers.Dense(16, activation=\"relu\")(x)\n",
        "outputs = layers.Dense(1)(x)\n",
        "model = keras.Model(inputs, outputs)"
      ],
      "metadata": {
        "id": "hsYv5wJ40otV"
      },
      "execution_count": 13,
      "outputs": []
    },
    {
      "cell_type": "code",
      "source": [
        "callbacks = [\n",
        "    keras.callbacks.ModelCheckpoint(\"jena_dense.keras\",\n",
        "                                    save_best_only=True)]"
      ],
      "metadata": {
        "id": "1cJ2l3550vyE"
      },
      "execution_count": 14,
      "outputs": []
    },
    {
      "cell_type": "code",
      "source": [
        "model.compile(optimizer=\"rmsprop\", loss=\"mse\", metrics=[\"mae\"])"
      ],
      "metadata": {
        "id": "WR1UoyGb07iX"
      },
      "execution_count": 15,
      "outputs": []
    },
    {
      "cell_type": "code",
      "execution_count": 16,
      "metadata": {
        "colab": {
          "base_uri": "https://localhost:8080/"
        },
        "id": "yZv2EbNiadhx",
        "outputId": "7d884b6d-728c-462c-a82e-167df794682c"
      },
      "outputs": [
        {
          "output_type": "stream",
          "name": "stdout",
          "text": [
            "Epoch 1/10\n",
            "819/819 [==============================] - 10s 11ms/step - loss: 12.0252 - mae: 2.6843 - val_loss: 10.3757 - val_mae: 2.5279\n",
            "Epoch 2/10\n",
            "819/819 [==============================] - 9s 11ms/step - loss: 8.8058 - mae: 2.3362 - val_loss: 11.2280 - val_mae: 2.6445\n",
            "Epoch 3/10\n",
            "819/819 [==============================] - 12s 15ms/step - loss: 8.1507 - mae: 2.2492 - val_loss: 10.3747 - val_mae: 2.5403\n",
            "Epoch 4/10\n",
            "819/819 [==============================] - 12s 14ms/step - loss: 7.7056 - mae: 2.1888 - val_loss: 11.0939 - val_mae: 2.6264\n",
            "Epoch 5/10\n",
            "819/819 [==============================] - 11s 13ms/step - loss: 7.3838 - mae: 2.1456 - val_loss: 11.3492 - val_mae: 2.6629\n",
            "Epoch 6/10\n",
            "819/819 [==============================] - 12s 15ms/step - loss: 7.1458 - mae: 2.1104 - val_loss: 10.7563 - val_mae: 2.5881\n",
            "Epoch 7/10\n",
            "819/819 [==============================] - 12s 14ms/step - loss: 6.9704 - mae: 2.0864 - val_loss: 10.9957 - val_mae: 2.6113\n",
            "Epoch 8/10\n",
            "819/819 [==============================] - 12s 15ms/step - loss: 6.8172 - mae: 2.0632 - val_loss: 10.8970 - val_mae: 2.6009\n",
            "Epoch 9/10\n",
            "819/819 [==============================] - 13s 16ms/step - loss: 6.6850 - mae: 2.0418 - val_loss: 11.1289 - val_mae: 2.6284\n",
            "Epoch 10/10\n",
            "819/819 [==============================] - 12s 14ms/step - loss: 6.5780 - mae: 2.0251 - val_loss: 11.2859 - val_mae: 2.6474\n"
          ]
        }
      ],
      "source": [
        "history = model.fit(train_dataset, epochs=10,\n",
        "                    validation_data = val_dataset, callbacks=callbacks)"
      ]
    },
    {
      "cell_type": "code",
      "source": [
        "model = keras.models.load_model(\"jena_dense.keras\")\n",
        "print(f\"Test MAE: {model.evaluate(test_dataset)[1]:.2f}\")"
      ],
      "metadata": {
        "id": "kzrdz2UF0-vU",
        "colab": {
          "base_uri": "https://localhost:8080/"
        },
        "outputId": "939f0ece-fcc4-4514-e21e-0bbae6655b3b"
      },
      "execution_count": 17,
      "outputs": [
        {
          "output_type": "stream",
          "name": "stdout",
          "text": [
            "405/405 [==============================] - 3s 8ms/step - loss: 11.1226 - mae: 2.6217\n",
            "Test MAE: 2.62\n"
          ]
        }
      ]
    },
    {
      "cell_type": "markdown",
      "metadata": {
        "id": "48vfJSUpadhx"
      },
      "source": [
        "**Plotting results**"
      ]
    },
    {
      "cell_type": "code",
      "execution_count": 18,
      "metadata": {
        "id": "1gmLvrfcadhx",
        "colab": {
          "base_uri": "https://localhost:8080/",
          "height": 472
        },
        "outputId": "6f37c12e-198e-4c70-e494-624891577a55"
      },
      "outputs": [
        {
          "output_type": "display_data",
          "data": {
            "text/plain": [
              "<Figure size 640x480 with 1 Axes>"
            ],
            "image/png": "[encoded data removed]"
          },
          "metadata": {}
        }
      ],
      "source": [
        "import matplotlib.pyplot as plt\n",
        "loss = history.history[\"mae\"]\n",
        "val_loss = history.history[\"val_mae\"]\n",
        "\n",
        "epochs = range(1, len(loss) + 1)\n",
        "plt.figure()\n",
        "plt.plot(epochs, loss, color=\"grey\", linestyle=\"dashed\", label=\"Training MAE\")\n",
        "plt.plot(epochs,  val_loss, color=\"blue\",linestyle=\"dashed\", label=\"Validation MAE\")\n",
        "plt.title(\"Training and validation MAE\")\n",
        "plt.xlabel(\"Epochs\")\n",
        "plt.ylabel(\"MAE\")\n",
        "plt.legend()\n",
        "plt.show()"
      ]
    },
    {
      "cell_type": "markdown",
      "metadata": {
        "id": "uhcEYKo1adhx"
      },
      "source": [
        "### **Let's try a 1D convolutional model**"
      ]
    },
    {
      "cell_type": "code",
      "execution_count": 19,
      "metadata": {
        "id": "uQApil8Tadhx",
        "colab": {
          "base_uri": "https://localhost:8080/"
        },
        "outputId": "9afa484a-9ea4-40f2-8e5c-9822a34d5f97"
      },
      "outputs": [
        {
          "output_type": "stream",
          "name": "stdout",
          "text": [
            "Epoch 1/10\n",
            "819/819 [==============================] - 16s 19ms/step - loss: 22.0793 - mae: 3.7006 - val_loss: 17.0999 - val_mae: 3.2718\n",
            "Epoch 2/10\n",
            "819/819 [==============================] - 16s 19ms/step - loss: 15.4423 - mae: 3.1321 - val_loss: 15.4980 - val_mae: 3.1080\n",
            "Epoch 3/10\n",
            "819/819 [==============================] - 15s 19ms/step - loss: 14.1165 - mae: 2.9918 - val_loss: 19.9564 - val_mae: 3.5593\n",
            "Epoch 4/10\n",
            "819/819 [==============================] - 15s 19ms/step - loss: 13.2407 - mae: 2.8964 - val_loss: 19.5783 - val_mae: 3.5354\n",
            "Epoch 5/10\n",
            "819/819 [==============================] - 15s 19ms/step - loss: 12.5007 - mae: 2.8113 - val_loss: 15.7867 - val_mae: 3.1409\n",
            "Epoch 6/10\n",
            "819/819 [==============================] - 15s 19ms/step - loss: 11.7820 - mae: 2.7266 - val_loss: 15.1493 - val_mae: 3.0993\n",
            "Epoch 7/10\n",
            "819/819 [==============================] - 15s 19ms/step - loss: 11.2848 - mae: 2.6653 - val_loss: 17.0890 - val_mae: 3.2641\n",
            "Epoch 8/10\n",
            "819/819 [==============================] - 15s 18ms/step - loss: 10.8282 - mae: 2.6109 - val_loss: 15.5358 - val_mae: 3.1122\n",
            "Epoch 9/10\n",
            "819/819 [==============================] - 15s 18ms/step - loss: 10.4879 - mae: 2.5704 - val_loss: 17.6538 - val_mae: 3.3193\n",
            "Epoch 10/10\n",
            "819/819 [==============================] - 15s 18ms/step - loss: 10.2154 - mae: 2.5355 - val_loss: 18.1172 - val_mae: 3.3434\n",
            "405/405 [==============================] - 4s 9ms/step - loss: 16.1411 - mae: 3.2192\n",
            "Test MAE: 3.22\n"
          ]
        }
      ],
      "source": [
        "inputs = keras.Input(shape=(sequence_length, raw_data.shape[-1]))\n",
        "x = layers.Conv1D(8, 24, activation=\"relu\")(inputs)\n",
        "x = layers.MaxPooling1D(2)(x)\n",
        "x = layers.Conv1D(8, 12, activation=\"relu\")(x)\n",
        "x = layers.MaxPooling1D(2)(x)\n",
        "x = layers.Conv1D(8, 6, activation=\"relu\")(x)\n",
        "x = layers.GlobalAveragePooling1D()(x)\n",
        "outputs = layers.Dense(1)(x)\n",
        "model = keras.Model(inputs, outputs)\n",
        "\n",
        "callbacks = [\n",
        "    keras.callbacks.ModelCheckpoint(\"jena_conv.keras\",\n",
        "                                    save_best_only=True)\n",
        "]\n",
        "model.compile(optimizer=\"rmsprop\", loss=\"mse\", metrics=[\"mae\"])\n",
        "history = model.fit(train_dataset,\n",
        "                    epochs=10,\n",
        "                    validation_data=val_dataset,\n",
        "                    callbacks=callbacks)\n",
        "\n",
        "model = keras.models.load_model(\"jena_conv.keras\")\n",
        "print(f\"Test MAE: {model.evaluate(test_dataset)[1]:.2f}\")"
      ]
    },
    {
      "cell_type": "code",
      "source": [
        "import matplotlib.pyplot as plt\n",
        "loss = history.history[\"mae\"]\n",
        "val_loss = history.history[\"val_mae\"]\n",
        "\n",
        "epochs = range(1, len(loss) + 1)\n",
        "plt.figure()\n",
        "plt.plot(epochs, loss, color=\"grey\", linestyle=\"dashed\", label=\"Training MAE\")\n",
        "plt.plot(epochs,  val_loss, color=\"blue\",linestyle=\"dashed\", label=\"Validation MAE\")\n",
        "plt.title(\"Training and validation MAE\")\n",
        "plt.xlabel(\"Epochs\")\n",
        "plt.ylabel(\"MAE\")\n",
        "plt.legend()\n",
        "plt.show()"
      ],
      "metadata": {
        "id": "HgxxP4KsD9CO",
        "outputId": "4cad90e7-5ad7-45df-e889-4ecc67341c21",
        "colab": {
          "base_uri": "https://localhost:8080/",
          "height": 472
        }
      },
      "execution_count": 20,
      "outputs": [
        {
          "output_type": "display_data",
          "data": {
            "text/plain": [
              "<Figure size 640x480 with 1 Axes>"
            ],
            "image/png": "[encoded data removed]"
          },
          "metadata": {}
        }
      ]
    },
    {
      "cell_type": "markdown",
      "source": [
        "*It seem that the convolutional data perform worse compared to common sense or dense model. it could be because*\n",
        "\n",
        "*- The assumption of translation invariance does not hold well for weather data.*\n",
        "\n",
        "*- The order of the data is crucial. Recent past data is significantly more informative for predicting the temperature of the following day compared to data from several days ago. Unfortunately, a 1D convolutional neural network is unable to effectively capture this critical temporal order.*\n",
        "\n",
        "\n",
        "\n",
        "\n"
      ],
      "metadata": {
        "id": "gfgYdQ8XA3sr"
      }
    },
    {
      "cell_type": "markdown",
      "metadata": {
        "id": "6VQ_NCj4adhz"
      },
      "source": [
        "## **A Simple RNN**"
      ]
    },
    {
      "cell_type": "markdown",
      "metadata": {
        "id": "1zMdW52_adhz"
      },
      "source": [
        "### **1.An RNN layer that can process sequences of any length**"
      ]
    },
    {
      "cell_type": "code",
      "execution_count": null,
      "metadata": {
        "id": "J1gz21Gzadhz",
        "colab": {
          "base_uri": "https://localhost:8080/"
        },
        "outputId": "37b46da4-ee37-433a-ea89-330242d7ac59"
      },
      "outputs": [
        {
          "output_type": "stream",
          "name": "stdout",
          "text": [
            "Epoch 1/10\n",
            "819/819 [==============================] - 54s 65ms/step - loss: 139.3956 - mae: 9.7107 - val_loss: 143.9525 - val_mae: 9.8908\n",
            "Epoch 2/10\n",
            "819/819 [==============================] - 53s 65ms/step - loss: 136.4089 - mae: 9.5597 - val_loss: 143.8205 - val_mae: 9.8864\n",
            "Epoch 3/10\n",
            "819/819 [==============================] - 52s 64ms/step - loss: 136.3110 - mae: 9.5517 - val_loss: 143.6634 - val_mae: 9.8630\n",
            "Epoch 4/10\n",
            "819/819 [==============================] - 52s 63ms/step - loss: 136.2414 - mae: 9.5467 - val_loss: 143.6552 - val_mae: 9.8636\n",
            "Epoch 5/10\n",
            "819/819 [==============================] - 52s 64ms/step - loss: 136.1721 - mae: 9.5391 - val_loss: 143.6233 - val_mae: 9.8610\n",
            "Epoch 6/10\n",
            "819/819 [==============================] - 52s 64ms/step - loss: 136.1451 - mae: 9.5372 - val_loss: 143.6001 - val_mae: 9.8587\n",
            "Epoch 7/10\n",
            "819/819 [==============================] - 52s 63ms/step - loss: 136.1175 - mae: 9.5334 - val_loss: 143.5383 - val_mae: 9.8517\n",
            "Epoch 8/10\n",
            "819/819 [==============================] - 51s 62ms/step - loss: 136.1158 - mae: 9.5332 - val_loss: 143.5371 - val_mae: 9.8504\n",
            "Epoch 9/10\n",
            "819/819 [==============================] - 52s 64ms/step - loss: 136.1135 - mae: 9.5331 - val_loss: 143.5229 - val_mae: 9.8491\n",
            "Epoch 10/10\n",
            "819/819 [==============================] - 52s 63ms/step - loss: 136.1093 - mae: 9.5324 - val_loss: 143.5091 - val_mae: 9.8469\n",
            "405/405 [==============================] - 7s 16ms/step - loss: 151.2564 - mae: 9.9138\n",
            "Test MAE: 9.91\n"
          ]
        }
      ],
      "source": [
        "num_features = 14\n",
        "inputs = keras.Input(shape=(None, num_features))\n",
        "outputs = layers.SimpleRNN(16)(inputs)\n",
        "\n",
        "model = keras.Model(inputs, outputs)\n",
        "\n",
        "callbacks = [\n",
        "    keras.callbacks.ModelCheckpoint(\"jena_SimRNN.keras\",\n",
        "                                    save_best_only=True)\n",
        "]\n",
        "model.compile(optimizer=\"rmsprop\", loss=\"mse\", metrics=[\"mae\"])\n",
        "history = model.fit(train_dataset,\n",
        "                    epochs=10,\n",
        "                    validation_data=val_dataset,\n",
        "                    callbacks=callbacks)\n",
        "\n",
        "model = keras.models.load_model(\"jena_SimRNN.keras\")\n",
        "print(f\"Test MAE: {model.evaluate(test_dataset)[1]:.2f}\")"
      ]
    },
    {
      "cell_type": "markdown",
      "metadata": {
        "id": "73Q_2Y8Badh0"
      },
      "source": [
        "### **2.Simple RNN - Stacking RNN layers**"
      ]
    },
    {
      "cell_type": "code",
      "execution_count": 23,
      "metadata": {
        "id": "51BF1pdLadh0",
        "outputId": "0bfa7f25-8d76-4c59-aeb9-fff51e4790a9",
        "colab": {
          "base_uri": "https://localhost:8080/"
        }
      },
      "outputs": [
        {
          "output_type": "stream",
          "name": "stdout",
          "text": [
            "Epoch 1/10\n",
            "819/819 [==============================] - 60s 70ms/step - loss: 137.0348 - mae: 9.5790 - val_loss: 143.4262 - val_mae: 9.8360\n",
            "Epoch 2/10\n",
            "819/819 [==============================] - 58s 70ms/step - loss: 135.9945 - mae: 9.5182 - val_loss: 143.4348 - val_mae: 9.8386\n",
            "Epoch 3/10\n",
            "819/819 [==============================] - 59s 72ms/step - loss: 135.9241 - mae: 9.5087 - val_loss: 143.4128 - val_mae: 9.8348\n",
            "Epoch 4/10\n",
            "819/819 [==============================] - 58s 70ms/step - loss: 135.8854 - mae: 9.5020 - val_loss: 143.4107 - val_mae: 9.8340\n",
            "Epoch 5/10\n",
            "819/819 [==============================] - 58s 71ms/step - loss: 135.8511 - mae: 9.4968 - val_loss: 143.4445 - val_mae: 9.8409\n",
            "Epoch 6/10\n",
            "819/819 [==============================] - 57s 70ms/step - loss: 135.8366 - mae: 9.4945 - val_loss: 143.4270 - val_mae: 9.8369\n",
            "Epoch 7/10\n",
            "819/819 [==============================] - 57s 70ms/step - loss: 135.8257 - mae: 9.4926 - val_loss: 143.4270 - val_mae: 9.8398\n",
            "Epoch 8/10\n",
            "819/819 [==============================] - 50s 61ms/step - loss: 135.8181 - mae: 9.4911 - val_loss: 143.4285 - val_mae: 9.8382\n",
            "Epoch 9/10\n",
            "819/819 [==============================] - 50s 61ms/step - loss: 135.8010 - mae: 9.4885 - val_loss: 143.4487 - val_mae: 9.8419\n",
            "Epoch 10/10\n",
            "819/819 [==============================] - 50s 61ms/step - loss: 135.7942 - mae: 9.4869 - val_loss: 143.4343 - val_mae: 9.8394\n",
            "405/405 [==============================] - 8s 18ms/step - loss: 151.2026 - mae: 9.9139\n",
            "Test MAE: 9.91\n"
          ]
        }
      ],
      "source": [
        "num_features = 14\n",
        "steps = 120\n",
        "inputs = keras.Input(shape=(steps, num_features))\n",
        "x = layers.SimpleRNN(16, return_sequences=True)(inputs)\n",
        "x = layers.SimpleRNN(16, return_sequences=True)(x)\n",
        "outputs = layers.SimpleRNN(16)(x)\n",
        "model = keras.Model(inputs, outputs)\n",
        "\n",
        "callbacks = [\n",
        "    keras.callbacks.ModelCheckpoint(\"jena_SRNN2.keras\",\n",
        "                                    save_best_only=True)\n",
        "]\n",
        "model.compile(optimizer=\"rmsprop\", loss=\"mse\", metrics=[\"mae\"])\n",
        "history = model.fit(train_dataset,\n",
        "                    epochs=10,\n",
        "                    validation_data=val_dataset,\n",
        "                    callbacks=callbacks)\n",
        "\n",
        "model = keras.models.load_model(\"jena_SRNN2.keras\")\n",
        "print(f\"Test MAE: {model.evaluate(test_dataset)[1]:.2f}\")\n"
      ]
    },
    {
      "cell_type": "markdown",
      "source": [
        "### **Simple LSTM(Long Short-Term Memory )**"
      ],
      "metadata": {
        "id": "4mNEWF5HgY4G"
      }
    },
    {
      "cell_type": "code",
      "source": [
        "inputs = keras.Input(shape=(sequence_length, raw_data.shape[-1]))\n",
        "x = layers.LSTM(16)(inputs)\n",
        "outputs = layers.Dense(1)(x)\n",
        "model = keras.Model(inputs, outputs)\n",
        "\n",
        "callbacks = [\n",
        "    keras.callbacks.ModelCheckpoint(\"jena_lstm.keras\",\n",
        "                                    save_best_only=True)\n",
        "]\n",
        "model.compile(optimizer=\"rmsprop\", loss=\"mse\", metrics=[\"mae\"])\n",
        "history = model.fit(train_dataset,\n",
        "                    epochs=10,\n",
        "                    validation_data=val_dataset,\n",
        "                    callbacks=callbacks)\n",
        "\n",
        "model = keras.models.load_model(\"jena_lstm.keras\")\n",
        "print(f\"Test MAE: {model.evaluate(test_dataset)[1]:.2f}\")"
      ],
      "metadata": {
        "id": "i1J7TF50gh-2",
        "outputId": "d107d565-a65e-418c-9d57-1683399e4e4c",
        "colab": {
          "base_uri": "https://localhost:8080/"
        }
      },
      "execution_count": 24,
      "outputs": [
        {
          "output_type": "stream",
          "name": "stdout",
          "text": [
            "Epoch 1/10\n",
            "819/819 [==============================] - 43s 50ms/step - loss: 40.6847 - mae: 4.6409 - val_loss: 13.2458 - val_mae: 2.7118\n",
            "Epoch 2/10\n",
            "819/819 [==============================] - 41s 49ms/step - loss: 11.0557 - mae: 2.5794 - val_loss: 9.5420 - val_mae: 2.4052\n",
            "Epoch 3/10\n",
            "819/819 [==============================] - 40s 49ms/step - loss: 10.0023 - mae: 2.4610 - val_loss: 9.2341 - val_mae: 2.3626\n",
            "Epoch 4/10\n",
            "819/819 [==============================] - 40s 49ms/step - loss: 9.6118 - mae: 2.4114 - val_loss: 9.1983 - val_mae: 2.3624\n",
            "Epoch 5/10\n",
            "819/819 [==============================] - 41s 50ms/step - loss: 9.3057 - mae: 2.3705 - val_loss: 9.5570 - val_mae: 2.4049\n",
            "Epoch 6/10\n",
            "819/819 [==============================] - 41s 50ms/step - loss: 9.0564 - mae: 2.3391 - val_loss: 10.1021 - val_mae: 2.4370\n",
            "Epoch 7/10\n",
            "819/819 [==============================] - 41s 50ms/step - loss: 8.8156 - mae: 2.3070 - val_loss: 10.6736 - val_mae: 2.4897\n",
            "Epoch 8/10\n",
            "819/819 [==============================] - 41s 50ms/step - loss: 8.6251 - mae: 2.2824 - val_loss: 10.1644 - val_mae: 2.4554\n",
            "Epoch 9/10\n",
            "819/819 [==============================] - 41s 50ms/step - loss: 8.4531 - mae: 2.2583 - val_loss: 10.1372 - val_mae: 2.4462\n",
            "Epoch 10/10\n",
            "819/819 [==============================] - 40s 49ms/step - loss: 8.2620 - mae: 2.2323 - val_loss: 10.0757 - val_mae: 2.4617\n",
            "405/405 [==============================] - 8s 19ms/step - loss: 10.8810 - mae: 2.5867\n",
            "Test MAE: 2.59\n"
          ]
        }
      ]
    },
    {
      "cell_type": "code",
      "source": [
        "import matplotlib.pyplot as plt\n",
        "loss = history.history[\"mae\"]\n",
        "val_loss = history.history[\"val_mae\"]\n",
        "\n",
        "epochs = range(1, len(loss) + 1)\n",
        "plt.figure()\n",
        "plt.plot(epochs, loss, color=\"grey\", linestyle=\"dashed\", label=\"Training MAE\")\n",
        "plt.plot(epochs,  val_loss, color=\"blue\",linestyle=\"dashed\", label=\"Validation MAE\")\n",
        "plt.title(\"Training and validation MAE\")\n",
        "plt.xlabel(\"Epochs\")\n",
        "plt.ylabel(\"MAE\")\n",
        "plt.legend()\n",
        "plt.show()"
      ],
      "metadata": {
        "id": "-mP7i-UgglTi",
        "outputId": "00a4d91d-41e9-46de-dcf6-2ab11a349338",
        "colab": {
          "base_uri": "https://localhost:8080/",
          "height": 472
        }
      },
      "execution_count": 25,
      "outputs": [
        {
          "output_type": "display_data",
          "data": {
            "text/plain": [
              "<Figure size 640x480 with 1 Axes>"
            ],
            "image/png": "[encoded data removed]"
          },
          "metadata": {}
        }
      ]
    },
    {
      "cell_type": "markdown",
      "source": [
        "### **A Simple GRU (Gated Recurrent Unit)**"
      ],
      "metadata": {
        "id": "iNvpj7mtgtup"
      }
    },
    {
      "cell_type": "code",
      "source": [
        "inputs = keras.Input(shape=(sequence_length, raw_data.shape[-1]))\n",
        "x = layers.GRU(16)(inputs)\n",
        "outputs = layers.Dense(1)(x)\n",
        "model = keras.Model(inputs, outputs)\n",
        "\n",
        "callbacks = [\n",
        "    keras.callbacks.ModelCheckpoint(\"jena_gru.keras\",\n",
        "                                    save_best_only=True)\n",
        "]\n",
        "model.compile(optimizer=\"rmsprop\", loss=\"mse\", metrics=[\"mae\"])\n",
        "history = model.fit(train_dataset,\n",
        "                    epochs=10,\n",
        "                    validation_data=val_dataset,\n",
        "                    callbacks=callbacks)\n",
        "\n",
        "model = keras.models.load_model(\"jena_gru.keras\")\n",
        "print(f\"Test MAE: {model.evaluate(test_dataset)[1]:.2f}\")"
      ],
      "metadata": {
        "id": "TILT8FAYhmch",
        "outputId": "5d4d77f7-d151-4dbe-dc05-fd945638002d",
        "colab": {
          "base_uri": "https://localhost:8080/"
        }
      },
      "execution_count": 26,
      "outputs": [
        {
          "output_type": "stream",
          "name": "stdout",
          "text": [
            "Epoch 1/10\n",
            "819/819 [==============================] - 41s 48ms/step - loss: 42.6731 - mae: 4.7490 - val_loss: 13.1668 - val_mae: 2.7281\n",
            "Epoch 2/10\n",
            "819/819 [==============================] - 39s 47ms/step - loss: 10.5746 - mae: 2.5321 - val_loss: 9.1370 - val_mae: 2.3475\n",
            "Epoch 3/10\n",
            "819/819 [==============================] - 39s 47ms/step - loss: 9.4560 - mae: 2.4035 - val_loss: 9.2436 - val_mae: 2.3557\n",
            "Epoch 4/10\n",
            "819/819 [==============================] - 39s 48ms/step - loss: 9.1412 - mae: 2.3607 - val_loss: 9.6983 - val_mae: 2.4008\n",
            "Epoch 5/10\n",
            "819/819 [==============================] - 39s 48ms/step - loss: 8.9362 - mae: 2.3348 - val_loss: 9.4020 - val_mae: 2.3734\n",
            "Epoch 6/10\n",
            "819/819 [==============================] - 39s 48ms/step - loss: 8.7669 - mae: 2.3143 - val_loss: 9.4151 - val_mae: 2.3754\n",
            "Epoch 7/10\n",
            "819/819 [==============================] - 39s 48ms/step - loss: 8.6135 - mae: 2.2956 - val_loss: 9.2729 - val_mae: 2.3586\n",
            "Epoch 8/10\n",
            "819/819 [==============================] - 39s 48ms/step - loss: 8.4618 - mae: 2.2778 - val_loss: 9.3776 - val_mae: 2.3730\n",
            "Epoch 9/10\n",
            "819/819 [==============================] - 39s 48ms/step - loss: 8.3210 - mae: 2.2610 - val_loss: 9.8831 - val_mae: 2.4241\n",
            "Epoch 10/10\n",
            "819/819 [==============================] - 40s 48ms/step - loss: 8.1855 - mae: 2.2440 - val_loss: 9.4658 - val_mae: 2.3917\n",
            "405/405 [==============================] - 7s 16ms/step - loss: 10.3079 - mae: 2.5046\n",
            "Test MAE: 2.50\n"
          ]
        }
      ]
    },
    {
      "cell_type": "code",
      "source": [
        "import matplotlib.pyplot as plt\n",
        "loss = history.history[\"mae\"]\n",
        "val_loss = history.history[\"val_mae\"]\n",
        "\n",
        "epochs = range(1, len(loss) + 1)\n",
        "plt.figure()\n",
        "plt.plot(epochs, loss, color=\"grey\", linestyle=\"dashed\", label=\"Training MAE\")\n",
        "plt.plot(epochs,  val_loss, color=\"blue\",linestyle=\"dashed\", label=\"Validation MAE\")\n",
        "plt.title(\"Training and validation MAE\")\n",
        "plt.xlabel(\"Epochs\")\n",
        "plt.ylabel(\"MAE\")\n",
        "plt.legend()\n",
        "plt.show()"
      ],
      "metadata": {
        "id": "Uvbu5nW3iHdc"
      },
      "execution_count": null,
      "outputs": []
    },
    {
      "cell_type": "markdown",
      "source": [
        "### **LSTM - dropout Regularization**"
      ],
      "metadata": {
        "id": "B88qTxu6i6ey"
      }
    },
    {
      "cell_type": "markdown",
      "metadata": {
        "id": "dhTYUdwBadh1"
      },
      "source": [
        "**Training and evaluating a dropout-regularized LSTM**"
      ]
    },
    {
      "cell_type": "code",
      "execution_count": null,
      "metadata": {
        "id": "CEfrwdL1adh1",
        "outputId": "072ba9e1-751e-492d-80ee-65bdec5dce87",
        "colab": {
          "base_uri": "https://localhost:8080/"
        }
      },
      "outputs": [
        {
          "output_type": "stream",
          "name": "stdout",
          "text": [
            "Epoch 1/50\n",
            "819/819 [==============================] - 58s 68ms/step - loss: 51.9557 - mae: 5.3920 - val_loss: 14.5824 - val_mae: 2.8799\n",
            "Epoch 2/50\n",
            "819/819 [==============================] - 56s 69ms/step - loss: 20.3035 - mae: 3.4627 - val_loss: 9.8946 - val_mae: 2.4399\n",
            "Epoch 3/50\n",
            "819/819 [==============================] - 56s 68ms/step - loss: 18.3122 - mae: 3.2885 - val_loss: 9.4274 - val_mae: 2.3903\n",
            "Epoch 4/50\n",
            "819/819 [==============================] - 56s 68ms/step - loss: 17.3985 - mae: 3.2088 - val_loss: 9.1875 - val_mae: 2.3587\n",
            "Epoch 5/50\n",
            "819/819 [==============================] - 56s 68ms/step - loss: 16.8289 - mae: 3.1559 - val_loss: 9.0415 - val_mae: 2.3462\n",
            "Epoch 6/50\n",
            "819/819 [==============================] - 56s 68ms/step - loss: 16.2663 - mae: 3.1013 - val_loss: 9.2397 - val_mae: 2.3611\n",
            "Epoch 7/50\n",
            "819/819 [==============================] - 56s 68ms/step - loss: 15.7864 - mae: 3.0596 - val_loss: 9.0812 - val_mae: 2.3408\n",
            "Epoch 8/50\n",
            "819/819 [==============================] - 56s 68ms/step - loss: 15.3866 - mae: 3.0197 - val_loss: 8.9444 - val_mae: 2.3267\n",
            "Epoch 9/50\n",
            "819/819 [==============================] - 55s 68ms/step - loss: 15.1363 - mae: 2.9974 - val_loss: 9.0295 - val_mae: 2.3398\n",
            "Epoch 10/50\n",
            "819/819 [==============================] - 56s 69ms/step - loss: 14.6838 - mae: 2.9545 - val_loss: 9.1716 - val_mae: 2.3586\n",
            "Epoch 11/50\n",
            "819/819 [==============================] - 56s 69ms/step - loss: 14.5748 - mae: 2.9462 - val_loss: 9.0401 - val_mae: 2.3409\n",
            "Epoch 12/50\n",
            "819/819 [==============================] - 56s 69ms/step - loss: 14.3812 - mae: 2.9285 - val_loss: 9.1462 - val_mae: 2.3597\n",
            "Epoch 13/50\n",
            "819/819 [==============================] - 56s 69ms/step - loss: 14.2244 - mae: 2.9130 - val_loss: 9.0686 - val_mae: 2.3523\n",
            "Epoch 14/50\n",
            "819/819 [==============================] - 56s 69ms/step - loss: 14.0421 - mae: 2.8996 - val_loss: 9.0220 - val_mae: 2.3445\n",
            "Epoch 15/50\n",
            "819/819 [==============================] - 56s 69ms/step - loss: 13.8712 - mae: 2.8801 - val_loss: 8.9351 - val_mae: 2.3241\n",
            "Epoch 16/50\n",
            "819/819 [==============================] - 56s 68ms/step - loss: 13.8748 - mae: 2.8812 - val_loss: 8.9859 - val_mae: 2.3386\n",
            "Epoch 17/50\n",
            "819/819 [==============================] - 56s 69ms/step - loss: 13.6798 - mae: 2.8632 - val_loss: 9.1103 - val_mae: 2.3605\n",
            "Epoch 18/50\n",
            "819/819 [==============================] - 56s 69ms/step - loss: 13.7621 - mae: 2.8676 - val_loss: 8.8673 - val_mae: 2.3192\n",
            "Epoch 19/50\n",
            "819/819 [==============================] - 56s 68ms/step - loss: 13.6844 - mae: 2.8604 - val_loss: 9.0682 - val_mae: 2.3507\n",
            "Epoch 20/50\n",
            "819/819 [==============================] - 56s 68ms/step - loss: 13.6286 - mae: 2.8581 - val_loss: 9.1151 - val_mae: 2.3506\n",
            "Epoch 21/50\n",
            "819/819 [==============================] - 56s 68ms/step - loss: 13.5640 - mae: 2.8505 - val_loss: 9.1122 - val_mae: 2.3612\n",
            "Epoch 22/50\n",
            "819/819 [==============================] - 56s 68ms/step - loss: 13.5549 - mae: 2.8475 - val_loss: 9.0621 - val_mae: 2.3437\n",
            "Epoch 23/50\n",
            "819/819 [==============================] - 56s 68ms/step - loss: 13.5090 - mae: 2.8421 - val_loss: 9.0304 - val_mae: 2.3392\n",
            "Epoch 24/50\n",
            "819/819 [==============================] - 56s 68ms/step - loss: 13.4747 - mae: 2.8418 - val_loss: 8.9231 - val_mae: 2.3252\n",
            "Epoch 25/50\n",
            "819/819 [==============================] - 56s 68ms/step - loss: 13.4653 - mae: 2.8380 - val_loss: 9.0395 - val_mae: 2.3464\n",
            "Epoch 26/50\n",
            "819/819 [==============================] - 56s 68ms/step - loss: 13.3677 - mae: 2.8297 - val_loss: 8.9823 - val_mae: 2.3387\n",
            "Epoch 27/50\n",
            "819/819 [==============================] - 56s 69ms/step - loss: 13.2878 - mae: 2.8204 - val_loss: 9.0756 - val_mae: 2.3424\n",
            "Epoch 28/50\n",
            "819/819 [==============================] - 57s 69ms/step - loss: 13.3237 - mae: 2.8261 - val_loss: 9.1433 - val_mae: 2.3522\n",
            "Epoch 29/50\n",
            "477/819 [================>.............] - ETA: 21s - loss: 13.2451 - mae: 2.8144"
          ]
        }
      ],
      "source": [
        "inputs = keras.Input(shape=(sequence_length, raw_data.shape[-1]))\n",
        "x = layers.LSTM(16, recurrent_dropout=0.25)(inputs)\n",
        "x = layers.Dropout(0.5)(x)\n",
        "outputs = layers.Dense(1)(x)\n",
        "model = keras.Model(inputs, outputs)\n",
        "\n",
        "callbacks = [\n",
        "    keras.callbacks.ModelCheckpoint(\"jena_lstm_dropout.keras\",\n",
        "                                    save_best_only=True)\n",
        "]\n",
        "model.compile(optimizer=\"rmsprop\", loss=\"mse\", metrics=[\"mae\"])\n",
        "history = model.fit(train_dataset,\n",
        "                    epochs=50,\n",
        "                    validation_data=val_dataset,\n",
        "                    callbacks=callbacks)"
      ]
    },
    {
      "cell_type": "code",
      "source": [
        "model = keras.models.load_model(\"jena_lstm_dropout.keras\")\n",
        "print(f\"Test MAE: {model.evaluate(test_dataset)[1]:.2f}\")"
      ],
      "metadata": {
        "id": "lNcBWiEalwNe"
      },
      "execution_count": null,
      "outputs": []
    },
    {
      "cell_type": "code",
      "execution_count": null,
      "metadata": {
        "id": "pO-U7M1Madh1"
      },
      "outputs": [],
      "source": [
        "import matplotlib.pyplot as plt\n",
        "loss = history.history[\"mae\"]\n",
        "val_loss = history.history[\"val_mae\"]\n",
        "\n",
        "epochs = range(1, len(loss) + 1)\n",
        "plt.figure()\n",
        "plt.plot(epochs, loss, color=\"grey\", linestyle=\"dashed\", label=\"Training MAE\")\n",
        "plt.plot(epochs,  val_loss, color=\"blue\",linestyle=\"dashed\", label=\"Validation MAE\")\n",
        "plt.title(\"Training and validation MAE\")\n",
        "plt.xlabel(\"Epochs\")\n",
        "plt.ylabel(\"MAE\")\n",
        "plt.legend()\n",
        "plt.show()"
      ]
    },
    {
      "cell_type": "markdown",
      "metadata": {
        "id": "dMDK_sjwadh1"
      },
      "source": [
        "### **LSTM - Stacked setup**"
      ]
    },
    {
      "cell_type": "markdown",
      "metadata": {
        "id": "PBuYcL95adh1"
      },
      "source": [
        "**Training and evaluating a stacked with 16 unit LSTM model**"
      ]
    },
    {
      "cell_type": "code",
      "execution_count": null,
      "metadata": {
        "id": "uoDbCNsEadh2"
      },
      "outputs": [],
      "source": [
        "inputs = keras.Input(shape=(sequence_length, raw_data.shape[-1]))\n",
        "x = layers.LSTM(16, return_sequences=True)(inputs)\n",
        "x = layers.LSTM(16, return_sequences=True)(x)\n",
        "outputs = layers.Dense(1)(x)\n",
        "model = keras.Model(inputs, outputs)\n",
        "\n",
        "callbacks = [\n",
        "    keras.callbacks.ModelCheckpoint(\"jena_LSTM_stacked1.keras\",\n",
        "                                    save_best_only=True)\n",
        "]\n",
        "model.compile(optimizer=\"rmsprop\", loss=\"mse\", metrics=[\"mae\"])\n",
        "history = model.fit(train_dataset,\n",
        "                    epochs=50,\n",
        "                    validation_data=val_dataset,\n",
        "                    callbacks=callbacks)\n",
        "model = keras.models.load_model(\"jena_LSTM_stacked1.keras\")\n",
        "print(f\"Test MAE: {model.evaluate(test_dataset)[1]:.2f}\")"
      ]
    },
    {
      "cell_type": "code",
      "source": [
        "import matplotlib.pyplot as plt\n",
        "loss = history.history[\"mae\"]\n",
        "val_loss = history.history[\"val_mae\"]\n",
        "\n",
        "epochs = range(1, len(loss) + 1)\n",
        "plt.figure()\n",
        "plt.plot(epochs, loss, color=\"grey\", linestyle=\"dashed\", label=\"Training MAE\")\n",
        "plt.plot(epochs,  val_loss, color=\"blue\",linestyle=\"dashed\", label=\"Validation MAE\")\n",
        "plt.title(\"Training and validation MAE\")\n",
        "plt.xlabel(\"Epochs\")\n",
        "plt.ylabel(\"MAE\")\n",
        "plt.legend()\n",
        "plt.show()"
      ],
      "metadata": {
        "id": "ko6o9mt2nOv1"
      },
      "execution_count": null,
      "outputs": []
    },
    {
      "cell_type": "markdown",
      "source": [
        "**Training and evaluating a stacked with 32 unit LSTM model**"
      ],
      "metadata": {
        "id": "eiS1uQ2tnSQ6"
      }
    },
    {
      "cell_type": "code",
      "source": [
        "inputs = keras.Input(shape=(sequence_length, raw_data.shape[-1]))\n",
        "x = layers.LSTM(32, return_sequences=True)(inputs)\n",
        "x = layers.LSTM(32, return_sequences=True)(x)\n",
        "outputs = layers.Dense(1)(x)\n",
        "model = keras.Model(inputs, outputs)\n",
        "\n",
        "callbacks = [\n",
        "    keras.callbacks.ModelCheckpoint(\"jena_LSTM_stacked2.keras\",\n",
        "                                    save_best_only=True)\n",
        "]\n",
        "model.compile(optimizer=\"rmsprop\", loss=\"mse\", metrics=[\"mae\"])\n",
        "history = model.fit(train_dataset,\n",
        "                    epochs=50,\n",
        "                    validation_data=val_dataset,\n",
        "                    callbacks=callbacks)\n",
        "model = keras.models.load_model(\"jena_LSTM_stacked2.keras\")\n",
        "print(f\"Test MAE: {model.evaluate(test_dataset)[1]:.2f}\")"
      ],
      "metadata": {
        "id": "hV7BSwuBnvUe"
      },
      "execution_count": null,
      "outputs": []
    },
    {
      "cell_type": "code",
      "source": [
        "import matplotlib.pyplot as plt\n",
        "loss = history.history[\"mae\"]\n",
        "val_loss = history.history[\"val_mae\"]\n",
        "\n",
        "epochs = range(1, len(loss) + 1)\n",
        "plt.figure()\n",
        "plt.plot(epochs, loss, color=\"grey\", linestyle=\"dashed\", label=\"Training MAE\")\n",
        "plt.plot(epochs,  val_loss, color=\"blue\",linestyle=\"dashed\", label=\"Validation MAE\")\n",
        "plt.title(\"Training and validation MAE\")\n",
        "plt.xlabel(\"Epochs\")\n",
        "plt.ylabel(\"MAE\")\n",
        "plt.legend()\n",
        "plt.show()"
      ],
      "metadata": {
        "id": "SLlrd3LUn7hU"
      },
      "execution_count": null,
      "outputs": []
    },
    {
      "cell_type": "markdown",
      "source": [
        "**Training and evaluating a stacked with 8 unit LSTM model**"
      ],
      "metadata": {
        "id": "dPDgszVxnbqa"
      }
    },
    {
      "cell_type": "code",
      "source": [
        "inputs = keras.Input(shape=(sequence_length, raw_data.shape[-1]))\n",
        "x = layers.LSTM(8, return_sequences=True)(inputs)\n",
        "x = layers.LSTM(8, return_sequences=True)(x)\n",
        "outputs = layers.Dense(1)(x)\n",
        "model = keras.Model(inputs, outputs)\n",
        "\n",
        "callbacks = [\n",
        "    keras.callbacks.ModelCheckpoint(\"jena_LSTM_stacked3.keras\",\n",
        "                                    save_best_only=True)\n",
        "]\n",
        "model.compile(optimizer=\"rmsprop\", loss=\"mse\", metrics=[\"mae\"])\n",
        "history = model.fit(train_dataset,\n",
        "                    epochs=50,\n",
        "                    validation_data=val_dataset,\n",
        "                    callbacks=callbacks)\n",
        "model = keras.models.load_model(\"jena_LSTM_stacked3.keras\")\n",
        "print(f\"Test MAE: {model.evaluate(test_dataset)[1]:.2f}\")"
      ],
      "metadata": {
        "id": "AvsPOxbNoYPx"
      },
      "execution_count": null,
      "outputs": []
    },
    {
      "cell_type": "code",
      "source": [
        "import matplotlib.pyplot as plt\n",
        "loss = history.history[\"mae\"]\n",
        "val_loss = history.history[\"val_mae\"]\n",
        "\n",
        "epochs = range(1, len(loss) + 1)\n",
        "plt.figure()\n",
        "plt.plot(epochs, loss, color=\"grey\", linestyle=\"dashed\", label=\"Training MAE\")\n",
        "plt.plot(epochs,  val_loss, color=\"blue\",linestyle=\"dashed\", label=\"Validation MAE\")\n",
        "plt.title(\"Training and validation MAE\")\n",
        "plt.xlabel(\"Epochs\")\n",
        "plt.ylabel(\"MAE\")\n",
        "plt.legend()\n",
        "plt.show()"
      ],
      "metadata": {
        "id": "fXX5JqEDoehd"
      },
      "execution_count": null,
      "outputs": []
    },
    {
      "cell_type": "markdown",
      "source": [
        "**Training and evaluating a dropout-regularized, stacked LSTM model**"
      ],
      "metadata": {
        "id": "vVgHAyNuoLpn"
      }
    },
    {
      "cell_type": "code",
      "source": [
        "inputs = keras.Input(shape=(sequence_length, raw_data.shape[-1]))\n",
        "x = layers.GRU(32, recurrent_dropout=0.5, return_sequences=True)(inputs)\n",
        "x = layers.GRU(32, recurrent_dropout=0.5)(x)\n",
        "x = layers.Dropout(0.5)(x)\n",
        "outputs = layers.Dense(1)(x)\n",
        "model = keras.Model(inputs, outputs)\n",
        "\n",
        "callbacks = [\n",
        "    keras.callbacks.ModelCheckpoint(\"jena_stacked_gru_dropout.keras\",\n",
        "                                    save_best_only=True)\n",
        "]\n",
        "model.compile(optimizer=\"rmsprop\", loss=\"mse\", metrics=[\"mae\"])\n",
        "history = model.fit(train_dataset,\n",
        "                    epochs=50,\n",
        "                    validation_data=val_dataset,\n",
        "                    callbacks=callbacks)\n",
        "model = keras.models.load_model(\"jena_stacked_gru_dropout.keras\")\n",
        "print(f\"Test MAE: {model.evaluate(test_dataset)[1]:.2f}\")"
      ],
      "metadata": {
        "id": "ocuwCavymPpq"
      },
      "execution_count": null,
      "outputs": []
    },
    {
      "cell_type": "code",
      "source": [
        "import matplotlib.pyplot as plt\n",
        "loss = history.history[\"mae\"]\n",
        "val_loss = history.history[\"val_mae\"]\n",
        "\n",
        "epochs = range(1, len(loss) + 1)\n",
        "plt.figure()\n",
        "plt.plot(epochs, loss, color=\"grey\", linestyle=\"dashed\", label=\"Training MAE\")\n",
        "plt.plot(epochs,  val_loss, color=\"blue\",linestyle=\"dashed\", label=\"Validation MAE\")\n",
        "plt.title(\"Training and validation MAE\")\n",
        "plt.xlabel(\"Epochs\")\n",
        "plt.ylabel(\"MAE\")\n",
        "plt.legend()\n",
        "plt.show()"
      ],
      "metadata": {
        "id": "nWmG93mDonMe"
      },
      "execution_count": null,
      "outputs": []
    },
    {
      "cell_type": "markdown",
      "metadata": {
        "id": "wKwLdmeMadh2"
      },
      "source": [
        "### **Training and evaluating Bidirectional LSTM**"
      ]
    },
    {
      "cell_type": "markdown",
      "metadata": {
        "id": "qAJOthLZadh2"
      },
      "source": [
        "**Training and evaluating a bidirectional LSTM**"
      ]
    },
    {
      "cell_type": "code",
      "execution_count": null,
      "metadata": {
        "id": "YOojc-yWadh2"
      },
      "outputs": [],
      "source": [
        "inputs = keras.Input(shape=(sequence_length, raw_data.shape[-1]))\n",
        "x = layers.Bidirectional(layers.LSTM(16))(inputs)\n",
        "outputs = layers.Dense(1)(x)\n",
        "model = keras.Model(inputs, outputs)\n",
        "\n",
        "callbacks = [\n",
        "    keras.callbacks.ModelCheckpoint(\"jena_bidirec_LSTM.keras\",\n",
        "                                    save_best_only=True)\n",
        "]\n",
        "\n",
        "model.compile(optimizer=\"rmsprop\", loss=\"mse\", metrics=[\"mae\"])\n",
        "history = model.fit(train_dataset,\n",
        "                    epochs=50,\n",
        "                    validation_data=val_dataset,\n",
        "                     callbacks=callbacks)\n",
        "\n",
        "model = keras.models.load_model(\"jena_bidirec_LSTM.keras\")\n",
        "print(f\"Test MAE: {model.evaluate(test_dataset)[1]:.2f}\")\n"
      ]
    },
    {
      "cell_type": "code",
      "source": [
        "import matplotlib.pyplot as plt\n",
        "loss = history.history[\"mae\"]\n",
        "val_loss = history.history[\"val_mae\"]\n",
        "\n",
        "epochs = range(1, len(loss) + 1)\n",
        "plt.figure()\n",
        "plt.plot(epochs, loss, color=\"grey\", linestyle=\"dashed\", label=\"Training MAE\")\n",
        "plt.plot(epochs,  val_loss, color=\"blue\",linestyle=\"dashed\", label=\"Validation MAE\")\n",
        "plt.title(\"Training and validation MAE\")\n",
        "plt.xlabel(\"Epochs\")\n",
        "plt.ylabel(\"MAE\")\n",
        "plt.legend()\n",
        "plt.show()"
      ],
      "metadata": {
        "id": "lzqO_SfJqKkr"
      },
      "execution_count": null,
      "outputs": []
    }
  ],
  "metadata": {
    "colab": {
      "name": "chapter10_dl-for-timeseries.i",
      "provenance": [],
      "toc_visible": true,
      "machine_shape": "hm"
    },
    "kernelspec": {
      "display_name": "Python 3",
      "name": "python3"
    },
    "language_info": {
      "codemirror_mode": {
        "name": "ipython",
        "version": 3
      },
      "file_extension": ".py",
      "mimetype": "text/x-python",
      "name": "python",
      "nbconvert_exporter": "python",
      "pygments_lexer": "ipython3",
      "version": "3.7.0"
    },
    "accelerator": "TPU"
  },
  "nbformat": 4,
  "nbformat_minor": 0
}